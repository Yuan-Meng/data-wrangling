{
 "cells": [
  {
   "cell_type": "markdown",
   "metadata": {
    "execution_event_id": "5ce22480-2eb8-4e18-be15-cb7fae0d6fbd",
    "last_executed_text": "import pandas as pd\nimport numpy as np\nfrom sqlalchemy import create_engine",
    "persistent_id": "b6959418-7d2c-4484-8ab4-719d168720cb",
    "toc-hr-collapsed": true
   },
   "source": [
    "# Clean the U.S. Education Dataset "
   ]
  },
  {
   "cell_type": "code",
   "execution_count": 1,
   "metadata": {
    "execution_event_id": "5fd3779a-7414-4520-8ea0-604077aef8d2",
    "last_executed_text": "import pandas as pd\nimport numpy as np\nfrom sqlalchemy import create_engine",
    "persistent_id": "9b0e9262-6095-469e-85a4-b2a7c45ce235"
   },
   "outputs": [],
   "source": [
    "import pandas as pd\n",
    "import numpy as np\n",
    "from sqlalchemy import create_engine"
   ]
  },
  {
   "cell_type": "markdown",
   "metadata": {
    "persistent_id": "119d5a4f-6c56-43e0-ad84-6e6be3682c53"
   },
   "source": [
    "## Load the data"
   ]
  },
  {
   "cell_type": "code",
   "execution_count": 2,
   "metadata": {
    "execution_event_id": "8c6a46a5-0a49-4662-be07-331f6b2319e2",
    "last_executed_text": "# PostgreSQL credentials\npostgres_user = 'dsbc_student'\npostgres_pw = '7*.8G9QH21'\npostgres_host = '142.93.121.174'\npostgres_port = '5432'\npostgres_db = 'useducation'\n\n# Read the data from the useducation table\nengine = create_engine('postgresql://{}:{}@{}:{}/{}'.format(\n    postgres_user, postgres_pw, postgres_host, postgres_port, postgres_db))\n\neducation = pd.read_sql_query('select * from useducation',con=engine)",
    "persistent_id": "fe343357-7154-4ada-adea-ca58439749e0"
   },
   "outputs": [],
   "source": [
    "# PostgreSQL credentials\n",
    "postgres_user = \"dsbc_student\"\n",
    "postgres_pw = \"7*.8G9QH21\"\n",
    "postgres_host = \"142.93.121.174\"\n",
    "postgres_port = \"5432\"\n",
    "postgres_db = \"useducation\"\n",
    "\n",
    "# Read the data from the useducation table\n",
    "engine = create_engine(\n",
    "    \"postgresql://{}:{}@{}:{}/{}\".format(\n",
    "        postgres_user, postgres_pw, postgres_host, postgres_port, postgres_db\n",
    "    )\n",
    ")\n",
    "\n",
    "education = pd.read_sql_query(\"select * from useducation\", con=engine)"
   ]
  },
  {
   "cell_type": "code",
   "execution_count": 3,
   "metadata": {
    "execution_event_id": "bf64e8bd-d88a-4e15-8b81-3026d293359f",
    "last_executed_text": "# Inspect first 5 rows\neducation.head()",
    "persistent_id": "1f9e9316-a90a-4a79-85eb-32e82e4a8e7e"
   },
   "outputs": [
    {
     "data": {
      "text/html": [
       "<div>\n",
       "<style scoped>\n",
       "    .dataframe tbody tr th:only-of-type {\n",
       "        vertical-align: middle;\n",
       "    }\n",
       "\n",
       "    .dataframe tbody tr th {\n",
       "        vertical-align: top;\n",
       "    }\n",
       "\n",
       "    .dataframe thead th {\n",
       "        text-align: right;\n",
       "    }\n",
       "</style>\n",
       "<table border=\"1\" class=\"dataframe\">\n",
       "  <thead>\n",
       "    <tr style=\"text-align: right;\">\n",
       "      <th></th>\n",
       "      <th>PRIMARY_KEY</th>\n",
       "      <th>STATE</th>\n",
       "      <th>YEAR</th>\n",
       "      <th>ENROLL</th>\n",
       "      <th>TOTAL_REVENUE</th>\n",
       "      <th>FEDERAL_REVENUE</th>\n",
       "      <th>STATE_REVENUE</th>\n",
       "      <th>LOCAL_REVENUE</th>\n",
       "      <th>TOTAL_EXPENDITURE</th>\n",
       "      <th>INSTRUCTION_EXPENDITURE</th>\n",
       "      <th>...</th>\n",
       "      <th>GRADES_4_G</th>\n",
       "      <th>GRADES_8_G</th>\n",
       "      <th>GRADES_12_G</th>\n",
       "      <th>GRADES_1_8_G</th>\n",
       "      <th>GRADES_9_12_G</th>\n",
       "      <th>GRADES_ALL_G</th>\n",
       "      <th>AVG_MATH_4_SCORE</th>\n",
       "      <th>AVG_MATH_8_SCORE</th>\n",
       "      <th>AVG_READING_4_SCORE</th>\n",
       "      <th>AVG_READING_8_SCORE</th>\n",
       "    </tr>\n",
       "  </thead>\n",
       "  <tbody>\n",
       "    <tr>\n",
       "      <th>0</th>\n",
       "      <td>1992_ALABAMA</td>\n",
       "      <td>ALABAMA</td>\n",
       "      <td>1992</td>\n",
       "      <td>NaN</td>\n",
       "      <td>2678885.0</td>\n",
       "      <td>304177.0</td>\n",
       "      <td>1659028.0</td>\n",
       "      <td>715680.0</td>\n",
       "      <td>2653798.0</td>\n",
       "      <td>1481703.0</td>\n",
       "      <td>...</td>\n",
       "      <td>57948.0</td>\n",
       "      <td>58025.0</td>\n",
       "      <td>41167.0</td>\n",
       "      <td>471564.0</td>\n",
       "      <td>196386.0</td>\n",
       "      <td>676174.0</td>\n",
       "      <td>208.327876</td>\n",
       "      <td>252.187522</td>\n",
       "      <td>207.963517</td>\n",
       "      <td>NaN</td>\n",
       "    </tr>\n",
       "    <tr>\n",
       "      <th>1</th>\n",
       "      <td>1992_ALASKA</td>\n",
       "      <td>ALASKA</td>\n",
       "      <td>1992</td>\n",
       "      <td>NaN</td>\n",
       "      <td>1049591.0</td>\n",
       "      <td>106780.0</td>\n",
       "      <td>720711.0</td>\n",
       "      <td>222100.0</td>\n",
       "      <td>972488.0</td>\n",
       "      <td>498362.0</td>\n",
       "      <td>...</td>\n",
       "      <td>9748.0</td>\n",
       "      <td>8789.0</td>\n",
       "      <td>6714.0</td>\n",
       "      <td>79117.0</td>\n",
       "      <td>30847.0</td>\n",
       "      <td>112335.0</td>\n",
       "      <td>NaN</td>\n",
       "      <td>NaN</td>\n",
       "      <td>NaN</td>\n",
       "      <td>258.859712</td>\n",
       "    </tr>\n",
       "    <tr>\n",
       "      <th>2</th>\n",
       "      <td>1992_ARIZONA</td>\n",
       "      <td>ARIZONA</td>\n",
       "      <td>1992</td>\n",
       "      <td>NaN</td>\n",
       "      <td>3258079.0</td>\n",
       "      <td>297888.0</td>\n",
       "      <td>1369815.0</td>\n",
       "      <td>1590376.0</td>\n",
       "      <td>3401580.0</td>\n",
       "      <td>1435908.0</td>\n",
       "      <td>...</td>\n",
       "      <td>55433.0</td>\n",
       "      <td>49081.0</td>\n",
       "      <td>37410.0</td>\n",
       "      <td>437127.0</td>\n",
       "      <td>175210.0</td>\n",
       "      <td>614881.0</td>\n",
       "      <td>215.253932</td>\n",
       "      <td>265.366278</td>\n",
       "      <td>206.212716</td>\n",
       "      <td>262.169895</td>\n",
       "    </tr>\n",
       "    <tr>\n",
       "      <th>3</th>\n",
       "      <td>1992_ARKANSAS</td>\n",
       "      <td>ARKANSAS</td>\n",
       "      <td>1992</td>\n",
       "      <td>NaN</td>\n",
       "      <td>1711959.0</td>\n",
       "      <td>178571.0</td>\n",
       "      <td>958785.0</td>\n",
       "      <td>574603.0</td>\n",
       "      <td>1743022.0</td>\n",
       "      <td>964323.0</td>\n",
       "      <td>...</td>\n",
       "      <td>34632.0</td>\n",
       "      <td>36011.0</td>\n",
       "      <td>27651.0</td>\n",
       "      <td>281338.0</td>\n",
       "      <td>123113.0</td>\n",
       "      <td>405259.0</td>\n",
       "      <td>210.206028</td>\n",
       "      <td>256.312090</td>\n",
       "      <td>208.634458</td>\n",
       "      <td>264.619665</td>\n",
       "    </tr>\n",
       "    <tr>\n",
       "      <th>4</th>\n",
       "      <td>1992_CALIFORNIA</td>\n",
       "      <td>CALIFORNIA</td>\n",
       "      <td>1992</td>\n",
       "      <td>NaN</td>\n",
       "      <td>26260025.0</td>\n",
       "      <td>2072470.0</td>\n",
       "      <td>16546514.0</td>\n",
       "      <td>7641041.0</td>\n",
       "      <td>27138832.0</td>\n",
       "      <td>14358922.0</td>\n",
       "      <td>...</td>\n",
       "      <td>418418.0</td>\n",
       "      <td>363296.0</td>\n",
       "      <td>270675.0</td>\n",
       "      <td>3286034.0</td>\n",
       "      <td>1372011.0</td>\n",
       "      <td>4717112.0</td>\n",
       "      <td>208.398961</td>\n",
       "      <td>260.892247</td>\n",
       "      <td>196.764414</td>\n",
       "      <td>NaN</td>\n",
       "    </tr>\n",
       "  </tbody>\n",
       "</table>\n",
       "<p>5 rows × 25 columns</p>\n",
       "</div>"
      ],
      "text/plain": [
       "       PRIMARY_KEY       STATE  YEAR  ENROLL  TOTAL_REVENUE  FEDERAL_REVENUE  \\\n",
       "0     1992_ALABAMA     ALABAMA  1992     NaN      2678885.0         304177.0   \n",
       "1      1992_ALASKA      ALASKA  1992     NaN      1049591.0         106780.0   \n",
       "2     1992_ARIZONA     ARIZONA  1992     NaN      3258079.0         297888.0   \n",
       "3    1992_ARKANSAS    ARKANSAS  1992     NaN      1711959.0         178571.0   \n",
       "4  1992_CALIFORNIA  CALIFORNIA  1992     NaN     26260025.0        2072470.0   \n",
       "\n",
       "   STATE_REVENUE  LOCAL_REVENUE  TOTAL_EXPENDITURE  INSTRUCTION_EXPENDITURE  \\\n",
       "0      1659028.0       715680.0          2653798.0                1481703.0   \n",
       "1       720711.0       222100.0           972488.0                 498362.0   \n",
       "2      1369815.0      1590376.0          3401580.0                1435908.0   \n",
       "3       958785.0       574603.0          1743022.0                 964323.0   \n",
       "4     16546514.0      7641041.0         27138832.0               14358922.0   \n",
       "\n",
       "   ...  GRADES_4_G  GRADES_8_G  GRADES_12_G  GRADES_1_8_G  GRADES_9_12_G  \\\n",
       "0  ...     57948.0     58025.0      41167.0      471564.0       196386.0   \n",
       "1  ...      9748.0      8789.0       6714.0       79117.0        30847.0   \n",
       "2  ...     55433.0     49081.0      37410.0      437127.0       175210.0   \n",
       "3  ...     34632.0     36011.0      27651.0      281338.0       123113.0   \n",
       "4  ...    418418.0    363296.0     270675.0     3286034.0      1372011.0   \n",
       "\n",
       "   GRADES_ALL_G  AVG_MATH_4_SCORE  AVG_MATH_8_SCORE  AVG_READING_4_SCORE  \\\n",
       "0      676174.0        208.327876        252.187522           207.963517   \n",
       "1      112335.0               NaN               NaN                  NaN   \n",
       "2      614881.0        215.253932        265.366278           206.212716   \n",
       "3      405259.0        210.206028        256.312090           208.634458   \n",
       "4     4717112.0        208.398961        260.892247           196.764414   \n",
       "\n",
       "   AVG_READING_8_SCORE  \n",
       "0                  NaN  \n",
       "1           258.859712  \n",
       "2           262.169895  \n",
       "3           264.619665  \n",
       "4                  NaN  \n",
       "\n",
       "[5 rows x 25 columns]"
      ]
     },
     "execution_count": 3,
     "metadata": {},
     "output_type": "execute_result"
    }
   ],
   "source": [
    "# Inspect first 5 rows\n",
    "education.head()"
   ]
  },
  {
   "cell_type": "markdown",
   "metadata": {
    "persistent_id": "d717adb1-a7c8-4c67-9d22-b14fa9d7d237"
   },
   "source": [
    "## Tasks"
   ]
  },
  {
   "cell_type": "markdown",
   "metadata": {
    "execution_event_id": "d01e46a3-cc0c-402e-8466-439ae0a813d2",
    "last_executed_text": "1. Determine all the variable types and find the fraction of the missing values for each variable.",
    "persistent_id": "caa7d08e-a13e-4d5a-9e81-566eee838088"
   },
   "source": [
    "1. Determine all the variable types and find the fraction of the missing values for each variable."
   ]
  },
  {
   "cell_type": "code",
   "execution_count": 4,
   "metadata": {
    "execution_event_id": "eba04731-d8d2-4a19-ac51-1377060782b2",
    "last_executed_text": "education.info()",
    "persistent_id": "590b5868-cf4d-4ddc-903e-0b9b085e6380"
   },
   "outputs": [
    {
     "name": "stdout",
     "output_type": "stream",
     "text": [
      "<class 'pandas.core.frame.DataFrame'>\n",
      "RangeIndex: 1492 entries, 0 to 1491\n",
      "Data columns (total 25 columns):\n",
      "PRIMARY_KEY                     1492 non-null object\n",
      "STATE                           1492 non-null object\n",
      "YEAR                            1492 non-null int64\n",
      "ENROLL                          1229 non-null float64\n",
      "TOTAL_REVENUE                   1280 non-null float64\n",
      "FEDERAL_REVENUE                 1280 non-null float64\n",
      "STATE_REVENUE                   1280 non-null float64\n",
      "LOCAL_REVENUE                   1280 non-null float64\n",
      "TOTAL_EXPENDITURE               1280 non-null float64\n",
      "INSTRUCTION_EXPENDITURE         1280 non-null float64\n",
      "SUPPORT_SERVICES_EXPENDITURE    1280 non-null float64\n",
      "OTHER_EXPENDITURE               1229 non-null float64\n",
      "CAPITAL_OUTLAY_EXPENDITURE      1280 non-null float64\n",
      "GRADES_PK_G                     1319 non-null float64\n",
      "GRADES_KG_G                     1360 non-null float64\n",
      "GRADES_4_G                      1361 non-null float64\n",
      "GRADES_8_G                      1361 non-null float64\n",
      "GRADES_12_G                     1361 non-null float64\n",
      "GRADES_1_8_G                    1361 non-null float64\n",
      "GRADES_9_12_G                   1361 non-null float64\n",
      "GRADES_ALL_G                    1319 non-null float64\n",
      "AVG_MATH_4_SCORE                536 non-null float64\n",
      "AVG_MATH_8_SCORE                532 non-null float64\n",
      "AVG_READING_4_SCORE             533 non-null float64\n",
      "AVG_READING_8_SCORE             498 non-null float64\n",
      "dtypes: float64(22), int64(1), object(2)\n",
      "memory usage: 291.5+ KB\n"
     ]
    }
   ],
   "source": [
    "education.info()"
   ]
  },
  {
   "cell_type": "markdown",
   "metadata": {
    "persistent_id": "459873cc-7e68-4961-8c31-8c015bf2ff52"
   },
   "source": [
    "In the `useducation` table, there are only two nominal categorical variables: the primary key (`PRIMARY_KEY`) and the state names (`STATE`). All the other variables are continuous ratio data. Shown below is the fraction of missing values for each variable."
   ]
  },
  {
   "cell_type": "code",
   "execution_count": 5,
   "metadata": {
    "execution_event_id": "0eefb4cb-b948-4c7b-8239-6f64954ea33e",
    "last_executed_text": "education.isnull().sum()/education.isnull().count()",
    "persistent_id": "7eaad6d5-7b9e-4364-a480-7710d5015fb2"
   },
   "outputs": [
    {
     "data": {
      "text/plain": [
       "PRIMARY_KEY                     0.000000\n",
       "STATE                           0.000000\n",
       "YEAR                            0.000000\n",
       "ENROLL                          0.176273\n",
       "TOTAL_REVENUE                   0.142091\n",
       "FEDERAL_REVENUE                 0.142091\n",
       "STATE_REVENUE                   0.142091\n",
       "LOCAL_REVENUE                   0.142091\n",
       "TOTAL_EXPENDITURE               0.142091\n",
       "INSTRUCTION_EXPENDITURE         0.142091\n",
       "SUPPORT_SERVICES_EXPENDITURE    0.142091\n",
       "OTHER_EXPENDITURE               0.176273\n",
       "CAPITAL_OUTLAY_EXPENDITURE      0.142091\n",
       "GRADES_PK_G                     0.115952\n",
       "GRADES_KG_G                     0.088472\n",
       "GRADES_4_G                      0.087802\n",
       "GRADES_8_G                      0.087802\n",
       "GRADES_12_G                     0.087802\n",
       "GRADES_1_8_G                    0.087802\n",
       "GRADES_9_12_G                   0.087802\n",
       "GRADES_ALL_G                    0.115952\n",
       "AVG_MATH_4_SCORE                0.640751\n",
       "AVG_MATH_8_SCORE                0.643432\n",
       "AVG_READING_4_SCORE             0.642761\n",
       "AVG_READING_8_SCORE             0.666220\n",
       "dtype: float64"
      ]
     },
     "execution_count": 5,
     "metadata": {},
     "output_type": "execute_result"
    }
   ],
   "source": [
    "education.isnull().sum() / education.isnull().count()"
   ]
  },
  {
   "cell_type": "markdown",
   "metadata": {
    "persistent_id": "6738a22b-c45c-4471-b4a2-3b1548c2e994"
   },
   "source": [
    "2. Forget about the time dimension (year) for now and choose a strategy to deal with missing values for each variable. (For which variables would filling in the missing values with some value make sense? For which might tossing out the records entirely make sense?)"
   ]
  },
  {
   "cell_type": "markdown",
   "metadata": {
    "persistent_id": "5f22bc31-3f0d-47be-a6ec-936649525ec7"
   },
   "source": [
    "For revenues, grades, and expenditures (all continuous ratio variables), we can fill in the missing values using the respective medians. Since average math and reading scores have too many missing values, it's neither appropriate to impute the values or toss out rows with missing values."
   ]
  },
  {
   "cell_type": "code",
   "execution_count": 21,
   "metadata": {
    "execution_event_id": "a6d8a226-fbb4-485c-ac53-1a597f55cef0",
    "last_executed_text": "# Create an empty dataframe with the same dimension\neducation2 = pd.DataFrame().reindex_like(education)\n\n# Copy columns that won't change\nfor column in education.columns[:3].tolist() + education.columns[-5:].tolist():\n    education2[column] = education[column]\n\n# Replace missing values with medians and save to the new dataframe\nfor column in education.columns[3:-4]:\n    education2[column] = education[column].fillna(education[column].median())",
    "persistent_id": "0514f08b-ac18-4578-8c4c-564f350cfb09"
   },
   "outputs": [],
   "source": [
    "# Create an empty dataframe with the same dimension\n",
    "education2 = pd.DataFrame().reindex_like(education)\n",
    "\n",
    "# Copy columns that won't change\n",
    "for column in education.columns[:3].tolist() + education.columns[-5:].tolist():\n",
    "    education2[column] = education[column]\n",
    "\n",
    "# Replace missing values with medians and save to the new dataframe\n",
    "for column in education.columns[3:-4]:\n",
    "    education2[column] = education[column].fillna(education[column].median())"
   ]
  },
  {
   "cell_type": "markdown",
   "metadata": {
    "persistent_id": "d700de16-022b-4511-b886-0148d4473d21"
   },
   "source": [
    "3. Now, take into account of the time factor and fill in missing values using observations from each specific year."
   ]
  },
  {
   "cell_type": "code",
   "execution_count": 23,
   "metadata": {
    "execution_event_id": "dcaf6765-b63b-4c9c-91e3-4e9e7275a57d",
    "last_executed_text": "# Create another empty dataframe with the same dimension\neducation3 = pd.DataFrame().reindex_like(education)\n\n# Copy columns that won't change\nfor column in education.columns[:3].tolist() + education.columns[-5:].tolist():\n    education3[column] = education[column]",
    "persistent_id": "9da458f5-d236-461e-a674-21e99cb671c5"
   },
   "outputs": [],
   "source": [
    "# Create another empty dataframe with the same dimension\n",
    "education3 = pd.DataFrame().reindex_like(education)\n",
    "\n",
    "# Copy columns that won't change\n",
    "for column in education.columns[:3].tolist() + education.columns[-5:].tolist():\n",
    "    education3[column] = education[column]\n",
    "\n",
    "# Replace missing values with medians from the same year\n",
    "for column in education.columns[3:-4]:\n",
    "    for year in education[\"YEAR\"].unique():\n",
    "        education3.loc[education3[\"YEAR\"] == year, column] = education.loc[\n",
    "            education[\"YEAR\"] == year, column\n",
    "        ].fillna(education.loc[education[\"YEAR\"] == year, column].median())"
   ]
  },
  {
   "cell_type": "code",
   "execution_count": 40,
   "metadata": {
    "execution_event_id": "062d40e4-6e9a-4abb-bb67-e406ad4b9bfd",
    "last_executed_text": "education3.isnull().sum() / education3.isnull().count()",
    "persistent_id": "54aba746-8ff7-4704-9e50-4f2f4c3f11cb"
   },
   "outputs": [
    {
     "data": {
      "text/plain": [
       "PRIMARY_KEY                     0.000000\n",
       "STATE                           0.000000\n",
       "YEAR                            0.000000\n",
       "ENROLL                          0.071716\n",
       "TOTAL_REVENUE                   0.034182\n",
       "FEDERAL_REVENUE                 0.034182\n",
       "STATE_REVENUE                   0.034182\n",
       "LOCAL_REVENUE                   0.034182\n",
       "TOTAL_EXPENDITURE               0.034182\n",
       "INSTRUCTION_EXPENDITURE         0.034182\n",
       "SUPPORT_SERVICES_EXPENDITURE    0.034182\n",
       "OTHER_EXPENDITURE               0.071716\n",
       "CAPITAL_OUTLAY_EXPENDITURE      0.034182\n",
       "GRADES_PK_G                     0.068365\n",
       "GRADES_KG_G                     0.068365\n",
       "GRADES_4_G                      0.068365\n",
       "GRADES_8_G                      0.068365\n",
       "GRADES_12_G                     0.068365\n",
       "GRADES_1_8_G                    0.068365\n",
       "GRADES_9_12_G                   0.068365\n",
       "GRADES_ALL_G                    0.068365\n",
       "AVG_MATH_4_SCORE                0.640751\n",
       "AVG_MATH_8_SCORE                0.643432\n",
       "AVG_READING_4_SCORE             0.642761\n",
       "AVG_READING_8_SCORE             0.666220\n",
       "dtype: float64"
      ]
     },
     "execution_count": 40,
     "metadata": {},
     "output_type": "execute_result"
    }
   ],
   "source": [
    "education3.isnull().sum() / education3.isnull().count()"
   ]
  },
  {
   "cell_type": "markdown",
   "metadata": {
    "persistent_id": "e9d58741-e996-4d65-b7f2-87300474324b"
   },
   "source": [
    "4. This time, fill in the missing values using interpolation (extrapolation)."
   ]
  },
  {
   "cell_type": "code",
   "execution_count": 39,
   "metadata": {
    "execution_event_id": "b5e0a2de-c7ad-4708-a60d-21e3eb3cee4e",
    "last_executed_text": "# Since nothing suggests otherwise, we can use the linear method where the index is ignored\neducation4 = education.interpolate(method ='linear', limit_direction ='forward', limit = 1) \n\n# Inspect first 5 rows\neducation4.head()",
    "persistent_id": "bc4d2f7f-b21d-4e6f-8283-faa26f5b74f3"
   },
   "outputs": [
    {
     "data": {
      "text/html": [
       "<div>\n",
       "<style scoped>\n",
       "    .dataframe tbody tr th:only-of-type {\n",
       "        vertical-align: middle;\n",
       "    }\n",
       "\n",
       "    .dataframe tbody tr th {\n",
       "        vertical-align: top;\n",
       "    }\n",
       "\n",
       "    .dataframe thead th {\n",
       "        text-align: right;\n",
       "    }\n",
       "</style>\n",
       "<table border=\"1\" class=\"dataframe\">\n",
       "  <thead>\n",
       "    <tr style=\"text-align: right;\">\n",
       "      <th></th>\n",
       "      <th>PRIMARY_KEY</th>\n",
       "      <th>STATE</th>\n",
       "      <th>YEAR</th>\n",
       "      <th>ENROLL</th>\n",
       "      <th>TOTAL_REVENUE</th>\n",
       "      <th>FEDERAL_REVENUE</th>\n",
       "      <th>STATE_REVENUE</th>\n",
       "      <th>LOCAL_REVENUE</th>\n",
       "      <th>TOTAL_EXPENDITURE</th>\n",
       "      <th>INSTRUCTION_EXPENDITURE</th>\n",
       "      <th>...</th>\n",
       "      <th>GRADES_4_G</th>\n",
       "      <th>GRADES_8_G</th>\n",
       "      <th>GRADES_12_G</th>\n",
       "      <th>GRADES_1_8_G</th>\n",
       "      <th>GRADES_9_12_G</th>\n",
       "      <th>GRADES_ALL_G</th>\n",
       "      <th>AVG_MATH_4_SCORE</th>\n",
       "      <th>AVG_MATH_8_SCORE</th>\n",
       "      <th>AVG_READING_4_SCORE</th>\n",
       "      <th>AVG_READING_8_SCORE</th>\n",
       "    </tr>\n",
       "  </thead>\n",
       "  <tbody>\n",
       "    <tr>\n",
       "      <th>0</th>\n",
       "      <td>1992_ALABAMA</td>\n",
       "      <td>ALABAMA</td>\n",
       "      <td>1992</td>\n",
       "      <td>NaN</td>\n",
       "      <td>2678885.0</td>\n",
       "      <td>304177.0</td>\n",
       "      <td>1659028.0</td>\n",
       "      <td>715680.0</td>\n",
       "      <td>2653798.0</td>\n",
       "      <td>1481703.0</td>\n",
       "      <td>...</td>\n",
       "      <td>57948.0</td>\n",
       "      <td>58025.0</td>\n",
       "      <td>41167.0</td>\n",
       "      <td>471564.0</td>\n",
       "      <td>196386.0</td>\n",
       "      <td>676174.0</td>\n",
       "      <td>208.327876</td>\n",
       "      <td>252.187522</td>\n",
       "      <td>207.963517</td>\n",
       "      <td>NaN</td>\n",
       "    </tr>\n",
       "    <tr>\n",
       "      <th>1</th>\n",
       "      <td>1992_ALASKA</td>\n",
       "      <td>ALASKA</td>\n",
       "      <td>1992</td>\n",
       "      <td>NaN</td>\n",
       "      <td>1049591.0</td>\n",
       "      <td>106780.0</td>\n",
       "      <td>720711.0</td>\n",
       "      <td>222100.0</td>\n",
       "      <td>972488.0</td>\n",
       "      <td>498362.0</td>\n",
       "      <td>...</td>\n",
       "      <td>9748.0</td>\n",
       "      <td>8789.0</td>\n",
       "      <td>6714.0</td>\n",
       "      <td>79117.0</td>\n",
       "      <td>30847.0</td>\n",
       "      <td>112335.0</td>\n",
       "      <td>211.790904</td>\n",
       "      <td>258.776900</td>\n",
       "      <td>207.088116</td>\n",
       "      <td>258.859712</td>\n",
       "    </tr>\n",
       "    <tr>\n",
       "      <th>2</th>\n",
       "      <td>1992_ARIZONA</td>\n",
       "      <td>ARIZONA</td>\n",
       "      <td>1992</td>\n",
       "      <td>NaN</td>\n",
       "      <td>3258079.0</td>\n",
       "      <td>297888.0</td>\n",
       "      <td>1369815.0</td>\n",
       "      <td>1590376.0</td>\n",
       "      <td>3401580.0</td>\n",
       "      <td>1435908.0</td>\n",
       "      <td>...</td>\n",
       "      <td>55433.0</td>\n",
       "      <td>49081.0</td>\n",
       "      <td>37410.0</td>\n",
       "      <td>437127.0</td>\n",
       "      <td>175210.0</td>\n",
       "      <td>614881.0</td>\n",
       "      <td>215.253932</td>\n",
       "      <td>265.366278</td>\n",
       "      <td>206.212716</td>\n",
       "      <td>262.169895</td>\n",
       "    </tr>\n",
       "    <tr>\n",
       "      <th>3</th>\n",
       "      <td>1992_ARKANSAS</td>\n",
       "      <td>ARKANSAS</td>\n",
       "      <td>1992</td>\n",
       "      <td>NaN</td>\n",
       "      <td>1711959.0</td>\n",
       "      <td>178571.0</td>\n",
       "      <td>958785.0</td>\n",
       "      <td>574603.0</td>\n",
       "      <td>1743022.0</td>\n",
       "      <td>964323.0</td>\n",
       "      <td>...</td>\n",
       "      <td>34632.0</td>\n",
       "      <td>36011.0</td>\n",
       "      <td>27651.0</td>\n",
       "      <td>281338.0</td>\n",
       "      <td>123113.0</td>\n",
       "      <td>405259.0</td>\n",
       "      <td>210.206028</td>\n",
       "      <td>256.312090</td>\n",
       "      <td>208.634458</td>\n",
       "      <td>264.619665</td>\n",
       "    </tr>\n",
       "    <tr>\n",
       "      <th>4</th>\n",
       "      <td>1992_CALIFORNIA</td>\n",
       "      <td>CALIFORNIA</td>\n",
       "      <td>1992</td>\n",
       "      <td>NaN</td>\n",
       "      <td>26260025.0</td>\n",
       "      <td>2072470.0</td>\n",
       "      <td>16546514.0</td>\n",
       "      <td>7641041.0</td>\n",
       "      <td>27138832.0</td>\n",
       "      <td>14358922.0</td>\n",
       "      <td>...</td>\n",
       "      <td>418418.0</td>\n",
       "      <td>363296.0</td>\n",
       "      <td>270675.0</td>\n",
       "      <td>3286034.0</td>\n",
       "      <td>1372011.0</td>\n",
       "      <td>4717112.0</td>\n",
       "      <td>208.398961</td>\n",
       "      <td>260.892247</td>\n",
       "      <td>196.764414</td>\n",
       "      <td>265.519676</td>\n",
       "    </tr>\n",
       "  </tbody>\n",
       "</table>\n",
       "<p>5 rows × 25 columns</p>\n",
       "</div>"
      ],
      "text/plain": [
       "       PRIMARY_KEY       STATE  YEAR  ENROLL  TOTAL_REVENUE  FEDERAL_REVENUE  \\\n",
       "0     1992_ALABAMA     ALABAMA  1992     NaN      2678885.0         304177.0   \n",
       "1      1992_ALASKA      ALASKA  1992     NaN      1049591.0         106780.0   \n",
       "2     1992_ARIZONA     ARIZONA  1992     NaN      3258079.0         297888.0   \n",
       "3    1992_ARKANSAS    ARKANSAS  1992     NaN      1711959.0         178571.0   \n",
       "4  1992_CALIFORNIA  CALIFORNIA  1992     NaN     26260025.0        2072470.0   \n",
       "\n",
       "   STATE_REVENUE  LOCAL_REVENUE  TOTAL_EXPENDITURE  INSTRUCTION_EXPENDITURE  \\\n",
       "0      1659028.0       715680.0          2653798.0                1481703.0   \n",
       "1       720711.0       222100.0           972488.0                 498362.0   \n",
       "2      1369815.0      1590376.0          3401580.0                1435908.0   \n",
       "3       958785.0       574603.0          1743022.0                 964323.0   \n",
       "4     16546514.0      7641041.0         27138832.0               14358922.0   \n",
       "\n",
       "   ...  GRADES_4_G  GRADES_8_G  GRADES_12_G  GRADES_1_8_G  GRADES_9_12_G  \\\n",
       "0  ...     57948.0     58025.0      41167.0      471564.0       196386.0   \n",
       "1  ...      9748.0      8789.0       6714.0       79117.0        30847.0   \n",
       "2  ...     55433.0     49081.0      37410.0      437127.0       175210.0   \n",
       "3  ...     34632.0     36011.0      27651.0      281338.0       123113.0   \n",
       "4  ...    418418.0    363296.0     270675.0     3286034.0      1372011.0   \n",
       "\n",
       "   GRADES_ALL_G  AVG_MATH_4_SCORE  AVG_MATH_8_SCORE  AVG_READING_4_SCORE  \\\n",
       "0      676174.0        208.327876        252.187522           207.963517   \n",
       "1      112335.0        211.790904        258.776900           207.088116   \n",
       "2      614881.0        215.253932        265.366278           206.212716   \n",
       "3      405259.0        210.206028        256.312090           208.634458   \n",
       "4     4717112.0        208.398961        260.892247           196.764414   \n",
       "\n",
       "   AVG_READING_8_SCORE  \n",
       "0                  NaN  \n",
       "1           258.859712  \n",
       "2           262.169895  \n",
       "3           264.619665  \n",
       "4           265.519676  \n",
       "\n",
       "[5 rows x 25 columns]"
      ]
     },
     "execution_count": 39,
     "metadata": {},
     "output_type": "execute_result"
    }
   ],
   "source": [
    "# Interpolate missing values using the mean of adjacent values\n",
    "education4 = education.interpolate(method ='linear', limit_direction ='forward', limit = 1) \n",
    "\n",
    "# Inspect first 5 rows\n",
    "education4.head()"
   ]
  },
  {
   "cell_type": "markdown",
   "metadata": {
    "persistent_id": "dcee1c7a-aa93-4b90-80a0-0ea1863900b8"
   },
   "source": [
    "5. Compare your results for the 2nd, 3rd, and 4th questions. Do you find any meaningful differences?"
   ]
  },
  {
   "cell_type": "markdown",
   "metadata": {},
   "source": [
    "Different methods fill in different proportions of missing values in different ways. The first method uses medians across all years to fill in missing values, which allows us to replace all missing values unless a column is completely empty. However, this method can be inappropriate if drastic changes happened from one year to another. This worry can be addressed by the second method where medians from the same year are used to fill in the missing values. However, if a specific year has no data, missing values from that year can't be replaced. The third method uses the mean of adjacent values of the missing value to replace it. This may not be appropriate if values are not equally spaced."
   ]
  },
  {
   "cell_type": "code",
   "execution_count": 42,
   "metadata": {
    "execution_event_id": "203ab159-9ec8-4286-806d-76bda6685a7e",
    "last_executed_text": "# Method 1: \neducation2.isnull().sum() / education2.isnull().count()",
    "persistent_id": "c218dff3-9a83-4913-a74a-eda65f8c0935"
   },
   "outputs": [
    {
     "data": {
      "text/plain": [
       "PRIMARY_KEY                     0.000000\n",
       "STATE                           0.000000\n",
       "YEAR                            0.000000\n",
       "ENROLL                          0.000000\n",
       "TOTAL_REVENUE                   0.000000\n",
       "FEDERAL_REVENUE                 0.000000\n",
       "STATE_REVENUE                   0.000000\n",
       "LOCAL_REVENUE                   0.000000\n",
       "TOTAL_EXPENDITURE               0.000000\n",
       "INSTRUCTION_EXPENDITURE         0.000000\n",
       "SUPPORT_SERVICES_EXPENDITURE    0.000000\n",
       "OTHER_EXPENDITURE               0.000000\n",
       "CAPITAL_OUTLAY_EXPENDITURE      0.000000\n",
       "GRADES_PK_G                     0.000000\n",
       "GRADES_KG_G                     0.000000\n",
       "GRADES_4_G                      0.000000\n",
       "GRADES_8_G                      0.000000\n",
       "GRADES_12_G                     0.000000\n",
       "GRADES_1_8_G                    0.000000\n",
       "GRADES_9_12_G                   0.000000\n",
       "GRADES_ALL_G                    0.000000\n",
       "AVG_MATH_4_SCORE                0.640751\n",
       "AVG_MATH_8_SCORE                0.643432\n",
       "AVG_READING_4_SCORE             0.642761\n",
       "AVG_READING_8_SCORE             0.666220\n",
       "dtype: float64"
      ]
     },
     "execution_count": 42,
     "metadata": {},
     "output_type": "execute_result"
    }
   ],
   "source": [
    "# Method 1: Use medians across all years\n",
    "education2.isnull().sum() / education2.isnull().count()"
   ]
  },
  {
   "cell_type": "code",
   "execution_count": 43,
   "metadata": {
    "execution_event_id": "3444e331-7d16-4100-93fd-23a7ee6c7634",
    "last_executed_text": "# Method 2: Use medians from the same year\neducation3.isnull().sum() / education3.isnull().count()",
    "persistent_id": "7c109837-fb3d-4f39-af02-1f7b6e7d2a37"
   },
   "outputs": [
    {
     "data": {
      "text/plain": [
       "PRIMARY_KEY                     0.000000\n",
       "STATE                           0.000000\n",
       "YEAR                            0.000000\n",
       "ENROLL                          0.071716\n",
       "TOTAL_REVENUE                   0.034182\n",
       "FEDERAL_REVENUE                 0.034182\n",
       "STATE_REVENUE                   0.034182\n",
       "LOCAL_REVENUE                   0.034182\n",
       "TOTAL_EXPENDITURE               0.034182\n",
       "INSTRUCTION_EXPENDITURE         0.034182\n",
       "SUPPORT_SERVICES_EXPENDITURE    0.034182\n",
       "OTHER_EXPENDITURE               0.071716\n",
       "CAPITAL_OUTLAY_EXPENDITURE      0.034182\n",
       "GRADES_PK_G                     0.068365\n",
       "GRADES_KG_G                     0.068365\n",
       "GRADES_4_G                      0.068365\n",
       "GRADES_8_G                      0.068365\n",
       "GRADES_12_G                     0.068365\n",
       "GRADES_1_8_G                    0.068365\n",
       "GRADES_9_12_G                   0.068365\n",
       "GRADES_ALL_G                    0.068365\n",
       "AVG_MATH_4_SCORE                0.640751\n",
       "AVG_MATH_8_SCORE                0.643432\n",
       "AVG_READING_4_SCORE             0.642761\n",
       "AVG_READING_8_SCORE             0.666220\n",
       "dtype: float64"
      ]
     },
     "execution_count": 43,
     "metadata": {},
     "output_type": "execute_result"
    }
   ],
   "source": [
    "# Method 2: Use medians from the same year\n",
    "education3.isnull().sum() / education3.isnull().count()"
   ]
  },
  {
   "cell_type": "code",
   "execution_count": 44,
   "metadata": {
    "execution_event_id": "c6061357-8a27-4177-a11e-87168d726bb0",
    "last_executed_text": "# Method 3: Use the next value to fill in missing values\neducation4.isnull().sum() / education4.isnull().count()",
    "persistent_id": "f6d632b3-77cb-43f5-a4a7-b42369f9a6d7"
   },
   "outputs": [
    {
     "data": {
      "text/plain": [
       "PRIMARY_KEY                     0.000000\n",
       "STATE                           0.000000\n",
       "YEAR                            0.000000\n",
       "ENROLL                          0.170912\n",
       "TOTAL_REVENUE                   0.137399\n",
       "FEDERAL_REVENUE                 0.137399\n",
       "STATE_REVENUE                   0.137399\n",
       "LOCAL_REVENUE                   0.137399\n",
       "TOTAL_EXPENDITURE               0.137399\n",
       "INSTRUCTION_EXPENDITURE         0.137399\n",
       "SUPPORT_SERVICES_EXPENDITURE    0.137399\n",
       "OTHER_EXPENDITURE               0.170912\n",
       "CAPITAL_OUTLAY_EXPENDITURE      0.137399\n",
       "GRADES_PK_G                     0.071046\n",
       "GRADES_KG_G                     0.063003\n",
       "GRADES_4_G                      0.063003\n",
       "GRADES_8_G                      0.063003\n",
       "GRADES_12_G                     0.063003\n",
       "GRADES_1_8_G                    0.063003\n",
       "GRADES_9_12_G                   0.063003\n",
       "GRADES_ALL_G                    0.071046\n",
       "AVG_MATH_4_SCORE                0.615282\n",
       "AVG_MATH_8_SCORE                0.616622\n",
       "AVG_READING_4_SCORE             0.618633\n",
       "AVG_READING_8_SCORE             0.646113\n",
       "dtype: float64"
      ]
     },
     "execution_count": 44,
     "metadata": {},
     "output_type": "execute_result"
    }
   ],
   "source": [
    "# Method 3: Use the next value to fill in missing values\n",
    "education4.isnull().sum() / education4.isnull().count()"
   ]
  }
 ],
 "metadata": {
  "history": [
   {
    "cell": {
     "executionCount": 1,
     "executionEventId": "5ce22480-2eb8-4e18-be15-cb7fae0d6fbd",
     "hasError": false,
     "id": "b05834a8-ba76-4c03-ba74-780846428d58",
     "outputs": [],
     "persistentId": "b6959418-7d2c-4484-8ab4-719d168720cb",
     "text": "import pandas as pd\nimport numpy as np\nfrom sqlalchemy import create_engine"
    },
    "executionTime": "2019-12-02T06:27:54.314Z"
   },
   {
    "cell": {
     "executionCount": 2,
     "executionEventId": "be9dd139-114b-49c8-8c9c-8a8d0f0b1faf",
     "hasError": false,
     "id": "ea87b3e7-bda7-405d-80a4-163409111b8a",
     "outputs": [],
     "persistentId": "fe343357-7154-4ada-adea-ca58439749e0",
     "text": "postgres_user = 'dsbc_student'\npostgres_pw = '7*.8G9QH21'\npostgres_host = '142.93.121.174'\npostgres_port = '5432'\npostgres_db = 'useducation'\n\nengine = create_engine('postgresql://{}:{}@{}:{}/{}'.format(\n    postgres_user, postgres_pw, postgres_host, postgres_port, postgres_db))\n\neducation_df = pd.read_sql_query('select * from useducation',con=engine)"
    },
    "executionTime": "2019-12-02T06:28:42.520Z"
   },
   {
    "cell": {
     "executionCount": 3,
     "executionEventId": "3e55ebd9-161c-4325-b694-4b32a424326c",
     "hasError": false,
     "id": "ea87b3e7-bda7-405d-80a4-163409111b8a",
     "outputs": [],
     "persistentId": "fe343357-7154-4ada-adea-ca58439749e0",
     "text": "postgres_user = 'dsbc_student'\npostgres_pw = '7*.8G9QH21'\npostgres_host = '142.93.121.174'\npostgres_port = '5432'\npostgres_db = 'useducation'\n\nengine = create_engine('postgresql://{}:{}@{}:{}/{}'.format(\n    postgres_user, postgres_pw, postgres_host, postgres_port, postgres_db))\n\neducation = pd.read_sql_query('select * from useducation',con=engine)"
    },
    "executionTime": "2019-12-02T06:28:49.717Z"
   },
   {
    "cell": {
     "executionCount": 4,
     "executionEventId": "d67d97b5-fd00-4baa-bf75-2cd7332c11dd",
     "hasError": false,
     "id": "91b69dd3-fbec-4620-8f51-f65d5d397787",
     "outputs": [
      {
       "data": {
        "text/html": "<div>\n<style scoped>\n    .dataframe tbody tr th:only-of-type {\n        vertical-align: middle;\n    }\n\n    .dataframe tbody tr th {\n        vertical-align: top;\n    }\n\n    .dataframe thead th {\n        text-align: right;\n    }\n</style>\n<table border=\"1\" class=\"dataframe\">\n  <thead>\n    <tr style=\"text-align: right;\">\n      <th></th>\n      <th>PRIMARY_KEY</th>\n      <th>STATE</th>\n      <th>YEAR</th>\n      <th>ENROLL</th>\n      <th>TOTAL_REVENUE</th>\n      <th>FEDERAL_REVENUE</th>\n      <th>STATE_REVENUE</th>\n      <th>LOCAL_REVENUE</th>\n      <th>TOTAL_EXPENDITURE</th>\n      <th>INSTRUCTION_EXPENDITURE</th>\n      <th>...</th>\n      <th>GRADES_4_G</th>\n      <th>GRADES_8_G</th>\n      <th>GRADES_12_G</th>\n      <th>GRADES_1_8_G</th>\n      <th>GRADES_9_12_G</th>\n      <th>GRADES_ALL_G</th>\n      <th>AVG_MATH_4_SCORE</th>\n      <th>AVG_MATH_8_SCORE</th>\n      <th>AVG_READING_4_SCORE</th>\n      <th>AVG_READING_8_SCORE</th>\n    </tr>\n  </thead>\n  <tbody>\n    <tr>\n      <th>0</th>\n      <td>1992_ALABAMA</td>\n      <td>ALABAMA</td>\n      <td>1992</td>\n      <td>NaN</td>\n      <td>2678885.0</td>\n      <td>304177.0</td>\n      <td>1659028.0</td>\n      <td>715680.0</td>\n      <td>2653798.0</td>\n      <td>1481703.0</td>\n      <td>...</td>\n      <td>57948.0</td>\n      <td>58025.0</td>\n      <td>41167.0</td>\n      <td>471564.0</td>\n      <td>196386.0</td>\n      <td>676174.0</td>\n      <td>208.327876</td>\n      <td>252.187522</td>\n      <td>207.963517</td>\n      <td>NaN</td>\n    </tr>\n    <tr>\n      <th>1</th>\n      <td>1992_ALASKA</td>\n      <td>ALASKA</td>\n      <td>1992</td>\n      <td>NaN</td>\n      <td>1049591.0</td>\n      <td>106780.0</td>\n      <td>720711.0</td>\n      <td>222100.0</td>\n      <td>972488.0</td>\n      <td>498362.0</td>\n      <td>...</td>\n      <td>9748.0</td>\n      <td>8789.0</td>\n      <td>6714.0</td>\n      <td>79117.0</td>\n      <td>30847.0</td>\n      <td>112335.0</td>\n      <td>NaN</td>\n      <td>NaN</td>\n      <td>NaN</td>\n      <td>258.859712</td>\n    </tr>\n    <tr>\n      <th>2</th>\n      <td>1992_ARIZONA</td>\n      <td>ARIZONA</td>\n      <td>1992</td>\n      <td>NaN</td>\n      <td>3258079.0</td>\n      <td>297888.0</td>\n      <td>1369815.0</td>\n      <td>1590376.0</td>\n      <td>3401580.0</td>\n      <td>1435908.0</td>\n      <td>...</td>\n      <td>55433.0</td>\n      <td>49081.0</td>\n      <td>37410.0</td>\n      <td>437127.0</td>\n      <td>175210.0</td>\n      <td>614881.0</td>\n      <td>215.253932</td>\n      <td>265.366278</td>\n      <td>206.212716</td>\n      <td>262.169895</td>\n    </tr>\n    <tr>\n      <th>3</th>\n      <td>1992_ARKANSAS</td>\n      <td>ARKANSAS</td>\n      <td>1992</td>\n      <td>NaN</td>\n      <td>1711959.0</td>\n      <td>178571.0</td>\n      <td>958785.0</td>\n      <td>574603.0</td>\n      <td>1743022.0</td>\n      <td>964323.0</td>\n      <td>...</td>\n      <td>34632.0</td>\n      <td>36011.0</td>\n      <td>27651.0</td>\n      <td>281338.0</td>\n      <td>123113.0</td>\n      <td>405259.0</td>\n      <td>210.206028</td>\n      <td>256.312090</td>\n      <td>208.634458</td>\n      <td>264.619665</td>\n    </tr>\n    <tr>\n      <th>4</th>\n      <td>1992_CALIFORNIA</td>\n      <td>CALIFORNIA</td>\n      <td>1992</td>\n      <td>NaN</td>\n      <td>26260025.0</td>\n      <td>2072470.0</td>\n      <td>16546514.0</td>\n      <td>7641041.0</td>\n      <td>27138832.0</td>\n      <td>14358922.0</td>\n      <td>...</td>\n      <td>418418.0</td>\n      <td>363296.0</td>\n      <td>270675.0</td>\n      <td>3286034.0</td>\n      <td>1372011.0</td>\n      <td>4717112.0</td>\n      <td>208.398961</td>\n      <td>260.892247</td>\n      <td>196.764414</td>\n      <td>NaN</td>\n    </tr>\n    <tr>\n      <th>5</th>\n      <td>1992_COLORADO</td>\n      <td>COLORADO</td>\n      <td>1992</td>\n      <td>NaN</td>\n      <td>3185173.0</td>\n      <td>163253.0</td>\n      <td>1307986.0</td>\n      <td>1713934.0</td>\n      <td>3264826.0</td>\n      <td>1642466.0</td>\n      <td>...</td>\n      <td>50648.0</td>\n      <td>45025.0</td>\n      <td>34533.0</td>\n      <td>394904.0</td>\n      <td>160299.0</td>\n      <td>562613.0</td>\n      <td>221.023429</td>\n      <td>272.398433</td>\n      <td>213.480890</td>\n      <td>266.419687</td>\n    </tr>\n    <tr>\n      <th>6</th>\n      <td>1992_CONNECTICUT</td>\n      <td>CONNECTICUT</td>\n      <td>1992</td>\n      <td>NaN</td>\n      <td>3834302.0</td>\n      <td>143542.0</td>\n      <td>1342539.0</td>\n      <td>2348221.0</td>\n      <td>3721338.0</td>\n      <td>2148041.0</td>\n      <td>...</td>\n      <td>38058.0</td>\n      <td>33691.0</td>\n      <td>28366.0</td>\n      <td>304284.0</td>\n      <td>126917.0</td>\n      <td>436932.0</td>\n      <td>226.798480</td>\n      <td>273.739345</td>\n      <td>222.417599</td>\n      <td>264.713904</td>\n    </tr>\n    <tr>\n      <th>7</th>\n      <td>1992_DELAWARE</td>\n      <td>DELAWARE</td>\n      <td>1992</td>\n      <td>NaN</td>\n      <td>645233.0</td>\n      <td>45945.0</td>\n      <td>420942.0</td>\n      <td>178346.0</td>\n      <td>638784.0</td>\n      <td>372722.0</td>\n      <td>...</td>\n      <td>8272.0</td>\n      <td>8012.0</td>\n      <td>6129.0</td>\n      <td>67495.0</td>\n      <td>28338.0</td>\n      <td>96296.0</td>\n      <td>217.899972</td>\n      <td>262.868585</td>\n      <td>206.389052</td>\n      <td>261.577921</td>\n    </tr>\n    <tr>\n      <th>8</th>\n      <td>1992_DISTRICT_OF_COLUMBIA</td>\n      <td>DISTRICT_OF_COLUMBIA</td>\n      <td>1992</td>\n      <td>NaN</td>\n      <td>709480.0</td>\n      <td>64749.0</td>\n      <td>0.0</td>\n      <td>644731.0</td>\n      <td>742893.0</td>\n      <td>329160.0</td>\n      <td>...</td>\n      <td>5832.0</td>\n      <td>5000.0</td>\n      <td>3433.0</td>\n      <td>47009.0</td>\n      <td>18173.0</td>\n      <td>70000.0</td>\n      <td>192.600553</td>\n      <td>234.924621</td>\n      <td>178.557612</td>\n      <td>265.976765</td>\n    </tr>\n    <tr>\n      <th>9</th>\n      <td>1992_FLORIDA</td>\n      <td>FLORIDA</td>\n      <td>1992</td>\n      <td>NaN</td>\n      <td>11506299.0</td>\n      <td>788420.0</td>\n      <td>5683949.0</td>\n      <td>5033930.0</td>\n      <td>11305642.0</td>\n      <td>5166374.0</td>\n      <td>...</td>\n      <td>164416.0</td>\n      <td>142372.0</td>\n      <td>100835.0</td>\n      <td>1276685.0</td>\n      <td>511557.0</td>\n      <td>1819706.0</td>\n      <td>213.689751</td>\n      <td>259.908848</td>\n      <td>204.882606</td>\n      <td>262.118986</td>\n    </tr>\n    <tr>\n      <th>10</th>\n      <td>1992_GEORGIA</td>\n      <td>GEORGIA</td>\n      <td>1992</td>\n      <td>NaN</td>\n      <td>5536901.0</td>\n      <td>398701.0</td>\n      <td>2798674.0</td>\n      <td>2339526.0</td>\n      <td>5535942.0</td>\n      <td>3043984.0</td>\n      <td>...</td>\n      <td>99648.0</td>\n      <td>92374.0</td>\n      <td>63646.0</td>\n      <td>787599.0</td>\n      <td>315539.0</td>\n      <td>1106441.0</td>\n      <td>215.594906</td>\n      <td>259.359434</td>\n      <td>206.844175</td>\n      <td>NaN</td>\n    </tr>\n    <tr>\n      <th>11</th>\n      <td>1992_HAWAII</td>\n      <td>HAWAII</td>\n      <td>1992</td>\n      <td>NaN</td>\n      <td>996809.0</td>\n      <td>71273.0</td>\n      <td>903443.0</td>\n      <td>22093.0</td>\n      <td>1040121.0</td>\n      <td>536115.0</td>\n      <td>...</td>\n      <td>13754.0</td>\n      <td>11750.0</td>\n      <td>9051.0</td>\n      <td>107242.0</td>\n      <td>43882.0</td>\n      <td>151649.0</td>\n      <td>214.056666</td>\n      <td>257.410887</td>\n      <td>200.880272</td>\n      <td>NaN</td>\n    </tr>\n    <tr>\n      <th>12</th>\n      <td>1992_IDAHO</td>\n      <td>IDAHO</td>\n      <td>1992</td>\n      <td>NaN</td>\n      <td>859329.0</td>\n      <td>69138.0</td>\n      <td>531912.0</td>\n      <td>258279.0</td>\n      <td>886161.0</td>\n      <td>473505.0</td>\n      <td>...</td>\n      <td>18607.0</td>\n      <td>18880.0</td>\n      <td>14593.0</td>\n      <td>146573.0</td>\n      <td>66541.0</td>\n      <td>214345.0</td>\n      <td>221.562534</td>\n      <td>275.090294</td>\n      <td>NaN</td>\n      <td>NaN</td>\n    </tr>\n    <tr>\n      <th>13</th>\n      <td>1992_ILLINOIS</td>\n      <td>ILLINOIS</td>\n      <td>1992</td>\n      <td>NaN</td>\n      <td>9748650.0</td>\n      <td>597077.0</td>\n      <td>3073178.0</td>\n      <td>6078395.0</td>\n      <td>9850560.0</td>\n      <td>5010400.0</td>\n      <td>...</td>\n      <td>133120.0</td>\n      <td>134317.0</td>\n      <td>106475.0</td>\n      <td>1111167.0</td>\n      <td>495562.0</td>\n      <td>1646411.0</td>\n      <td>NaN</td>\n      <td>NaN</td>\n      <td>NaN</td>\n      <td>NaN</td>\n    </tr>\n    <tr>\n      <th>14</th>\n      <td>1992_INDIANA</td>\n      <td>INDIANA</td>\n      <td>1992</td>\n      <td>NaN</td>\n      <td>5060274.0</td>\n      <td>257044.0</td>\n      <td>2578149.0</td>\n      <td>2225081.0</td>\n      <td>5182754.0</td>\n      <td>2598925.0</td>\n      <td>...</td>\n      <td>73760.0</td>\n      <td>75477.0</td>\n      <td>62234.0</td>\n      <td>601890.0</td>\n      <td>278161.0</td>\n      <td>883276.0</td>\n      <td>221.037742</td>\n      <td>270.098944</td>\n      <td>219.763258</td>\n      <td>NaN</td>\n    </tr>\n    <tr>\n      <th>15</th>\n      <td>1992_IOWA</td>\n      <td>IOWA</td>\n      <td>1992</td>\n      <td>NaN</td>\n      <td>2663934.0</td>\n      <td>125665.0</td>\n      <td>1176205.0</td>\n      <td>1362064.0</td>\n      <td>2795774.0</td>\n      <td>1446478.0</td>\n      <td>...</td>\n      <td>37692.0</td>\n      <td>36892.0</td>\n      <td>33057.0</td>\n      <td>299253.0</td>\n      <td>138907.0</td>\n      <td>442752.0</td>\n      <td>229.884078</td>\n      <td>283.360009</td>\n      <td>222.852939</td>\n      <td>NaN</td>\n    </tr>\n    <tr>\n      <th>16</th>\n      <td>1992_KANSAS</td>\n      <td>KANSAS</td>\n      <td>1992</td>\n      <td>NaN</td>\n      <td>2245348.0</td>\n      <td>121625.0</td>\n      <td>903199.0</td>\n      <td>1220524.0</td>\n      <td>2234915.0</td>\n      <td>1165749.0</td>\n      <td>...</td>\n      <td>36013.0</td>\n      <td>33288.0</td>\n      <td>26706.0</td>\n      <td>284143.0</td>\n      <td>120960.0</td>\n      <td>407494.0</td>\n      <td>NaN</td>\n      <td>NaN</td>\n      <td>NaN</td>\n      <td>NaN</td>\n    </tr>\n    <tr>\n      <th>17</th>\n      <td>1992_KENTUCKY</td>\n      <td>KENTUCKY</td>\n      <td>1992</td>\n      <td>NaN</td>\n      <td>2642902.0</td>\n      <td>289902.0</td>\n      <td>1643109.0</td>\n      <td>709891.0</td>\n      <td>2518082.0</td>\n      <td>1343438.0</td>\n      <td>...</td>\n      <td>49666.0</td>\n      <td>49993.0</td>\n      <td>38029.0</td>\n      <td>400849.0</td>\n      <td>181786.0</td>\n      <td>597199.0</td>\n      <td>215.048158</td>\n      <td>262.241282</td>\n      <td>211.562307</td>\n      <td>NaN</td>\n    </tr>\n    <tr>\n      <th>18</th>\n      <td>1992_LOUISIANA</td>\n      <td>LOUISIANA</td>\n      <td>1992</td>\n      <td>NaN</td>\n      <td>3341253.0</td>\n      <td>367822.0</td>\n      <td>1848734.0</td>\n      <td>1124697.0</td>\n      <td>3362853.0</td>\n      <td>1888349.0</td>\n      <td>...</td>\n      <td>61125.0</td>\n      <td>55942.0</td>\n      <td>38368.0</td>\n      <td>490112.0</td>\n      <td>196891.0</td>\n      <td>698442.0</td>\n      <td>204.140211</td>\n      <td>249.983926</td>\n      <td>196.762268</td>\n      <td>NaN</td>\n    </tr>\n    <tr>\n      <th>19</th>\n      <td>1992_MAINE</td>\n      <td>MAINE</td>\n      <td>1992</td>\n      <td>NaN</td>\n      <td>1206819.0</td>\n      <td>73160.0</td>\n      <td>511654.0</td>\n      <td>622005.0</td>\n      <td>1228869.0</td>\n      <td>685350.0</td>\n      <td>...</td>\n      <td>17154.0</td>\n      <td>15969.0</td>\n      <td>13882.0</td>\n      <td>135320.0</td>\n      <td>59289.0</td>\n      <td>195882.0</td>\n      <td>231.638840</td>\n      <td>278.635384</td>\n      <td>228.380027</td>\n      <td>NaN</td>\n    </tr>\n    <tr>\n      <th>20</th>\n      <td>1992_MARYLAND</td>\n      <td>MARYLAND</td>\n      <td>1992</td>\n      <td>NaN</td>\n      <td>4658498.0</td>\n      <td>228336.0</td>\n      <td>1778834.0</td>\n      <td>2651328.0</td>\n      <td>4698374.0</td>\n      <td>2628891.0</td>\n      <td>...</td>\n      <td>60287.0</td>\n      <td>52815.0</td>\n      <td>40426.0</td>\n      <td>472622.0</td>\n      <td>189795.0</td>\n      <td>678498.0</td>\n      <td>217.317708</td>\n      <td>264.825493</td>\n      <td>209.645497</td>\n      <td>NaN</td>\n    </tr>\n    <tr>\n      <th>21</th>\n      <td>1992_MASSACHUSETTS</td>\n      <td>MASSACHUSETTS</td>\n      <td>1992</td>\n      <td>NaN</td>\n      <td>5517659.0</td>\n      <td>273946.0</td>\n      <td>1439051.0</td>\n      <td>3804662.0</td>\n      <td>5245560.0</td>\n      <td>2751871.0</td>\n      <td>...</td>\n      <td>66822.0</td>\n      <td>60702.0</td>\n      <td>52425.0</td>\n      <td>536029.0</td>\n      <td>230299.0</td>\n      <td>777050.0</td>\n      <td>226.597918</td>\n      <td>272.783201</td>\n      <td>223.160076</td>\n      <td>NaN</td>\n    </tr>\n    <tr>\n      <th>22</th>\n      <td>1992_MICHIGAN</td>\n      <td>MICHIGAN</td>\n      <td>1992</td>\n      <td>NaN</td>\n      <td>9963137.0</td>\n      <td>537917.0</td>\n      <td>2539380.0</td>\n      <td>6885840.0</td>\n      <td>10170688.0</td>\n      <td>4681327.0</td>\n      <td>...</td>\n      <td>118963.0</td>\n      <td>114282.0</td>\n      <td>90655.0</td>\n      <td>968910.0</td>\n      <td>419351.0</td>\n      <td>1398802.0</td>\n      <td>219.878352</td>\n      <td>267.353194</td>\n      <td>NaN</td>\n      <td>NaN</td>\n    </tr>\n    <tr>\n      <th>23</th>\n      <td>1992_MINNESOTA</td>\n      <td>MINNESOTA</td>\n      <td>1992</td>\n      <td>NaN</td>\n      <td>4684684.0</td>\n      <td>194092.0</td>\n      <td>2380754.0</td>\n      <td>2109838.0</td>\n      <td>4981125.0</td>\n      <td>2534882.0</td>\n      <td>...</td>\n      <td>62606.0</td>\n      <td>59810.0</td>\n      <td>53813.0</td>\n      <td>500938.0</td>\n      <td>224426.0</td>\n      <td>731758.0</td>\n      <td>228.493596</td>\n      <td>282.392205</td>\n      <td>218.301709</td>\n      <td>NaN</td>\n    </tr>\n    <tr>\n      <th>24</th>\n      <td>1992_MISSISSIPPI</td>\n      <td>MISSISSIPPI</td>\n      <td>1992</td>\n      <td>NaN</td>\n      <td>1684706.0</td>\n      <td>277706.0</td>\n      <td>901199.0</td>\n      <td>505801.0</td>\n      <td>1691990.0</td>\n      <td>956104.0</td>\n      <td>...</td>\n      <td>39839.0</td>\n      <td>38132.0</td>\n      <td>26328.0</td>\n      <td>321614.0</td>\n      <td>129554.0</td>\n      <td>451986.0</td>\n      <td>201.828261</td>\n      <td>246.458035</td>\n      <td>201.529328</td>\n      <td>NaN</td>\n    </tr>\n    <tr>\n      <th>25</th>\n      <td>1992_MISSOURI</td>\n      <td>MISSOURI</td>\n      <td>1992</td>\n      <td>NaN</td>\n      <td>4043682.0</td>\n      <td>255194.0</td>\n      <td>1903124.0</td>\n      <td>1885364.0</td>\n      <td>4197600.0</td>\n      <td>2168135.0</td>\n      <td>...</td>\n      <td>67098.0</td>\n      <td>64546.0</td>\n      <td>50534.0</td>\n      <td>531337.0</td>\n      <td>235437.0</td>\n      <td>785722.0</td>\n      <td>222.215600</td>\n      <td>271.131545</td>\n      <td>216.898079</td>\n      <td>NaN</td>\n    </tr>\n    <tr>\n      <th>26</th>\n      <td>1992_MONTANA</td>\n      <td>MONTANA</td>\n      <td>1992</td>\n      <td>NaN</td>\n      <td>828983.0</td>\n      <td>69947.0</td>\n      <td>337455.0</td>\n      <td>421581.0</td>\n      <td>781009.0</td>\n      <td>412219.0</td>\n      <td>...</td>\n      <td>12839.0</td>\n      <td>12124.0</td>\n      <td>10019.0</td>\n      <td>102124.0</td>\n      <td>44449.0</td>\n      <td>147127.0</td>\n      <td>NaN</td>\n      <td>NaN</td>\n      <td>222.301419</td>\n      <td>NaN</td>\n    </tr>\n    <tr>\n      <th>27</th>\n      <td>1992_NEBRASKA</td>\n      <td>NEBRASKA</td>\n      <td>1992</td>\n      <td>NaN</td>\n      <td>1542413.0</td>\n      <td>85423.0</td>\n      <td>492256.0</td>\n      <td>964734.0</td>\n      <td>1534046.0</td>\n      <td>909159.0</td>\n      <td>...</td>\n      <td>22133.0</td>\n      <td>21379.0</td>\n      <td>18999.0</td>\n      <td>177432.0</td>\n      <td>79975.0</td>\n      <td>260541.0</td>\n      <td>225.332648</td>\n      <td>277.654523</td>\n      <td>220.034963</td>\n      <td>NaN</td>\n    </tr>\n    <tr>\n      <th>28</th>\n      <td>1992_NEVADA</td>\n      <td>NEVADA</td>\n      <td>1992</td>\n      <td>NaN</td>\n      <td>1097076.0</td>\n      <td>45018.0</td>\n      <td>724032.0</td>\n      <td>328026.0</td>\n      <td>1251651.0</td>\n      <td>572623.0</td>\n      <td>...</td>\n      <td>18487.0</td>\n      <td>16250.0</td>\n      <td>12242.0</td>\n      <td>145687.0</td>\n      <td>57605.0</td>\n      <td>204330.0</td>\n      <td>NaN</td>\n      <td>NaN</td>\n      <td>NaN</td>\n      <td>NaN</td>\n    </tr>\n    <tr>\n      <th>29</th>\n      <td>1992_NEW_HAMPSHIRE</td>\n      <td>NEW_HAMPSHIRE</td>\n      <td>1992</td>\n      <td>NaN</td>\n      <td>1063391.0</td>\n      <td>31020.0</td>\n      <td>86296.0</td>\n      <td>946075.0</td>\n      <td>1066647.0</td>\n      <td>581123.0</td>\n      <td>...</td>\n      <td>15611.0</td>\n      <td>13537.0</td>\n      <td>10752.0</td>\n      <td>123475.0</td>\n      <td>47999.0</td>\n      <td>172479.0</td>\n      <td>229.664564</td>\n      <td>278.216326</td>\n      <td>223.466140</td>\n      <td>NaN</td>\n    </tr>\n    <tr>\n      <th>...</th>\n      <td>...</td>\n      <td>...</td>\n      <td>...</td>\n      <td>...</td>\n      <td>...</td>\n      <td>...</td>\n      <td>...</td>\n      <td>...</td>\n      <td>...</td>\n      <td>...</td>\n      <td>...</td>\n      <td>...</td>\n      <td>...</td>\n      <td>...</td>\n      <td>...</td>\n      <td>...</td>\n      <td>...</td>\n      <td>...</td>\n      <td>...</td>\n      <td>...</td>\n      <td>...</td>\n    </tr>\n    <tr>\n      <th>1462</th>\n      <td>2017_IOWA</td>\n      <td>IOWA</td>\n      <td>2017</td>\n      <td>NaN</td>\n      <td>NaN</td>\n      <td>NaN</td>\n      <td>NaN</td>\n      <td>NaN</td>\n      <td>NaN</td>\n      <td>NaN</td>\n      <td>...</td>\n      <td>NaN</td>\n      <td>NaN</td>\n      <td>NaN</td>\n      <td>NaN</td>\n      <td>NaN</td>\n      <td>NaN</td>\n      <td>243.107484</td>\n      <td>286.239418</td>\n      <td>221.747268</td>\n      <td>272.023876</td>\n    </tr>\n    <tr>\n      <th>1463</th>\n      <td>2017_KANSAS</td>\n      <td>KANSAS</td>\n      <td>2017</td>\n      <td>NaN</td>\n      <td>NaN</td>\n      <td>NaN</td>\n      <td>NaN</td>\n      <td>NaN</td>\n      <td>NaN</td>\n      <td>NaN</td>\n      <td>...</td>\n      <td>NaN</td>\n      <td>NaN</td>\n      <td>NaN</td>\n      <td>NaN</td>\n      <td>NaN</td>\n      <td>NaN</td>\n      <td>241.212805</td>\n      <td>285.283508</td>\n      <td>223.268429</td>\n      <td>267.675679</td>\n    </tr>\n    <tr>\n      <th>1464</th>\n      <td>2017_KENTUCKY</td>\n      <td>KENTUCKY</td>\n      <td>2017</td>\n      <td>NaN</td>\n      <td>NaN</td>\n      <td>NaN</td>\n      <td>NaN</td>\n      <td>NaN</td>\n      <td>NaN</td>\n      <td>NaN</td>\n      <td>...</td>\n      <td>NaN</td>\n      <td>NaN</td>\n      <td>NaN</td>\n      <td>NaN</td>\n      <td>NaN</td>\n      <td>NaN</td>\n      <td>239.178257</td>\n      <td>277.714162</td>\n      <td>224.080585</td>\n      <td>267.490028</td>\n    </tr>\n    <tr>\n      <th>1465</th>\n      <td>2017_LOUISIANA</td>\n      <td>LOUISIANA</td>\n      <td>2017</td>\n      <td>NaN</td>\n      <td>NaN</td>\n      <td>NaN</td>\n      <td>NaN</td>\n      <td>NaN</td>\n      <td>NaN</td>\n      <td>NaN</td>\n      <td>...</td>\n      <td>NaN</td>\n      <td>NaN</td>\n      <td>NaN</td>\n      <td>NaN</td>\n      <td>NaN</td>\n      <td>NaN</td>\n      <td>228.971745</td>\n      <td>266.506760</td>\n      <td>211.600528</td>\n      <td>265.133438</td>\n    </tr>\n    <tr>\n      <th>1466</th>\n      <td>2017_MAINE</td>\n      <td>MAINE</td>\n      <td>2017</td>\n      <td>NaN</td>\n      <td>NaN</td>\n      <td>NaN</td>\n      <td>NaN</td>\n      <td>NaN</td>\n      <td>NaN</td>\n      <td>NaN</td>\n      <td>...</td>\n      <td>NaN</td>\n      <td>NaN</td>\n      <td>NaN</td>\n      <td>NaN</td>\n      <td>NaN</td>\n      <td>NaN</td>\n      <td>239.898995</td>\n      <td>284.003007</td>\n      <td>221.388603</td>\n      <td>256.751471</td>\n    </tr>\n    <tr>\n      <th>1467</th>\n      <td>2017_MARYLAND</td>\n      <td>MARYLAND</td>\n      <td>2017</td>\n      <td>NaN</td>\n      <td>NaN</td>\n      <td>NaN</td>\n      <td>NaN</td>\n      <td>NaN</td>\n      <td>NaN</td>\n      <td>NaN</td>\n      <td>...</td>\n      <td>NaN</td>\n      <td>NaN</td>\n      <td>NaN</td>\n      <td>NaN</td>\n      <td>NaN</td>\n      <td>NaN</td>\n      <td>240.601277</td>\n      <td>280.910246</td>\n      <td>225.049335</td>\n      <td>268.930632</td>\n    </tr>\n    <tr>\n      <th>1468</th>\n      <td>2017_MASSACHUSETTS</td>\n      <td>MASSACHUSETTS</td>\n      <td>2017</td>\n      <td>NaN</td>\n      <td>NaN</td>\n      <td>NaN</td>\n      <td>NaN</td>\n      <td>NaN</td>\n      <td>NaN</td>\n      <td>NaN</td>\n      <td>...</td>\n      <td>NaN</td>\n      <td>NaN</td>\n      <td>NaN</td>\n      <td>NaN</td>\n      <td>NaN</td>\n      <td>NaN</td>\n      <td>249.102674</td>\n      <td>297.042225</td>\n      <td>235.699697</td>\n      <td>267.250533</td>\n    </tr>\n    <tr>\n      <th>1469</th>\n      <td>2017_MICHIGAN</td>\n      <td>MICHIGAN</td>\n      <td>2017</td>\n      <td>NaN</td>\n      <td>NaN</td>\n      <td>NaN</td>\n      <td>NaN</td>\n      <td>NaN</td>\n      <td>NaN</td>\n      <td>NaN</td>\n      <td>...</td>\n      <td>NaN</td>\n      <td>NaN</td>\n      <td>NaN</td>\n      <td>NaN</td>\n      <td>NaN</td>\n      <td>NaN</td>\n      <td>235.555473</td>\n      <td>279.505455</td>\n      <td>217.753242</td>\n      <td>277.782589</td>\n    </tr>\n    <tr>\n      <th>1470</th>\n      <td>2017_MINNESOTA</td>\n      <td>MINNESOTA</td>\n      <td>2017</td>\n      <td>NaN</td>\n      <td>NaN</td>\n      <td>NaN</td>\n      <td>NaN</td>\n      <td>NaN</td>\n      <td>NaN</td>\n      <td>NaN</td>\n      <td>...</td>\n      <td>NaN</td>\n      <td>NaN</td>\n      <td>NaN</td>\n      <td>NaN</td>\n      <td>NaN</td>\n      <td>NaN</td>\n      <td>248.804303</td>\n      <td>293.962376</td>\n      <td>224.538513</td>\n      <td>265.468928</td>\n    </tr>\n    <tr>\n      <th>1471</th>\n      <td>2017_MISSISSIPPI</td>\n      <td>MISSISSIPPI</td>\n      <td>2017</td>\n      <td>NaN</td>\n      <td>NaN</td>\n      <td>NaN</td>\n      <td>NaN</td>\n      <td>NaN</td>\n      <td>NaN</td>\n      <td>NaN</td>\n      <td>...</td>\n      <td>NaN</td>\n      <td>NaN</td>\n      <td>NaN</td>\n      <td>NaN</td>\n      <td>NaN</td>\n      <td>NaN</td>\n      <td>234.694193</td>\n      <td>270.914908</td>\n      <td>215.203306</td>\n      <td>268.616822</td>\n    </tr>\n    <tr>\n      <th>1472</th>\n      <td>2017_MISSOURI</td>\n      <td>MISSOURI</td>\n      <td>2017</td>\n      <td>NaN</td>\n      <td>NaN</td>\n      <td>NaN</td>\n      <td>NaN</td>\n      <td>NaN</td>\n      <td>NaN</td>\n      <td>NaN</td>\n      <td>...</td>\n      <td>NaN</td>\n      <td>NaN</td>\n      <td>NaN</td>\n      <td>NaN</td>\n      <td>NaN</td>\n      <td>NaN</td>\n      <td>239.502289</td>\n      <td>280.596022</td>\n      <td>222.681081</td>\n      <td>256.344701</td>\n    </tr>\n    <tr>\n      <th>1473</th>\n      <td>2017_MONTANA</td>\n      <td>MONTANA</td>\n      <td>2017</td>\n      <td>NaN</td>\n      <td>NaN</td>\n      <td>NaN</td>\n      <td>NaN</td>\n      <td>NaN</td>\n      <td>NaN</td>\n      <td>NaN</td>\n      <td>...</td>\n      <td>NaN</td>\n      <td>NaN</td>\n      <td>NaN</td>\n      <td>NaN</td>\n      <td>NaN</td>\n      <td>NaN</td>\n      <td>240.721634</td>\n      <td>285.600437</td>\n      <td>222.326722</td>\n      <td>266.035007</td>\n    </tr>\n    <tr>\n      <th>1474</th>\n      <td>2017_NEBRASKA</td>\n      <td>NEBRASKA</td>\n      <td>2017</td>\n      <td>NaN</td>\n      <td>NaN</td>\n      <td>NaN</td>\n      <td>NaN</td>\n      <td>NaN</td>\n      <td>NaN</td>\n      <td>NaN</td>\n      <td>...</td>\n      <td>NaN</td>\n      <td>NaN</td>\n      <td>NaN</td>\n      <td>NaN</td>\n      <td>NaN</td>\n      <td>NaN</td>\n      <td>245.590675</td>\n      <td>288.405955</td>\n      <td>224.096225</td>\n      <td>267.208219</td>\n    </tr>\n    <tr>\n      <th>1475</th>\n      <td>2017_NEVADA</td>\n      <td>NEVADA</td>\n      <td>2017</td>\n      <td>NaN</td>\n      <td>NaN</td>\n      <td>NaN</td>\n      <td>NaN</td>\n      <td>NaN</td>\n      <td>NaN</td>\n      <td>NaN</td>\n      <td>...</td>\n      <td>NaN</td>\n      <td>NaN</td>\n      <td>NaN</td>\n      <td>NaN</td>\n      <td>NaN</td>\n      <td>NaN</td>\n      <td>231.685162</td>\n      <td>275.365456</td>\n      <td>214.841696</td>\n      <td>268.528555</td>\n    </tr>\n    <tr>\n      <th>1476</th>\n      <td>2017_NEW_HAMPSHIRE</td>\n      <td>NEW_HAMPSHIRE</td>\n      <td>2017</td>\n      <td>NaN</td>\n      <td>NaN</td>\n      <td>NaN</td>\n      <td>NaN</td>\n      <td>NaN</td>\n      <td>NaN</td>\n      <td>NaN</td>\n      <td>...</td>\n      <td>NaN</td>\n      <td>NaN</td>\n      <td>NaN</td>\n      <td>NaN</td>\n      <td>NaN</td>\n      <td>NaN</td>\n      <td>245.319839</td>\n      <td>293.290654</td>\n      <td>228.900649</td>\n      <td>259.806407</td>\n    </tr>\n    <tr>\n      <th>1477</th>\n      <td>2017_NEW_JERSEY</td>\n      <td>NEW_JERSEY</td>\n      <td>2017</td>\n      <td>NaN</td>\n      <td>NaN</td>\n      <td>NaN</td>\n      <td>NaN</td>\n      <td>NaN</td>\n      <td>NaN</td>\n      <td>NaN</td>\n      <td>...</td>\n      <td>NaN</td>\n      <td>NaN</td>\n      <td>NaN</td>\n      <td>NaN</td>\n      <td>NaN</td>\n      <td>NaN</td>\n      <td>247.855231</td>\n      <td>291.698552</td>\n      <td>232.943318</td>\n      <td>274.786040</td>\n    </tr>\n    <tr>\n      <th>1478</th>\n      <td>2017_NEW_MEXICO</td>\n      <td>NEW_MEXICO</td>\n      <td>2017</td>\n      <td>NaN</td>\n      <td>NaN</td>\n      <td>NaN</td>\n      <td>NaN</td>\n      <td>NaN</td>\n      <td>NaN</td>\n      <td>NaN</td>\n      <td>...</td>\n      <td>NaN</td>\n      <td>NaN</td>\n      <td>NaN</td>\n      <td>NaN</td>\n      <td>NaN</td>\n      <td>NaN</td>\n      <td>229.704282</td>\n      <td>269.374084</td>\n      <td>207.704354</td>\n      <td>275.044552</td>\n    </tr>\n    <tr>\n      <th>1479</th>\n      <td>2017_NEW_YORK</td>\n      <td>NEW_YORK</td>\n      <td>2017</td>\n      <td>NaN</td>\n      <td>NaN</td>\n      <td>NaN</td>\n      <td>NaN</td>\n      <td>NaN</td>\n      <td>NaN</td>\n      <td>NaN</td>\n      <td>...</td>\n      <td>NaN</td>\n      <td>NaN</td>\n      <td>NaN</td>\n      <td>NaN</td>\n      <td>NaN</td>\n      <td>NaN</td>\n      <td>235.548457</td>\n      <td>281.688000</td>\n      <td>221.884015</td>\n      <td>255.578543</td>\n    </tr>\n    <tr>\n      <th>1480</th>\n      <td>2017_NORTH_CAROLINA</td>\n      <td>NORTH_CAROLINA</td>\n      <td>2017</td>\n      <td>NaN</td>\n      <td>NaN</td>\n      <td>NaN</td>\n      <td>NaN</td>\n      <td>NaN</td>\n      <td>NaN</td>\n      <td>NaN</td>\n      <td>...</td>\n      <td>NaN</td>\n      <td>NaN</td>\n      <td>NaN</td>\n      <td>NaN</td>\n      <td>NaN</td>\n      <td>NaN</td>\n      <td>240.951393</td>\n      <td>281.926028</td>\n      <td>223.930906</td>\n      <td>264.157584</td>\n    </tr>\n    <tr>\n      <th>1481</th>\n      <td>2017_NORTH_DAKOTA</td>\n      <td>NORTH_DAKOTA</td>\n      <td>2017</td>\n      <td>NaN</td>\n      <td>NaN</td>\n      <td>NaN</td>\n      <td>NaN</td>\n      <td>NaN</td>\n      <td>NaN</td>\n      <td>NaN</td>\n      <td>...</td>\n      <td>NaN</td>\n      <td>NaN</td>\n      <td>NaN</td>\n      <td>NaN</td>\n      <td>NaN</td>\n      <td>NaN</td>\n      <td>244.243515</td>\n      <td>288.172322</td>\n      <td>221.519266</td>\n      <td>262.720477</td>\n    </tr>\n    <tr>\n      <th>1482</th>\n      <td>2017_OHIO</td>\n      <td>OHIO</td>\n      <td>2017</td>\n      <td>NaN</td>\n      <td>NaN</td>\n      <td>NaN</td>\n      <td>NaN</td>\n      <td>NaN</td>\n      <td>NaN</td>\n      <td>NaN</td>\n      <td>...</td>\n      <td>NaN</td>\n      <td>NaN</td>\n      <td>NaN</td>\n      <td>NaN</td>\n      <td>NaN</td>\n      <td>NaN</td>\n      <td>240.928372</td>\n      <td>287.714266</td>\n      <td>225.261138</td>\n      <td>265.081922</td>\n    </tr>\n    <tr>\n      <th>1483</th>\n      <td>2017_TENNESSEE</td>\n      <td>TENNESSEE</td>\n      <td>2017</td>\n      <td>NaN</td>\n      <td>NaN</td>\n      <td>NaN</td>\n      <td>NaN</td>\n      <td>NaN</td>\n      <td>NaN</td>\n      <td>NaN</td>\n      <td>...</td>\n      <td>NaN</td>\n      <td>NaN</td>\n      <td>NaN</td>\n      <td>NaN</td>\n      <td>NaN</td>\n      <td>NaN</td>\n      <td>236.692515</td>\n      <td>278.777735</td>\n      <td>218.952797</td>\n      <td>267.355727</td>\n    </tr>\n    <tr>\n      <th>1484</th>\n      <td>2017_TEXAS</td>\n      <td>TEXAS</td>\n      <td>2017</td>\n      <td>NaN</td>\n      <td>NaN</td>\n      <td>NaN</td>\n      <td>NaN</td>\n      <td>NaN</td>\n      <td>NaN</td>\n      <td>NaN</td>\n      <td>...</td>\n      <td>NaN</td>\n      <td>NaN</td>\n      <td>NaN</td>\n      <td>NaN</td>\n      <td>NaN</td>\n      <td>NaN</td>\n      <td>240.943671</td>\n      <td>282.320510</td>\n      <td>214.878493</td>\n      <td>262.046853</td>\n    </tr>\n    <tr>\n      <th>1485</th>\n      <td>2017_UTAH</td>\n      <td>UTAH</td>\n      <td>2017</td>\n      <td>NaN</td>\n      <td>NaN</td>\n      <td>NaN</td>\n      <td>NaN</td>\n      <td>NaN</td>\n      <td>NaN</td>\n      <td>NaN</td>\n      <td>...</td>\n      <td>NaN</td>\n      <td>NaN</td>\n      <td>NaN</td>\n      <td>NaN</td>\n      <td>NaN</td>\n      <td>NaN</td>\n      <td>242.480766</td>\n      <td>286.816559</td>\n      <td>225.159173</td>\n      <td>260.342577</td>\n    </tr>\n    <tr>\n      <th>1486</th>\n      <td>2017_VERMONT</td>\n      <td>VERMONT</td>\n      <td>2017</td>\n      <td>NaN</td>\n      <td>NaN</td>\n      <td>NaN</td>\n      <td>NaN</td>\n      <td>NaN</td>\n      <td>NaN</td>\n      <td>NaN</td>\n      <td>...</td>\n      <td>NaN</td>\n      <td>NaN</td>\n      <td>NaN</td>\n      <td>NaN</td>\n      <td>NaN</td>\n      <td>NaN</td>\n      <td>240.893297</td>\n      <td>287.623388</td>\n      <td>226.445343</td>\n      <td>268.752420</td>\n    </tr>\n    <tr>\n      <th>1487</th>\n      <td>2017_VIRGINIA</td>\n      <td>VIRGINIA</td>\n      <td>2017</td>\n      <td>NaN</td>\n      <td>NaN</td>\n      <td>NaN</td>\n      <td>NaN</td>\n      <td>NaN</td>\n      <td>NaN</td>\n      <td>NaN</td>\n      <td>...</td>\n      <td>NaN</td>\n      <td>NaN</td>\n      <td>NaN</td>\n      <td>NaN</td>\n      <td>NaN</td>\n      <td>NaN</td>\n      <td>248.041059</td>\n      <td>290.081407</td>\n      <td>227.598382</td>\n      <td>273.402640</td>\n    </tr>\n    <tr>\n      <th>1488</th>\n      <td>2017_WASHINGTON</td>\n      <td>WASHINGTON</td>\n      <td>2017</td>\n      <td>NaN</td>\n      <td>NaN</td>\n      <td>NaN</td>\n      <td>NaN</td>\n      <td>NaN</td>\n      <td>NaN</td>\n      <td>NaN</td>\n      <td>...</td>\n      <td>NaN</td>\n      <td>NaN</td>\n      <td>NaN</td>\n      <td>NaN</td>\n      <td>NaN</td>\n      <td>NaN</td>\n      <td>241.701001</td>\n      <td>289.131257</td>\n      <td>223.123409</td>\n      <td>267.744778</td>\n    </tr>\n    <tr>\n      <th>1489</th>\n      <td>2017_WEST_VIRGINIA</td>\n      <td>WEST_VIRGINIA</td>\n      <td>2017</td>\n      <td>NaN</td>\n      <td>NaN</td>\n      <td>NaN</td>\n      <td>NaN</td>\n      <td>NaN</td>\n      <td>NaN</td>\n      <td>NaN</td>\n      <td>...</td>\n      <td>NaN</td>\n      <td>NaN</td>\n      <td>NaN</td>\n      <td>NaN</td>\n      <td>NaN</td>\n      <td>NaN</td>\n      <td>236.057019</td>\n      <td>273.415854</td>\n      <td>217.316396</td>\n      <td>271.617023</td>\n    </tr>\n    <tr>\n      <th>1490</th>\n      <td>2017_WISCONSIN</td>\n      <td>WISCONSIN</td>\n      <td>2017</td>\n      <td>NaN</td>\n      <td>NaN</td>\n      <td>NaN</td>\n      <td>NaN</td>\n      <td>NaN</td>\n      <td>NaN</td>\n      <td>NaN</td>\n      <td>...</td>\n      <td>NaN</td>\n      <td>NaN</td>\n      <td>NaN</td>\n      <td>NaN</td>\n      <td>NaN</td>\n      <td>NaN</td>\n      <td>240.389213</td>\n      <td>288.143144</td>\n      <td>219.612694</td>\n      <td>258.700304</td>\n    </tr>\n    <tr>\n      <th>1491</th>\n      <td>2017_WYOMING</td>\n      <td>WYOMING</td>\n      <td>2017</td>\n      <td>NaN</td>\n      <td>NaN</td>\n      <td>NaN</td>\n      <td>NaN</td>\n      <td>NaN</td>\n      <td>NaN</td>\n      <td>NaN</td>\n      <td>...</td>\n      <td>NaN</td>\n      <td>NaN</td>\n      <td>NaN</td>\n      <td>NaN</td>\n      <td>NaN</td>\n      <td>NaN</td>\n      <td>247.820619</td>\n      <td>288.761812</td>\n      <td>226.831211</td>\n      <td>269.371456</td>\n    </tr>\n  </tbody>\n</table>\n<p>1492 rows × 25 columns</p>\n</div>",
        "text/plain": "                    PRIMARY_KEY                 STATE  YEAR  ENROLL  \\\n0                  1992_ALABAMA               ALABAMA  1992     NaN   \n1                   1992_ALASKA                ALASKA  1992     NaN   \n2                  1992_ARIZONA               ARIZONA  1992     NaN   \n3                 1992_ARKANSAS              ARKANSAS  1992     NaN   \n4               1992_CALIFORNIA            CALIFORNIA  1992     NaN   \n5                 1992_COLORADO              COLORADO  1992     NaN   \n6              1992_CONNECTICUT           CONNECTICUT  1992     NaN   \n7                 1992_DELAWARE              DELAWARE  1992     NaN   \n8     1992_DISTRICT_OF_COLUMBIA  DISTRICT_OF_COLUMBIA  1992     NaN   \n9                  1992_FLORIDA               FLORIDA  1992     NaN   \n10                 1992_GEORGIA               GEORGIA  1992     NaN   \n11                  1992_HAWAII                HAWAII  1992     NaN   \n12                   1992_IDAHO                 IDAHO  1992     NaN   \n13                1992_ILLINOIS              ILLINOIS  1992     NaN   \n14                 1992_INDIANA               INDIANA  1992     NaN   \n15                    1992_IOWA                  IOWA  1992     NaN   \n16                  1992_KANSAS                KANSAS  1992     NaN   \n17                1992_KENTUCKY              KENTUCKY  1992     NaN   \n18               1992_LOUISIANA             LOUISIANA  1992     NaN   \n19                   1992_MAINE                 MAINE  1992     NaN   \n20                1992_MARYLAND              MARYLAND  1992     NaN   \n21           1992_MASSACHUSETTS         MASSACHUSETTS  1992     NaN   \n22                1992_MICHIGAN              MICHIGAN  1992     NaN   \n23               1992_MINNESOTA             MINNESOTA  1992     NaN   \n24             1992_MISSISSIPPI           MISSISSIPPI  1992     NaN   \n25                1992_MISSOURI              MISSOURI  1992     NaN   \n26                 1992_MONTANA               MONTANA  1992     NaN   \n27                1992_NEBRASKA              NEBRASKA  1992     NaN   \n28                  1992_NEVADA                NEVADA  1992     NaN   \n29           1992_NEW_HAMPSHIRE         NEW_HAMPSHIRE  1992     NaN   \n...                         ...                   ...   ...     ...   \n1462                  2017_IOWA                  IOWA  2017     NaN   \n1463                2017_KANSAS                KANSAS  2017     NaN   \n1464              2017_KENTUCKY              KENTUCKY  2017     NaN   \n1465             2017_LOUISIANA             LOUISIANA  2017     NaN   \n1466                 2017_MAINE                 MAINE  2017     NaN   \n1467              2017_MARYLAND              MARYLAND  2017     NaN   \n1468         2017_MASSACHUSETTS         MASSACHUSETTS  2017     NaN   \n1469              2017_MICHIGAN              MICHIGAN  2017     NaN   \n1470             2017_MINNESOTA             MINNESOTA  2017     NaN   \n1471           2017_MISSISSIPPI           MISSISSIPPI  2017     NaN   \n1472              2017_MISSOURI              MISSOURI  2017     NaN   \n1473               2017_MONTANA               MONTANA  2017     NaN   \n1474              2017_NEBRASKA              NEBRASKA  2017     NaN   \n1475                2017_NEVADA                NEVADA  2017     NaN   \n1476         2017_NEW_HAMPSHIRE         NEW_HAMPSHIRE  2017     NaN   \n1477            2017_NEW_JERSEY            NEW_JERSEY  2017     NaN   \n1478            2017_NEW_MEXICO            NEW_MEXICO  2017     NaN   \n1479              2017_NEW_YORK              NEW_YORK  2017     NaN   \n1480        2017_NORTH_CAROLINA        NORTH_CAROLINA  2017     NaN   \n1481          2017_NORTH_DAKOTA          NORTH_DAKOTA  2017     NaN   \n1482                  2017_OHIO                  OHIO  2017     NaN   \n1483             2017_TENNESSEE             TENNESSEE  2017     NaN   \n1484                 2017_TEXAS                 TEXAS  2017     NaN   \n1485                  2017_UTAH                  UTAH  2017     NaN   \n1486               2017_VERMONT               VERMONT  2017     NaN   \n1487              2017_VIRGINIA              VIRGINIA  2017     NaN   \n1488            2017_WASHINGTON            WASHINGTON  2017     NaN   \n1489         2017_WEST_VIRGINIA         WEST_VIRGINIA  2017     NaN   \n1490             2017_WISCONSIN             WISCONSIN  2017     NaN   \n1491               2017_WYOMING               WYOMING  2017     NaN   \n\n      TOTAL_REVENUE  FEDERAL_REVENUE  STATE_REVENUE  LOCAL_REVENUE  \\\n0         2678885.0         304177.0      1659028.0       715680.0   \n1         1049591.0         106780.0       720711.0       222100.0   \n2         3258079.0         297888.0      1369815.0      1590376.0   \n3         1711959.0         178571.0       958785.0       574603.0   \n4        26260025.0        2072470.0     16546514.0      7641041.0   \n5         3185173.0         163253.0      1307986.0      1713934.0   \n6         3834302.0         143542.0      1342539.0      2348221.0   \n7          645233.0          45945.0       420942.0       178346.0   \n8          709480.0          64749.0            0.0       644731.0   \n9        11506299.0         788420.0      5683949.0      5033930.0   \n10        5536901.0         398701.0      2798674.0      2339526.0   \n11         996809.0          71273.0       903443.0        22093.0   \n12         859329.0          69138.0       531912.0       258279.0   \n13        9748650.0         597077.0      3073178.0      6078395.0   \n14        5060274.0         257044.0      2578149.0      2225081.0   \n15        2663934.0         125665.0      1176205.0      1362064.0   \n16        2245348.0         121625.0       903199.0      1220524.0   \n17        2642902.0         289902.0      1643109.0       709891.0   \n18        3341253.0         367822.0      1848734.0      1124697.0   \n19        1206819.0          73160.0       511654.0       622005.0   \n20        4658498.0         228336.0      1778834.0      2651328.0   \n21        5517659.0         273946.0      1439051.0      3804662.0   \n22        9963137.0         537917.0      2539380.0      6885840.0   \n23        4684684.0         194092.0      2380754.0      2109838.0   \n24        1684706.0         277706.0       901199.0       505801.0   \n25        4043682.0         255194.0      1903124.0      1885364.0   \n26         828983.0          69947.0       337455.0       421581.0   \n27        1542413.0          85423.0       492256.0       964734.0   \n28        1097076.0          45018.0       724032.0       328026.0   \n29        1063391.0          31020.0        86296.0       946075.0   \n...             ...              ...            ...            ...   \n1462            NaN              NaN            NaN            NaN   \n1463            NaN              NaN            NaN            NaN   \n1464            NaN              NaN            NaN            NaN   \n1465            NaN              NaN            NaN            NaN   \n1466            NaN              NaN            NaN            NaN   \n1467            NaN              NaN            NaN            NaN   \n1468            NaN              NaN            NaN            NaN   \n1469            NaN              NaN            NaN            NaN   \n1470            NaN              NaN            NaN            NaN   \n1471            NaN              NaN            NaN            NaN   \n1472            NaN              NaN            NaN            NaN   \n1473            NaN              NaN            NaN            NaN   \n1474            NaN              NaN            NaN            NaN   \n1475            NaN              NaN            NaN            NaN   \n1476            NaN              NaN            NaN            NaN   \n1477            NaN              NaN            NaN            NaN   \n1478            NaN              NaN            NaN            NaN   \n1479            NaN              NaN            NaN            NaN   \n1480            NaN              NaN            NaN            NaN   \n1481            NaN              NaN            NaN            NaN   \n1482            NaN              NaN            NaN            NaN   \n1483            NaN              NaN            NaN            NaN   \n1484            NaN              NaN            NaN            NaN   \n1485            NaN              NaN            NaN            NaN   \n1486            NaN              NaN            NaN            NaN   \n1487            NaN              NaN            NaN            NaN   \n1488            NaN              NaN            NaN            NaN   \n1489            NaN              NaN            NaN            NaN   \n1490            NaN              NaN            NaN            NaN   \n1491            NaN              NaN            NaN            NaN   \n\n      TOTAL_EXPENDITURE  INSTRUCTION_EXPENDITURE  ...  GRADES_4_G  GRADES_8_G  \\\n0             2653798.0                1481703.0  ...     57948.0     58025.0   \n1              972488.0                 498362.0  ...      9748.0      8789.0   \n2             3401580.0                1435908.0  ...     55433.0     49081.0   \n3             1743022.0                 964323.0  ...     34632.0     36011.0   \n4            27138832.0               14358922.0  ...    418418.0    363296.0   \n5             3264826.0                1642466.0  ...     50648.0     45025.0   \n6             3721338.0                2148041.0  ...     38058.0     33691.0   \n7              638784.0                 372722.0  ...      8272.0      8012.0   \n8              742893.0                 329160.0  ...      5832.0      5000.0   \n9            11305642.0                5166374.0  ...    164416.0    142372.0   \n10            5535942.0                3043984.0  ...     99648.0     92374.0   \n11            1040121.0                 536115.0  ...     13754.0     11750.0   \n12             886161.0                 473505.0  ...     18607.0     18880.0   \n13            9850560.0                5010400.0  ...    133120.0    134317.0   \n14            5182754.0                2598925.0  ...     73760.0     75477.0   \n15            2795774.0                1446478.0  ...     37692.0     36892.0   \n16            2234915.0                1165749.0  ...     36013.0     33288.0   \n17            2518082.0                1343438.0  ...     49666.0     49993.0   \n18            3362853.0                1888349.0  ...     61125.0     55942.0   \n19            1228869.0                 685350.0  ...     17154.0     15969.0   \n20            4698374.0                2628891.0  ...     60287.0     52815.0   \n21            5245560.0                2751871.0  ...     66822.0     60702.0   \n22           10170688.0                4681327.0  ...    118963.0    114282.0   \n23            4981125.0                2534882.0  ...     62606.0     59810.0   \n24            1691990.0                 956104.0  ...     39839.0     38132.0   \n25            4197600.0                2168135.0  ...     67098.0     64546.0   \n26             781009.0                 412219.0  ...     12839.0     12124.0   \n27            1534046.0                 909159.0  ...     22133.0     21379.0   \n28            1251651.0                 572623.0  ...     18487.0     16250.0   \n29            1066647.0                 581123.0  ...     15611.0     13537.0   \n...                 ...                      ...  ...         ...         ...   \n1462                NaN                      NaN  ...         NaN         NaN   \n1463                NaN                      NaN  ...         NaN         NaN   \n1464                NaN                      NaN  ...         NaN         NaN   \n1465                NaN                      NaN  ...         NaN         NaN   \n1466                NaN                      NaN  ...         NaN         NaN   \n1467                NaN                      NaN  ...         NaN         NaN   \n1468                NaN                      NaN  ...         NaN         NaN   \n1469                NaN                      NaN  ...         NaN         NaN   \n1470                NaN                      NaN  ...         NaN         NaN   \n1471                NaN                      NaN  ...         NaN         NaN   \n1472                NaN                      NaN  ...         NaN         NaN   \n1473                NaN                      NaN  ...         NaN         NaN   \n1474                NaN                      NaN  ...         NaN         NaN   \n1475                NaN                      NaN  ...         NaN         NaN   \n1476                NaN                      NaN  ...         NaN         NaN   \n1477                NaN                      NaN  ...         NaN         NaN   \n1478                NaN                      NaN  ...         NaN         NaN   \n1479                NaN                      NaN  ...         NaN         NaN   \n1480                NaN                      NaN  ...         NaN         NaN   \n1481                NaN                      NaN  ...         NaN         NaN   \n1482                NaN                      NaN  ...         NaN         NaN   \n1483                NaN                      NaN  ...         NaN         NaN   \n1484                NaN                      NaN  ...         NaN         NaN   \n1485                NaN                      NaN  ...         NaN         NaN   \n1486                NaN                      NaN  ...         NaN         NaN   \n1487                NaN                      NaN  ...         NaN         NaN   \n1488                NaN                      NaN  ...         NaN         NaN   \n1489                NaN                      NaN  ...         NaN         NaN   \n1490                NaN                      NaN  ...         NaN         NaN   \n1491                NaN                      NaN  ...         NaN         NaN   \n\n      GRADES_12_G  GRADES_1_8_G  GRADES_9_12_G  GRADES_ALL_G  \\\n0         41167.0      471564.0       196386.0      676174.0   \n1          6714.0       79117.0        30847.0      112335.0   \n2         37410.0      437127.0       175210.0      614881.0   \n3         27651.0      281338.0       123113.0      405259.0   \n4        270675.0     3286034.0      1372011.0     4717112.0   \n5         34533.0      394904.0       160299.0      562613.0   \n6         28366.0      304284.0       126917.0      436932.0   \n7          6129.0       67495.0        28338.0       96296.0   \n8          3433.0       47009.0        18173.0       70000.0   \n9        100835.0     1276685.0       511557.0     1819706.0   \n10        63646.0      787599.0       315539.0     1106441.0   \n11         9051.0      107242.0        43882.0      151649.0   \n12        14593.0      146573.0        66541.0      214345.0   \n13       106475.0     1111167.0       495562.0     1646411.0   \n14        62234.0      601890.0       278161.0      883276.0   \n15        33057.0      299253.0       138907.0      442752.0   \n16        26706.0      284143.0       120960.0      407494.0   \n17        38029.0      400849.0       181786.0      597199.0   \n18        38368.0      490112.0       196891.0      698442.0   \n19        13882.0      135320.0        59289.0      195882.0   \n20        40426.0      472622.0       189795.0      678498.0   \n21        52425.0      536029.0       230299.0      777050.0   \n22        90655.0      968910.0       419351.0     1398802.0   \n23        53813.0      500938.0       224426.0      731758.0   \n24        26328.0      321614.0       129554.0      451986.0   \n25        50534.0      531337.0       235437.0      785722.0   \n26        10019.0      102124.0        44449.0      147127.0   \n27        18999.0      177432.0        79975.0      260541.0   \n28        12242.0      145687.0        57605.0      204330.0   \n29        10752.0      123475.0        47999.0      172479.0   \n...           ...           ...            ...           ...   \n1462          NaN           NaN            NaN           NaN   \n1463          NaN           NaN            NaN           NaN   \n1464          NaN           NaN            NaN           NaN   \n1465          NaN           NaN            NaN           NaN   \n1466          NaN           NaN            NaN           NaN   \n1467          NaN           NaN            NaN           NaN   \n1468          NaN           NaN            NaN           NaN   \n1469          NaN           NaN            NaN           NaN   \n1470          NaN           NaN            NaN           NaN   \n1471          NaN           NaN            NaN           NaN   \n1472          NaN           NaN            NaN           NaN   \n1473          NaN           NaN            NaN           NaN   \n1474          NaN           NaN            NaN           NaN   \n1475          NaN           NaN            NaN           NaN   \n1476          NaN           NaN            NaN           NaN   \n1477          NaN           NaN            NaN           NaN   \n1478          NaN           NaN            NaN           NaN   \n1479          NaN           NaN            NaN           NaN   \n1480          NaN           NaN            NaN           NaN   \n1481          NaN           NaN            NaN           NaN   \n1482          NaN           NaN            NaN           NaN   \n1483          NaN           NaN            NaN           NaN   \n1484          NaN           NaN            NaN           NaN   \n1485          NaN           NaN            NaN           NaN   \n1486          NaN           NaN            NaN           NaN   \n1487          NaN           NaN            NaN           NaN   \n1488          NaN           NaN            NaN           NaN   \n1489          NaN           NaN            NaN           NaN   \n1490          NaN           NaN            NaN           NaN   \n1491          NaN           NaN            NaN           NaN   \n\n      AVG_MATH_4_SCORE  AVG_MATH_8_SCORE  AVG_READING_4_SCORE  \\\n0           208.327876        252.187522           207.963517   \n1                  NaN               NaN                  NaN   \n2           215.253932        265.366278           206.212716   \n3           210.206028        256.312090           208.634458   \n4           208.398961        260.892247           196.764414   \n5           221.023429        272.398433           213.480890   \n6           226.798480        273.739345           222.417599   \n7           217.899972        262.868585           206.389052   \n8           192.600553        234.924621           178.557612   \n9           213.689751        259.908848           204.882606   \n10          215.594906        259.359434           206.844175   \n11          214.056666        257.410887           200.880272   \n12          221.562534        275.090294                  NaN   \n13                 NaN               NaN                  NaN   \n14          221.037742        270.098944           219.763258   \n15          229.884078        283.360009           222.852939   \n16                 NaN               NaN                  NaN   \n17          215.048158        262.241282           211.562307   \n18          204.140211        249.983926           196.762268   \n19          231.638840        278.635384           228.380027   \n20          217.317708        264.825493           209.645497   \n21          226.597918        272.783201           223.160076   \n22          219.878352        267.353194                  NaN   \n23          228.493596        282.392205           218.301709   \n24          201.828261        246.458035           201.529328   \n25          222.215600        271.131545           216.898079   \n26                 NaN               NaN           222.301419   \n27          225.332648        277.654523           220.034963   \n28                 NaN               NaN                  NaN   \n29          229.664564        278.216326           223.466140   \n...                ...               ...                  ...   \n1462        243.107484        286.239418           221.747268   \n1463        241.212805        285.283508           223.268429   \n1464        239.178257        277.714162           224.080585   \n1465        228.971745        266.506760           211.600528   \n1466        239.898995        284.003007           221.388603   \n1467        240.601277        280.910246           225.049335   \n1468        249.102674        297.042225           235.699697   \n1469        235.555473        279.505455           217.753242   \n1470        248.804303        293.962376           224.538513   \n1471        234.694193        270.914908           215.203306   \n1472        239.502289        280.596022           222.681081   \n1473        240.721634        285.600437           222.326722   \n1474        245.590675        288.405955           224.096225   \n1475        231.685162        275.365456           214.841696   \n1476        245.319839        293.290654           228.900649   \n1477        247.855231        291.698552           232.943318   \n1478        229.704282        269.374084           207.704354   \n1479        235.548457        281.688000           221.884015   \n1480        240.951393        281.926028           223.930906   \n1481        244.243515        288.172322           221.519266   \n1482        240.928372        287.714266           225.261138   \n1483        236.692515        278.777735           218.952797   \n1484        240.943671        282.320510           214.878493   \n1485        242.480766        286.816559           225.159173   \n1486        240.893297        287.623388           226.445343   \n1487        248.041059        290.081407           227.598382   \n1488        241.701001        289.131257           223.123409   \n1489        236.057019        273.415854           217.316396   \n1490        240.389213        288.143144           219.612694   \n1491        247.820619        288.761812           226.831211   \n\n      AVG_READING_8_SCORE  \n0                     NaN  \n1              258.859712  \n2              262.169895  \n3              264.619665  \n4                     NaN  \n5              266.419687  \n6              264.713904  \n7              261.577921  \n8              265.976765  \n9              262.118986  \n10                    NaN  \n11                    NaN  \n12                    NaN  \n13                    NaN  \n14                    NaN  \n15                    NaN  \n16                    NaN  \n17                    NaN  \n18                    NaN  \n19                    NaN  \n20                    NaN  \n21                    NaN  \n22                    NaN  \n23                    NaN  \n24                    NaN  \n25                    NaN  \n26                    NaN  \n27                    NaN  \n28                    NaN  \n29                    NaN  \n...                   ...  \n1462           272.023876  \n1463           267.675679  \n1464           267.490028  \n1465           265.133438  \n1466           256.751471  \n1467           268.930632  \n1468           267.250533  \n1469           277.782589  \n1470           265.468928  \n1471           268.616822  \n1472           256.344701  \n1473           266.035007  \n1474           267.208219  \n1475           268.528555  \n1476           259.806407  \n1477           274.786040  \n1478           275.044552  \n1479           255.578543  \n1480           264.157584  \n1481           262.720477  \n1482           265.081922  \n1483           267.355727  \n1484           262.046853  \n1485           260.342577  \n1486           268.752420  \n1487           273.402640  \n1488           267.744778  \n1489           271.617023  \n1490           258.700304  \n1491           269.371456  \n\n[1492 rows x 25 columns]"
       },
       "execution_count": 4,
       "metadata": {},
       "output_type": "execute_result"
      }
     ],
     "persistentId": "1f9e9316-a90a-4a79-85eb-32e82e4a8e7e",
     "text": "education"
    },
    "executionTime": "2019-12-02T06:28:53.988Z"
   },
   {
    "cell": {
     "executionCount": 5,
     "executionEventId": "52d8f2ae-f369-486b-9823-694e7c083ede",
     "hasError": false,
     "id": "91b69dd3-fbec-4620-8f51-f65d5d397787",
     "outputs": [
      {
       "data": {
        "text/html": "<div>\n<style scoped>\n    .dataframe tbody tr th:only-of-type {\n        vertical-align: middle;\n    }\n\n    .dataframe tbody tr th {\n        vertical-align: top;\n    }\n\n    .dataframe thead th {\n        text-align: right;\n    }\n</style>\n<table border=\"1\" class=\"dataframe\">\n  <thead>\n    <tr style=\"text-align: right;\">\n      <th></th>\n      <th>PRIMARY_KEY</th>\n      <th>STATE</th>\n      <th>YEAR</th>\n      <th>ENROLL</th>\n      <th>TOTAL_REVENUE</th>\n      <th>FEDERAL_REVENUE</th>\n      <th>STATE_REVENUE</th>\n      <th>LOCAL_REVENUE</th>\n      <th>TOTAL_EXPENDITURE</th>\n      <th>INSTRUCTION_EXPENDITURE</th>\n      <th>...</th>\n      <th>GRADES_4_G</th>\n      <th>GRADES_8_G</th>\n      <th>GRADES_12_G</th>\n      <th>GRADES_1_8_G</th>\n      <th>GRADES_9_12_G</th>\n      <th>GRADES_ALL_G</th>\n      <th>AVG_MATH_4_SCORE</th>\n      <th>AVG_MATH_8_SCORE</th>\n      <th>AVG_READING_4_SCORE</th>\n      <th>AVG_READING_8_SCORE</th>\n    </tr>\n  </thead>\n  <tbody>\n    <tr>\n      <th>0</th>\n      <td>1992_ALABAMA</td>\n      <td>ALABAMA</td>\n      <td>1992</td>\n      <td>NaN</td>\n      <td>2678885.0</td>\n      <td>304177.0</td>\n      <td>1659028.0</td>\n      <td>715680.0</td>\n      <td>2653798.0</td>\n      <td>1481703.0</td>\n      <td>...</td>\n      <td>57948.0</td>\n      <td>58025.0</td>\n      <td>41167.0</td>\n      <td>471564.0</td>\n      <td>196386.0</td>\n      <td>676174.0</td>\n      <td>208.327876</td>\n      <td>252.187522</td>\n      <td>207.963517</td>\n      <td>NaN</td>\n    </tr>\n    <tr>\n      <th>1</th>\n      <td>1992_ALASKA</td>\n      <td>ALASKA</td>\n      <td>1992</td>\n      <td>NaN</td>\n      <td>1049591.0</td>\n      <td>106780.0</td>\n      <td>720711.0</td>\n      <td>222100.0</td>\n      <td>972488.0</td>\n      <td>498362.0</td>\n      <td>...</td>\n      <td>9748.0</td>\n      <td>8789.0</td>\n      <td>6714.0</td>\n      <td>79117.0</td>\n      <td>30847.0</td>\n      <td>112335.0</td>\n      <td>NaN</td>\n      <td>NaN</td>\n      <td>NaN</td>\n      <td>258.859712</td>\n    </tr>\n    <tr>\n      <th>2</th>\n      <td>1992_ARIZONA</td>\n      <td>ARIZONA</td>\n      <td>1992</td>\n      <td>NaN</td>\n      <td>3258079.0</td>\n      <td>297888.0</td>\n      <td>1369815.0</td>\n      <td>1590376.0</td>\n      <td>3401580.0</td>\n      <td>1435908.0</td>\n      <td>...</td>\n      <td>55433.0</td>\n      <td>49081.0</td>\n      <td>37410.0</td>\n      <td>437127.0</td>\n      <td>175210.0</td>\n      <td>614881.0</td>\n      <td>215.253932</td>\n      <td>265.366278</td>\n      <td>206.212716</td>\n      <td>262.169895</td>\n    </tr>\n    <tr>\n      <th>3</th>\n      <td>1992_ARKANSAS</td>\n      <td>ARKANSAS</td>\n      <td>1992</td>\n      <td>NaN</td>\n      <td>1711959.0</td>\n      <td>178571.0</td>\n      <td>958785.0</td>\n      <td>574603.0</td>\n      <td>1743022.0</td>\n      <td>964323.0</td>\n      <td>...</td>\n      <td>34632.0</td>\n      <td>36011.0</td>\n      <td>27651.0</td>\n      <td>281338.0</td>\n      <td>123113.0</td>\n      <td>405259.0</td>\n      <td>210.206028</td>\n      <td>256.312090</td>\n      <td>208.634458</td>\n      <td>264.619665</td>\n    </tr>\n    <tr>\n      <th>4</th>\n      <td>1992_CALIFORNIA</td>\n      <td>CALIFORNIA</td>\n      <td>1992</td>\n      <td>NaN</td>\n      <td>26260025.0</td>\n      <td>2072470.0</td>\n      <td>16546514.0</td>\n      <td>7641041.0</td>\n      <td>27138832.0</td>\n      <td>14358922.0</td>\n      <td>...</td>\n      <td>418418.0</td>\n      <td>363296.0</td>\n      <td>270675.0</td>\n      <td>3286034.0</td>\n      <td>1372011.0</td>\n      <td>4717112.0</td>\n      <td>208.398961</td>\n      <td>260.892247</td>\n      <td>196.764414</td>\n      <td>NaN</td>\n    </tr>\n  </tbody>\n</table>\n<p>5 rows × 25 columns</p>\n</div>",
        "text/plain": "       PRIMARY_KEY       STATE  YEAR  ENROLL  TOTAL_REVENUE  FEDERAL_REVENUE  \\\n0     1992_ALABAMA     ALABAMA  1992     NaN      2678885.0         304177.0   \n1      1992_ALASKA      ALASKA  1992     NaN      1049591.0         106780.0   \n2     1992_ARIZONA     ARIZONA  1992     NaN      3258079.0         297888.0   \n3    1992_ARKANSAS    ARKANSAS  1992     NaN      1711959.0         178571.0   \n4  1992_CALIFORNIA  CALIFORNIA  1992     NaN     26260025.0        2072470.0   \n\n   STATE_REVENUE  LOCAL_REVENUE  TOTAL_EXPENDITURE  INSTRUCTION_EXPENDITURE  \\\n0      1659028.0       715680.0          2653798.0                1481703.0   \n1       720711.0       222100.0           972488.0                 498362.0   \n2      1369815.0      1590376.0          3401580.0                1435908.0   \n3       958785.0       574603.0          1743022.0                 964323.0   \n4     16546514.0      7641041.0         27138832.0               14358922.0   \n\n   ...  GRADES_4_G  GRADES_8_G  GRADES_12_G  GRADES_1_8_G  GRADES_9_12_G  \\\n0  ...     57948.0     58025.0      41167.0      471564.0       196386.0   \n1  ...      9748.0      8789.0       6714.0       79117.0        30847.0   \n2  ...     55433.0     49081.0      37410.0      437127.0       175210.0   \n3  ...     34632.0     36011.0      27651.0      281338.0       123113.0   \n4  ...    418418.0    363296.0     270675.0     3286034.0      1372011.0   \n\n   GRADES_ALL_G  AVG_MATH_4_SCORE  AVG_MATH_8_SCORE  AVG_READING_4_SCORE  \\\n0      676174.0        208.327876        252.187522           207.963517   \n1      112335.0               NaN               NaN                  NaN   \n2      614881.0        215.253932        265.366278           206.212716   \n3      405259.0        210.206028        256.312090           208.634458   \n4     4717112.0        208.398961        260.892247           196.764414   \n\n   AVG_READING_8_SCORE  \n0                  NaN  \n1           258.859712  \n2           262.169895  \n3           264.619665  \n4                  NaN  \n\n[5 rows x 25 columns]"
       },
       "execution_count": 5,
       "metadata": {},
       "output_type": "execute_result"
      }
     ],
     "persistentId": "1f9e9316-a90a-4a79-85eb-32e82e4a8e7e",
     "text": "education.head(5)"
    },
    "executionTime": "2019-12-02T06:30:00.020Z"
   },
   {
    "cell": {
     "executionCount": 6,
     "executionEventId": "bf64e8bd-d88a-4e15-8b81-3026d293359f",
     "hasError": false,
     "id": "91b69dd3-fbec-4620-8f51-f65d5d397787",
     "outputs": [
      {
       "data": {
        "text/html": "<div>\n<style scoped>\n    .dataframe tbody tr th:only-of-type {\n        vertical-align: middle;\n    }\n\n    .dataframe tbody tr th {\n        vertical-align: top;\n    }\n\n    .dataframe thead th {\n        text-align: right;\n    }\n</style>\n<table border=\"1\" class=\"dataframe\">\n  <thead>\n    <tr style=\"text-align: right;\">\n      <th></th>\n      <th>PRIMARY_KEY</th>\n      <th>STATE</th>\n      <th>YEAR</th>\n      <th>ENROLL</th>\n      <th>TOTAL_REVENUE</th>\n      <th>FEDERAL_REVENUE</th>\n      <th>STATE_REVENUE</th>\n      <th>LOCAL_REVENUE</th>\n      <th>TOTAL_EXPENDITURE</th>\n      <th>INSTRUCTION_EXPENDITURE</th>\n      <th>...</th>\n      <th>GRADES_4_G</th>\n      <th>GRADES_8_G</th>\n      <th>GRADES_12_G</th>\n      <th>GRADES_1_8_G</th>\n      <th>GRADES_9_12_G</th>\n      <th>GRADES_ALL_G</th>\n      <th>AVG_MATH_4_SCORE</th>\n      <th>AVG_MATH_8_SCORE</th>\n      <th>AVG_READING_4_SCORE</th>\n      <th>AVG_READING_8_SCORE</th>\n    </tr>\n  </thead>\n  <tbody>\n    <tr>\n      <th>0</th>\n      <td>1992_ALABAMA</td>\n      <td>ALABAMA</td>\n      <td>1992</td>\n      <td>NaN</td>\n      <td>2678885.0</td>\n      <td>304177.0</td>\n      <td>1659028.0</td>\n      <td>715680.0</td>\n      <td>2653798.0</td>\n      <td>1481703.0</td>\n      <td>...</td>\n      <td>57948.0</td>\n      <td>58025.0</td>\n      <td>41167.0</td>\n      <td>471564.0</td>\n      <td>196386.0</td>\n      <td>676174.0</td>\n      <td>208.327876</td>\n      <td>252.187522</td>\n      <td>207.963517</td>\n      <td>NaN</td>\n    </tr>\n    <tr>\n      <th>1</th>\n      <td>1992_ALASKA</td>\n      <td>ALASKA</td>\n      <td>1992</td>\n      <td>NaN</td>\n      <td>1049591.0</td>\n      <td>106780.0</td>\n      <td>720711.0</td>\n      <td>222100.0</td>\n      <td>972488.0</td>\n      <td>498362.0</td>\n      <td>...</td>\n      <td>9748.0</td>\n      <td>8789.0</td>\n      <td>6714.0</td>\n      <td>79117.0</td>\n      <td>30847.0</td>\n      <td>112335.0</td>\n      <td>NaN</td>\n      <td>NaN</td>\n      <td>NaN</td>\n      <td>258.859712</td>\n    </tr>\n    <tr>\n      <th>2</th>\n      <td>1992_ARIZONA</td>\n      <td>ARIZONA</td>\n      <td>1992</td>\n      <td>NaN</td>\n      <td>3258079.0</td>\n      <td>297888.0</td>\n      <td>1369815.0</td>\n      <td>1590376.0</td>\n      <td>3401580.0</td>\n      <td>1435908.0</td>\n      <td>...</td>\n      <td>55433.0</td>\n      <td>49081.0</td>\n      <td>37410.0</td>\n      <td>437127.0</td>\n      <td>175210.0</td>\n      <td>614881.0</td>\n      <td>215.253932</td>\n      <td>265.366278</td>\n      <td>206.212716</td>\n      <td>262.169895</td>\n    </tr>\n    <tr>\n      <th>3</th>\n      <td>1992_ARKANSAS</td>\n      <td>ARKANSAS</td>\n      <td>1992</td>\n      <td>NaN</td>\n      <td>1711959.0</td>\n      <td>178571.0</td>\n      <td>958785.0</td>\n      <td>574603.0</td>\n      <td>1743022.0</td>\n      <td>964323.0</td>\n      <td>...</td>\n      <td>34632.0</td>\n      <td>36011.0</td>\n      <td>27651.0</td>\n      <td>281338.0</td>\n      <td>123113.0</td>\n      <td>405259.0</td>\n      <td>210.206028</td>\n      <td>256.312090</td>\n      <td>208.634458</td>\n      <td>264.619665</td>\n    </tr>\n    <tr>\n      <th>4</th>\n      <td>1992_CALIFORNIA</td>\n      <td>CALIFORNIA</td>\n      <td>1992</td>\n      <td>NaN</td>\n      <td>26260025.0</td>\n      <td>2072470.0</td>\n      <td>16546514.0</td>\n      <td>7641041.0</td>\n      <td>27138832.0</td>\n      <td>14358922.0</td>\n      <td>...</td>\n      <td>418418.0</td>\n      <td>363296.0</td>\n      <td>270675.0</td>\n      <td>3286034.0</td>\n      <td>1372011.0</td>\n      <td>4717112.0</td>\n      <td>208.398961</td>\n      <td>260.892247</td>\n      <td>196.764414</td>\n      <td>NaN</td>\n    </tr>\n  </tbody>\n</table>\n<p>5 rows × 25 columns</p>\n</div>",
        "text/plain": "       PRIMARY_KEY       STATE  YEAR  ENROLL  TOTAL_REVENUE  FEDERAL_REVENUE  \\\n0     1992_ALABAMA     ALABAMA  1992     NaN      2678885.0         304177.0   \n1      1992_ALASKA      ALASKA  1992     NaN      1049591.0         106780.0   \n2     1992_ARIZONA     ARIZONA  1992     NaN      3258079.0         297888.0   \n3    1992_ARKANSAS    ARKANSAS  1992     NaN      1711959.0         178571.0   \n4  1992_CALIFORNIA  CALIFORNIA  1992     NaN     26260025.0        2072470.0   \n\n   STATE_REVENUE  LOCAL_REVENUE  TOTAL_EXPENDITURE  INSTRUCTION_EXPENDITURE  \\\n0      1659028.0       715680.0          2653798.0                1481703.0   \n1       720711.0       222100.0           972488.0                 498362.0   \n2      1369815.0      1590376.0          3401580.0                1435908.0   \n3       958785.0       574603.0          1743022.0                 964323.0   \n4     16546514.0      7641041.0         27138832.0               14358922.0   \n\n   ...  GRADES_4_G  GRADES_8_G  GRADES_12_G  GRADES_1_8_G  GRADES_9_12_G  \\\n0  ...     57948.0     58025.0      41167.0      471564.0       196386.0   \n1  ...      9748.0      8789.0       6714.0       79117.0        30847.0   \n2  ...     55433.0     49081.0      37410.0      437127.0       175210.0   \n3  ...     34632.0     36011.0      27651.0      281338.0       123113.0   \n4  ...    418418.0    363296.0     270675.0     3286034.0      1372011.0   \n\n   GRADES_ALL_G  AVG_MATH_4_SCORE  AVG_MATH_8_SCORE  AVG_READING_4_SCORE  \\\n0      676174.0        208.327876        252.187522           207.963517   \n1      112335.0               NaN               NaN                  NaN   \n2      614881.0        215.253932        265.366278           206.212716   \n3      405259.0        210.206028        256.312090           208.634458   \n4     4717112.0        208.398961        260.892247           196.764414   \n\n   AVG_READING_8_SCORE  \n0                  NaN  \n1           258.859712  \n2           262.169895  \n3           264.619665  \n4                  NaN  \n\n[5 rows x 25 columns]"
       },
       "execution_count": 6,
       "metadata": {},
       "output_type": "execute_result"
      }
     ],
     "persistentId": "1f9e9316-a90a-4a79-85eb-32e82e4a8e7e",
     "text": "# Inspect first 5 rows\neducation.head()"
    },
    "executionTime": "2019-12-02T06:30:52.428Z"
   },
   {
    "cell": {
     "executionCount": 7,
     "executionEventId": "d01e46a3-cc0c-402e-8466-439ae0a813d2",
     "hasError": true,
     "id": "8dd92f1c-bd47-45d8-9f03-0821820f089c",
     "outputs": [
      {
       "ename": "SyntaxError",
       "evalue": "invalid syntax (<ipython-input-7-f401c83cc172>, line 1)",
       "output_type": "error",
       "traceback": [
        "\u001b[0;36m  File \u001b[0;32m\"<ipython-input-7-f401c83cc172>\"\u001b[0;36m, line \u001b[0;32m1\u001b[0m\n\u001b[0;31m    1. Determine all the variable types and find the fraction of the missing values for each variable.\u001b[0m\n\u001b[0m               ^\u001b[0m\n\u001b[0;31mSyntaxError\u001b[0m\u001b[0;31m:\u001b[0m invalid syntax\n"
       ]
      }
     ],
     "persistentId": "caa7d08e-a13e-4d5a-9e81-566eee838088",
     "text": "1. Determine all the variable types and find the fraction of the missing values for each variable."
    },
    "executionTime": "2019-12-02T06:31:31.970Z"
   },
   {
    "cell": {
     "executionCount": 8,
     "executionEventId": "49819061-d453-4c29-90f9-3dd8692a19fa",
     "hasError": false,
     "id": "bc297b0b-5517-47d8-98c9-0b2bb4841175",
     "outputs": [
      {
       "data": {
        "text/html": "<div>\n<style scoped>\n    .dataframe tbody tr th:only-of-type {\n        vertical-align: middle;\n    }\n\n    .dataframe tbody tr th {\n        vertical-align: top;\n    }\n\n    .dataframe thead th {\n        text-align: right;\n    }\n</style>\n<table border=\"1\" class=\"dataframe\">\n  <thead>\n    <tr style=\"text-align: right;\">\n      <th></th>\n      <th>YEAR</th>\n      <th>ENROLL</th>\n      <th>TOTAL_REVENUE</th>\n      <th>FEDERAL_REVENUE</th>\n      <th>STATE_REVENUE</th>\n      <th>LOCAL_REVENUE</th>\n      <th>TOTAL_EXPENDITURE</th>\n      <th>INSTRUCTION_EXPENDITURE</th>\n      <th>SUPPORT_SERVICES_EXPENDITURE</th>\n      <th>OTHER_EXPENDITURE</th>\n      <th>...</th>\n      <th>GRADES_4_G</th>\n      <th>GRADES_8_G</th>\n      <th>GRADES_12_G</th>\n      <th>GRADES_1_8_G</th>\n      <th>GRADES_9_12_G</th>\n      <th>GRADES_ALL_G</th>\n      <th>AVG_MATH_4_SCORE</th>\n      <th>AVG_MATH_8_SCORE</th>\n      <th>AVG_READING_4_SCORE</th>\n      <th>AVG_READING_8_SCORE</th>\n    </tr>\n  </thead>\n  <tbody>\n    <tr>\n      <th>count</th>\n      <td>1492.000000</td>\n      <td>1.229000e+03</td>\n      <td>1.280000e+03</td>\n      <td>1.280000e+03</td>\n      <td>1.280000e+03</td>\n      <td>1.280000e+03</td>\n      <td>1.280000e+03</td>\n      <td>1.280000e+03</td>\n      <td>1.280000e+03</td>\n      <td>1.229000e+03</td>\n      <td>...</td>\n      <td>1361.000000</td>\n      <td>1361.000000</td>\n      <td>1361.00000</td>\n      <td>1.361000e+03</td>\n      <td>1.361000e+03</td>\n      <td>1.319000e+03</td>\n      <td>536.000000</td>\n      <td>532.000000</td>\n      <td>533.000000</td>\n      <td>498.000000</td>\n    </tr>\n    <tr>\n      <th>mean</th>\n      <td>2004.433646</td>\n      <td>9.159308e+05</td>\n      <td>9.092082e+06</td>\n      <td>7.663723e+05</td>\n      <td>4.216553e+06</td>\n      <td>4.109157e+06</td>\n      <td>9.196681e+06</td>\n      <td>4.762966e+06</td>\n      <td>2.680331e+06</td>\n      <td>4.292046e+05</td>\n      <td>...</td>\n      <td>64538.927259</td>\n      <td>64271.057311</td>\n      <td>54268.92432</td>\n      <td>5.192140e+05</td>\n      <td>2.470714e+05</td>\n      <td>8.024415e+05</td>\n      <td>234.768293</td>\n      <td>278.414711</td>\n      <td>218.866154</td>\n      <td>263.661132</td>\n    </tr>\n    <tr>\n      <th>std</th>\n      <td>7.393983</td>\n      <td>1.065280e+06</td>\n      <td>1.174519e+07</td>\n      <td>1.145242e+06</td>\n      <td>5.543072e+06</td>\n      <td>5.482971e+06</td>\n      <td>1.197813e+07</td>\n      <td>6.293004e+06</td>\n      <td>3.353349e+06</td>\n      <td>5.340693e+05</td>\n      <td>...</td>\n      <td>80293.387625</td>\n      <td>78910.545776</td>\n      <td>67889.27623</td>\n      <td>6.436384e+05</td>\n      <td>3.077056e+05</td>\n      <td>9.707031e+05</td>\n      <td>10.221511</td>\n      <td>10.159722</td>\n      <td>7.769616</td>\n      <td>6.803725</td>\n    </tr>\n    <tr>\n      <th>min</th>\n      <td>1992.000000</td>\n      <td>4.386600e+04</td>\n      <td>4.656500e+05</td>\n      <td>3.102000e+04</td>\n      <td>0.000000e+00</td>\n      <td>2.209300e+04</td>\n      <td>4.816650e+05</td>\n      <td>2.655490e+05</td>\n      <td>1.399630e+05</td>\n      <td>1.154100e+04</td>\n      <td>...</td>\n      <td>633.000000</td>\n      <td>437.000000</td>\n      <td>311.00000</td>\n      <td>4.878000e+03</td>\n      <td>1.808000e+03</td>\n      <td>7.254000e+03</td>\n      <td>187.134670</td>\n      <td>232.831510</td>\n      <td>178.557612</td>\n      <td>236.379102</td>\n    </tr>\n    <tr>\n      <th>25%</th>\n      <td>1998.000000</td>\n      <td>2.583140e+05</td>\n      <td>2.186305e+06</td>\n      <td>1.893540e+05</td>\n      <td>1.153097e+06</td>\n      <td>7.158345e+05</td>\n      <td>2.165404e+06</td>\n      <td>1.168032e+06</td>\n      <td>6.357900e+05</td>\n      <td>1.028310e+05</td>\n      <td>...</td>\n      <td>13739.000000</td>\n      <td>13342.000000</td>\n      <td>10919.00000</td>\n      <td>1.106260e+05</td>\n      <td>5.147100e+04</td>\n      <td>1.810650e+05</td>\n      <td>229.694352</td>\n      <td>272.761598</td>\n      <td>214.663401</td>\n      <td>259.533171</td>\n    </tr>\n    <tr>\n      <th>50%</th>\n      <td>2004.000000</td>\n      <td>6.483130e+05</td>\n      <td>5.079546e+06</td>\n      <td>4.033765e+05</td>\n      <td>2.537074e+06</td>\n      <td>2.055780e+06</td>\n      <td>5.234506e+06</td>\n      <td>2.657452e+06</td>\n      <td>1.525406e+06</td>\n      <td>2.715960e+05</td>\n      <td>...</td>\n      <td>43272.000000</td>\n      <td>43339.000000</td>\n      <td>36735.00000</td>\n      <td>3.457750e+05</td>\n      <td>1.642600e+05</td>\n      <td>5.503420e+05</td>\n      <td>237.238552</td>\n      <td>280.618803</td>\n      <td>220.416034</td>\n      <td>265.010912</td>\n    </tr>\n    <tr>\n      <th>75%</th>\n      <td>2011.000000</td>\n      <td>1.014528e+06</td>\n      <td>1.085985e+07</td>\n      <td>8.289660e+05</td>\n      <td>5.080939e+06</td>\n      <td>4.768680e+06</td>\n      <td>1.074519e+07</td>\n      <td>5.568028e+06</td>\n      <td>3.229651e+06</td>\n      <td>5.186000e+05</td>\n      <td>...</td>\n      <td>75481.000000</td>\n      <td>76566.000000</td>\n      <td>67460.00000</td>\n      <td>6.119050e+05</td>\n      <td>2.905020e+05</td>\n      <td>9.282755e+05</td>\n      <td>241.995486</td>\n      <td>285.347428</td>\n      <td>223.999337</td>\n      <td>268.190121</td>\n    </tr>\n    <tr>\n      <th>max</th>\n      <td>2017.000000</td>\n      <td>6.307022e+06</td>\n      <td>8.921726e+07</td>\n      <td>9.990221e+06</td>\n      <td>5.090457e+07</td>\n      <td>3.610526e+07</td>\n      <td>8.532013e+07</td>\n      <td>4.396452e+07</td>\n      <td>2.605802e+07</td>\n      <td>3.995951e+06</td>\n      <td>...</td>\n      <td>493415.000000</td>\n      <td>500143.000000</td>\n      <td>498403.00000</td>\n      <td>3.929869e+06</td>\n      <td>2.013687e+06</td>\n      <td>5.944746e+06</td>\n      <td>253.420961</td>\n      <td>300.568235</td>\n      <td>236.773867</td>\n      <td>280.499130</td>\n    </tr>\n  </tbody>\n</table>\n<p>8 rows × 23 columns</p>\n</div>",
        "text/plain": "              YEAR        ENROLL  TOTAL_REVENUE  FEDERAL_REVENUE  \\\ncount  1492.000000  1.229000e+03   1.280000e+03     1.280000e+03   \nmean   2004.433646  9.159308e+05   9.092082e+06     7.663723e+05   \nstd       7.393983  1.065280e+06   1.174519e+07     1.145242e+06   \nmin    1992.000000  4.386600e+04   4.656500e+05     3.102000e+04   \n25%    1998.000000  2.583140e+05   2.186305e+06     1.893540e+05   \n50%    2004.000000  6.483130e+05   5.079546e+06     4.033765e+05   \n75%    2011.000000  1.014528e+06   1.085985e+07     8.289660e+05   \nmax    2017.000000  6.307022e+06   8.921726e+07     9.990221e+06   \n\n       STATE_REVENUE  LOCAL_REVENUE  TOTAL_EXPENDITURE  \\\ncount   1.280000e+03   1.280000e+03       1.280000e+03   \nmean    4.216553e+06   4.109157e+06       9.196681e+06   \nstd     5.543072e+06   5.482971e+06       1.197813e+07   \nmin     0.000000e+00   2.209300e+04       4.816650e+05   \n25%     1.153097e+06   7.158345e+05       2.165404e+06   \n50%     2.537074e+06   2.055780e+06       5.234506e+06   \n75%     5.080939e+06   4.768680e+06       1.074519e+07   \nmax     5.090457e+07   3.610526e+07       8.532013e+07   \n\n       INSTRUCTION_EXPENDITURE  SUPPORT_SERVICES_EXPENDITURE  \\\ncount             1.280000e+03                  1.280000e+03   \nmean              4.762966e+06                  2.680331e+06   \nstd               6.293004e+06                  3.353349e+06   \nmin               2.655490e+05                  1.399630e+05   \n25%               1.168032e+06                  6.357900e+05   \n50%               2.657452e+06                  1.525406e+06   \n75%               5.568028e+06                  3.229651e+06   \nmax               4.396452e+07                  2.605802e+07   \n\n       OTHER_EXPENDITURE  ...     GRADES_4_G     GRADES_8_G   GRADES_12_G  \\\ncount       1.229000e+03  ...    1361.000000    1361.000000    1361.00000   \nmean        4.292046e+05  ...   64538.927259   64271.057311   54268.92432   \nstd         5.340693e+05  ...   80293.387625   78910.545776   67889.27623   \nmin         1.154100e+04  ...     633.000000     437.000000     311.00000   \n25%         1.028310e+05  ...   13739.000000   13342.000000   10919.00000   \n50%         2.715960e+05  ...   43272.000000   43339.000000   36735.00000   \n75%         5.186000e+05  ...   75481.000000   76566.000000   67460.00000   \nmax         3.995951e+06  ...  493415.000000  500143.000000  498403.00000   \n\n       GRADES_1_8_G  GRADES_9_12_G  GRADES_ALL_G  AVG_MATH_4_SCORE  \\\ncount  1.361000e+03   1.361000e+03  1.319000e+03        536.000000   \nmean   5.192140e+05   2.470714e+05  8.024415e+05        234.768293   \nstd    6.436384e+05   3.077056e+05  9.707031e+05         10.221511   \nmin    4.878000e+03   1.808000e+03  7.254000e+03        187.134670   \n25%    1.106260e+05   5.147100e+04  1.810650e+05        229.694352   \n50%    3.457750e+05   1.642600e+05  5.503420e+05        237.238552   \n75%    6.119050e+05   2.905020e+05  9.282755e+05        241.995486   \nmax    3.929869e+06   2.013687e+06  5.944746e+06        253.420961   \n\n       AVG_MATH_8_SCORE  AVG_READING_4_SCORE  AVG_READING_8_SCORE  \ncount        532.000000           533.000000           498.000000  \nmean         278.414711           218.866154           263.661132  \nstd           10.159722             7.769616             6.803725  \nmin          232.831510           178.557612           236.379102  \n25%          272.761598           214.663401           259.533171  \n50%          280.618803           220.416034           265.010912  \n75%          285.347428           223.999337           268.190121  \nmax          300.568235           236.773867           280.499130  \n\n[8 rows x 23 columns]"
       },
       "execution_count": 8,
       "metadata": {},
       "output_type": "execute_result"
      }
     ],
     "persistentId": "590b5868-cf4d-4ddc-903e-0b9b085e6380",
     "text": "education.describe()"
    },
    "executionTime": "2019-12-02T06:32:39.214Z"
   },
   {
    "cell": {
     "executionCount": 9,
     "executionEventId": "6fa18b66-32e6-4282-8ca6-2fdc16ddadc6",
     "hasError": false,
     "id": "bc297b0b-5517-47d8-98c9-0b2bb4841175",
     "outputs": [
      {
       "name": "stdout",
       "output_type": "stream",
       "text": "<class 'pandas.core.frame.DataFrame'>\nRangeIndex: 1492 entries, 0 to 1491\nData columns (total 25 columns):\nPRIMARY_KEY                     1492 non-null object\nSTATE                           1492 non-null object\nYEAR                            1492 non-null int64\nENROLL                          1229 non-null float64\nTOTAL_REVENUE                   1280 non-null float64\nFEDERAL_REVENUE                 1280 non-null float64\nSTATE_REVENUE                   1280 non-null float64\nLOCAL_REVENUE                   1280 non-null float64\nTOTAL_EXPENDITURE               1280 non-null float64\nINSTRUCTION_EXPENDITURE         1280 non-null float64\nSUPPORT_SERVICES_EXPENDITURE    1280 non-null float64\nOTHER_EXPENDITURE               1229 non-null float64\nCAPITAL_OUTLAY_EXPENDITURE      1280 non-null float64\nGRADES_PK_G                     1319 non-null float64\nGRADES_KG_G                     1360 non-null float64\nGRADES_4_G                      1361 non-null float64\nGRADES_8_G                      1361 non-null float64\nGRADES_12_G                     1361 non-null float64\nGRADES_1_8_G                    1361 non-null float64\nGRADES_9_12_G                   1361 non-null float64\nGRADES_ALL_G                    1319 non-null float64\nAVG_MATH_4_SCORE                536 non-null float64\nAVG_MATH_8_SCORE                532 non-null float64\nAVG_READING_4_SCORE             533 non-null float64\nAVG_READING_8_SCORE             498 non-null float64\ndtypes: float64(22), int64(1), object(2)\nmemory usage: 291.5+ KB\n"
      }
     ],
     "persistentId": "590b5868-cf4d-4ddc-903e-0b9b085e6380",
     "text": "education.info()"
    },
    "executionTime": "2019-12-02T06:33:05.003Z"
   },
   {
    "cell": {
     "executionCount": 10,
     "executionEventId": "ff7ca5d3-ea4f-453e-9dc9-862c90ea3841",
     "hasError": false,
     "id": "bc297b0b-5517-47d8-98c9-0b2bb4841175",
     "outputs": [
      {
       "name": "stdout",
       "output_type": "stream",
       "text": "<class 'pandas.core.frame.DataFrame'>\nRangeIndex: 1492 entries, 0 to 1491\nData columns (total 25 columns):\nPRIMARY_KEY                     1492 non-null object\nSTATE                           1492 non-null object\nYEAR                            1492 non-null int64\nENROLL                          1229 non-null float64\nTOTAL_REVENUE                   1280 non-null float64\nFEDERAL_REVENUE                 1280 non-null float64\nSTATE_REVENUE                   1280 non-null float64\nLOCAL_REVENUE                   1280 non-null float64\nTOTAL_EXPENDITURE               1280 non-null float64\nINSTRUCTION_EXPENDITURE         1280 non-null float64\nSUPPORT_SERVICES_EXPENDITURE    1280 non-null float64\nOTHER_EXPENDITURE               1229 non-null float64\nCAPITAL_OUTLAY_EXPENDITURE      1280 non-null float64\nGRADES_PK_G                     1319 non-null float64\nGRADES_KG_G                     1360 non-null float64\nGRADES_4_G                      1361 non-null float64\nGRADES_8_G                      1361 non-null float64\nGRADES_12_G                     1361 non-null float64\nGRADES_1_8_G                    1361 non-null float64\nGRADES_9_12_G                   1361 non-null float64\nGRADES_ALL_G                    1319 non-null float64\nAVG_MATH_4_SCORE                536 non-null float64\nAVG_MATH_8_SCORE                532 non-null float64\nAVG_READING_4_SCORE             533 non-null float64\nAVG_READING_8_SCORE             498 non-null float64\ndtypes: float64(22), int64(1), object(2)\nmemory usage: 291.5+ KB\n"
      }
     ],
     "persistentId": "590b5868-cf4d-4ddc-903e-0b9b085e6380",
     "text": "education.info()"
    },
    "executionTime": "2019-12-02T06:34:23.420Z"
   },
   {
    "cell": {
     "executionCount": 11,
     "executionEventId": "b8974d94-c2da-42c9-8306-610068e59d5b",
     "hasError": true,
     "id": "c56f8c18-6f50-4a3a-aa4b-669df094f374",
     "outputs": [
      {
       "ename": "NameError",
       "evalue": "name 'youtube_df' is not defined",
       "output_type": "error",
       "traceback": [
        "\u001b[0;31m---------------------------------------------------------------------------\u001b[0m",
        "\u001b[0;31mNameError\u001b[0m                                 Traceback (most recent call last)",
        "\u001b[0;32m<ipython-input-11-17d468a0afba>\u001b[0m in \u001b[0;36m<module>\u001b[0;34m\u001b[0m\n\u001b[0;32m----> 1\u001b[0;31m \u001b[0myoutube_df\u001b[0m\u001b[0;34m.\u001b[0m\u001b[0misnull\u001b[0m\u001b[0;34m(\u001b[0m\u001b[0;34m)\u001b[0m\u001b[0;34m.\u001b[0m\u001b[0msum\u001b[0m\u001b[0;34m(\u001b[0m\u001b[0;34m)\u001b[0m\u001b[0;34m*\u001b[0m\u001b[0;36m100\u001b[0m\u001b[0;34m/\u001b[0m\u001b[0myoutube_df\u001b[0m\u001b[0;34m.\u001b[0m\u001b[0misnull\u001b[0m\u001b[0;34m(\u001b[0m\u001b[0;34m)\u001b[0m\u001b[0;34m.\u001b[0m\u001b[0mcount\u001b[0m\u001b[0;34m(\u001b[0m\u001b[0;34m)\u001b[0m\u001b[0;34m\u001b[0m\u001b[0;34m\u001b[0m\u001b[0m\n\u001b[0m",
        "\u001b[0;31mNameError\u001b[0m: name 'youtube_df' is not defined"
       ]
      }
     ],
     "persistentId": "f20f7efd-814a-4a1b-9060-a9fa8e5d6411",
     "text": "youtube_df.isnull().sum()*100/youtube_df.isnull().count()"
    },
    "executionTime": "2019-12-02T06:36:55.166Z"
   },
   {
    "cell": {
     "executionCount": 12,
     "executionEventId": "5671665e-b956-4182-956c-aef5b34e8fc0",
     "hasError": false,
     "id": "c56f8c18-6f50-4a3a-aa4b-669df094f374",
     "outputs": [
      {
       "data": {
        "text/plain": "PRIMARY_KEY                      0.000000\nSTATE                            0.000000\nYEAR                             0.000000\nENROLL                          17.627346\nTOTAL_REVENUE                   14.209115\nFEDERAL_REVENUE                 14.209115\nSTATE_REVENUE                   14.209115\nLOCAL_REVENUE                   14.209115\nTOTAL_EXPENDITURE               14.209115\nINSTRUCTION_EXPENDITURE         14.209115\nSUPPORT_SERVICES_EXPENDITURE    14.209115\nOTHER_EXPENDITURE               17.627346\nCAPITAL_OUTLAY_EXPENDITURE      14.209115\nGRADES_PK_G                     11.595174\nGRADES_KG_G                      8.847185\nGRADES_4_G                       8.780161\nGRADES_8_G                       8.780161\nGRADES_12_G                      8.780161\nGRADES_1_8_G                     8.780161\nGRADES_9_12_G                    8.780161\nGRADES_ALL_G                    11.595174\nAVG_MATH_4_SCORE                64.075067\nAVG_MATH_8_SCORE                64.343164\nAVG_READING_4_SCORE             64.276139\nAVG_READING_8_SCORE             66.621984\ndtype: float64"
       },
       "execution_count": 12,
       "metadata": {},
       "output_type": "execute_result"
      }
     ],
     "persistentId": "f20f7efd-814a-4a1b-9060-a9fa8e5d6411",
     "text": "education.isnull().sum()*100/education.isnull().count()"
    },
    "executionTime": "2019-12-02T06:37:04.709Z"
   },
   {
    "cell": {
     "executionCount": 13,
     "executionEventId": "167784f5-6cfa-4999-9ec2-0cc77e07e219",
     "hasError": false,
     "id": "b9e4b0cf-1970-43c1-9d6f-9933f051d301",
     "outputs": [
      {
       "data": {
        "text/plain": "PRIMARY_KEY                      0.000000\nSTATE                            0.000000\nYEAR                             0.000000\nENROLL                          17.627346\nTOTAL_REVENUE                   14.209115\nFEDERAL_REVENUE                 14.209115\nSTATE_REVENUE                   14.209115\nLOCAL_REVENUE                   14.209115\nTOTAL_EXPENDITURE               14.209115\nINSTRUCTION_EXPENDITURE         14.209115\nSUPPORT_SERVICES_EXPENDITURE    14.209115\nOTHER_EXPENDITURE               17.627346\nCAPITAL_OUTLAY_EXPENDITURE      14.209115\nGRADES_PK_G                     11.595174\nGRADES_KG_G                      8.847185\nGRADES_4_G                       8.780161\nGRADES_8_G                       8.780161\nGRADES_12_G                      8.780161\nGRADES_1_8_G                     8.780161\nGRADES_9_12_G                    8.780161\nGRADES_ALL_G                    11.595174\nAVG_MATH_4_SCORE                64.075067\nAVG_MATH_8_SCORE                64.343164\nAVG_READING_4_SCORE             64.276139\nAVG_READING_8_SCORE             66.621984\ndtype: float64"
       },
       "execution_count": 13,
       "metadata": {},
       "output_type": "execute_result"
      }
     ],
     "persistentId": "6bef69e4-541d-4ead-b0d0-8aa529eb4780",
     "text": "education.isnull().sum()*100/education.isnull().count()"
    },
    "executionTime": "2019-12-02T06:37:48.011Z"
   },
   {
    "cell": {
     "executionCount": 14,
     "executionEventId": "71d4bb8d-1550-483b-9710-7df11029b636",
     "hasError": false,
     "id": "b9e4b0cf-1970-43c1-9d6f-9933f051d301",
     "outputs": [
      {
       "data": {
        "text/plain": "PRIMARY_KEY                     0.000000\nSTATE                           0.000000\nYEAR                            0.000000\nENROLL                          0.176273\nTOTAL_REVENUE                   0.142091\nFEDERAL_REVENUE                 0.142091\nSTATE_REVENUE                   0.142091\nLOCAL_REVENUE                   0.142091\nTOTAL_EXPENDITURE               0.142091\nINSTRUCTION_EXPENDITURE         0.142091\nSUPPORT_SERVICES_EXPENDITURE    0.142091\nOTHER_EXPENDITURE               0.176273\nCAPITAL_OUTLAY_EXPENDITURE      0.142091\nGRADES_PK_G                     0.115952\nGRADES_KG_G                     0.088472\nGRADES_4_G                      0.087802\nGRADES_8_G                      0.087802\nGRADES_12_G                     0.087802\nGRADES_1_8_G                    0.087802\nGRADES_9_12_G                   0.087802\nGRADES_ALL_G                    0.115952\nAVG_MATH_4_SCORE                0.640751\nAVG_MATH_8_SCORE                0.643432\nAVG_READING_4_SCORE             0.642761\nAVG_READING_8_SCORE             0.666220\ndtype: float64"
       },
       "execution_count": 14,
       "metadata": {},
       "output_type": "execute_result"
      }
     ],
     "persistentId": "6bef69e4-541d-4ead-b0d0-8aa529eb4780",
     "text": "education.isnull().sum()/education.isnull().count()"
    },
    "executionTime": "2019-12-02T06:37:54.340Z"
   },
   {
    "cell": {
     "executionCount": 15,
     "executionEventId": "d907cbb3-822c-4fd6-bf17-680615bfd944",
     "hasError": false,
     "id": "3a1086de-cb9a-45a0-b8e6-9a4440b4c0c3",
     "outputs": [
      {
       "data": {
        "text/plain": "PRIMARY_KEY                       0\nSTATE                             0\nYEAR                              0\nENROLL                          263\nTOTAL_REVENUE                   212\nFEDERAL_REVENUE                 212\nSTATE_REVENUE                   212\nLOCAL_REVENUE                   212\nTOTAL_EXPENDITURE               212\nINSTRUCTION_EXPENDITURE         212\nSUPPORT_SERVICES_EXPENDITURE    212\nOTHER_EXPENDITURE               263\nCAPITAL_OUTLAY_EXPENDITURE      212\nGRADES_PK_G                     173\nGRADES_KG_G                     132\nGRADES_4_G                      131\nGRADES_8_G                      131\nGRADES_12_G                     131\nGRADES_1_8_G                    131\nGRADES_9_12_G                   131\nGRADES_ALL_G                    173\nAVG_MATH_4_SCORE                956\nAVG_MATH_8_SCORE                960\nAVG_READING_4_SCORE             959\nAVG_READING_8_SCORE             994\ndtype: int64"
       },
       "execution_count": 15,
       "metadata": {},
       "output_type": "execute_result"
      }
     ],
     "persistentId": "7eaad6d5-7b9e-4364-a480-7710d5015fb2",
     "text": "education.isnull().sum()"
    },
    "executionTime": "2019-12-02T06:38:17.862Z"
   },
   {
    "cell": {
     "executionCount": 16,
     "executionEventId": "5235808c-6a86-48d6-b520-21d3effda7a2",
     "hasError": false,
     "id": "3a1086de-cb9a-45a0-b8e6-9a4440b4c0c3",
     "outputs": [
      {
       "data": {
        "text/plain": "PRIMARY_KEY                     1492\nSTATE                           1492\nYEAR                            1492\nENROLL                          1492\nTOTAL_REVENUE                   1492\nFEDERAL_REVENUE                 1492\nSTATE_REVENUE                   1492\nLOCAL_REVENUE                   1492\nTOTAL_EXPENDITURE               1492\nINSTRUCTION_EXPENDITURE         1492\nSUPPORT_SERVICES_EXPENDITURE    1492\nOTHER_EXPENDITURE               1492\nCAPITAL_OUTLAY_EXPENDITURE      1492\nGRADES_PK_G                     1492\nGRADES_KG_G                     1492\nGRADES_4_G                      1492\nGRADES_8_G                      1492\nGRADES_12_G                     1492\nGRADES_1_8_G                    1492\nGRADES_9_12_G                   1492\nGRADES_ALL_G                    1492\nAVG_MATH_4_SCORE                1492\nAVG_MATH_8_SCORE                1492\nAVG_READING_4_SCORE             1492\nAVG_READING_8_SCORE             1492\ndtype: int64"
       },
       "execution_count": 16,
       "metadata": {},
       "output_type": "execute_result"
      }
     ],
     "persistentId": "7eaad6d5-7b9e-4364-a480-7710d5015fb2",
     "text": "education.isnull().count()"
    },
    "executionTime": "2019-12-02T06:38:57.516Z"
   },
   {
    "cell": {
     "executionCount": 17,
     "executionEventId": "3e002461-fa27-4ba8-b283-d7f2c8ef3400",
     "hasError": false,
     "id": "3a1086de-cb9a-45a0-b8e6-9a4440b4c0c3",
     "outputs": [
      {
       "data": {
        "text/plain": "PRIMARY_KEY                     1492\nSTATE                           1492\nYEAR                            1492\nENROLL                          1229\nTOTAL_REVENUE                   1280\nFEDERAL_REVENUE                 1280\nSTATE_REVENUE                   1280\nLOCAL_REVENUE                   1280\nTOTAL_EXPENDITURE               1280\nINSTRUCTION_EXPENDITURE         1280\nSUPPORT_SERVICES_EXPENDITURE    1280\nOTHER_EXPENDITURE               1229\nCAPITAL_OUTLAY_EXPENDITURE      1280\nGRADES_PK_G                     1319\nGRADES_KG_G                     1360\nGRADES_4_G                      1361\nGRADES_8_G                      1361\nGRADES_12_G                     1361\nGRADES_1_8_G                    1361\nGRADES_9_12_G                   1361\nGRADES_ALL_G                    1319\nAVG_MATH_4_SCORE                 536\nAVG_MATH_8_SCORE                 532\nAVG_READING_4_SCORE              533\nAVG_READING_8_SCORE              498\ndtype: int64"
       },
       "execution_count": 17,
       "metadata": {},
       "output_type": "execute_result"
      }
     ],
     "persistentId": "7eaad6d5-7b9e-4364-a480-7710d5015fb2",
     "text": "education.count()"
    },
    "executionTime": "2019-12-02T06:39:06.534Z"
   },
   {
    "cell": {
     "executionCount": 18,
     "executionEventId": "172193b8-9238-4bb4-83f5-4e64e282c14a",
     "hasError": false,
     "id": "b9e4b0cf-1970-43c1-9d6f-9933f051d301",
     "outputs": [
      {
       "data": {
        "text/plain": "PRIMARY_KEY                     0.000000\nSTATE                           0.000000\nYEAR                            0.000000\nENROLL                          0.213995\nTOTAL_REVENUE                   0.165625\nFEDERAL_REVENUE                 0.165625\nSTATE_REVENUE                   0.165625\nLOCAL_REVENUE                   0.165625\nTOTAL_EXPENDITURE               0.165625\nINSTRUCTION_EXPENDITURE         0.165625\nSUPPORT_SERVICES_EXPENDITURE    0.165625\nOTHER_EXPENDITURE               0.213995\nCAPITAL_OUTLAY_EXPENDITURE      0.165625\nGRADES_PK_G                     0.131160\nGRADES_KG_G                     0.097059\nGRADES_4_G                      0.096253\nGRADES_8_G                      0.096253\nGRADES_12_G                     0.096253\nGRADES_1_8_G                    0.096253\nGRADES_9_12_G                   0.096253\nGRADES_ALL_G                    0.131160\nAVG_MATH_4_SCORE                1.783582\nAVG_MATH_8_SCORE                1.804511\nAVG_READING_4_SCORE             1.799250\nAVG_READING_8_SCORE             1.995984\ndtype: float64"
       },
       "execution_count": 18,
       "metadata": {},
       "output_type": "execute_result"
      }
     ],
     "persistentId": "6bef69e4-541d-4ead-b0d0-8aa529eb4780",
     "text": "education.isnull().sum()/education.count()"
    },
    "executionTime": "2019-12-02T06:39:12.366Z"
   },
   {
    "cell": {
     "executionCount": 19,
     "executionEventId": "646c951d-02a2-4592-abbc-f91556f25c53",
     "hasError": true,
     "id": "3a1086de-cb9a-45a0-b8e6-9a4440b4c0c3",
     "outputs": [
      {
       "ename": "AttributeError",
       "evalue": "'function' object has no attribute 'count'",
       "output_type": "error",
       "traceback": [
        "\u001b[0;31m---------------------------------------------------------------------------\u001b[0m",
        "\u001b[0;31mAttributeError\u001b[0m                            Traceback (most recent call last)",
        "\u001b[0;32m<ipython-input-19-3f01fe439217>\u001b[0m in \u001b[0;36m<module>\u001b[0;34m\u001b[0m\n\u001b[0;32m----> 1\u001b[0;31m \u001b[0meducation\u001b[0m\u001b[0;34m.\u001b[0m\u001b[0misnull\u001b[0m\u001b[0;34m(\u001b[0m\u001b[0;34m)\u001b[0m\u001b[0;34m.\u001b[0m\u001b[0msum\u001b[0m\u001b[0;34m(\u001b[0m\u001b[0;34m)\u001b[0m\u001b[0;34m/\u001b[0m\u001b[0meducation\u001b[0m\u001b[0;34m.\u001b[0m\u001b[0misnull\u001b[0m\u001b[0;34m.\u001b[0m\u001b[0mcount\u001b[0m\u001b[0;34m(\u001b[0m\u001b[0;34m)\u001b[0m\u001b[0;34m\u001b[0m\u001b[0;34m\u001b[0m\u001b[0m\n\u001b[0m",
        "\u001b[0;31mAttributeError\u001b[0m: 'function' object has no attribute 'count'"
       ]
      }
     ],
     "persistentId": "7eaad6d5-7b9e-4364-a480-7710d5015fb2",
     "text": "education.isnull().sum()/education.isnull.count()"
    },
    "executionTime": "2019-12-02T06:39:21.141Z"
   },
   {
    "cell": {
     "executionCount": 20,
     "executionEventId": "b407697d-af0b-4d90-8b80-4fe8ce0d9744",
     "hasError": true,
     "id": "3a1086de-cb9a-45a0-b8e6-9a4440b4c0c3",
     "outputs": [
      {
       "ename": "NameError",
       "evalue": "name 'youtube_df' is not defined",
       "output_type": "error",
       "traceback": [
        "\u001b[0;31m---------------------------------------------------------------------------\u001b[0m",
        "\u001b[0;31mNameError\u001b[0m                                 Traceback (most recent call last)",
        "\u001b[0;32m<ipython-input-20-17d468a0afba>\u001b[0m in \u001b[0;36m<module>\u001b[0;34m\u001b[0m\n\u001b[0;32m----> 1\u001b[0;31m \u001b[0myoutube_df\u001b[0m\u001b[0;34m.\u001b[0m\u001b[0misnull\u001b[0m\u001b[0;34m(\u001b[0m\u001b[0;34m)\u001b[0m\u001b[0;34m.\u001b[0m\u001b[0msum\u001b[0m\u001b[0;34m(\u001b[0m\u001b[0;34m)\u001b[0m\u001b[0;34m*\u001b[0m\u001b[0;36m100\u001b[0m\u001b[0;34m/\u001b[0m\u001b[0myoutube_df\u001b[0m\u001b[0;34m.\u001b[0m\u001b[0misnull\u001b[0m\u001b[0;34m(\u001b[0m\u001b[0;34m)\u001b[0m\u001b[0;34m.\u001b[0m\u001b[0mcount\u001b[0m\u001b[0;34m(\u001b[0m\u001b[0;34m)\u001b[0m\u001b[0;34m\u001b[0m\u001b[0;34m\u001b[0m\u001b[0m\n\u001b[0m",
        "\u001b[0;31mNameError\u001b[0m: name 'youtube_df' is not defined"
       ]
      }
     ],
     "persistentId": "7eaad6d5-7b9e-4364-a480-7710d5015fb2",
     "text": "youtube_df.isnull().sum()*100/youtube_df.isnull().count()"
    },
    "executionTime": "2019-12-02T06:39:26.883Z"
   },
   {
    "cell": {
     "executionCount": 21,
     "executionEventId": "c333c447-d914-432c-b16f-610b31d70e92",
     "hasError": false,
     "id": "3a1086de-cb9a-45a0-b8e6-9a4440b4c0c3",
     "outputs": [
      {
       "data": {
        "text/plain": "PRIMARY_KEY                     0.000000\nSTATE                           0.000000\nYEAR                            0.000000\nENROLL                          0.176273\nTOTAL_REVENUE                   0.142091\nFEDERAL_REVENUE                 0.142091\nSTATE_REVENUE                   0.142091\nLOCAL_REVENUE                   0.142091\nTOTAL_EXPENDITURE               0.142091\nINSTRUCTION_EXPENDITURE         0.142091\nSUPPORT_SERVICES_EXPENDITURE    0.142091\nOTHER_EXPENDITURE               0.176273\nCAPITAL_OUTLAY_EXPENDITURE      0.142091\nGRADES_PK_G                     0.115952\nGRADES_KG_G                     0.088472\nGRADES_4_G                      0.087802\nGRADES_8_G                      0.087802\nGRADES_12_G                     0.087802\nGRADES_1_8_G                    0.087802\nGRADES_9_12_G                   0.087802\nGRADES_ALL_G                    0.115952\nAVG_MATH_4_SCORE                0.640751\nAVG_MATH_8_SCORE                0.643432\nAVG_READING_4_SCORE             0.642761\nAVG_READING_8_SCORE             0.666220\ndtype: float64"
       },
       "execution_count": 21,
       "metadata": {},
       "output_type": "execute_result"
      }
     ],
     "persistentId": "7eaad6d5-7b9e-4364-a480-7710d5015fb2",
     "text": "education.isnull().sum()/education.isnull().count()"
    },
    "executionTime": "2019-12-02T06:39:37.131Z"
   },
   {
    "cell": {
     "executionCount": 22,
     "executionEventId": "f7467630-112a-42ef-99da-eed3c157dd1d",
     "hasError": false,
     "id": "a22d8723-52ee-4cab-a665-51fe9bb57fbd",
     "outputs": [
      {
       "data": {
        "text/plain": "0      NaN\n1      NaN\n2      NaN\n3      NaN\n4      NaN\n5      NaN\n6      NaN\n7      NaN\n8      NaN\n9      NaN\n10     NaN\n11     NaN\n12     NaN\n13     NaN\n14     NaN\n15     NaN\n16     NaN\n17     NaN\n18     NaN\n19     NaN\n20     NaN\n21     NaN\n22     NaN\n23     NaN\n24     NaN\n25     NaN\n26     NaN\n27     NaN\n28     NaN\n29     NaN\n        ..\n1462   NaN\n1463   NaN\n1464   NaN\n1465   NaN\n1466   NaN\n1467   NaN\n1468   NaN\n1469   NaN\n1470   NaN\n1471   NaN\n1472   NaN\n1473   NaN\n1474   NaN\n1475   NaN\n1476   NaN\n1477   NaN\n1478   NaN\n1479   NaN\n1480   NaN\n1481   NaN\n1482   NaN\n1483   NaN\n1484   NaN\n1485   NaN\n1486   NaN\n1487   NaN\n1488   NaN\n1489   NaN\n1490   NaN\n1491   NaN\nName: ENROLL, Length: 1492, dtype: float64"
       },
       "execution_count": 22,
       "metadata": {},
       "output_type": "execute_result"
      }
     ],
     "persistentId": "726f6e9e-bb46-49a4-9de1-1218ada61c6c",
     "text": "education['ENROLL']"
    },
    "executionTime": "2019-12-02T06:42:12.112Z"
   },
   {
    "cell": {
     "executionCount": 23,
     "executionEventId": "f13d2367-fc49-4c0b-8f9a-72d7f91b7279",
     "hasError": false,
     "id": "a22d8723-52ee-4cab-a665-51fe9bb57fbd",
     "outputs": [
      {
       "data": {
        "text/plain": "1230857.0    3\n44331.0      2\n43866.0      2\n58191.0      2\n178709.0     1\n483482.0     1\n2030717.0    1\n77111.0      1\n141529.0     1\n532433.0     1\n130296.0     1\n1510716.0    1\n85966.0      1\n735912.0     1\n549570.0     1\n825674.0     1\n146609.0     1\n943937.0     1\n1143807.0    1\n87897.0      1\n329045.0     1\n899750.0     1\n196648.0     1\n727716.0     1\n319524.0     1\n643730.0     1\n699027.0     1\n188069.0     1\n1004215.0    1\n971414.0     1\n            ..\n1600222.0    1\n97454.0      1\n1897161.0    1\n1023220.0    1\n326761.0     1\n491194.0     1\n2754976.0    1\n297659.0     1\n87750.0      1\n135494.0     1\n1465031.0    1\n145240.0     1\n992583.0     1\n726367.0     1\n438948.0     1\n722249.0     1\n492198.0     1\n201044.0     1\n469824.0     1\n67522.0      1\n2856277.0    1\n921029.0     1\n5941946.0    1\n96427.0      1\n978084.0     1\n296621.0     1\n802454.0     1\n1350330.0    1\n267951.0     1\n1421312.0    1\nName: ENROLL, Length: 1224, dtype: int64"
       },
       "execution_count": 23,
       "metadata": {},
       "output_type": "execute_result"
      }
     ],
     "persistentId": "726f6e9e-bb46-49a4-9de1-1218ada61c6c",
     "text": "education['ENROLL'].value_counts(\n)"
    },
    "executionTime": "2019-12-02T06:42:24.069Z"
   },
   {
    "cell": {
     "executionCount": 24,
     "executionEventId": "fb57debd-fa1d-4da8-92f0-d8fe60b2021c",
     "hasError": false,
     "id": "a22d8723-52ee-4cab-a665-51fe9bb57fbd",
     "outputs": [
      {
       "data": {
        "text/plain": "1230857.0    3\n44331.0      2\n43866.0      2\n58191.0      2\n178709.0     1\n483482.0     1\n2030717.0    1\n77111.0      1\n141529.0     1\n532433.0     1\n130296.0     1\n1510716.0    1\n85966.0      1\n735912.0     1\n549570.0     1\n825674.0     1\n146609.0     1\n943937.0     1\n1143807.0    1\n87897.0      1\n329045.0     1\n899750.0     1\n196648.0     1\n727716.0     1\n319524.0     1\n643730.0     1\n699027.0     1\n188069.0     1\n1004215.0    1\n971414.0     1\n            ..\n1600222.0    1\n97454.0      1\n1897161.0    1\n1023220.0    1\n326761.0     1\n491194.0     1\n2754976.0    1\n297659.0     1\n87750.0      1\n135494.0     1\n1465031.0    1\n145240.0     1\n992583.0     1\n726367.0     1\n438948.0     1\n722249.0     1\n492198.0     1\n201044.0     1\n469824.0     1\n67522.0      1\n2856277.0    1\n921029.0     1\n5941946.0    1\n96427.0      1\n978084.0     1\n296621.0     1\n802454.0     1\n1350330.0    1\n267951.0     1\n1421312.0    1\nName: ENROLL, Length: 1224, dtype: int64"
       },
       "execution_count": 24,
       "metadata": {},
       "output_type": "execute_result"
      }
     ],
     "persistentId": "726f6e9e-bb46-49a4-9de1-1218ada61c6c",
     "text": "education['ENROLL'].value_counts()"
    },
    "executionTime": "2019-12-02T06:42:27.718Z"
   },
   {
    "cell": {
     "executionCount": 25,
     "executionEventId": "90a6992a-fdb1-4d85-b06d-8ddb3ca18364",
     "hasError": false,
     "id": "893ea86f-5f5e-4d3a-ad9e-bd8ad3754a3d",
     "outputs": [],
     "persistentId": "f2745559-38d3-4f48-bffa-4f9273289b44",
     "text": "def impute(col):\n    education['col'].fillna(education['col'].median(), inplace=True)"
    },
    "executionTime": "2019-12-02T06:52:41.955Z"
   },
   {
    "cell": {
     "executionCount": 26,
     "executionEventId": "c261b74b-5712-452f-a702-00081aea6c64",
     "hasError": false,
     "id": "6ab1ec99-5490-42a0-bc10-f484dac2ddb3",
     "outputs": [
      {
       "data": {
        "text/plain": "Index(['PRIMARY_KEY', 'STATE', 'YEAR', 'ENROLL', 'TOTAL_REVENUE',\n       'FEDERAL_REVENUE', 'STATE_REVENUE', 'LOCAL_REVENUE',\n       'TOTAL_EXPENDITURE', 'INSTRUCTION_EXPENDITURE',\n       'SUPPORT_SERVICES_EXPENDITURE', 'OTHER_EXPENDITURE',\n       'CAPITAL_OUTLAY_EXPENDITURE', 'GRADES_PK_G', 'GRADES_KG_G',\n       'GRADES_4_G', 'GRADES_8_G', 'GRADES_12_G', 'GRADES_1_8_G',\n       'GRADES_9_12_G', 'GRADES_ALL_G', 'AVG_MATH_4_SCORE', 'AVG_MATH_8_SCORE',\n       'AVG_READING_4_SCORE', 'AVG_READING_8_SCORE'],\n      dtype='object')"
       },
       "execution_count": 26,
       "metadata": {},
       "output_type": "execute_result"
      }
     ],
     "persistentId": "99ad400c-7f0c-4bad-b640-36d7343deec2",
     "text": "education.columns"
    },
    "executionTime": "2019-12-02T06:53:00.985Z"
   },
   {
    "cell": {
     "executionCount": 27,
     "executionEventId": "e6c57621-ff41-4e7d-85e2-1f410e59b8c6",
     "hasError": false,
     "id": "6ab1ec99-5490-42a0-bc10-f484dac2ddb3",
     "outputs": [
      {
       "data": {
        "text/plain": "Index(['ENROLL', 'TOTAL_REVENUE', 'FEDERAL_REVENUE', 'STATE_REVENUE',\n       'LOCAL_REVENUE', 'TOTAL_EXPENDITURE', 'INSTRUCTION_EXPENDITURE',\n       'SUPPORT_SERVICES_EXPENDITURE', 'OTHER_EXPENDITURE',\n       'CAPITAL_OUTLAY_EXPENDITURE', 'GRADES_PK_G', 'GRADES_KG_G',\n       'GRADES_4_G', 'GRADES_8_G', 'GRADES_12_G', 'GRADES_1_8_G',\n       'GRADES_9_12_G', 'GRADES_ALL_G', 'AVG_MATH_4_SCORE', 'AVG_MATH_8_SCORE',\n       'AVG_READING_4_SCORE', 'AVG_READING_8_SCORE'],\n      dtype='object')"
       },
       "execution_count": 27,
       "metadata": {},
       "output_type": "execute_result"
      }
     ],
     "persistentId": "99ad400c-7f0c-4bad-b640-36d7343deec2",
     "text": "education.columns[3:]"
    },
    "executionTime": "2019-12-02T06:53:09.350Z"
   },
   {
    "cell": {
     "executionCount": 28,
     "executionEventId": "e5267d23-ef35-4631-a170-daa5d289d89b",
     "hasError": false,
     "id": "6ab1ec99-5490-42a0-bc10-f484dac2ddb3",
     "outputs": [
      {
       "data": {
        "text/plain": "Index(['TOTAL_REVENUE', 'FEDERAL_REVENUE', 'STATE_REVENUE', 'LOCAL_REVENUE',\n       'TOTAL_EXPENDITURE', 'INSTRUCTION_EXPENDITURE',\n       'SUPPORT_SERVICES_EXPENDITURE', 'OTHER_EXPENDITURE',\n       'CAPITAL_OUTLAY_EXPENDITURE', 'GRADES_PK_G', 'GRADES_KG_G',\n       'GRADES_4_G', 'GRADES_8_G', 'GRADES_12_G', 'GRADES_1_8_G',\n       'GRADES_9_12_G', 'GRADES_ALL_G', 'AVG_MATH_4_SCORE', 'AVG_MATH_8_SCORE',\n       'AVG_READING_4_SCORE', 'AVG_READING_8_SCORE'],\n      dtype='object')"
       },
       "execution_count": 28,
       "metadata": {},
       "output_type": "execute_result"
      }
     ],
     "persistentId": "99ad400c-7f0c-4bad-b640-36d7343deec2",
     "text": "education.columns[4:]"
    },
    "executionTime": "2019-12-02T06:53:12.247Z"
   },
   {
    "cell": {
     "executionCount": 29,
     "executionEventId": "cdd456de-1f02-4848-bf0d-052ecbcc07e0",
     "hasError": false,
     "id": "6ab1ec99-5490-42a0-bc10-f484dac2ddb3",
     "outputs": [
      {
       "data": {
        "text/plain": "Index(['TOTAL_REVENUE', 'FEDERAL_REVENUE', 'STATE_REVENUE', 'LOCAL_REVENUE',\n       'TOTAL_EXPENDITURE', 'INSTRUCTION_EXPENDITURE',\n       'SUPPORT_SERVICES_EXPENDITURE', 'OTHER_EXPENDITURE',\n       'CAPITAL_OUTLAY_EXPENDITURE', 'GRADES_PK_G', 'GRADES_KG_G',\n       'GRADES_4_G', 'GRADES_8_G', 'GRADES_12_G', 'GRADES_1_8_G',\n       'GRADES_9_12_G', 'GRADES_ALL_G'],\n      dtype='object')"
       },
       "execution_count": 29,
       "metadata": {},
       "output_type": "execute_result"
      }
     ],
     "persistentId": "99ad400c-7f0c-4bad-b640-36d7343deec2",
     "text": "education.columns[4:-4]"
    },
    "executionTime": "2019-12-02T06:53:24.156Z"
   },
   {
    "cell": {
     "executionCount": 30,
     "executionEventId": "1f768f09-7c9a-483e-9f9f-ba8ed51ce7f7",
     "hasError": true,
     "id": "893ea86f-5f5e-4d3a-ad9e-bd8ad3754a3d",
     "outputs": [
      {
       "ename": "KeyError",
       "evalue": "'column'",
       "output_type": "error",
       "traceback": [
        "\u001b[0;31m---------------------------------------------------------------------------\u001b[0m",
        "\u001b[0;31mKeyError\u001b[0m                                  Traceback (most recent call last)",
        "\u001b[0;32m~/anaconda3/lib/python3.7/site-packages/pandas/core/indexes/base.py\u001b[0m in \u001b[0;36mget_loc\u001b[0;34m(self, key, method, tolerance)\u001b[0m\n\u001b[1;32m   2656\u001b[0m             \u001b[0;32mtry\u001b[0m\u001b[0;34m:\u001b[0m\u001b[0;34m\u001b[0m\u001b[0;34m\u001b[0m\u001b[0m\n\u001b[0;32m-> 2657\u001b[0;31m                 \u001b[0;32mreturn\u001b[0m \u001b[0mself\u001b[0m\u001b[0;34m.\u001b[0m\u001b[0m_engine\u001b[0m\u001b[0;34m.\u001b[0m\u001b[0mget_loc\u001b[0m\u001b[0;34m(\u001b[0m\u001b[0mkey\u001b[0m\u001b[0;34m)\u001b[0m\u001b[0;34m\u001b[0m\u001b[0;34m\u001b[0m\u001b[0m\n\u001b[0m\u001b[1;32m   2658\u001b[0m             \u001b[0;32mexcept\u001b[0m \u001b[0mKeyError\u001b[0m\u001b[0;34m:\u001b[0m\u001b[0;34m\u001b[0m\u001b[0;34m\u001b[0m\u001b[0m\n",
        "\u001b[0;32mpandas/_libs/index.pyx\u001b[0m in \u001b[0;36mpandas._libs.index.IndexEngine.get_loc\u001b[0;34m()\u001b[0m\n",
        "\u001b[0;32mpandas/_libs/index.pyx\u001b[0m in \u001b[0;36mpandas._libs.index.IndexEngine.get_loc\u001b[0;34m()\u001b[0m\n",
        "\u001b[0;32mpandas/_libs/hashtable_class_helper.pxi\u001b[0m in \u001b[0;36mpandas._libs.hashtable.PyObjectHashTable.get_item\u001b[0;34m()\u001b[0m\n",
        "\u001b[0;32mpandas/_libs/hashtable_class_helper.pxi\u001b[0m in \u001b[0;36mpandas._libs.hashtable.PyObjectHashTable.get_item\u001b[0;34m()\u001b[0m\n",
        "\u001b[0;31mKeyError\u001b[0m: 'column'",
        "\nDuring handling of the above exception, another exception occurred:\n",
        "\u001b[0;31mKeyError\u001b[0m                                  Traceback (most recent call last)",
        "\u001b[0;32m<ipython-input-30-c1c256e2bb62>\u001b[0m in \u001b[0;36m<module>\u001b[0;34m\u001b[0m\n\u001b[1;32m      1\u001b[0m \u001b[0;32mfor\u001b[0m \u001b[0mcolumn\u001b[0m \u001b[0;32min\u001b[0m \u001b[0meducation\u001b[0m\u001b[0;34m.\u001b[0m\u001b[0mcolumns\u001b[0m\u001b[0;34m[\u001b[0m\u001b[0;36m4\u001b[0m\u001b[0;34m:\u001b[0m\u001b[0;34m-\u001b[0m\u001b[0;36m4\u001b[0m\u001b[0;34m]\u001b[0m\u001b[0;34m:\u001b[0m\u001b[0;34m\u001b[0m\u001b[0;34m\u001b[0m\u001b[0m\n\u001b[0;32m----> 2\u001b[0;31m     \u001b[0meducation\u001b[0m\u001b[0;34m[\u001b[0m\u001b[0;34m'column'\u001b[0m\u001b[0;34m]\u001b[0m\u001b[0;34m.\u001b[0m\u001b[0mfillna\u001b[0m\u001b[0;34m(\u001b[0m\u001b[0meducation\u001b[0m\u001b[0;34m[\u001b[0m\u001b[0;34m'column'\u001b[0m\u001b[0;34m]\u001b[0m\u001b[0;34m.\u001b[0m\u001b[0mmedian\u001b[0m\u001b[0;34m(\u001b[0m\u001b[0;34m)\u001b[0m\u001b[0;34m,\u001b[0m \u001b[0minplace\u001b[0m\u001b[0;34m=\u001b[0m\u001b[0;32mTrue\u001b[0m\u001b[0;34m)\u001b[0m\u001b[0;34m\u001b[0m\u001b[0;34m\u001b[0m\u001b[0m\n\u001b[0m",
        "\u001b[0;32m~/anaconda3/lib/python3.7/site-packages/pandas/core/frame.py\u001b[0m in \u001b[0;36m__getitem__\u001b[0;34m(self, key)\u001b[0m\n\u001b[1;32m   2925\u001b[0m             \u001b[0;32mif\u001b[0m \u001b[0mself\u001b[0m\u001b[0;34m.\u001b[0m\u001b[0mcolumns\u001b[0m\u001b[0;34m.\u001b[0m\u001b[0mnlevels\u001b[0m \u001b[0;34m>\u001b[0m \u001b[0;36m1\u001b[0m\u001b[0;34m:\u001b[0m\u001b[0;34m\u001b[0m\u001b[0;34m\u001b[0m\u001b[0m\n\u001b[1;32m   2926\u001b[0m                 \u001b[0;32mreturn\u001b[0m \u001b[0mself\u001b[0m\u001b[0;34m.\u001b[0m\u001b[0m_getitem_multilevel\u001b[0m\u001b[0;34m(\u001b[0m\u001b[0mkey\u001b[0m\u001b[0;34m)\u001b[0m\u001b[0;34m\u001b[0m\u001b[0;34m\u001b[0m\u001b[0m\n\u001b[0;32m-> 2927\u001b[0;31m             \u001b[0mindexer\u001b[0m \u001b[0;34m=\u001b[0m \u001b[0mself\u001b[0m\u001b[0;34m.\u001b[0m\u001b[0mcolumns\u001b[0m\u001b[0;34m.\u001b[0m\u001b[0mget_loc\u001b[0m\u001b[0;34m(\u001b[0m\u001b[0mkey\u001b[0m\u001b[0;34m)\u001b[0m\u001b[0;34m\u001b[0m\u001b[0;34m\u001b[0m\u001b[0m\n\u001b[0m\u001b[1;32m   2928\u001b[0m             \u001b[0;32mif\u001b[0m \u001b[0mis_integer\u001b[0m\u001b[0;34m(\u001b[0m\u001b[0mindexer\u001b[0m\u001b[0;34m)\u001b[0m\u001b[0;34m:\u001b[0m\u001b[0;34m\u001b[0m\u001b[0;34m\u001b[0m\u001b[0m\n\u001b[1;32m   2929\u001b[0m                 \u001b[0mindexer\u001b[0m \u001b[0;34m=\u001b[0m \u001b[0;34m[\u001b[0m\u001b[0mindexer\u001b[0m\u001b[0;34m]\u001b[0m\u001b[0;34m\u001b[0m\u001b[0;34m\u001b[0m\u001b[0m\n",
        "\u001b[0;32m~/anaconda3/lib/python3.7/site-packages/pandas/core/indexes/base.py\u001b[0m in \u001b[0;36mget_loc\u001b[0;34m(self, key, method, tolerance)\u001b[0m\n\u001b[1;32m   2657\u001b[0m                 \u001b[0;32mreturn\u001b[0m \u001b[0mself\u001b[0m\u001b[0;34m.\u001b[0m\u001b[0m_engine\u001b[0m\u001b[0;34m.\u001b[0m\u001b[0mget_loc\u001b[0m\u001b[0;34m(\u001b[0m\u001b[0mkey\u001b[0m\u001b[0;34m)\u001b[0m\u001b[0;34m\u001b[0m\u001b[0;34m\u001b[0m\u001b[0m\n\u001b[1;32m   2658\u001b[0m             \u001b[0;32mexcept\u001b[0m \u001b[0mKeyError\u001b[0m\u001b[0;34m:\u001b[0m\u001b[0;34m\u001b[0m\u001b[0;34m\u001b[0m\u001b[0m\n\u001b[0;32m-> 2659\u001b[0;31m                 \u001b[0;32mreturn\u001b[0m \u001b[0mself\u001b[0m\u001b[0;34m.\u001b[0m\u001b[0m_engine\u001b[0m\u001b[0;34m.\u001b[0m\u001b[0mget_loc\u001b[0m\u001b[0;34m(\u001b[0m\u001b[0mself\u001b[0m\u001b[0;34m.\u001b[0m\u001b[0m_maybe_cast_indexer\u001b[0m\u001b[0;34m(\u001b[0m\u001b[0mkey\u001b[0m\u001b[0;34m)\u001b[0m\u001b[0;34m)\u001b[0m\u001b[0;34m\u001b[0m\u001b[0;34m\u001b[0m\u001b[0m\n\u001b[0m\u001b[1;32m   2660\u001b[0m         \u001b[0mindexer\u001b[0m \u001b[0;34m=\u001b[0m \u001b[0mself\u001b[0m\u001b[0;34m.\u001b[0m\u001b[0mget_indexer\u001b[0m\u001b[0;34m(\u001b[0m\u001b[0;34m[\u001b[0m\u001b[0mkey\u001b[0m\u001b[0;34m]\u001b[0m\u001b[0;34m,\u001b[0m \u001b[0mmethod\u001b[0m\u001b[0;34m=\u001b[0m\u001b[0mmethod\u001b[0m\u001b[0;34m,\u001b[0m \u001b[0mtolerance\u001b[0m\u001b[0;34m=\u001b[0m\u001b[0mtolerance\u001b[0m\u001b[0;34m)\u001b[0m\u001b[0;34m\u001b[0m\u001b[0;34m\u001b[0m\u001b[0m\n\u001b[1;32m   2661\u001b[0m         \u001b[0;32mif\u001b[0m \u001b[0mindexer\u001b[0m\u001b[0;34m.\u001b[0m\u001b[0mndim\u001b[0m \u001b[0;34m>\u001b[0m \u001b[0;36m1\u001b[0m \u001b[0;32mor\u001b[0m \u001b[0mindexer\u001b[0m\u001b[0;34m.\u001b[0m\u001b[0msize\u001b[0m \u001b[0;34m>\u001b[0m \u001b[0;36m1\u001b[0m\u001b[0;34m:\u001b[0m\u001b[0;34m\u001b[0m\u001b[0;34m\u001b[0m\u001b[0m\n",
        "\u001b[0;32mpandas/_libs/index.pyx\u001b[0m in \u001b[0;36mpandas._libs.index.IndexEngine.get_loc\u001b[0;34m()\u001b[0m\n",
        "\u001b[0;32mpandas/_libs/index.pyx\u001b[0m in \u001b[0;36mpandas._libs.index.IndexEngine.get_loc\u001b[0;34m()\u001b[0m\n",
        "\u001b[0;32mpandas/_libs/hashtable_class_helper.pxi\u001b[0m in \u001b[0;36mpandas._libs.hashtable.PyObjectHashTable.get_item\u001b[0;34m()\u001b[0m\n",
        "\u001b[0;32mpandas/_libs/hashtable_class_helper.pxi\u001b[0m in \u001b[0;36mpandas._libs.hashtable.PyObjectHashTable.get_item\u001b[0;34m()\u001b[0m\n",
        "\u001b[0;31mKeyError\u001b[0m: 'column'"
       ]
      }
     ],
     "persistentId": "f2745559-38d3-4f48-bffa-4f9273289b44",
     "text": "for column in education.columns[4:-4]:\n    education['column'].fillna(education['column'].median(), inplace=True)"
    },
    "executionTime": "2019-12-02T06:55:09.457Z"
   },
   {
    "cell": {
     "executionCount": 31,
     "executionEventId": "5617df9f-242d-4d2e-a100-fc1323788013",
     "hasError": false,
     "id": "ec64b2b8-162c-4ce8-a2bd-a7d3dcf5356b",
     "outputs": [
      {
       "data": {
        "text/plain": "0                    1992_ALABAMA\n1                     1992_ALASKA\n2                    1992_ARIZONA\n3                   1992_ARKANSAS\n4                 1992_CALIFORNIA\n5                   1992_COLORADO\n6                1992_CONNECTICUT\n7                   1992_DELAWARE\n8       1992_DISTRICT_OF_COLUMBIA\n9                    1992_FLORIDA\n10                   1992_GEORGIA\n11                    1992_HAWAII\n12                     1992_IDAHO\n13                  1992_ILLINOIS\n14                   1992_INDIANA\n15                      1992_IOWA\n16                    1992_KANSAS\n17                  1992_KENTUCKY\n18                 1992_LOUISIANA\n19                     1992_MAINE\n20                  1992_MARYLAND\n21             1992_MASSACHUSETTS\n22                  1992_MICHIGAN\n23                 1992_MINNESOTA\n24               1992_MISSISSIPPI\n25                  1992_MISSOURI\n26                   1992_MONTANA\n27                  1992_NEBRASKA\n28                    1992_NEVADA\n29             1992_NEW_HAMPSHIRE\n                  ...            \n1462                    2017_IOWA\n1463                  2017_KANSAS\n1464                2017_KENTUCKY\n1465               2017_LOUISIANA\n1466                   2017_MAINE\n1467                2017_MARYLAND\n1468           2017_MASSACHUSETTS\n1469                2017_MICHIGAN\n1470               2017_MINNESOTA\n1471             2017_MISSISSIPPI\n1472                2017_MISSOURI\n1473                 2017_MONTANA\n1474                2017_NEBRASKA\n1475                  2017_NEVADA\n1476           2017_NEW_HAMPSHIRE\n1477              2017_NEW_JERSEY\n1478              2017_NEW_MEXICO\n1479                2017_NEW_YORK\n1480          2017_NORTH_CAROLINA\n1481            2017_NORTH_DAKOTA\n1482                    2017_OHIO\n1483               2017_TENNESSEE\n1484                   2017_TEXAS\n1485                    2017_UTAH\n1486                 2017_VERMONT\n1487                2017_VIRGINIA\n1488              2017_WASHINGTON\n1489           2017_WEST_VIRGINIA\n1490               2017_WISCONSIN\n1491                 2017_WYOMING\nName: PRIMARY_KEY, Length: 1492, dtype: object"
       },
       "execution_count": 31,
       "metadata": {},
       "output_type": "execute_result"
      }
     ],
     "persistentId": "68d1e811-7d34-4024-8e58-8a3c4d25a39a",
     "text": "education['PRIMARY_KEY']"
    },
    "executionTime": "2019-12-02T06:55:23.212Z"
   },
   {
    "cell": {
     "executionCount": 32,
     "executionEventId": "02a0e994-7de0-4ff9-9ce3-a1e4d1a3a493",
     "hasError": true,
     "id": "893ea86f-5f5e-4d3a-ad9e-bd8ad3754a3d",
     "outputs": [
      {
       "ename": "KeyError",
       "evalue": "'column'",
       "output_type": "error",
       "traceback": [
        "\u001b[0;31m---------------------------------------------------------------------------\u001b[0m",
        "\u001b[0;31mKeyError\u001b[0m                                  Traceback (most recent call last)",
        "\u001b[0;32m~/anaconda3/lib/python3.7/site-packages/pandas/core/indexes/base.py\u001b[0m in \u001b[0;36mget_loc\u001b[0;34m(self, key, method, tolerance)\u001b[0m\n\u001b[1;32m   2656\u001b[0m             \u001b[0;32mtry\u001b[0m\u001b[0;34m:\u001b[0m\u001b[0;34m\u001b[0m\u001b[0;34m\u001b[0m\u001b[0m\n\u001b[0;32m-> 2657\u001b[0;31m                 \u001b[0;32mreturn\u001b[0m \u001b[0mself\u001b[0m\u001b[0;34m.\u001b[0m\u001b[0m_engine\u001b[0m\u001b[0;34m.\u001b[0m\u001b[0mget_loc\u001b[0m\u001b[0;34m(\u001b[0m\u001b[0mkey\u001b[0m\u001b[0;34m)\u001b[0m\u001b[0;34m\u001b[0m\u001b[0;34m\u001b[0m\u001b[0m\n\u001b[0m\u001b[1;32m   2658\u001b[0m             \u001b[0;32mexcept\u001b[0m \u001b[0mKeyError\u001b[0m\u001b[0;34m:\u001b[0m\u001b[0;34m\u001b[0m\u001b[0;34m\u001b[0m\u001b[0m\n",
        "\u001b[0;32mpandas/_libs/index.pyx\u001b[0m in \u001b[0;36mpandas._libs.index.IndexEngine.get_loc\u001b[0;34m()\u001b[0m\n",
        "\u001b[0;32mpandas/_libs/index.pyx\u001b[0m in \u001b[0;36mpandas._libs.index.IndexEngine.get_loc\u001b[0;34m()\u001b[0m\n",
        "\u001b[0;32mpandas/_libs/hashtable_class_helper.pxi\u001b[0m in \u001b[0;36mpandas._libs.hashtable.PyObjectHashTable.get_item\u001b[0;34m()\u001b[0m\n",
        "\u001b[0;32mpandas/_libs/hashtable_class_helper.pxi\u001b[0m in \u001b[0;36mpandas._libs.hashtable.PyObjectHashTable.get_item\u001b[0;34m()\u001b[0m\n",
        "\u001b[0;31mKeyError\u001b[0m: 'column'",
        "\nDuring handling of the above exception, another exception occurred:\n",
        "\u001b[0;31mKeyError\u001b[0m                                  Traceback (most recent call last)",
        "\u001b[0;32m<ipython-input-32-c1c256e2bb62>\u001b[0m in \u001b[0;36m<module>\u001b[0;34m\u001b[0m\n\u001b[1;32m      1\u001b[0m \u001b[0;32mfor\u001b[0m \u001b[0mcolumn\u001b[0m \u001b[0;32min\u001b[0m \u001b[0meducation\u001b[0m\u001b[0;34m.\u001b[0m\u001b[0mcolumns\u001b[0m\u001b[0;34m[\u001b[0m\u001b[0;36m4\u001b[0m\u001b[0;34m:\u001b[0m\u001b[0;34m-\u001b[0m\u001b[0;36m4\u001b[0m\u001b[0;34m]\u001b[0m\u001b[0;34m:\u001b[0m\u001b[0;34m\u001b[0m\u001b[0;34m\u001b[0m\u001b[0m\n\u001b[0;32m----> 2\u001b[0;31m     \u001b[0meducation\u001b[0m\u001b[0;34m[\u001b[0m\u001b[0;34m'column'\u001b[0m\u001b[0;34m]\u001b[0m\u001b[0;34m.\u001b[0m\u001b[0mfillna\u001b[0m\u001b[0;34m(\u001b[0m\u001b[0meducation\u001b[0m\u001b[0;34m[\u001b[0m\u001b[0;34m'column'\u001b[0m\u001b[0;34m]\u001b[0m\u001b[0;34m.\u001b[0m\u001b[0mmedian\u001b[0m\u001b[0;34m(\u001b[0m\u001b[0;34m)\u001b[0m\u001b[0;34m,\u001b[0m \u001b[0minplace\u001b[0m\u001b[0;34m=\u001b[0m\u001b[0;32mTrue\u001b[0m\u001b[0;34m)\u001b[0m\u001b[0;34m\u001b[0m\u001b[0;34m\u001b[0m\u001b[0m\n\u001b[0m",
        "\u001b[0;32m~/anaconda3/lib/python3.7/site-packages/pandas/core/frame.py\u001b[0m in \u001b[0;36m__getitem__\u001b[0;34m(self, key)\u001b[0m\n\u001b[1;32m   2925\u001b[0m             \u001b[0;32mif\u001b[0m \u001b[0mself\u001b[0m\u001b[0;34m.\u001b[0m\u001b[0mcolumns\u001b[0m\u001b[0;34m.\u001b[0m\u001b[0mnlevels\u001b[0m \u001b[0;34m>\u001b[0m \u001b[0;36m1\u001b[0m\u001b[0;34m:\u001b[0m\u001b[0;34m\u001b[0m\u001b[0;34m\u001b[0m\u001b[0m\n\u001b[1;32m   2926\u001b[0m                 \u001b[0;32mreturn\u001b[0m \u001b[0mself\u001b[0m\u001b[0;34m.\u001b[0m\u001b[0m_getitem_multilevel\u001b[0m\u001b[0;34m(\u001b[0m\u001b[0mkey\u001b[0m\u001b[0;34m)\u001b[0m\u001b[0;34m\u001b[0m\u001b[0;34m\u001b[0m\u001b[0m\n\u001b[0;32m-> 2927\u001b[0;31m             \u001b[0mindexer\u001b[0m \u001b[0;34m=\u001b[0m \u001b[0mself\u001b[0m\u001b[0;34m.\u001b[0m\u001b[0mcolumns\u001b[0m\u001b[0;34m.\u001b[0m\u001b[0mget_loc\u001b[0m\u001b[0;34m(\u001b[0m\u001b[0mkey\u001b[0m\u001b[0;34m)\u001b[0m\u001b[0;34m\u001b[0m\u001b[0;34m\u001b[0m\u001b[0m\n\u001b[0m\u001b[1;32m   2928\u001b[0m             \u001b[0;32mif\u001b[0m \u001b[0mis_integer\u001b[0m\u001b[0;34m(\u001b[0m\u001b[0mindexer\u001b[0m\u001b[0;34m)\u001b[0m\u001b[0;34m:\u001b[0m\u001b[0;34m\u001b[0m\u001b[0;34m\u001b[0m\u001b[0m\n\u001b[1;32m   2929\u001b[0m                 \u001b[0mindexer\u001b[0m \u001b[0;34m=\u001b[0m \u001b[0;34m[\u001b[0m\u001b[0mindexer\u001b[0m\u001b[0;34m]\u001b[0m\u001b[0;34m\u001b[0m\u001b[0;34m\u001b[0m\u001b[0m\n",
        "\u001b[0;32m~/anaconda3/lib/python3.7/site-packages/pandas/core/indexes/base.py\u001b[0m in \u001b[0;36mget_loc\u001b[0;34m(self, key, method, tolerance)\u001b[0m\n\u001b[1;32m   2657\u001b[0m                 \u001b[0;32mreturn\u001b[0m \u001b[0mself\u001b[0m\u001b[0;34m.\u001b[0m\u001b[0m_engine\u001b[0m\u001b[0;34m.\u001b[0m\u001b[0mget_loc\u001b[0m\u001b[0;34m(\u001b[0m\u001b[0mkey\u001b[0m\u001b[0;34m)\u001b[0m\u001b[0;34m\u001b[0m\u001b[0;34m\u001b[0m\u001b[0m\n\u001b[1;32m   2658\u001b[0m             \u001b[0;32mexcept\u001b[0m \u001b[0mKeyError\u001b[0m\u001b[0;34m:\u001b[0m\u001b[0;34m\u001b[0m\u001b[0;34m\u001b[0m\u001b[0m\n\u001b[0;32m-> 2659\u001b[0;31m                 \u001b[0;32mreturn\u001b[0m \u001b[0mself\u001b[0m\u001b[0;34m.\u001b[0m\u001b[0m_engine\u001b[0m\u001b[0;34m.\u001b[0m\u001b[0mget_loc\u001b[0m\u001b[0;34m(\u001b[0m\u001b[0mself\u001b[0m\u001b[0;34m.\u001b[0m\u001b[0m_maybe_cast_indexer\u001b[0m\u001b[0;34m(\u001b[0m\u001b[0mkey\u001b[0m\u001b[0;34m)\u001b[0m\u001b[0;34m)\u001b[0m\u001b[0;34m\u001b[0m\u001b[0;34m\u001b[0m\u001b[0m\n\u001b[0m\u001b[1;32m   2660\u001b[0m         \u001b[0mindexer\u001b[0m \u001b[0;34m=\u001b[0m \u001b[0mself\u001b[0m\u001b[0;34m.\u001b[0m\u001b[0mget_indexer\u001b[0m\u001b[0;34m(\u001b[0m\u001b[0;34m[\u001b[0m\u001b[0mkey\u001b[0m\u001b[0;34m]\u001b[0m\u001b[0;34m,\u001b[0m \u001b[0mmethod\u001b[0m\u001b[0;34m=\u001b[0m\u001b[0mmethod\u001b[0m\u001b[0;34m,\u001b[0m \u001b[0mtolerance\u001b[0m\u001b[0;34m=\u001b[0m\u001b[0mtolerance\u001b[0m\u001b[0;34m)\u001b[0m\u001b[0;34m\u001b[0m\u001b[0;34m\u001b[0m\u001b[0m\n\u001b[1;32m   2661\u001b[0m         \u001b[0;32mif\u001b[0m \u001b[0mindexer\u001b[0m\u001b[0;34m.\u001b[0m\u001b[0mndim\u001b[0m \u001b[0;34m>\u001b[0m \u001b[0;36m1\u001b[0m \u001b[0;32mor\u001b[0m \u001b[0mindexer\u001b[0m\u001b[0;34m.\u001b[0m\u001b[0msize\u001b[0m \u001b[0;34m>\u001b[0m \u001b[0;36m1\u001b[0m\u001b[0;34m:\u001b[0m\u001b[0;34m\u001b[0m\u001b[0;34m\u001b[0m\u001b[0m\n",
        "\u001b[0;32mpandas/_libs/index.pyx\u001b[0m in \u001b[0;36mpandas._libs.index.IndexEngine.get_loc\u001b[0;34m()\u001b[0m\n",
        "\u001b[0;32mpandas/_libs/index.pyx\u001b[0m in \u001b[0;36mpandas._libs.index.IndexEngine.get_loc\u001b[0;34m()\u001b[0m\n",
        "\u001b[0;32mpandas/_libs/hashtable_class_helper.pxi\u001b[0m in \u001b[0;36mpandas._libs.hashtable.PyObjectHashTable.get_item\u001b[0;34m()\u001b[0m\n",
        "\u001b[0;32mpandas/_libs/hashtable_class_helper.pxi\u001b[0m in \u001b[0;36mpandas._libs.hashtable.PyObjectHashTable.get_item\u001b[0;34m()\u001b[0m\n",
        "\u001b[0;31mKeyError\u001b[0m: 'column'"
       ]
      }
     ],
     "persistentId": "f2745559-38d3-4f48-bffa-4f9273289b44",
     "text": "for column in education.columns[4:-4]:\n    education['column'].fillna(education['column'].median(), inplace=True)"
    },
    "executionTime": "2019-12-02T06:55:36.610Z"
   },
   {
    "cell": {
     "executionCount": 33,
     "executionEventId": "fd0ec9a0-babf-4418-8f3b-be003a5bcf65",
     "hasError": false,
     "id": "51d0d976-f260-4336-a5b7-2abe37ba5abf",
     "outputs": [
      {
       "data": {
        "text/plain": "Index(['TOTAL_REVENUE', 'FEDERAL_REVENUE', 'STATE_REVENUE', 'LOCAL_REVENUE',\n       'TOTAL_EXPENDITURE', 'INSTRUCTION_EXPENDITURE',\n       'SUPPORT_SERVICES_EXPENDITURE', 'OTHER_EXPENDITURE',\n       'CAPITAL_OUTLAY_EXPENDITURE', 'GRADES_PK_G', 'GRADES_KG_G',\n       'GRADES_4_G', 'GRADES_8_G', 'GRADES_12_G', 'GRADES_1_8_G',\n       'GRADES_9_12_G', 'GRADES_ALL_G'],\n      dtype='object')"
       },
       "execution_count": 33,
       "metadata": {},
       "output_type": "execute_result"
      }
     ],
     "persistentId": "1faf679b-38fa-4a69-831e-214341052b3a",
     "text": "education.columns[4:-4]"
    },
    "executionTime": "2019-12-02T06:55:48.948Z"
   },
   {
    "cell": {
     "executionCount": 34,
     "executionEventId": "e2562282-e6ff-451c-a596-acaee2f3af0a",
     "hasError": false,
     "id": "51d0d976-f260-4336-a5b7-2abe37ba5abf",
     "outputs": [
      {
       "name": "stdout",
       "output_type": "stream",
       "text": "TOTAL_REVENUE\nFEDERAL_REVENUE\nSTATE_REVENUE\nLOCAL_REVENUE\nTOTAL_EXPENDITURE\nINSTRUCTION_EXPENDITURE\nSUPPORT_SERVICES_EXPENDITURE\nOTHER_EXPENDITURE\nCAPITAL_OUTLAY_EXPENDITURE\nGRADES_PK_G\nGRADES_KG_G\nGRADES_4_G\nGRADES_8_G\nGRADES_12_G\nGRADES_1_8_G\nGRADES_9_12_G\nGRADES_ALL_G\n"
      }
     ],
     "persistentId": "1faf679b-38fa-4a69-831e-214341052b3a",
     "text": "for column in education.columns[4:-4]:\n    print(column)"
    },
    "executionTime": "2019-12-02T06:56:03.285Z"
   },
   {
    "cell": {
     "executionCount": 35,
     "executionEventId": "6d164c21-f151-428f-bbde-1b4f5eb0865d",
     "hasError": false,
     "id": "893ea86f-5f5e-4d3a-ad9e-bd8ad3754a3d",
     "outputs": [],
     "persistentId": "f2745559-38d3-4f48-bffa-4f9273289b44",
     "text": "for column in education.columns[4:-4]:\n    education[column].fillna(education[column].median(), inplace=True)"
    },
    "executionTime": "2019-12-02T06:56:28.893Z"
   },
   {
    "cell": {
     "executionCount": 36,
     "executionEventId": "a26ed28c-feb8-473b-bfbb-2be97f1386d4",
     "hasError": false,
     "id": "6ab1ec99-5490-42a0-bc10-f484dac2ddb3",
     "outputs": [
      {
       "data": {
        "text/html": "<div>\n<style scoped>\n    .dataframe tbody tr th:only-of-type {\n        vertical-align: middle;\n    }\n\n    .dataframe tbody tr th {\n        vertical-align: top;\n    }\n\n    .dataframe thead th {\n        text-align: right;\n    }\n</style>\n<table border=\"1\" class=\"dataframe\">\n  <thead>\n    <tr style=\"text-align: right;\">\n      <th></th>\n      <th>PRIMARY_KEY</th>\n      <th>STATE</th>\n      <th>YEAR</th>\n      <th>ENROLL</th>\n      <th>TOTAL_REVENUE</th>\n      <th>FEDERAL_REVENUE</th>\n      <th>STATE_REVENUE</th>\n      <th>LOCAL_REVENUE</th>\n      <th>TOTAL_EXPENDITURE</th>\n      <th>INSTRUCTION_EXPENDITURE</th>\n      <th>...</th>\n      <th>GRADES_4_G</th>\n      <th>GRADES_8_G</th>\n      <th>GRADES_12_G</th>\n      <th>GRADES_1_8_G</th>\n      <th>GRADES_9_12_G</th>\n      <th>GRADES_ALL_G</th>\n      <th>AVG_MATH_4_SCORE</th>\n      <th>AVG_MATH_8_SCORE</th>\n      <th>AVG_READING_4_SCORE</th>\n      <th>AVG_READING_8_SCORE</th>\n    </tr>\n  </thead>\n  <tbody>\n    <tr>\n      <th>0</th>\n      <td>1992_ALABAMA</td>\n      <td>ALABAMA</td>\n      <td>1992</td>\n      <td>NaN</td>\n      <td>2678885.0</td>\n      <td>304177.0</td>\n      <td>1659028.0</td>\n      <td>715680.0</td>\n      <td>2653798.0</td>\n      <td>1481703.0</td>\n      <td>...</td>\n      <td>57948.0</td>\n      <td>58025.0</td>\n      <td>41167.0</td>\n      <td>471564.0</td>\n      <td>196386.0</td>\n      <td>676174.0</td>\n      <td>208.327876</td>\n      <td>252.187522</td>\n      <td>207.963517</td>\n      <td>NaN</td>\n    </tr>\n    <tr>\n      <th>1</th>\n      <td>1992_ALASKA</td>\n      <td>ALASKA</td>\n      <td>1992</td>\n      <td>NaN</td>\n      <td>1049591.0</td>\n      <td>106780.0</td>\n      <td>720711.0</td>\n      <td>222100.0</td>\n      <td>972488.0</td>\n      <td>498362.0</td>\n      <td>...</td>\n      <td>9748.0</td>\n      <td>8789.0</td>\n      <td>6714.0</td>\n      <td>79117.0</td>\n      <td>30847.0</td>\n      <td>112335.0</td>\n      <td>NaN</td>\n      <td>NaN</td>\n      <td>NaN</td>\n      <td>258.859712</td>\n    </tr>\n    <tr>\n      <th>2</th>\n      <td>1992_ARIZONA</td>\n      <td>ARIZONA</td>\n      <td>1992</td>\n      <td>NaN</td>\n      <td>3258079.0</td>\n      <td>297888.0</td>\n      <td>1369815.0</td>\n      <td>1590376.0</td>\n      <td>3401580.0</td>\n      <td>1435908.0</td>\n      <td>...</td>\n      <td>55433.0</td>\n      <td>49081.0</td>\n      <td>37410.0</td>\n      <td>437127.0</td>\n      <td>175210.0</td>\n      <td>614881.0</td>\n      <td>215.253932</td>\n      <td>265.366278</td>\n      <td>206.212716</td>\n      <td>262.169895</td>\n    </tr>\n    <tr>\n      <th>3</th>\n      <td>1992_ARKANSAS</td>\n      <td>ARKANSAS</td>\n      <td>1992</td>\n      <td>NaN</td>\n      <td>1711959.0</td>\n      <td>178571.0</td>\n      <td>958785.0</td>\n      <td>574603.0</td>\n      <td>1743022.0</td>\n      <td>964323.0</td>\n      <td>...</td>\n      <td>34632.0</td>\n      <td>36011.0</td>\n      <td>27651.0</td>\n      <td>281338.0</td>\n      <td>123113.0</td>\n      <td>405259.0</td>\n      <td>210.206028</td>\n      <td>256.312090</td>\n      <td>208.634458</td>\n      <td>264.619665</td>\n    </tr>\n    <tr>\n      <th>4</th>\n      <td>1992_CALIFORNIA</td>\n      <td>CALIFORNIA</td>\n      <td>1992</td>\n      <td>NaN</td>\n      <td>26260025.0</td>\n      <td>2072470.0</td>\n      <td>16546514.0</td>\n      <td>7641041.0</td>\n      <td>27138832.0</td>\n      <td>14358922.0</td>\n      <td>...</td>\n      <td>418418.0</td>\n      <td>363296.0</td>\n      <td>270675.0</td>\n      <td>3286034.0</td>\n      <td>1372011.0</td>\n      <td>4717112.0</td>\n      <td>208.398961</td>\n      <td>260.892247</td>\n      <td>196.764414</td>\n      <td>NaN</td>\n    </tr>\n  </tbody>\n</table>\n<p>5 rows × 25 columns</p>\n</div>",
        "text/plain": "       PRIMARY_KEY       STATE  YEAR  ENROLL  TOTAL_REVENUE  FEDERAL_REVENUE  \\\n0     1992_ALABAMA     ALABAMA  1992     NaN      2678885.0         304177.0   \n1      1992_ALASKA      ALASKA  1992     NaN      1049591.0         106780.0   \n2     1992_ARIZONA     ARIZONA  1992     NaN      3258079.0         297888.0   \n3    1992_ARKANSAS    ARKANSAS  1992     NaN      1711959.0         178571.0   \n4  1992_CALIFORNIA  CALIFORNIA  1992     NaN     26260025.0        2072470.0   \n\n   STATE_REVENUE  LOCAL_REVENUE  TOTAL_EXPENDITURE  INSTRUCTION_EXPENDITURE  \\\n0      1659028.0       715680.0          2653798.0                1481703.0   \n1       720711.0       222100.0           972488.0                 498362.0   \n2      1369815.0      1590376.0          3401580.0                1435908.0   \n3       958785.0       574603.0          1743022.0                 964323.0   \n4     16546514.0      7641041.0         27138832.0               14358922.0   \n\n   ...  GRADES_4_G  GRADES_8_G  GRADES_12_G  GRADES_1_8_G  GRADES_9_12_G  \\\n0  ...     57948.0     58025.0      41167.0      471564.0       196386.0   \n1  ...      9748.0      8789.0       6714.0       79117.0        30847.0   \n2  ...     55433.0     49081.0      37410.0      437127.0       175210.0   \n3  ...     34632.0     36011.0      27651.0      281338.0       123113.0   \n4  ...    418418.0    363296.0     270675.0     3286034.0      1372011.0   \n\n   GRADES_ALL_G  AVG_MATH_4_SCORE  AVG_MATH_8_SCORE  AVG_READING_4_SCORE  \\\n0      676174.0        208.327876        252.187522           207.963517   \n1      112335.0               NaN               NaN                  NaN   \n2      614881.0        215.253932        265.366278           206.212716   \n3      405259.0        210.206028        256.312090           208.634458   \n4     4717112.0        208.398961        260.892247           196.764414   \n\n   AVG_READING_8_SCORE  \n0                  NaN  \n1           258.859712  \n2           262.169895  \n3           264.619665  \n4                  NaN  \n\n[5 rows x 25 columns]"
       },
       "execution_count": 36,
       "metadata": {},
       "output_type": "execute_result"
      }
     ],
     "persistentId": "99ad400c-7f0c-4bad-b640-36d7343deec2",
     "text": "education.head()"
    },
    "executionTime": "2019-12-02T06:56:38.333Z"
   },
   {
    "cell": {
     "executionCount": 37,
     "executionEventId": "d60f383b-da26-4818-8470-d2b00268a669",
     "hasError": false,
     "id": "6ab1ec99-5490-42a0-bc10-f484dac2ddb3",
     "outputs": [
      {
       "data": {
        "text/plain": "PRIMARY_KEY                     0.000000\nSTATE                           0.000000\nYEAR                            0.000000\nENROLL                          0.176273\nTOTAL_REVENUE                   0.000000\nFEDERAL_REVENUE                 0.000000\nSTATE_REVENUE                   0.000000\nLOCAL_REVENUE                   0.000000\nTOTAL_EXPENDITURE               0.000000\nINSTRUCTION_EXPENDITURE         0.000000\nSUPPORT_SERVICES_EXPENDITURE    0.000000\nOTHER_EXPENDITURE               0.000000\nCAPITAL_OUTLAY_EXPENDITURE      0.000000\nGRADES_PK_G                     0.000000\nGRADES_KG_G                     0.000000\nGRADES_4_G                      0.000000\nGRADES_8_G                      0.000000\nGRADES_12_G                     0.000000\nGRADES_1_8_G                    0.000000\nGRADES_9_12_G                   0.000000\nGRADES_ALL_G                    0.000000\nAVG_MATH_4_SCORE                0.640751\nAVG_MATH_8_SCORE                0.643432\nAVG_READING_4_SCORE             0.642761\nAVG_READING_8_SCORE             0.666220\ndtype: float64"
       },
       "execution_count": 37,
       "metadata": {},
       "output_type": "execute_result"
      }
     ],
     "persistentId": "99ad400c-7f0c-4bad-b640-36d7343deec2",
     "text": "education.isnull().sum()/education.isnull().count()"
    },
    "executionTime": "2019-12-02T06:56:49.977Z"
   },
   {
    "cell": {
     "executionCount": 38,
     "executionEventId": "50edbab9-6e8c-4189-b4d1-c67f5d78d883",
     "hasError": false,
     "id": "893ea86f-5f5e-4d3a-ad9e-bd8ad3754a3d",
     "outputs": [],
     "persistentId": "f2745559-38d3-4f48-bffa-4f9273289b44",
     "text": "for column in education.columns[3:-4]:\n    education[column].fillna(education[column].median(), inplace=True)"
    },
    "executionTime": "2019-12-02T06:56:58.356Z"
   },
   {
    "cell": {
     "executionCount": 39,
     "executionEventId": "b64642bd-fd7c-4800-a38e-9cd758d0cd46",
     "hasError": false,
     "id": "6ab1ec99-5490-42a0-bc10-f484dac2ddb3",
     "outputs": [
      {
       "data": {
        "text/plain": "PRIMARY_KEY                     0.000000\nSTATE                           0.000000\nYEAR                            0.000000\nENROLL                          0.000000\nTOTAL_REVENUE                   0.000000\nFEDERAL_REVENUE                 0.000000\nSTATE_REVENUE                   0.000000\nLOCAL_REVENUE                   0.000000\nTOTAL_EXPENDITURE               0.000000\nINSTRUCTION_EXPENDITURE         0.000000\nSUPPORT_SERVICES_EXPENDITURE    0.000000\nOTHER_EXPENDITURE               0.000000\nCAPITAL_OUTLAY_EXPENDITURE      0.000000\nGRADES_PK_G                     0.000000\nGRADES_KG_G                     0.000000\nGRADES_4_G                      0.000000\nGRADES_8_G                      0.000000\nGRADES_12_G                     0.000000\nGRADES_1_8_G                    0.000000\nGRADES_9_12_G                   0.000000\nGRADES_ALL_G                    0.000000\nAVG_MATH_4_SCORE                0.640751\nAVG_MATH_8_SCORE                0.643432\nAVG_READING_4_SCORE             0.642761\nAVG_READING_8_SCORE             0.666220\ndtype: float64"
       },
       "execution_count": 39,
       "metadata": {},
       "output_type": "execute_result"
      }
     ],
     "persistentId": "99ad400c-7f0c-4bad-b640-36d7343deec2",
     "text": "education.isnull().sum()/education.isnull().count()"
    },
    "executionTime": "2019-12-02T06:57:01.964Z"
   },
   {
    "cell": {
     "executionCount": 40,
     "executionEventId": "46fd1ed1-c577-4469-96e6-c10a119fa786",
     "hasError": false,
     "id": "96f8744f-3e9f-4fad-ad5d-54f00c724871",
     "outputs": [
      {
       "data": {
        "text/plain": "PRIMARY_KEY                     0.000000\nSTATE                           0.000000\nYEAR                            0.000000\nENROLL                          0.000000\nTOTAL_REVENUE                   0.000000\nFEDERAL_REVENUE                 0.000000\nSTATE_REVENUE                   0.000000\nLOCAL_REVENUE                   0.000000\nTOTAL_EXPENDITURE               0.000000\nINSTRUCTION_EXPENDITURE         0.000000\nSUPPORT_SERVICES_EXPENDITURE    0.000000\nOTHER_EXPENDITURE               0.000000\nCAPITAL_OUTLAY_EXPENDITURE      0.000000\nGRADES_PK_G                     0.000000\nGRADES_KG_G                     0.000000\nGRADES_4_G                      0.000000\nGRADES_8_G                      0.000000\nGRADES_12_G                     0.000000\nGRADES_1_8_G                    0.000000\nGRADES_9_12_G                   0.000000\nGRADES_ALL_G                    0.000000\nAVG_MATH_4_SCORE                0.640751\nAVG_MATH_8_SCORE                0.643432\nAVG_READING_4_SCORE             0.642761\nAVG_READING_8_SCORE             0.666220\ndtype: float64"
       },
       "execution_count": 40,
       "metadata": {},
       "output_type": "execute_result"
      }
     ],
     "persistentId": "d1fa88cd-9235-40e6-9614-162477a334e0",
     "text": "education.isnull().sum()/education.isnull().count()"
    },
    "executionTime": "2019-12-02T06:57:13.736Z"
   },
   {
    "cell": {
     "executionCount": 41,
     "executionEventId": "bd0c49e8-5f9c-40dd-b6ad-92e87483954c",
     "hasError": true,
     "id": "14cfe69c-8ff6-4de5-8439-dc5d61407326",
     "outputs": [
      {
       "ename": "KeyError",
       "evalue": "'year'",
       "output_type": "error",
       "traceback": [
        "\u001b[0;31m---------------------------------------------------------------------------\u001b[0m",
        "\u001b[0;31mKeyError\u001b[0m                                  Traceback (most recent call last)",
        "\u001b[0;32m<ipython-input-41-d73b52dd61d8>\u001b[0m in \u001b[0;36m<module>\u001b[0;34m\u001b[0m\n\u001b[1;32m      1\u001b[0m \u001b[0;31m# group by year?\u001b[0m\u001b[0;34m\u001b[0m\u001b[0;34m\u001b[0m\u001b[0;34m\u001b[0m\u001b[0m\n\u001b[0;32m----> 2\u001b[0;31m \u001b[0meducation\u001b[0m\u001b[0;34m.\u001b[0m\u001b[0mgroupby\u001b[0m\u001b[0;34m(\u001b[0m\u001b[0;34m'year'\u001b[0m\u001b[0;34m)\u001b[0m\u001b[0;34m[\u001b[0m\u001b[0;34m'ENROLL'\u001b[0m\u001b[0;34m]\u001b[0m\u001b[0;34m\u001b[0m\u001b[0;34m\u001b[0m\u001b[0m\n\u001b[0m",
        "\u001b[0;32m~/anaconda3/lib/python3.7/site-packages/pandas/core/generic.py\u001b[0m in \u001b[0;36mgroupby\u001b[0;34m(self, by, axis, level, as_index, sort, group_keys, squeeze, observed, **kwargs)\u001b[0m\n\u001b[1;32m   7630\u001b[0m         return groupby(self, by=by, axis=axis, level=level, as_index=as_index,\n\u001b[1;32m   7631\u001b[0m                        \u001b[0msort\u001b[0m\u001b[0;34m=\u001b[0m\u001b[0msort\u001b[0m\u001b[0;34m,\u001b[0m \u001b[0mgroup_keys\u001b[0m\u001b[0;34m=\u001b[0m\u001b[0mgroup_keys\u001b[0m\u001b[0;34m,\u001b[0m \u001b[0msqueeze\u001b[0m\u001b[0;34m=\u001b[0m\u001b[0msqueeze\u001b[0m\u001b[0;34m,\u001b[0m\u001b[0;34m\u001b[0m\u001b[0;34m\u001b[0m\u001b[0m\n\u001b[0;32m-> 7632\u001b[0;31m                        observed=observed, **kwargs)\n\u001b[0m\u001b[1;32m   7633\u001b[0m \u001b[0;34m\u001b[0m\u001b[0m\n\u001b[1;32m   7634\u001b[0m     def asfreq(self, freq, method=None, how=None, normalize=False,\n",
        "\u001b[0;32m~/anaconda3/lib/python3.7/site-packages/pandas/core/groupby/groupby.py\u001b[0m in \u001b[0;36mgroupby\u001b[0;34m(obj, by, **kwds)\u001b[0m\n\u001b[1;32m   2108\u001b[0m         \u001b[0;32mraise\u001b[0m \u001b[0mTypeError\u001b[0m\u001b[0;34m(\u001b[0m\u001b[0;34m'invalid type: {}'\u001b[0m\u001b[0;34m.\u001b[0m\u001b[0mformat\u001b[0m\u001b[0;34m(\u001b[0m\u001b[0mobj\u001b[0m\u001b[0;34m)\u001b[0m\u001b[0;34m)\u001b[0m\u001b[0;34m\u001b[0m\u001b[0;34m\u001b[0m\u001b[0m\n\u001b[1;32m   2109\u001b[0m \u001b[0;34m\u001b[0m\u001b[0m\n\u001b[0;32m-> 2110\u001b[0;31m     \u001b[0;32mreturn\u001b[0m \u001b[0mklass\u001b[0m\u001b[0;34m(\u001b[0m\u001b[0mobj\u001b[0m\u001b[0;34m,\u001b[0m \u001b[0mby\u001b[0m\u001b[0;34m,\u001b[0m \u001b[0;34m**\u001b[0m\u001b[0mkwds\u001b[0m\u001b[0;34m)\u001b[0m\u001b[0;34m\u001b[0m\u001b[0;34m\u001b[0m\u001b[0m\n\u001b[0m",
        "\u001b[0;32m~/anaconda3/lib/python3.7/site-packages/pandas/core/groupby/groupby.py\u001b[0m in \u001b[0;36m__init__\u001b[0;34m(self, obj, keys, axis, level, grouper, exclusions, selection, as_index, sort, group_keys, squeeze, observed, **kwargs)\u001b[0m\n\u001b[1;32m    358\u001b[0m                                                     \u001b[0msort\u001b[0m\u001b[0;34m=\u001b[0m\u001b[0msort\u001b[0m\u001b[0;34m,\u001b[0m\u001b[0;34m\u001b[0m\u001b[0;34m\u001b[0m\u001b[0m\n\u001b[1;32m    359\u001b[0m                                                     \u001b[0mobserved\u001b[0m\u001b[0;34m=\u001b[0m\u001b[0mobserved\u001b[0m\u001b[0;34m,\u001b[0m\u001b[0;34m\u001b[0m\u001b[0;34m\u001b[0m\u001b[0m\n\u001b[0;32m--> 360\u001b[0;31m                                                     mutated=self.mutated)\n\u001b[0m\u001b[1;32m    361\u001b[0m \u001b[0;34m\u001b[0m\u001b[0m\n\u001b[1;32m    362\u001b[0m         \u001b[0mself\u001b[0m\u001b[0;34m.\u001b[0m\u001b[0mobj\u001b[0m \u001b[0;34m=\u001b[0m \u001b[0mobj\u001b[0m\u001b[0;34m\u001b[0m\u001b[0;34m\u001b[0m\u001b[0m\n",
        "\u001b[0;32m~/anaconda3/lib/python3.7/site-packages/pandas/core/groupby/grouper.py\u001b[0m in \u001b[0;36m_get_grouper\u001b[0;34m(obj, key, axis, level, sort, observed, mutated, validate)\u001b[0m\n\u001b[1;32m    576\u001b[0m                 \u001b[0min_axis\u001b[0m\u001b[0;34m,\u001b[0m \u001b[0mname\u001b[0m\u001b[0;34m,\u001b[0m \u001b[0mlevel\u001b[0m\u001b[0;34m,\u001b[0m \u001b[0mgpr\u001b[0m \u001b[0;34m=\u001b[0m \u001b[0;32mFalse\u001b[0m\u001b[0;34m,\u001b[0m \u001b[0;32mNone\u001b[0m\u001b[0;34m,\u001b[0m \u001b[0mgpr\u001b[0m\u001b[0;34m,\u001b[0m \u001b[0;32mNone\u001b[0m\u001b[0;34m\u001b[0m\u001b[0;34m\u001b[0m\u001b[0m\n\u001b[1;32m    577\u001b[0m             \u001b[0;32melse\u001b[0m\u001b[0;34m:\u001b[0m\u001b[0;34m\u001b[0m\u001b[0;34m\u001b[0m\u001b[0m\n\u001b[0;32m--> 578\u001b[0;31m                 \u001b[0;32mraise\u001b[0m \u001b[0mKeyError\u001b[0m\u001b[0;34m(\u001b[0m\u001b[0mgpr\u001b[0m\u001b[0;34m)\u001b[0m\u001b[0;34m\u001b[0m\u001b[0;34m\u001b[0m\u001b[0m\n\u001b[0m\u001b[1;32m    579\u001b[0m         \u001b[0;32melif\u001b[0m \u001b[0misinstance\u001b[0m\u001b[0;34m(\u001b[0m\u001b[0mgpr\u001b[0m\u001b[0;34m,\u001b[0m \u001b[0mGrouper\u001b[0m\u001b[0;34m)\u001b[0m \u001b[0;32mand\u001b[0m \u001b[0mgpr\u001b[0m\u001b[0;34m.\u001b[0m\u001b[0mkey\u001b[0m \u001b[0;32mis\u001b[0m \u001b[0;32mnot\u001b[0m \u001b[0;32mNone\u001b[0m\u001b[0;34m:\u001b[0m\u001b[0;34m\u001b[0m\u001b[0;34m\u001b[0m\u001b[0m\n\u001b[1;32m    580\u001b[0m             \u001b[0;31m# Add key to exclusions\u001b[0m\u001b[0;34m\u001b[0m\u001b[0;34m\u001b[0m\u001b[0;34m\u001b[0m\u001b[0m\n",
        "\u001b[0;31mKeyError\u001b[0m: 'year'"
       ]
      }
     ],
     "persistentId": "cdd96c56-2f5e-4ced-bf11-c7bdaedf91bb",
     "text": "# group by year?\neducation.groupby('year')['ENROLL']"
    },
    "executionTime": "2019-12-02T07:01:05.614Z"
   },
   {
    "cell": {
     "executionCount": 42,
     "executionEventId": "8a125eca-8346-42c1-a2c5-f39138caa3b0",
     "hasError": true,
     "id": "14cfe69c-8ff6-4de5-8439-dc5d61407326",
     "outputs": [
      {
       "ename": "KeyError",
       "evalue": "'year'",
       "output_type": "error",
       "traceback": [
        "\u001b[0;31m---------------------------------------------------------------------------\u001b[0m",
        "\u001b[0;31mKeyError\u001b[0m                                  Traceback (most recent call last)",
        "\u001b[0;32m<ipython-input-42-f4c2635ad014>\u001b[0m in \u001b[0;36m<module>\u001b[0;34m\u001b[0m\n\u001b[1;32m      1\u001b[0m \u001b[0;31m# group by year?\u001b[0m\u001b[0;34m\u001b[0m\u001b[0;34m\u001b[0m\u001b[0;34m\u001b[0m\u001b[0m\n\u001b[0;32m----> 2\u001b[0;31m \u001b[0meducation\u001b[0m\u001b[0;34m.\u001b[0m\u001b[0mgroupby\u001b[0m\u001b[0;34m(\u001b[0m\u001b[0;34m'year'\u001b[0m\u001b[0;34m)\u001b[0m\u001b[0;34m\u001b[0m\u001b[0;34m\u001b[0m\u001b[0m\n\u001b[0m",
        "\u001b[0;32m~/anaconda3/lib/python3.7/site-packages/pandas/core/generic.py\u001b[0m in \u001b[0;36mgroupby\u001b[0;34m(self, by, axis, level, as_index, sort, group_keys, squeeze, observed, **kwargs)\u001b[0m\n\u001b[1;32m   7630\u001b[0m         return groupby(self, by=by, axis=axis, level=level, as_index=as_index,\n\u001b[1;32m   7631\u001b[0m                        \u001b[0msort\u001b[0m\u001b[0;34m=\u001b[0m\u001b[0msort\u001b[0m\u001b[0;34m,\u001b[0m \u001b[0mgroup_keys\u001b[0m\u001b[0;34m=\u001b[0m\u001b[0mgroup_keys\u001b[0m\u001b[0;34m,\u001b[0m \u001b[0msqueeze\u001b[0m\u001b[0;34m=\u001b[0m\u001b[0msqueeze\u001b[0m\u001b[0;34m,\u001b[0m\u001b[0;34m\u001b[0m\u001b[0;34m\u001b[0m\u001b[0m\n\u001b[0;32m-> 7632\u001b[0;31m                        observed=observed, **kwargs)\n\u001b[0m\u001b[1;32m   7633\u001b[0m \u001b[0;34m\u001b[0m\u001b[0m\n\u001b[1;32m   7634\u001b[0m     def asfreq(self, freq, method=None, how=None, normalize=False,\n",
        "\u001b[0;32m~/anaconda3/lib/python3.7/site-packages/pandas/core/groupby/groupby.py\u001b[0m in \u001b[0;36mgroupby\u001b[0;34m(obj, by, **kwds)\u001b[0m\n\u001b[1;32m   2108\u001b[0m         \u001b[0;32mraise\u001b[0m \u001b[0mTypeError\u001b[0m\u001b[0;34m(\u001b[0m\u001b[0;34m'invalid type: {}'\u001b[0m\u001b[0;34m.\u001b[0m\u001b[0mformat\u001b[0m\u001b[0;34m(\u001b[0m\u001b[0mobj\u001b[0m\u001b[0;34m)\u001b[0m\u001b[0;34m)\u001b[0m\u001b[0;34m\u001b[0m\u001b[0;34m\u001b[0m\u001b[0m\n\u001b[1;32m   2109\u001b[0m \u001b[0;34m\u001b[0m\u001b[0m\n\u001b[0;32m-> 2110\u001b[0;31m     \u001b[0;32mreturn\u001b[0m \u001b[0mklass\u001b[0m\u001b[0;34m(\u001b[0m\u001b[0mobj\u001b[0m\u001b[0;34m,\u001b[0m \u001b[0mby\u001b[0m\u001b[0;34m,\u001b[0m \u001b[0;34m**\u001b[0m\u001b[0mkwds\u001b[0m\u001b[0;34m)\u001b[0m\u001b[0;34m\u001b[0m\u001b[0;34m\u001b[0m\u001b[0m\n\u001b[0m",
        "\u001b[0;32m~/anaconda3/lib/python3.7/site-packages/pandas/core/groupby/groupby.py\u001b[0m in \u001b[0;36m__init__\u001b[0;34m(self, obj, keys, axis, level, grouper, exclusions, selection, as_index, sort, group_keys, squeeze, observed, **kwargs)\u001b[0m\n\u001b[1;32m    358\u001b[0m                                                     \u001b[0msort\u001b[0m\u001b[0;34m=\u001b[0m\u001b[0msort\u001b[0m\u001b[0;34m,\u001b[0m\u001b[0;34m\u001b[0m\u001b[0;34m\u001b[0m\u001b[0m\n\u001b[1;32m    359\u001b[0m                                                     \u001b[0mobserved\u001b[0m\u001b[0;34m=\u001b[0m\u001b[0mobserved\u001b[0m\u001b[0;34m,\u001b[0m\u001b[0;34m\u001b[0m\u001b[0;34m\u001b[0m\u001b[0m\n\u001b[0;32m--> 360\u001b[0;31m                                                     mutated=self.mutated)\n\u001b[0m\u001b[1;32m    361\u001b[0m \u001b[0;34m\u001b[0m\u001b[0m\n\u001b[1;32m    362\u001b[0m         \u001b[0mself\u001b[0m\u001b[0;34m.\u001b[0m\u001b[0mobj\u001b[0m \u001b[0;34m=\u001b[0m \u001b[0mobj\u001b[0m\u001b[0;34m\u001b[0m\u001b[0;34m\u001b[0m\u001b[0m\n",
        "\u001b[0;32m~/anaconda3/lib/python3.7/site-packages/pandas/core/groupby/grouper.py\u001b[0m in \u001b[0;36m_get_grouper\u001b[0;34m(obj, key, axis, level, sort, observed, mutated, validate)\u001b[0m\n\u001b[1;32m    576\u001b[0m                 \u001b[0min_axis\u001b[0m\u001b[0;34m,\u001b[0m \u001b[0mname\u001b[0m\u001b[0;34m,\u001b[0m \u001b[0mlevel\u001b[0m\u001b[0;34m,\u001b[0m \u001b[0mgpr\u001b[0m \u001b[0;34m=\u001b[0m \u001b[0;32mFalse\u001b[0m\u001b[0;34m,\u001b[0m \u001b[0;32mNone\u001b[0m\u001b[0;34m,\u001b[0m \u001b[0mgpr\u001b[0m\u001b[0;34m,\u001b[0m \u001b[0;32mNone\u001b[0m\u001b[0;34m\u001b[0m\u001b[0;34m\u001b[0m\u001b[0m\n\u001b[1;32m    577\u001b[0m             \u001b[0;32melse\u001b[0m\u001b[0;34m:\u001b[0m\u001b[0;34m\u001b[0m\u001b[0;34m\u001b[0m\u001b[0m\n\u001b[0;32m--> 578\u001b[0;31m                 \u001b[0;32mraise\u001b[0m \u001b[0mKeyError\u001b[0m\u001b[0;34m(\u001b[0m\u001b[0mgpr\u001b[0m\u001b[0;34m)\u001b[0m\u001b[0;34m\u001b[0m\u001b[0;34m\u001b[0m\u001b[0m\n\u001b[0m\u001b[1;32m    579\u001b[0m         \u001b[0;32melif\u001b[0m \u001b[0misinstance\u001b[0m\u001b[0;34m(\u001b[0m\u001b[0mgpr\u001b[0m\u001b[0;34m,\u001b[0m \u001b[0mGrouper\u001b[0m\u001b[0;34m)\u001b[0m \u001b[0;32mand\u001b[0m \u001b[0mgpr\u001b[0m\u001b[0;34m.\u001b[0m\u001b[0mkey\u001b[0m \u001b[0;32mis\u001b[0m \u001b[0;32mnot\u001b[0m \u001b[0;32mNone\u001b[0m\u001b[0;34m:\u001b[0m\u001b[0;34m\u001b[0m\u001b[0;34m\u001b[0m\u001b[0m\n\u001b[1;32m    580\u001b[0m             \u001b[0;31m# Add key to exclusions\u001b[0m\u001b[0;34m\u001b[0m\u001b[0;34m\u001b[0m\u001b[0;34m\u001b[0m\u001b[0m\n",
        "\u001b[0;31mKeyError\u001b[0m: 'year'"
       ]
      }
     ],
     "persistentId": "cdd96c56-2f5e-4ced-bf11-c7bdaedf91bb",
     "text": "# group by year?\neducation.groupby('year')"
    },
    "executionTime": "2019-12-02T07:01:08.601Z"
   },
   {
    "cell": {
     "executionCount": 43,
     "executionEventId": "3e264ef8-f717-4c30-9ffb-339d486608ea",
     "hasError": false,
     "id": "14cfe69c-8ff6-4de5-8439-dc5d61407326",
     "outputs": [
      {
       "data": {
        "text/plain": "<pandas.core.groupby.generic.DataFrameGroupBy object at 0x636dbe828>"
       },
       "execution_count": 43,
       "metadata": {},
       "output_type": "execute_result"
      }
     ],
     "persistentId": "cdd96c56-2f5e-4ced-bf11-c7bdaedf91bb",
     "text": "# group by year?\neducation.groupby('YEAR')"
    },
    "executionTime": "2019-12-02T07:01:16.667Z"
   },
   {
    "cell": {
     "executionCount": 44,
     "executionEventId": "13fde2af-5272-4cac-9007-c3d5592f31d2",
     "hasError": false,
     "id": "14cfe69c-8ff6-4de5-8439-dc5d61407326",
     "outputs": [
      {
       "data": {
        "text/plain": "<pandas.core.groupby.generic.SeriesGroupBy object at 0x636e20160>"
       },
       "execution_count": 44,
       "metadata": {},
       "output_type": "execute_result"
      }
     ],
     "persistentId": "cdd96c56-2f5e-4ced-bf11-c7bdaedf91bb",
     "text": "# group by year?\neducation.groupby('YEAR')['ENROLL']"
    },
    "executionTime": "2019-12-02T07:01:20.559Z"
   },
   {
    "cell": {
     "executionCount": 45,
     "executionEventId": "4df2b3a6-8df4-42f7-a195-d06630d528fc",
     "hasError": false,
     "id": "14cfe69c-8ff6-4de5-8439-dc5d61407326",
     "outputs": [
      {
       "data": {
        "text/plain": "YEAR\n1992    648313.0\n1993    639963.0\n1994    641364.0\n1995    644152.5\n1996    648313.0\n1997    648313.0\n1998    648313.0\n1999    648313.0\n2000    648313.0\n2001    648313.0\n2002    648313.0\n2003    648313.0\n2004    648313.0\n2005    648313.0\n2006    648313.0\n2007    648313.0\n2008    648313.0\n2009    648313.0\n2010    648313.0\n2011    648313.0\n2012    648313.0\n2013    648313.0\n2014    648313.0\n2015    648313.0\n2016    672777.0\n2017    648313.0\nName: ENROLL, dtype: float64"
       },
       "execution_count": 45,
       "metadata": {},
       "output_type": "execute_result"
      }
     ],
     "persistentId": "cdd96c56-2f5e-4ced-bf11-c7bdaedf91bb",
     "text": "# group by year?\neducation.groupby('YEAR')['ENROLL'].median()"
    },
    "executionTime": "2019-12-02T07:01:37.567Z"
   },
   {
    "cell": {
     "executionCount": 46,
     "executionEventId": "a9aaa8dd-c0e2-4ac1-b77c-a7e11ae615b8",
     "hasError": false,
     "id": "14cfe69c-8ff6-4de5-8439-dc5d61407326",
     "outputs": [
      {
       "data": {
        "text/plain": "0       648313.0\n1       648313.0\n2       648313.0\n3       648313.0\n4       648313.0\n5       648313.0\n6       648313.0\n7       648313.0\n8       648313.0\n9       648313.0\n10      648313.0\n11      648313.0\n12      648313.0\n13      648313.0\n14      648313.0\n15      648313.0\n16      648313.0\n17      648313.0\n18      648313.0\n19      648313.0\n20      648313.0\n21      648313.0\n22      648313.0\n23      648313.0\n24      648313.0\n25      648313.0\n26      648313.0\n27      648313.0\n28      648313.0\n29      648313.0\n          ...   \n1462    648313.0\n1463    648313.0\n1464    648313.0\n1465    648313.0\n1466    648313.0\n1467    648313.0\n1468    648313.0\n1469    648313.0\n1470    648313.0\n1471    648313.0\n1472    648313.0\n1473    648313.0\n1474    648313.0\n1475    648313.0\n1476    648313.0\n1477    648313.0\n1478    648313.0\n1479    648313.0\n1480    648313.0\n1481    648313.0\n1482    648313.0\n1483    648313.0\n1484    648313.0\n1485    648313.0\n1486    648313.0\n1487    648313.0\n1488    648313.0\n1489    648313.0\n1490    648313.0\n1491    648313.0\nName: ENROLL, Length: 1492, dtype: float64"
       },
       "execution_count": 46,
       "metadata": {},
       "output_type": "execute_result"
      }
     ],
     "persistentId": "cdd96c56-2f5e-4ced-bf11-c7bdaedf91bb",
     "text": "# group by year?\neducation['ENROLL']"
    },
    "executionTime": "2019-12-02T17:49:16.773Z"
   },
   {
    "cell": {
     "executionCount": 47,
     "executionEventId": "9a9bbdd4-0804-43fe-815d-dc273de5909e",
     "hasError": false,
     "id": "d68f7d18-affa-4608-b124-fd551cdca3a3",
     "outputs": [
      {
       "data": {
        "text/plain": "array([1992, 2001, 1993, 2016, 1994, 1995, 1996, 1997, 1998, 1999, 2017,\n       2000, 2002, 2003, 2004, 2005, 2006, 2007, 2008, 2009, 2010, 2011,\n       2012, 2013, 2014, 2015])"
       },
       "execution_count": 47,
       "metadata": {},
       "output_type": "execute_result"
      }
     ],
     "persistentId": "d12633d9-39b2-4541-9053-4fcaef85bb5e",
     "text": "education['YEAR'].unique()"
    },
    "executionTime": "2019-12-02T17:52:08.954Z"
   },
   {
    "cell": {
     "executionCount": 48,
     "executionEventId": "8fef27ec-820f-4829-8b36-f95adcab54f6",
     "hasError": false,
     "id": "d68f7d18-affa-4608-b124-fd551cdca3a3",
     "outputs": [
      {
       "name": "stdout",
       "output_type": "stream",
       "text": "1992\n2001\n1993\n2016\n1994\n1995\n1996\n1997\n1998\n1999\n2017\n2000\n2002\n2003\n2004\n2005\n2006\n2007\n2008\n2009\n2010\n2011\n2012\n2013\n2014\n2015\n"
      }
     ],
     "persistentId": "d12633d9-39b2-4541-9053-4fcaef85bb5e",
     "text": "for year in education['YEAR'].unique():\n    print(year)"
    },
    "executionTime": "2019-12-02T17:52:20.316Z"
   },
   {
    "cell": {
     "executionCount": 49,
     "executionEventId": "a9ace977-4204-4d67-9cb9-401958c4a802",
     "hasError": false,
     "id": "14cfe69c-8ff6-4de5-8439-dc5d61407326",
     "outputs": [],
     "persistentId": "cdd96c56-2f5e-4ced-bf11-c7bdaedf91bb",
     "text": "# group by year?\nfor column in education.columns[3:-4]:\n    for year in education['YEAR'].unique():\n        education.loc[education['YEAR'] == year, column].fillna(education.loc[education['YEAR'] == year, column].median(), inplace=True)"
    },
    "executionTime": "2019-12-02T17:54:01.552Z"
   },
   {
    "cell": {
     "executionCount": 50,
     "executionEventId": "860891c2-10d3-445e-bbe8-7a069e26e907",
     "hasError": false,
     "id": "81461130-1e96-4d1a-923f-57997872097c",
     "outputs": [],
     "persistentId": "889c18a5-6ea9-48fb-931b-84d5d599228e",
     "text": "# Inspect first 5 rows"
    },
    "executionTime": "2019-12-02T17:54:27.456Z"
   },
   {
    "cell": {
     "executionCount": 51,
     "executionEventId": "73ab66e2-4a34-456d-89f9-f9d6879036d1",
     "hasError": false,
     "id": "81461130-1e96-4d1a-923f-57997872097c",
     "outputs": [
      {
       "data": {
        "text/html": "<div>\n<style scoped>\n    .dataframe tbody tr th:only-of-type {\n        vertical-align: middle;\n    }\n\n    .dataframe tbody tr th {\n        vertical-align: top;\n    }\n\n    .dataframe thead th {\n        text-align: right;\n    }\n</style>\n<table border=\"1\" class=\"dataframe\">\n  <thead>\n    <tr style=\"text-align: right;\">\n      <th></th>\n      <th>PRIMARY_KEY</th>\n      <th>STATE</th>\n      <th>YEAR</th>\n      <th>ENROLL</th>\n      <th>TOTAL_REVENUE</th>\n      <th>FEDERAL_REVENUE</th>\n      <th>STATE_REVENUE</th>\n      <th>LOCAL_REVENUE</th>\n      <th>TOTAL_EXPENDITURE</th>\n      <th>INSTRUCTION_EXPENDITURE</th>\n      <th>...</th>\n      <th>GRADES_4_G</th>\n      <th>GRADES_8_G</th>\n      <th>GRADES_12_G</th>\n      <th>GRADES_1_8_G</th>\n      <th>GRADES_9_12_G</th>\n      <th>GRADES_ALL_G</th>\n      <th>AVG_MATH_4_SCORE</th>\n      <th>AVG_MATH_8_SCORE</th>\n      <th>AVG_READING_4_SCORE</th>\n      <th>AVG_READING_8_SCORE</th>\n    </tr>\n  </thead>\n  <tbody>\n    <tr>\n      <th>0</th>\n      <td>1992_ALABAMA</td>\n      <td>ALABAMA</td>\n      <td>1992</td>\n      <td>648313.0</td>\n      <td>2678885.0</td>\n      <td>304177.0</td>\n      <td>1659028.0</td>\n      <td>715680.0</td>\n      <td>2653798.0</td>\n      <td>1481703.0</td>\n      <td>...</td>\n      <td>57948.0</td>\n      <td>58025.0</td>\n      <td>41167.0</td>\n      <td>471564.0</td>\n      <td>196386.0</td>\n      <td>676174.0</td>\n      <td>208.327876</td>\n      <td>252.187522</td>\n      <td>207.963517</td>\n      <td>NaN</td>\n    </tr>\n    <tr>\n      <th>1</th>\n      <td>1992_ALASKA</td>\n      <td>ALASKA</td>\n      <td>1992</td>\n      <td>648313.0</td>\n      <td>1049591.0</td>\n      <td>106780.0</td>\n      <td>720711.0</td>\n      <td>222100.0</td>\n      <td>972488.0</td>\n      <td>498362.0</td>\n      <td>...</td>\n      <td>9748.0</td>\n      <td>8789.0</td>\n      <td>6714.0</td>\n      <td>79117.0</td>\n      <td>30847.0</td>\n      <td>112335.0</td>\n      <td>NaN</td>\n      <td>NaN</td>\n      <td>NaN</td>\n      <td>258.859712</td>\n    </tr>\n    <tr>\n      <th>2</th>\n      <td>1992_ARIZONA</td>\n      <td>ARIZONA</td>\n      <td>1992</td>\n      <td>648313.0</td>\n      <td>3258079.0</td>\n      <td>297888.0</td>\n      <td>1369815.0</td>\n      <td>1590376.0</td>\n      <td>3401580.0</td>\n      <td>1435908.0</td>\n      <td>...</td>\n      <td>55433.0</td>\n      <td>49081.0</td>\n      <td>37410.0</td>\n      <td>437127.0</td>\n      <td>175210.0</td>\n      <td>614881.0</td>\n      <td>215.253932</td>\n      <td>265.366278</td>\n      <td>206.212716</td>\n      <td>262.169895</td>\n    </tr>\n    <tr>\n      <th>3</th>\n      <td>1992_ARKANSAS</td>\n      <td>ARKANSAS</td>\n      <td>1992</td>\n      <td>648313.0</td>\n      <td>1711959.0</td>\n      <td>178571.0</td>\n      <td>958785.0</td>\n      <td>574603.0</td>\n      <td>1743022.0</td>\n      <td>964323.0</td>\n      <td>...</td>\n      <td>34632.0</td>\n      <td>36011.0</td>\n      <td>27651.0</td>\n      <td>281338.0</td>\n      <td>123113.0</td>\n      <td>405259.0</td>\n      <td>210.206028</td>\n      <td>256.312090</td>\n      <td>208.634458</td>\n      <td>264.619665</td>\n    </tr>\n    <tr>\n      <th>4</th>\n      <td>1992_CALIFORNIA</td>\n      <td>CALIFORNIA</td>\n      <td>1992</td>\n      <td>648313.0</td>\n      <td>26260025.0</td>\n      <td>2072470.0</td>\n      <td>16546514.0</td>\n      <td>7641041.0</td>\n      <td>27138832.0</td>\n      <td>14358922.0</td>\n      <td>...</td>\n      <td>418418.0</td>\n      <td>363296.0</td>\n      <td>270675.0</td>\n      <td>3286034.0</td>\n      <td>1372011.0</td>\n      <td>4717112.0</td>\n      <td>208.398961</td>\n      <td>260.892247</td>\n      <td>196.764414</td>\n      <td>NaN</td>\n    </tr>\n  </tbody>\n</table>\n<p>5 rows × 25 columns</p>\n</div>",
        "text/plain": "       PRIMARY_KEY       STATE  YEAR    ENROLL  TOTAL_REVENUE  \\\n0     1992_ALABAMA     ALABAMA  1992  648313.0      2678885.0   \n1      1992_ALASKA      ALASKA  1992  648313.0      1049591.0   \n2     1992_ARIZONA     ARIZONA  1992  648313.0      3258079.0   \n3    1992_ARKANSAS    ARKANSAS  1992  648313.0      1711959.0   \n4  1992_CALIFORNIA  CALIFORNIA  1992  648313.0     26260025.0   \n\n   FEDERAL_REVENUE  STATE_REVENUE  LOCAL_REVENUE  TOTAL_EXPENDITURE  \\\n0         304177.0      1659028.0       715680.0          2653798.0   \n1         106780.0       720711.0       222100.0           972488.0   \n2         297888.0      1369815.0      1590376.0          3401580.0   \n3         178571.0       958785.0       574603.0          1743022.0   \n4        2072470.0     16546514.0      7641041.0         27138832.0   \n\n   INSTRUCTION_EXPENDITURE  ...  GRADES_4_G  GRADES_8_G  GRADES_12_G  \\\n0                1481703.0  ...     57948.0     58025.0      41167.0   \n1                 498362.0  ...      9748.0      8789.0       6714.0   \n2                1435908.0  ...     55433.0     49081.0      37410.0   \n3                 964323.0  ...     34632.0     36011.0      27651.0   \n4               14358922.0  ...    418418.0    363296.0     270675.0   \n\n   GRADES_1_8_G  GRADES_9_12_G  GRADES_ALL_G  AVG_MATH_4_SCORE  \\\n0      471564.0       196386.0      676174.0        208.327876   \n1       79117.0        30847.0      112335.0               NaN   \n2      437127.0       175210.0      614881.0        215.253932   \n3      281338.0       123113.0      405259.0        210.206028   \n4     3286034.0      1372011.0     4717112.0        208.398961   \n\n   AVG_MATH_8_SCORE  AVG_READING_4_SCORE  AVG_READING_8_SCORE  \n0        252.187522           207.963517                  NaN  \n1               NaN                  NaN           258.859712  \n2        265.366278           206.212716           262.169895  \n3        256.312090           208.634458           264.619665  \n4        260.892247           196.764414                  NaN  \n\n[5 rows x 25 columns]"
       },
       "execution_count": 51,
       "metadata": {},
       "output_type": "execute_result"
      }
     ],
     "persistentId": "889c18a5-6ea9-48fb-931b-84d5d599228e",
     "text": "# Inspect first 5 rows\neducation.head()"
    },
    "executionTime": "2019-12-02T17:54:39.185Z"
   },
   {
    "cell": {
     "executionCount": 52,
     "executionEventId": "7069961f-f1f2-4868-b0a6-f25615288031",
     "hasError": false,
     "id": "14cfe69c-8ff6-4de5-8439-dc5d61407326",
     "outputs": [],
     "persistentId": "cdd96c56-2f5e-4ced-bf11-c7bdaedf91bb",
     "text": "for column in education.columns[3:-4]:\n    for year in education['YEAR'].unique():\n        education.loc[education['YEAR'] == year, column].fillna(education.loc[education['YEAR'] == year, column].median(), inplace=True)"
    },
    "executionTime": "2019-12-02T17:54:44.084Z"
   },
   {
    "cell": {
     "executionCount": 53,
     "executionEventId": "c20d8db1-efd0-4224-843b-a767f0ca7f15",
     "hasError": false,
     "id": "9e8d232f-8b61-479f-b6fb-0baf2c33b481",
     "outputs": [
      {
       "data": {
        "text/html": "<div>\n<style scoped>\n    .dataframe tbody tr th:only-of-type {\n        vertical-align: middle;\n    }\n\n    .dataframe tbody tr th {\n        vertical-align: top;\n    }\n\n    .dataframe thead th {\n        text-align: right;\n    }\n</style>\n<table border=\"1\" class=\"dataframe\">\n  <thead>\n    <tr style=\"text-align: right;\">\n      <th></th>\n      <th>PRIMARY_KEY</th>\n      <th>STATE</th>\n      <th>YEAR</th>\n      <th>ENROLL</th>\n      <th>TOTAL_REVENUE</th>\n      <th>FEDERAL_REVENUE</th>\n      <th>STATE_REVENUE</th>\n      <th>LOCAL_REVENUE</th>\n      <th>TOTAL_EXPENDITURE</th>\n      <th>INSTRUCTION_EXPENDITURE</th>\n      <th>...</th>\n      <th>GRADES_4_G</th>\n      <th>GRADES_8_G</th>\n      <th>GRADES_12_G</th>\n      <th>GRADES_1_8_G</th>\n      <th>GRADES_9_12_G</th>\n      <th>GRADES_ALL_G</th>\n      <th>AVG_MATH_4_SCORE</th>\n      <th>AVG_MATH_8_SCORE</th>\n      <th>AVG_READING_4_SCORE</th>\n      <th>AVG_READING_8_SCORE</th>\n    </tr>\n  </thead>\n  <tbody>\n    <tr>\n      <th>0</th>\n      <td>1992_ALABAMA</td>\n      <td>ALABAMA</td>\n      <td>1992</td>\n      <td>648313.0</td>\n      <td>2678885.0</td>\n      <td>304177.0</td>\n      <td>1659028.0</td>\n      <td>715680.0</td>\n      <td>2653798.0</td>\n      <td>1481703.0</td>\n      <td>...</td>\n      <td>57948.0</td>\n      <td>58025.0</td>\n      <td>41167.0</td>\n      <td>471564.0</td>\n      <td>196386.0</td>\n      <td>676174.0</td>\n      <td>208.327876</td>\n      <td>252.187522</td>\n      <td>207.963517</td>\n      <td>NaN</td>\n    </tr>\n    <tr>\n      <th>1</th>\n      <td>1992_ALASKA</td>\n      <td>ALASKA</td>\n      <td>1992</td>\n      <td>648313.0</td>\n      <td>1049591.0</td>\n      <td>106780.0</td>\n      <td>720711.0</td>\n      <td>222100.0</td>\n      <td>972488.0</td>\n      <td>498362.0</td>\n      <td>...</td>\n      <td>9748.0</td>\n      <td>8789.0</td>\n      <td>6714.0</td>\n      <td>79117.0</td>\n      <td>30847.0</td>\n      <td>112335.0</td>\n      <td>NaN</td>\n      <td>NaN</td>\n      <td>NaN</td>\n      <td>258.859712</td>\n    </tr>\n    <tr>\n      <th>2</th>\n      <td>1992_ARIZONA</td>\n      <td>ARIZONA</td>\n      <td>1992</td>\n      <td>648313.0</td>\n      <td>3258079.0</td>\n      <td>297888.0</td>\n      <td>1369815.0</td>\n      <td>1590376.0</td>\n      <td>3401580.0</td>\n      <td>1435908.0</td>\n      <td>...</td>\n      <td>55433.0</td>\n      <td>49081.0</td>\n      <td>37410.0</td>\n      <td>437127.0</td>\n      <td>175210.0</td>\n      <td>614881.0</td>\n      <td>215.253932</td>\n      <td>265.366278</td>\n      <td>206.212716</td>\n      <td>262.169895</td>\n    </tr>\n    <tr>\n      <th>3</th>\n      <td>1992_ARKANSAS</td>\n      <td>ARKANSAS</td>\n      <td>1992</td>\n      <td>648313.0</td>\n      <td>1711959.0</td>\n      <td>178571.0</td>\n      <td>958785.0</td>\n      <td>574603.0</td>\n      <td>1743022.0</td>\n      <td>964323.0</td>\n      <td>...</td>\n      <td>34632.0</td>\n      <td>36011.0</td>\n      <td>27651.0</td>\n      <td>281338.0</td>\n      <td>123113.0</td>\n      <td>405259.0</td>\n      <td>210.206028</td>\n      <td>256.312090</td>\n      <td>208.634458</td>\n      <td>264.619665</td>\n    </tr>\n    <tr>\n      <th>4</th>\n      <td>1992_CALIFORNIA</td>\n      <td>CALIFORNIA</td>\n      <td>1992</td>\n      <td>648313.0</td>\n      <td>26260025.0</td>\n      <td>2072470.0</td>\n      <td>16546514.0</td>\n      <td>7641041.0</td>\n      <td>27138832.0</td>\n      <td>14358922.0</td>\n      <td>...</td>\n      <td>418418.0</td>\n      <td>363296.0</td>\n      <td>270675.0</td>\n      <td>3286034.0</td>\n      <td>1372011.0</td>\n      <td>4717112.0</td>\n      <td>208.398961</td>\n      <td>260.892247</td>\n      <td>196.764414</td>\n      <td>NaN</td>\n    </tr>\n  </tbody>\n</table>\n<p>5 rows × 25 columns</p>\n</div>",
        "text/plain": "       PRIMARY_KEY       STATE  YEAR    ENROLL  TOTAL_REVENUE  \\\n0     1992_ALABAMA     ALABAMA  1992  648313.0      2678885.0   \n1      1992_ALASKA      ALASKA  1992  648313.0      1049591.0   \n2     1992_ARIZONA     ARIZONA  1992  648313.0      3258079.0   \n3    1992_ARKANSAS    ARKANSAS  1992  648313.0      1711959.0   \n4  1992_CALIFORNIA  CALIFORNIA  1992  648313.0     26260025.0   \n\n   FEDERAL_REVENUE  STATE_REVENUE  LOCAL_REVENUE  TOTAL_EXPENDITURE  \\\n0         304177.0      1659028.0       715680.0          2653798.0   \n1         106780.0       720711.0       222100.0           972488.0   \n2         297888.0      1369815.0      1590376.0          3401580.0   \n3         178571.0       958785.0       574603.0          1743022.0   \n4        2072470.0     16546514.0      7641041.0         27138832.0   \n\n   INSTRUCTION_EXPENDITURE  ...  GRADES_4_G  GRADES_8_G  GRADES_12_G  \\\n0                1481703.0  ...     57948.0     58025.0      41167.0   \n1                 498362.0  ...      9748.0      8789.0       6714.0   \n2                1435908.0  ...     55433.0     49081.0      37410.0   \n3                 964323.0  ...     34632.0     36011.0      27651.0   \n4               14358922.0  ...    418418.0    363296.0     270675.0   \n\n   GRADES_1_8_G  GRADES_9_12_G  GRADES_ALL_G  AVG_MATH_4_SCORE  \\\n0      471564.0       196386.0      676174.0        208.327876   \n1       79117.0        30847.0      112335.0               NaN   \n2      437127.0       175210.0      614881.0        215.253932   \n3      281338.0       123113.0      405259.0        210.206028   \n4     3286034.0      1372011.0     4717112.0        208.398961   \n\n   AVG_MATH_8_SCORE  AVG_READING_4_SCORE  AVG_READING_8_SCORE  \n0        252.187522           207.963517                  NaN  \n1               NaN                  NaN           258.859712  \n2        265.366278           206.212716           262.169895  \n3        256.312090           208.634458           264.619665  \n4        260.892247           196.764414                  NaN  \n\n[5 rows x 25 columns]"
       },
       "execution_count": 53,
       "metadata": {},
       "output_type": "execute_result"
      }
     ],
     "persistentId": "3a02de4b-4058-4efc-8d05-f64324a9e49f",
     "text": "# Inspect first 5 rows\neducation.head()"
    },
    "executionTime": "2019-12-02T17:54:48.479Z"
   },
   {
    "cell": {
     "executionCount": 1,
     "executionEventId": "5fd3779a-7414-4520-8ea0-604077aef8d2",
     "hasError": false,
     "id": "d62f0f05-b967-497a-86f3-8f98b3cd29e2",
     "outputs": [],
     "persistentId": "9b0e9262-6095-469e-85a4-b2a7c45ce235",
     "text": "import pandas as pd\nimport numpy as np\nfrom sqlalchemy import create_engine"
    },
    "executionTime": "2019-12-02T17:56:41.977Z"
   },
   {
    "cell": {
     "executionCount": 2,
     "executionEventId": "8c6a46a5-0a49-4662-be07-331f6b2319e2",
     "hasError": false,
     "id": "ea87b3e7-bda7-405d-80a4-163409111b8a",
     "outputs": [],
     "persistentId": "fe343357-7154-4ada-adea-ca58439749e0",
     "text": "# PostgreSQL credentials\npostgres_user = 'dsbc_student'\npostgres_pw = '7*.8G9QH21'\npostgres_host = '142.93.121.174'\npostgres_port = '5432'\npostgres_db = 'useducation'\n\n# Read the data from the useducation table\nengine = create_engine('postgresql://{}:{}@{}:{}/{}'.format(\n    postgres_user, postgres_pw, postgres_host, postgres_port, postgres_db))\n\neducation = pd.read_sql_query('select * from useducation',con=engine)"
    },
    "executionTime": "2019-12-02T17:56:44.288Z"
   },
   {
    "cell": {
     "executionCount": 4,
     "executionEventId": "eba04731-d8d2-4a19-ac51-1377060782b2",
     "hasError": false,
     "id": "bc297b0b-5517-47d8-98c9-0b2bb4841175",
     "outputs": [
      {
       "name": "stdout",
       "output_type": "stream",
       "text": "<class 'pandas.core.frame.DataFrame'>\nRangeIndex: 1492 entries, 0 to 1491\nData columns (total 25 columns):\nPRIMARY_KEY                     1492 non-null object\nSTATE                           1492 non-null object\nYEAR                            1492 non-null int64\nENROLL                          1229 non-null float64\nTOTAL_REVENUE                   1280 non-null float64\nFEDERAL_REVENUE                 1280 non-null float64\nSTATE_REVENUE                   1280 non-null float64\nLOCAL_REVENUE                   1280 non-null float64\nTOTAL_EXPENDITURE               1280 non-null float64\nINSTRUCTION_EXPENDITURE         1280 non-null float64\nSUPPORT_SERVICES_EXPENDITURE    1280 non-null float64\nOTHER_EXPENDITURE               1229 non-null float64\nCAPITAL_OUTLAY_EXPENDITURE      1280 non-null float64\nGRADES_PK_G                     1319 non-null float64\nGRADES_KG_G                     1360 non-null float64\nGRADES_4_G                      1361 non-null float64\nGRADES_8_G                      1361 non-null float64\nGRADES_12_G                     1361 non-null float64\nGRADES_1_8_G                    1361 non-null float64\nGRADES_9_12_G                   1361 non-null float64\nGRADES_ALL_G                    1319 non-null float64\nAVG_MATH_4_SCORE                536 non-null float64\nAVG_MATH_8_SCORE                532 non-null float64\nAVG_READING_4_SCORE             533 non-null float64\nAVG_READING_8_SCORE             498 non-null float64\ndtypes: float64(22), int64(1), object(2)\nmemory usage: 291.5+ KB\n"
      }
     ],
     "persistentId": "590b5868-cf4d-4ddc-903e-0b9b085e6380",
     "text": "education.info()"
    },
    "executionTime": "2019-12-02T17:56:50.178Z"
   },
   {
    "cell": {
     "executionCount": 5,
     "executionEventId": "0eefb4cb-b948-4c7b-8239-6f64954ea33e",
     "hasError": false,
     "id": "3a1086de-cb9a-45a0-b8e6-9a4440b4c0c3",
     "outputs": [
      {
       "data": {
        "text/plain": "PRIMARY_KEY                     0.000000\nSTATE                           0.000000\nYEAR                            0.000000\nENROLL                          0.176273\nTOTAL_REVENUE                   0.142091\nFEDERAL_REVENUE                 0.142091\nSTATE_REVENUE                   0.142091\nLOCAL_REVENUE                   0.142091\nTOTAL_EXPENDITURE               0.142091\nINSTRUCTION_EXPENDITURE         0.142091\nSUPPORT_SERVICES_EXPENDITURE    0.142091\nOTHER_EXPENDITURE               0.176273\nCAPITAL_OUTLAY_EXPENDITURE      0.142091\nGRADES_PK_G                     0.115952\nGRADES_KG_G                     0.088472\nGRADES_4_G                      0.087802\nGRADES_8_G                      0.087802\nGRADES_12_G                     0.087802\nGRADES_1_8_G                    0.087802\nGRADES_9_12_G                   0.087802\nGRADES_ALL_G                    0.115952\nAVG_MATH_4_SCORE                0.640751\nAVG_MATH_8_SCORE                0.643432\nAVG_READING_4_SCORE             0.642761\nAVG_READING_8_SCORE             0.666220\ndtype: float64"
       },
       "execution_count": 5,
       "metadata": {},
       "output_type": "execute_result"
      }
     ],
     "persistentId": "7eaad6d5-7b9e-4364-a480-7710d5015fb2",
     "text": "education.isnull().sum()/education.isnull().count()"
    },
    "executionTime": "2019-12-02T17:56:52.387Z"
   },
   {
    "cell": {
     "executionCount": 6,
     "executionEventId": "3b2a1c31-e2d4-499c-9dfa-6cda5195a3f7",
     "hasError": false,
     "id": "43be2d84-dbcd-4d34-ad32-5694ab5bae35",
     "outputs": [],
     "persistentId": "0514f08b-ac18-4578-8c4c-564f350cfb09",
     "text": "# Create an empty dataframe with the same dimension\neducation_1 = pd.DataFrame().reindex_like(education)"
    },
    "executionTime": "2019-12-02T17:59:53.151Z"
   },
   {
    "cell": {
     "executionCount": 7,
     "executionEventId": "f35becb2-e755-44ad-a57d-688b0c297dee",
     "hasError": false,
     "id": "00e2367b-f5b8-4d78-9e0c-bbcc303b0530",
     "outputs": [
      {
       "data": {
        "text/html": "<div>\n<style scoped>\n    .dataframe tbody tr th:only-of-type {\n        vertical-align: middle;\n    }\n\n    .dataframe tbody tr th {\n        vertical-align: top;\n    }\n\n    .dataframe thead th {\n        text-align: right;\n    }\n</style>\n<table border=\"1\" class=\"dataframe\">\n  <thead>\n    <tr style=\"text-align: right;\">\n      <th></th>\n      <th>PRIMARY_KEY</th>\n      <th>STATE</th>\n      <th>YEAR</th>\n      <th>ENROLL</th>\n      <th>TOTAL_REVENUE</th>\n      <th>FEDERAL_REVENUE</th>\n      <th>STATE_REVENUE</th>\n      <th>LOCAL_REVENUE</th>\n      <th>TOTAL_EXPENDITURE</th>\n      <th>INSTRUCTION_EXPENDITURE</th>\n      <th>...</th>\n      <th>GRADES_4_G</th>\n      <th>GRADES_8_G</th>\n      <th>GRADES_12_G</th>\n      <th>GRADES_1_8_G</th>\n      <th>GRADES_9_12_G</th>\n      <th>GRADES_ALL_G</th>\n      <th>AVG_MATH_4_SCORE</th>\n      <th>AVG_MATH_8_SCORE</th>\n      <th>AVG_READING_4_SCORE</th>\n      <th>AVG_READING_8_SCORE</th>\n    </tr>\n  </thead>\n  <tbody>\n    <tr>\n      <th>0</th>\n      <td>NaN</td>\n      <td>NaN</td>\n      <td>NaN</td>\n      <td>NaN</td>\n      <td>NaN</td>\n      <td>NaN</td>\n      <td>NaN</td>\n      <td>NaN</td>\n      <td>NaN</td>\n      <td>NaN</td>\n      <td>...</td>\n      <td>NaN</td>\n      <td>NaN</td>\n      <td>NaN</td>\n      <td>NaN</td>\n      <td>NaN</td>\n      <td>NaN</td>\n      <td>NaN</td>\n      <td>NaN</td>\n      <td>NaN</td>\n      <td>NaN</td>\n    </tr>\n    <tr>\n      <th>1</th>\n      <td>NaN</td>\n      <td>NaN</td>\n      <td>NaN</td>\n      <td>NaN</td>\n      <td>NaN</td>\n      <td>NaN</td>\n      <td>NaN</td>\n      <td>NaN</td>\n      <td>NaN</td>\n      <td>NaN</td>\n      <td>...</td>\n      <td>NaN</td>\n      <td>NaN</td>\n      <td>NaN</td>\n      <td>NaN</td>\n      <td>NaN</td>\n      <td>NaN</td>\n      <td>NaN</td>\n      <td>NaN</td>\n      <td>NaN</td>\n      <td>NaN</td>\n    </tr>\n    <tr>\n      <th>2</th>\n      <td>NaN</td>\n      <td>NaN</td>\n      <td>NaN</td>\n      <td>NaN</td>\n      <td>NaN</td>\n      <td>NaN</td>\n      <td>NaN</td>\n      <td>NaN</td>\n      <td>NaN</td>\n      <td>NaN</td>\n      <td>...</td>\n      <td>NaN</td>\n      <td>NaN</td>\n      <td>NaN</td>\n      <td>NaN</td>\n      <td>NaN</td>\n      <td>NaN</td>\n      <td>NaN</td>\n      <td>NaN</td>\n      <td>NaN</td>\n      <td>NaN</td>\n    </tr>\n    <tr>\n      <th>3</th>\n      <td>NaN</td>\n      <td>NaN</td>\n      <td>NaN</td>\n      <td>NaN</td>\n      <td>NaN</td>\n      <td>NaN</td>\n      <td>NaN</td>\n      <td>NaN</td>\n      <td>NaN</td>\n      <td>NaN</td>\n      <td>...</td>\n      <td>NaN</td>\n      <td>NaN</td>\n      <td>NaN</td>\n      <td>NaN</td>\n      <td>NaN</td>\n      <td>NaN</td>\n      <td>NaN</td>\n      <td>NaN</td>\n      <td>NaN</td>\n      <td>NaN</td>\n    </tr>\n    <tr>\n      <th>4</th>\n      <td>NaN</td>\n      <td>NaN</td>\n      <td>NaN</td>\n      <td>NaN</td>\n      <td>NaN</td>\n      <td>NaN</td>\n      <td>NaN</td>\n      <td>NaN</td>\n      <td>NaN</td>\n      <td>NaN</td>\n      <td>...</td>\n      <td>NaN</td>\n      <td>NaN</td>\n      <td>NaN</td>\n      <td>NaN</td>\n      <td>NaN</td>\n      <td>NaN</td>\n      <td>NaN</td>\n      <td>NaN</td>\n      <td>NaN</td>\n      <td>NaN</td>\n    </tr>\n    <tr>\n      <th>5</th>\n      <td>NaN</td>\n      <td>NaN</td>\n      <td>NaN</td>\n      <td>NaN</td>\n      <td>NaN</td>\n      <td>NaN</td>\n      <td>NaN</td>\n      <td>NaN</td>\n      <td>NaN</td>\n      <td>NaN</td>\n      <td>...</td>\n      <td>NaN</td>\n      <td>NaN</td>\n      <td>NaN</td>\n      <td>NaN</td>\n      <td>NaN</td>\n      <td>NaN</td>\n      <td>NaN</td>\n      <td>NaN</td>\n      <td>NaN</td>\n      <td>NaN</td>\n    </tr>\n    <tr>\n      <th>6</th>\n      <td>NaN</td>\n      <td>NaN</td>\n      <td>NaN</td>\n      <td>NaN</td>\n      <td>NaN</td>\n      <td>NaN</td>\n      <td>NaN</td>\n      <td>NaN</td>\n      <td>NaN</td>\n      <td>NaN</td>\n      <td>...</td>\n      <td>NaN</td>\n      <td>NaN</td>\n      <td>NaN</td>\n      <td>NaN</td>\n      <td>NaN</td>\n      <td>NaN</td>\n      <td>NaN</td>\n      <td>NaN</td>\n      <td>NaN</td>\n      <td>NaN</td>\n    </tr>\n    <tr>\n      <th>7</th>\n      <td>NaN</td>\n      <td>NaN</td>\n      <td>NaN</td>\n      <td>NaN</td>\n      <td>NaN</td>\n      <td>NaN</td>\n      <td>NaN</td>\n      <td>NaN</td>\n      <td>NaN</td>\n      <td>NaN</td>\n      <td>...</td>\n      <td>NaN</td>\n      <td>NaN</td>\n      <td>NaN</td>\n      <td>NaN</td>\n      <td>NaN</td>\n      <td>NaN</td>\n      <td>NaN</td>\n      <td>NaN</td>\n      <td>NaN</td>\n      <td>NaN</td>\n    </tr>\n    <tr>\n      <th>8</th>\n      <td>NaN</td>\n      <td>NaN</td>\n      <td>NaN</td>\n      <td>NaN</td>\n      <td>NaN</td>\n      <td>NaN</td>\n      <td>NaN</td>\n      <td>NaN</td>\n      <td>NaN</td>\n      <td>NaN</td>\n      <td>...</td>\n      <td>NaN</td>\n      <td>NaN</td>\n      <td>NaN</td>\n      <td>NaN</td>\n      <td>NaN</td>\n      <td>NaN</td>\n      <td>NaN</td>\n      <td>NaN</td>\n      <td>NaN</td>\n      <td>NaN</td>\n    </tr>\n    <tr>\n      <th>9</th>\n      <td>NaN</td>\n      <td>NaN</td>\n      <td>NaN</td>\n      <td>NaN</td>\n      <td>NaN</td>\n      <td>NaN</td>\n      <td>NaN</td>\n      <td>NaN</td>\n      <td>NaN</td>\n      <td>NaN</td>\n      <td>...</td>\n      <td>NaN</td>\n      <td>NaN</td>\n      <td>NaN</td>\n      <td>NaN</td>\n      <td>NaN</td>\n      <td>NaN</td>\n      <td>NaN</td>\n      <td>NaN</td>\n      <td>NaN</td>\n      <td>NaN</td>\n    </tr>\n    <tr>\n      <th>10</th>\n      <td>NaN</td>\n      <td>NaN</td>\n      <td>NaN</td>\n      <td>NaN</td>\n      <td>NaN</td>\n      <td>NaN</td>\n      <td>NaN</td>\n      <td>NaN</td>\n      <td>NaN</td>\n      <td>NaN</td>\n      <td>...</td>\n      <td>NaN</td>\n      <td>NaN</td>\n      <td>NaN</td>\n      <td>NaN</td>\n      <td>NaN</td>\n      <td>NaN</td>\n      <td>NaN</td>\n      <td>NaN</td>\n      <td>NaN</td>\n      <td>NaN</td>\n    </tr>\n    <tr>\n      <th>11</th>\n      <td>NaN</td>\n      <td>NaN</td>\n      <td>NaN</td>\n      <td>NaN</td>\n      <td>NaN</td>\n      <td>NaN</td>\n      <td>NaN</td>\n      <td>NaN</td>\n      <td>NaN</td>\n      <td>NaN</td>\n      <td>...</td>\n      <td>NaN</td>\n      <td>NaN</td>\n      <td>NaN</td>\n      <td>NaN</td>\n      <td>NaN</td>\n      <td>NaN</td>\n      <td>NaN</td>\n      <td>NaN</td>\n      <td>NaN</td>\n      <td>NaN</td>\n    </tr>\n    <tr>\n      <th>12</th>\n      <td>NaN</td>\n      <td>NaN</td>\n      <td>NaN</td>\n      <td>NaN</td>\n      <td>NaN</td>\n      <td>NaN</td>\n      <td>NaN</td>\n      <td>NaN</td>\n      <td>NaN</td>\n      <td>NaN</td>\n      <td>...</td>\n      <td>NaN</td>\n      <td>NaN</td>\n      <td>NaN</td>\n      <td>NaN</td>\n      <td>NaN</td>\n      <td>NaN</td>\n      <td>NaN</td>\n      <td>NaN</td>\n      <td>NaN</td>\n      <td>NaN</td>\n    </tr>\n    <tr>\n      <th>13</th>\n      <td>NaN</td>\n      <td>NaN</td>\n      <td>NaN</td>\n      <td>NaN</td>\n      <td>NaN</td>\n      <td>NaN</td>\n      <td>NaN</td>\n      <td>NaN</td>\n      <td>NaN</td>\n      <td>NaN</td>\n      <td>...</td>\n      <td>NaN</td>\n      <td>NaN</td>\n      <td>NaN</td>\n      <td>NaN</td>\n      <td>NaN</td>\n      <td>NaN</td>\n      <td>NaN</td>\n      <td>NaN</td>\n      <td>NaN</td>\n      <td>NaN</td>\n    </tr>\n    <tr>\n      <th>14</th>\n      <td>NaN</td>\n      <td>NaN</td>\n      <td>NaN</td>\n      <td>NaN</td>\n      <td>NaN</td>\n      <td>NaN</td>\n      <td>NaN</td>\n      <td>NaN</td>\n      <td>NaN</td>\n      <td>NaN</td>\n      <td>...</td>\n      <td>NaN</td>\n      <td>NaN</td>\n      <td>NaN</td>\n      <td>NaN</td>\n      <td>NaN</td>\n      <td>NaN</td>\n      <td>NaN</td>\n      <td>NaN</td>\n      <td>NaN</td>\n      <td>NaN</td>\n    </tr>\n    <tr>\n      <th>15</th>\n      <td>NaN</td>\n      <td>NaN</td>\n      <td>NaN</td>\n      <td>NaN</td>\n      <td>NaN</td>\n      <td>NaN</td>\n      <td>NaN</td>\n      <td>NaN</td>\n      <td>NaN</td>\n      <td>NaN</td>\n      <td>...</td>\n      <td>NaN</td>\n      <td>NaN</td>\n      <td>NaN</td>\n      <td>NaN</td>\n      <td>NaN</td>\n      <td>NaN</td>\n      <td>NaN</td>\n      <td>NaN</td>\n      <td>NaN</td>\n      <td>NaN</td>\n    </tr>\n    <tr>\n      <th>16</th>\n      <td>NaN</td>\n      <td>NaN</td>\n      <td>NaN</td>\n      <td>NaN</td>\n      <td>NaN</td>\n      <td>NaN</td>\n      <td>NaN</td>\n      <td>NaN</td>\n      <td>NaN</td>\n      <td>NaN</td>\n      <td>...</td>\n      <td>NaN</td>\n      <td>NaN</td>\n      <td>NaN</td>\n      <td>NaN</td>\n      <td>NaN</td>\n      <td>NaN</td>\n      <td>NaN</td>\n      <td>NaN</td>\n      <td>NaN</td>\n      <td>NaN</td>\n    </tr>\n    <tr>\n      <th>17</th>\n      <td>NaN</td>\n      <td>NaN</td>\n      <td>NaN</td>\n      <td>NaN</td>\n      <td>NaN</td>\n      <td>NaN</td>\n      <td>NaN</td>\n      <td>NaN</td>\n      <td>NaN</td>\n      <td>NaN</td>\n      <td>...</td>\n      <td>NaN</td>\n      <td>NaN</td>\n      <td>NaN</td>\n      <td>NaN</td>\n      <td>NaN</td>\n      <td>NaN</td>\n      <td>NaN</td>\n      <td>NaN</td>\n      <td>NaN</td>\n      <td>NaN</td>\n    </tr>\n    <tr>\n      <th>18</th>\n      <td>NaN</td>\n      <td>NaN</td>\n      <td>NaN</td>\n      <td>NaN</td>\n      <td>NaN</td>\n      <td>NaN</td>\n      <td>NaN</td>\n      <td>NaN</td>\n      <td>NaN</td>\n      <td>NaN</td>\n      <td>...</td>\n      <td>NaN</td>\n      <td>NaN</td>\n      <td>NaN</td>\n      <td>NaN</td>\n      <td>NaN</td>\n      <td>NaN</td>\n      <td>NaN</td>\n      <td>NaN</td>\n      <td>NaN</td>\n      <td>NaN</td>\n    </tr>\n    <tr>\n      <th>19</th>\n      <td>NaN</td>\n      <td>NaN</td>\n      <td>NaN</td>\n      <td>NaN</td>\n      <td>NaN</td>\n      <td>NaN</td>\n      <td>NaN</td>\n      <td>NaN</td>\n      <td>NaN</td>\n      <td>NaN</td>\n      <td>...</td>\n      <td>NaN</td>\n      <td>NaN</td>\n      <td>NaN</td>\n      <td>NaN</td>\n      <td>NaN</td>\n      <td>NaN</td>\n      <td>NaN</td>\n      <td>NaN</td>\n      <td>NaN</td>\n      <td>NaN</td>\n    </tr>\n    <tr>\n      <th>20</th>\n      <td>NaN</td>\n      <td>NaN</td>\n      <td>NaN</td>\n      <td>NaN</td>\n      <td>NaN</td>\n      <td>NaN</td>\n      <td>NaN</td>\n      <td>NaN</td>\n      <td>NaN</td>\n      <td>NaN</td>\n      <td>...</td>\n      <td>NaN</td>\n      <td>NaN</td>\n      <td>NaN</td>\n      <td>NaN</td>\n      <td>NaN</td>\n      <td>NaN</td>\n      <td>NaN</td>\n      <td>NaN</td>\n      <td>NaN</td>\n      <td>NaN</td>\n    </tr>\n    <tr>\n      <th>21</th>\n      <td>NaN</td>\n      <td>NaN</td>\n      <td>NaN</td>\n      <td>NaN</td>\n      <td>NaN</td>\n      <td>NaN</td>\n      <td>NaN</td>\n      <td>NaN</td>\n      <td>NaN</td>\n      <td>NaN</td>\n      <td>...</td>\n      <td>NaN</td>\n      <td>NaN</td>\n      <td>NaN</td>\n      <td>NaN</td>\n      <td>NaN</td>\n      <td>NaN</td>\n      <td>NaN</td>\n      <td>NaN</td>\n      <td>NaN</td>\n      <td>NaN</td>\n    </tr>\n    <tr>\n      <th>22</th>\n      <td>NaN</td>\n      <td>NaN</td>\n      <td>NaN</td>\n      <td>NaN</td>\n      <td>NaN</td>\n      <td>NaN</td>\n      <td>NaN</td>\n      <td>NaN</td>\n      <td>NaN</td>\n      <td>NaN</td>\n      <td>...</td>\n      <td>NaN</td>\n      <td>NaN</td>\n      <td>NaN</td>\n      <td>NaN</td>\n      <td>NaN</td>\n      <td>NaN</td>\n      <td>NaN</td>\n      <td>NaN</td>\n      <td>NaN</td>\n      <td>NaN</td>\n    </tr>\n    <tr>\n      <th>23</th>\n      <td>NaN</td>\n      <td>NaN</td>\n      <td>NaN</td>\n      <td>NaN</td>\n      <td>NaN</td>\n      <td>NaN</td>\n      <td>NaN</td>\n      <td>NaN</td>\n      <td>NaN</td>\n      <td>NaN</td>\n      <td>...</td>\n      <td>NaN</td>\n      <td>NaN</td>\n      <td>NaN</td>\n      <td>NaN</td>\n      <td>NaN</td>\n      <td>NaN</td>\n      <td>NaN</td>\n      <td>NaN</td>\n      <td>NaN</td>\n      <td>NaN</td>\n    </tr>\n    <tr>\n      <th>24</th>\n      <td>NaN</td>\n      <td>NaN</td>\n      <td>NaN</td>\n      <td>NaN</td>\n      <td>NaN</td>\n      <td>NaN</td>\n      <td>NaN</td>\n      <td>NaN</td>\n      <td>NaN</td>\n      <td>NaN</td>\n      <td>...</td>\n      <td>NaN</td>\n      <td>NaN</td>\n      <td>NaN</td>\n      <td>NaN</td>\n      <td>NaN</td>\n      <td>NaN</td>\n      <td>NaN</td>\n      <td>NaN</td>\n      <td>NaN</td>\n      <td>NaN</td>\n    </tr>\n    <tr>\n      <th>25</th>\n      <td>NaN</td>\n      <td>NaN</td>\n      <td>NaN</td>\n      <td>NaN</td>\n      <td>NaN</td>\n      <td>NaN</td>\n      <td>NaN</td>\n      <td>NaN</td>\n      <td>NaN</td>\n      <td>NaN</td>\n      <td>...</td>\n      <td>NaN</td>\n      <td>NaN</td>\n      <td>NaN</td>\n      <td>NaN</td>\n      <td>NaN</td>\n      <td>NaN</td>\n      <td>NaN</td>\n      <td>NaN</td>\n      <td>NaN</td>\n      <td>NaN</td>\n    </tr>\n    <tr>\n      <th>26</th>\n      <td>NaN</td>\n      <td>NaN</td>\n      <td>NaN</td>\n      <td>NaN</td>\n      <td>NaN</td>\n      <td>NaN</td>\n      <td>NaN</td>\n      <td>NaN</td>\n      <td>NaN</td>\n      <td>NaN</td>\n      <td>...</td>\n      <td>NaN</td>\n      <td>NaN</td>\n      <td>NaN</td>\n      <td>NaN</td>\n      <td>NaN</td>\n      <td>NaN</td>\n      <td>NaN</td>\n      <td>NaN</td>\n      <td>NaN</td>\n      <td>NaN</td>\n    </tr>\n    <tr>\n      <th>27</th>\n      <td>NaN</td>\n      <td>NaN</td>\n      <td>NaN</td>\n      <td>NaN</td>\n      <td>NaN</td>\n      <td>NaN</td>\n      <td>NaN</td>\n      <td>NaN</td>\n      <td>NaN</td>\n      <td>NaN</td>\n      <td>...</td>\n      <td>NaN</td>\n      <td>NaN</td>\n      <td>NaN</td>\n      <td>NaN</td>\n      <td>NaN</td>\n      <td>NaN</td>\n      <td>NaN</td>\n      <td>NaN</td>\n      <td>NaN</td>\n      <td>NaN</td>\n    </tr>\n    <tr>\n      <th>28</th>\n      <td>NaN</td>\n      <td>NaN</td>\n      <td>NaN</td>\n      <td>NaN</td>\n      <td>NaN</td>\n      <td>NaN</td>\n      <td>NaN</td>\n      <td>NaN</td>\n      <td>NaN</td>\n      <td>NaN</td>\n      <td>...</td>\n      <td>NaN</td>\n      <td>NaN</td>\n      <td>NaN</td>\n      <td>NaN</td>\n      <td>NaN</td>\n      <td>NaN</td>\n      <td>NaN</td>\n      <td>NaN</td>\n      <td>NaN</td>\n      <td>NaN</td>\n    </tr>\n    <tr>\n      <th>29</th>\n      <td>NaN</td>\n      <td>NaN</td>\n      <td>NaN</td>\n      <td>NaN</td>\n      <td>NaN</td>\n      <td>NaN</td>\n      <td>NaN</td>\n      <td>NaN</td>\n      <td>NaN</td>\n      <td>NaN</td>\n      <td>...</td>\n      <td>NaN</td>\n      <td>NaN</td>\n      <td>NaN</td>\n      <td>NaN</td>\n      <td>NaN</td>\n      <td>NaN</td>\n      <td>NaN</td>\n      <td>NaN</td>\n      <td>NaN</td>\n      <td>NaN</td>\n    </tr>\n    <tr>\n      <th>...</th>\n      <td>...</td>\n      <td>...</td>\n      <td>...</td>\n      <td>...</td>\n      <td>...</td>\n      <td>...</td>\n      <td>...</td>\n      <td>...</td>\n      <td>...</td>\n      <td>...</td>\n      <td>...</td>\n      <td>...</td>\n      <td>...</td>\n      <td>...</td>\n      <td>...</td>\n      <td>...</td>\n      <td>...</td>\n      <td>...</td>\n      <td>...</td>\n      <td>...</td>\n      <td>...</td>\n    </tr>\n    <tr>\n      <th>1462</th>\n      <td>NaN</td>\n      <td>NaN</td>\n      <td>NaN</td>\n      <td>NaN</td>\n      <td>NaN</td>\n      <td>NaN</td>\n      <td>NaN</td>\n      <td>NaN</td>\n      <td>NaN</td>\n      <td>NaN</td>\n      <td>...</td>\n      <td>NaN</td>\n      <td>NaN</td>\n      <td>NaN</td>\n      <td>NaN</td>\n      <td>NaN</td>\n      <td>NaN</td>\n      <td>NaN</td>\n      <td>NaN</td>\n      <td>NaN</td>\n      <td>NaN</td>\n    </tr>\n    <tr>\n      <th>1463</th>\n      <td>NaN</td>\n      <td>NaN</td>\n      <td>NaN</td>\n      <td>NaN</td>\n      <td>NaN</td>\n      <td>NaN</td>\n      <td>NaN</td>\n      <td>NaN</td>\n      <td>NaN</td>\n      <td>NaN</td>\n      <td>...</td>\n      <td>NaN</td>\n      <td>NaN</td>\n      <td>NaN</td>\n      <td>NaN</td>\n      <td>NaN</td>\n      <td>NaN</td>\n      <td>NaN</td>\n      <td>NaN</td>\n      <td>NaN</td>\n      <td>NaN</td>\n    </tr>\n    <tr>\n      <th>1464</th>\n      <td>NaN</td>\n      <td>NaN</td>\n      <td>NaN</td>\n      <td>NaN</td>\n      <td>NaN</td>\n      <td>NaN</td>\n      <td>NaN</td>\n      <td>NaN</td>\n      <td>NaN</td>\n      <td>NaN</td>\n      <td>...</td>\n      <td>NaN</td>\n      <td>NaN</td>\n      <td>NaN</td>\n      <td>NaN</td>\n      <td>NaN</td>\n      <td>NaN</td>\n      <td>NaN</td>\n      <td>NaN</td>\n      <td>NaN</td>\n      <td>NaN</td>\n    </tr>\n    <tr>\n      <th>1465</th>\n      <td>NaN</td>\n      <td>NaN</td>\n      <td>NaN</td>\n      <td>NaN</td>\n      <td>NaN</td>\n      <td>NaN</td>\n      <td>NaN</td>\n      <td>NaN</td>\n      <td>NaN</td>\n      <td>NaN</td>\n      <td>...</td>\n      <td>NaN</td>\n      <td>NaN</td>\n      <td>NaN</td>\n      <td>NaN</td>\n      <td>NaN</td>\n      <td>NaN</td>\n      <td>NaN</td>\n      <td>NaN</td>\n      <td>NaN</td>\n      <td>NaN</td>\n    </tr>\n    <tr>\n      <th>1466</th>\n      <td>NaN</td>\n      <td>NaN</td>\n      <td>NaN</td>\n      <td>NaN</td>\n      <td>NaN</td>\n      <td>NaN</td>\n      <td>NaN</td>\n      <td>NaN</td>\n      <td>NaN</td>\n      <td>NaN</td>\n      <td>...</td>\n      <td>NaN</td>\n      <td>NaN</td>\n      <td>NaN</td>\n      <td>NaN</td>\n      <td>NaN</td>\n      <td>NaN</td>\n      <td>NaN</td>\n      <td>NaN</td>\n      <td>NaN</td>\n      <td>NaN</td>\n    </tr>\n    <tr>\n      <th>1467</th>\n      <td>NaN</td>\n      <td>NaN</td>\n      <td>NaN</td>\n      <td>NaN</td>\n      <td>NaN</td>\n      <td>NaN</td>\n      <td>NaN</td>\n      <td>NaN</td>\n      <td>NaN</td>\n      <td>NaN</td>\n      <td>...</td>\n      <td>NaN</td>\n      <td>NaN</td>\n      <td>NaN</td>\n      <td>NaN</td>\n      <td>NaN</td>\n      <td>NaN</td>\n      <td>NaN</td>\n      <td>NaN</td>\n      <td>NaN</td>\n      <td>NaN</td>\n    </tr>\n    <tr>\n      <th>1468</th>\n      <td>NaN</td>\n      <td>NaN</td>\n      <td>NaN</td>\n      <td>NaN</td>\n      <td>NaN</td>\n      <td>NaN</td>\n      <td>NaN</td>\n      <td>NaN</td>\n      <td>NaN</td>\n      <td>NaN</td>\n      <td>...</td>\n      <td>NaN</td>\n      <td>NaN</td>\n      <td>NaN</td>\n      <td>NaN</td>\n      <td>NaN</td>\n      <td>NaN</td>\n      <td>NaN</td>\n      <td>NaN</td>\n      <td>NaN</td>\n      <td>NaN</td>\n    </tr>\n    <tr>\n      <th>1469</th>\n      <td>NaN</td>\n      <td>NaN</td>\n      <td>NaN</td>\n      <td>NaN</td>\n      <td>NaN</td>\n      <td>NaN</td>\n      <td>NaN</td>\n      <td>NaN</td>\n      <td>NaN</td>\n      <td>NaN</td>\n      <td>...</td>\n      <td>NaN</td>\n      <td>NaN</td>\n      <td>NaN</td>\n      <td>NaN</td>\n      <td>NaN</td>\n      <td>NaN</td>\n      <td>NaN</td>\n      <td>NaN</td>\n      <td>NaN</td>\n      <td>NaN</td>\n    </tr>\n    <tr>\n      <th>1470</th>\n      <td>NaN</td>\n      <td>NaN</td>\n      <td>NaN</td>\n      <td>NaN</td>\n      <td>NaN</td>\n      <td>NaN</td>\n      <td>NaN</td>\n      <td>NaN</td>\n      <td>NaN</td>\n      <td>NaN</td>\n      <td>...</td>\n      <td>NaN</td>\n      <td>NaN</td>\n      <td>NaN</td>\n      <td>NaN</td>\n      <td>NaN</td>\n      <td>NaN</td>\n      <td>NaN</td>\n      <td>NaN</td>\n      <td>NaN</td>\n      <td>NaN</td>\n    </tr>\n    <tr>\n      <th>1471</th>\n      <td>NaN</td>\n      <td>NaN</td>\n      <td>NaN</td>\n      <td>NaN</td>\n      <td>NaN</td>\n      <td>NaN</td>\n      <td>NaN</td>\n      <td>NaN</td>\n      <td>NaN</td>\n      <td>NaN</td>\n      <td>...</td>\n      <td>NaN</td>\n      <td>NaN</td>\n      <td>NaN</td>\n      <td>NaN</td>\n      <td>NaN</td>\n      <td>NaN</td>\n      <td>NaN</td>\n      <td>NaN</td>\n      <td>NaN</td>\n      <td>NaN</td>\n    </tr>\n    <tr>\n      <th>1472</th>\n      <td>NaN</td>\n      <td>NaN</td>\n      <td>NaN</td>\n      <td>NaN</td>\n      <td>NaN</td>\n      <td>NaN</td>\n      <td>NaN</td>\n      <td>NaN</td>\n      <td>NaN</td>\n      <td>NaN</td>\n      <td>...</td>\n      <td>NaN</td>\n      <td>NaN</td>\n      <td>NaN</td>\n      <td>NaN</td>\n      <td>NaN</td>\n      <td>NaN</td>\n      <td>NaN</td>\n      <td>NaN</td>\n      <td>NaN</td>\n      <td>NaN</td>\n    </tr>\n    <tr>\n      <th>1473</th>\n      <td>NaN</td>\n      <td>NaN</td>\n      <td>NaN</td>\n      <td>NaN</td>\n      <td>NaN</td>\n      <td>NaN</td>\n      <td>NaN</td>\n      <td>NaN</td>\n      <td>NaN</td>\n      <td>NaN</td>\n      <td>...</td>\n      <td>NaN</td>\n      <td>NaN</td>\n      <td>NaN</td>\n      <td>NaN</td>\n      <td>NaN</td>\n      <td>NaN</td>\n      <td>NaN</td>\n      <td>NaN</td>\n      <td>NaN</td>\n      <td>NaN</td>\n    </tr>\n    <tr>\n      <th>1474</th>\n      <td>NaN</td>\n      <td>NaN</td>\n      <td>NaN</td>\n      <td>NaN</td>\n      <td>NaN</td>\n      <td>NaN</td>\n      <td>NaN</td>\n      <td>NaN</td>\n      <td>NaN</td>\n      <td>NaN</td>\n      <td>...</td>\n      <td>NaN</td>\n      <td>NaN</td>\n      <td>NaN</td>\n      <td>NaN</td>\n      <td>NaN</td>\n      <td>NaN</td>\n      <td>NaN</td>\n      <td>NaN</td>\n      <td>NaN</td>\n      <td>NaN</td>\n    </tr>\n    <tr>\n      <th>1475</th>\n      <td>NaN</td>\n      <td>NaN</td>\n      <td>NaN</td>\n      <td>NaN</td>\n      <td>NaN</td>\n      <td>NaN</td>\n      <td>NaN</td>\n      <td>NaN</td>\n      <td>NaN</td>\n      <td>NaN</td>\n      <td>...</td>\n      <td>NaN</td>\n      <td>NaN</td>\n      <td>NaN</td>\n      <td>NaN</td>\n      <td>NaN</td>\n      <td>NaN</td>\n      <td>NaN</td>\n      <td>NaN</td>\n      <td>NaN</td>\n      <td>NaN</td>\n    </tr>\n    <tr>\n      <th>1476</th>\n      <td>NaN</td>\n      <td>NaN</td>\n      <td>NaN</td>\n      <td>NaN</td>\n      <td>NaN</td>\n      <td>NaN</td>\n      <td>NaN</td>\n      <td>NaN</td>\n      <td>NaN</td>\n      <td>NaN</td>\n      <td>...</td>\n      <td>NaN</td>\n      <td>NaN</td>\n      <td>NaN</td>\n      <td>NaN</td>\n      <td>NaN</td>\n      <td>NaN</td>\n      <td>NaN</td>\n      <td>NaN</td>\n      <td>NaN</td>\n      <td>NaN</td>\n    </tr>\n    <tr>\n      <th>1477</th>\n      <td>NaN</td>\n      <td>NaN</td>\n      <td>NaN</td>\n      <td>NaN</td>\n      <td>NaN</td>\n      <td>NaN</td>\n      <td>NaN</td>\n      <td>NaN</td>\n      <td>NaN</td>\n      <td>NaN</td>\n      <td>...</td>\n      <td>NaN</td>\n      <td>NaN</td>\n      <td>NaN</td>\n      <td>NaN</td>\n      <td>NaN</td>\n      <td>NaN</td>\n      <td>NaN</td>\n      <td>NaN</td>\n      <td>NaN</td>\n      <td>NaN</td>\n    </tr>\n    <tr>\n      <th>1478</th>\n      <td>NaN</td>\n      <td>NaN</td>\n      <td>NaN</td>\n      <td>NaN</td>\n      <td>NaN</td>\n      <td>NaN</td>\n      <td>NaN</td>\n      <td>NaN</td>\n      <td>NaN</td>\n      <td>NaN</td>\n      <td>...</td>\n      <td>NaN</td>\n      <td>NaN</td>\n      <td>NaN</td>\n      <td>NaN</td>\n      <td>NaN</td>\n      <td>NaN</td>\n      <td>NaN</td>\n      <td>NaN</td>\n      <td>NaN</td>\n      <td>NaN</td>\n    </tr>\n    <tr>\n      <th>1479</th>\n      <td>NaN</td>\n      <td>NaN</td>\n      <td>NaN</td>\n      <td>NaN</td>\n      <td>NaN</td>\n      <td>NaN</td>\n      <td>NaN</td>\n      <td>NaN</td>\n      <td>NaN</td>\n      <td>NaN</td>\n      <td>...</td>\n      <td>NaN</td>\n      <td>NaN</td>\n      <td>NaN</td>\n      <td>NaN</td>\n      <td>NaN</td>\n      <td>NaN</td>\n      <td>NaN</td>\n      <td>NaN</td>\n      <td>NaN</td>\n      <td>NaN</td>\n    </tr>\n    <tr>\n      <th>1480</th>\n      <td>NaN</td>\n      <td>NaN</td>\n      <td>NaN</td>\n      <td>NaN</td>\n      <td>NaN</td>\n      <td>NaN</td>\n      <td>NaN</td>\n      <td>NaN</td>\n      <td>NaN</td>\n      <td>NaN</td>\n      <td>...</td>\n      <td>NaN</td>\n      <td>NaN</td>\n      <td>NaN</td>\n      <td>NaN</td>\n      <td>NaN</td>\n      <td>NaN</td>\n      <td>NaN</td>\n      <td>NaN</td>\n      <td>NaN</td>\n      <td>NaN</td>\n    </tr>\n    <tr>\n      <th>1481</th>\n      <td>NaN</td>\n      <td>NaN</td>\n      <td>NaN</td>\n      <td>NaN</td>\n      <td>NaN</td>\n      <td>NaN</td>\n      <td>NaN</td>\n      <td>NaN</td>\n      <td>NaN</td>\n      <td>NaN</td>\n      <td>...</td>\n      <td>NaN</td>\n      <td>NaN</td>\n      <td>NaN</td>\n      <td>NaN</td>\n      <td>NaN</td>\n      <td>NaN</td>\n      <td>NaN</td>\n      <td>NaN</td>\n      <td>NaN</td>\n      <td>NaN</td>\n    </tr>\n    <tr>\n      <th>1482</th>\n      <td>NaN</td>\n      <td>NaN</td>\n      <td>NaN</td>\n      <td>NaN</td>\n      <td>NaN</td>\n      <td>NaN</td>\n      <td>NaN</td>\n      <td>NaN</td>\n      <td>NaN</td>\n      <td>NaN</td>\n      <td>...</td>\n      <td>NaN</td>\n      <td>NaN</td>\n      <td>NaN</td>\n      <td>NaN</td>\n      <td>NaN</td>\n      <td>NaN</td>\n      <td>NaN</td>\n      <td>NaN</td>\n      <td>NaN</td>\n      <td>NaN</td>\n    </tr>\n    <tr>\n      <th>1483</th>\n      <td>NaN</td>\n      <td>NaN</td>\n      <td>NaN</td>\n      <td>NaN</td>\n      <td>NaN</td>\n      <td>NaN</td>\n      <td>NaN</td>\n      <td>NaN</td>\n      <td>NaN</td>\n      <td>NaN</td>\n      <td>...</td>\n      <td>NaN</td>\n      <td>NaN</td>\n      <td>NaN</td>\n      <td>NaN</td>\n      <td>NaN</td>\n      <td>NaN</td>\n      <td>NaN</td>\n      <td>NaN</td>\n      <td>NaN</td>\n      <td>NaN</td>\n    </tr>\n    <tr>\n      <th>1484</th>\n      <td>NaN</td>\n      <td>NaN</td>\n      <td>NaN</td>\n      <td>NaN</td>\n      <td>NaN</td>\n      <td>NaN</td>\n      <td>NaN</td>\n      <td>NaN</td>\n      <td>NaN</td>\n      <td>NaN</td>\n      <td>...</td>\n      <td>NaN</td>\n      <td>NaN</td>\n      <td>NaN</td>\n      <td>NaN</td>\n      <td>NaN</td>\n      <td>NaN</td>\n      <td>NaN</td>\n      <td>NaN</td>\n      <td>NaN</td>\n      <td>NaN</td>\n    </tr>\n    <tr>\n      <th>1485</th>\n      <td>NaN</td>\n      <td>NaN</td>\n      <td>NaN</td>\n      <td>NaN</td>\n      <td>NaN</td>\n      <td>NaN</td>\n      <td>NaN</td>\n      <td>NaN</td>\n      <td>NaN</td>\n      <td>NaN</td>\n      <td>...</td>\n      <td>NaN</td>\n      <td>NaN</td>\n      <td>NaN</td>\n      <td>NaN</td>\n      <td>NaN</td>\n      <td>NaN</td>\n      <td>NaN</td>\n      <td>NaN</td>\n      <td>NaN</td>\n      <td>NaN</td>\n    </tr>\n    <tr>\n      <th>1486</th>\n      <td>NaN</td>\n      <td>NaN</td>\n      <td>NaN</td>\n      <td>NaN</td>\n      <td>NaN</td>\n      <td>NaN</td>\n      <td>NaN</td>\n      <td>NaN</td>\n      <td>NaN</td>\n      <td>NaN</td>\n      <td>...</td>\n      <td>NaN</td>\n      <td>NaN</td>\n      <td>NaN</td>\n      <td>NaN</td>\n      <td>NaN</td>\n      <td>NaN</td>\n      <td>NaN</td>\n      <td>NaN</td>\n      <td>NaN</td>\n      <td>NaN</td>\n    </tr>\n    <tr>\n      <th>1487</th>\n      <td>NaN</td>\n      <td>NaN</td>\n      <td>NaN</td>\n      <td>NaN</td>\n      <td>NaN</td>\n      <td>NaN</td>\n      <td>NaN</td>\n      <td>NaN</td>\n      <td>NaN</td>\n      <td>NaN</td>\n      <td>...</td>\n      <td>NaN</td>\n      <td>NaN</td>\n      <td>NaN</td>\n      <td>NaN</td>\n      <td>NaN</td>\n      <td>NaN</td>\n      <td>NaN</td>\n      <td>NaN</td>\n      <td>NaN</td>\n      <td>NaN</td>\n    </tr>\n    <tr>\n      <th>1488</th>\n      <td>NaN</td>\n      <td>NaN</td>\n      <td>NaN</td>\n      <td>NaN</td>\n      <td>NaN</td>\n      <td>NaN</td>\n      <td>NaN</td>\n      <td>NaN</td>\n      <td>NaN</td>\n      <td>NaN</td>\n      <td>...</td>\n      <td>NaN</td>\n      <td>NaN</td>\n      <td>NaN</td>\n      <td>NaN</td>\n      <td>NaN</td>\n      <td>NaN</td>\n      <td>NaN</td>\n      <td>NaN</td>\n      <td>NaN</td>\n      <td>NaN</td>\n    </tr>\n    <tr>\n      <th>1489</th>\n      <td>NaN</td>\n      <td>NaN</td>\n      <td>NaN</td>\n      <td>NaN</td>\n      <td>NaN</td>\n      <td>NaN</td>\n      <td>NaN</td>\n      <td>NaN</td>\n      <td>NaN</td>\n      <td>NaN</td>\n      <td>...</td>\n      <td>NaN</td>\n      <td>NaN</td>\n      <td>NaN</td>\n      <td>NaN</td>\n      <td>NaN</td>\n      <td>NaN</td>\n      <td>NaN</td>\n      <td>NaN</td>\n      <td>NaN</td>\n      <td>NaN</td>\n    </tr>\n    <tr>\n      <th>1490</th>\n      <td>NaN</td>\n      <td>NaN</td>\n      <td>NaN</td>\n      <td>NaN</td>\n      <td>NaN</td>\n      <td>NaN</td>\n      <td>NaN</td>\n      <td>NaN</td>\n      <td>NaN</td>\n      <td>NaN</td>\n      <td>...</td>\n      <td>NaN</td>\n      <td>NaN</td>\n      <td>NaN</td>\n      <td>NaN</td>\n      <td>NaN</td>\n      <td>NaN</td>\n      <td>NaN</td>\n      <td>NaN</td>\n      <td>NaN</td>\n      <td>NaN</td>\n    </tr>\n    <tr>\n      <th>1491</th>\n      <td>NaN</td>\n      <td>NaN</td>\n      <td>NaN</td>\n      <td>NaN</td>\n      <td>NaN</td>\n      <td>NaN</td>\n      <td>NaN</td>\n      <td>NaN</td>\n      <td>NaN</td>\n      <td>NaN</td>\n      <td>...</td>\n      <td>NaN</td>\n      <td>NaN</td>\n      <td>NaN</td>\n      <td>NaN</td>\n      <td>NaN</td>\n      <td>NaN</td>\n      <td>NaN</td>\n      <td>NaN</td>\n      <td>NaN</td>\n      <td>NaN</td>\n    </tr>\n  </tbody>\n</table>\n<p>1492 rows × 25 columns</p>\n</div>",
        "text/plain": "      PRIMARY_KEY  STATE  YEAR  ENROLL  TOTAL_REVENUE  FEDERAL_REVENUE  \\\n0             NaN    NaN   NaN     NaN            NaN              NaN   \n1             NaN    NaN   NaN     NaN            NaN              NaN   \n2             NaN    NaN   NaN     NaN            NaN              NaN   \n3             NaN    NaN   NaN     NaN            NaN              NaN   \n4             NaN    NaN   NaN     NaN            NaN              NaN   \n5             NaN    NaN   NaN     NaN            NaN              NaN   \n6             NaN    NaN   NaN     NaN            NaN              NaN   \n7             NaN    NaN   NaN     NaN            NaN              NaN   \n8             NaN    NaN   NaN     NaN            NaN              NaN   \n9             NaN    NaN   NaN     NaN            NaN              NaN   \n10            NaN    NaN   NaN     NaN            NaN              NaN   \n11            NaN    NaN   NaN     NaN            NaN              NaN   \n12            NaN    NaN   NaN     NaN            NaN              NaN   \n13            NaN    NaN   NaN     NaN            NaN              NaN   \n14            NaN    NaN   NaN     NaN            NaN              NaN   \n15            NaN    NaN   NaN     NaN            NaN              NaN   \n16            NaN    NaN   NaN     NaN            NaN              NaN   \n17            NaN    NaN   NaN     NaN            NaN              NaN   \n18            NaN    NaN   NaN     NaN            NaN              NaN   \n19            NaN    NaN   NaN     NaN            NaN              NaN   \n20            NaN    NaN   NaN     NaN            NaN              NaN   \n21            NaN    NaN   NaN     NaN            NaN              NaN   \n22            NaN    NaN   NaN     NaN            NaN              NaN   \n23            NaN    NaN   NaN     NaN            NaN              NaN   \n24            NaN    NaN   NaN     NaN            NaN              NaN   \n25            NaN    NaN   NaN     NaN            NaN              NaN   \n26            NaN    NaN   NaN     NaN            NaN              NaN   \n27            NaN    NaN   NaN     NaN            NaN              NaN   \n28            NaN    NaN   NaN     NaN            NaN              NaN   \n29            NaN    NaN   NaN     NaN            NaN              NaN   \n...           ...    ...   ...     ...            ...              ...   \n1462          NaN    NaN   NaN     NaN            NaN              NaN   \n1463          NaN    NaN   NaN     NaN            NaN              NaN   \n1464          NaN    NaN   NaN     NaN            NaN              NaN   \n1465          NaN    NaN   NaN     NaN            NaN              NaN   \n1466          NaN    NaN   NaN     NaN            NaN              NaN   \n1467          NaN    NaN   NaN     NaN            NaN              NaN   \n1468          NaN    NaN   NaN     NaN            NaN              NaN   \n1469          NaN    NaN   NaN     NaN            NaN              NaN   \n1470          NaN    NaN   NaN     NaN            NaN              NaN   \n1471          NaN    NaN   NaN     NaN            NaN              NaN   \n1472          NaN    NaN   NaN     NaN            NaN              NaN   \n1473          NaN    NaN   NaN     NaN            NaN              NaN   \n1474          NaN    NaN   NaN     NaN            NaN              NaN   \n1475          NaN    NaN   NaN     NaN            NaN              NaN   \n1476          NaN    NaN   NaN     NaN            NaN              NaN   \n1477          NaN    NaN   NaN     NaN            NaN              NaN   \n1478          NaN    NaN   NaN     NaN            NaN              NaN   \n1479          NaN    NaN   NaN     NaN            NaN              NaN   \n1480          NaN    NaN   NaN     NaN            NaN              NaN   \n1481          NaN    NaN   NaN     NaN            NaN              NaN   \n1482          NaN    NaN   NaN     NaN            NaN              NaN   \n1483          NaN    NaN   NaN     NaN            NaN              NaN   \n1484          NaN    NaN   NaN     NaN            NaN              NaN   \n1485          NaN    NaN   NaN     NaN            NaN              NaN   \n1486          NaN    NaN   NaN     NaN            NaN              NaN   \n1487          NaN    NaN   NaN     NaN            NaN              NaN   \n1488          NaN    NaN   NaN     NaN            NaN              NaN   \n1489          NaN    NaN   NaN     NaN            NaN              NaN   \n1490          NaN    NaN   NaN     NaN            NaN              NaN   \n1491          NaN    NaN   NaN     NaN            NaN              NaN   \n\n      STATE_REVENUE  LOCAL_REVENUE  TOTAL_EXPENDITURE  \\\n0               NaN            NaN                NaN   \n1               NaN            NaN                NaN   \n2               NaN            NaN                NaN   \n3               NaN            NaN                NaN   \n4               NaN            NaN                NaN   \n5               NaN            NaN                NaN   \n6               NaN            NaN                NaN   \n7               NaN            NaN                NaN   \n8               NaN            NaN                NaN   \n9               NaN            NaN                NaN   \n10              NaN            NaN                NaN   \n11              NaN            NaN                NaN   \n12              NaN            NaN                NaN   \n13              NaN            NaN                NaN   \n14              NaN            NaN                NaN   \n15              NaN            NaN                NaN   \n16              NaN            NaN                NaN   \n17              NaN            NaN                NaN   \n18              NaN            NaN                NaN   \n19              NaN            NaN                NaN   \n20              NaN            NaN                NaN   \n21              NaN            NaN                NaN   \n22              NaN            NaN                NaN   \n23              NaN            NaN                NaN   \n24              NaN            NaN                NaN   \n25              NaN            NaN                NaN   \n26              NaN            NaN                NaN   \n27              NaN            NaN                NaN   \n28              NaN            NaN                NaN   \n29              NaN            NaN                NaN   \n...             ...            ...                ...   \n1462            NaN            NaN                NaN   \n1463            NaN            NaN                NaN   \n1464            NaN            NaN                NaN   \n1465            NaN            NaN                NaN   \n1466            NaN            NaN                NaN   \n1467            NaN            NaN                NaN   \n1468            NaN            NaN                NaN   \n1469            NaN            NaN                NaN   \n1470            NaN            NaN                NaN   \n1471            NaN            NaN                NaN   \n1472            NaN            NaN                NaN   \n1473            NaN            NaN                NaN   \n1474            NaN            NaN                NaN   \n1475            NaN            NaN                NaN   \n1476            NaN            NaN                NaN   \n1477            NaN            NaN                NaN   \n1478            NaN            NaN                NaN   \n1479            NaN            NaN                NaN   \n1480            NaN            NaN                NaN   \n1481            NaN            NaN                NaN   \n1482            NaN            NaN                NaN   \n1483            NaN            NaN                NaN   \n1484            NaN            NaN                NaN   \n1485            NaN            NaN                NaN   \n1486            NaN            NaN                NaN   \n1487            NaN            NaN                NaN   \n1488            NaN            NaN                NaN   \n1489            NaN            NaN                NaN   \n1490            NaN            NaN                NaN   \n1491            NaN            NaN                NaN   \n\n      INSTRUCTION_EXPENDITURE  ...  GRADES_4_G  GRADES_8_G  GRADES_12_G  \\\n0                         NaN  ...         NaN         NaN          NaN   \n1                         NaN  ...         NaN         NaN          NaN   \n2                         NaN  ...         NaN         NaN          NaN   \n3                         NaN  ...         NaN         NaN          NaN   \n4                         NaN  ...         NaN         NaN          NaN   \n5                         NaN  ...         NaN         NaN          NaN   \n6                         NaN  ...         NaN         NaN          NaN   \n7                         NaN  ...         NaN         NaN          NaN   \n8                         NaN  ...         NaN         NaN          NaN   \n9                         NaN  ...         NaN         NaN          NaN   \n10                        NaN  ...         NaN         NaN          NaN   \n11                        NaN  ...         NaN         NaN          NaN   \n12                        NaN  ...         NaN         NaN          NaN   \n13                        NaN  ...         NaN         NaN          NaN   \n14                        NaN  ...         NaN         NaN          NaN   \n15                        NaN  ...         NaN         NaN          NaN   \n16                        NaN  ...         NaN         NaN          NaN   \n17                        NaN  ...         NaN         NaN          NaN   \n18                        NaN  ...         NaN         NaN          NaN   \n19                        NaN  ...         NaN         NaN          NaN   \n20                        NaN  ...         NaN         NaN          NaN   \n21                        NaN  ...         NaN         NaN          NaN   \n22                        NaN  ...         NaN         NaN          NaN   \n23                        NaN  ...         NaN         NaN          NaN   \n24                        NaN  ...         NaN         NaN          NaN   \n25                        NaN  ...         NaN         NaN          NaN   \n26                        NaN  ...         NaN         NaN          NaN   \n27                        NaN  ...         NaN         NaN          NaN   \n28                        NaN  ...         NaN         NaN          NaN   \n29                        NaN  ...         NaN         NaN          NaN   \n...                       ...  ...         ...         ...          ...   \n1462                      NaN  ...         NaN         NaN          NaN   \n1463                      NaN  ...         NaN         NaN          NaN   \n1464                      NaN  ...         NaN         NaN          NaN   \n1465                      NaN  ...         NaN         NaN          NaN   \n1466                      NaN  ...         NaN         NaN          NaN   \n1467                      NaN  ...         NaN         NaN          NaN   \n1468                      NaN  ...         NaN         NaN          NaN   \n1469                      NaN  ...         NaN         NaN          NaN   \n1470                      NaN  ...         NaN         NaN          NaN   \n1471                      NaN  ...         NaN         NaN          NaN   \n1472                      NaN  ...         NaN         NaN          NaN   \n1473                      NaN  ...         NaN         NaN          NaN   \n1474                      NaN  ...         NaN         NaN          NaN   \n1475                      NaN  ...         NaN         NaN          NaN   \n1476                      NaN  ...         NaN         NaN          NaN   \n1477                      NaN  ...         NaN         NaN          NaN   \n1478                      NaN  ...         NaN         NaN          NaN   \n1479                      NaN  ...         NaN         NaN          NaN   \n1480                      NaN  ...         NaN         NaN          NaN   \n1481                      NaN  ...         NaN         NaN          NaN   \n1482                      NaN  ...         NaN         NaN          NaN   \n1483                      NaN  ...         NaN         NaN          NaN   \n1484                      NaN  ...         NaN         NaN          NaN   \n1485                      NaN  ...         NaN         NaN          NaN   \n1486                      NaN  ...         NaN         NaN          NaN   \n1487                      NaN  ...         NaN         NaN          NaN   \n1488                      NaN  ...         NaN         NaN          NaN   \n1489                      NaN  ...         NaN         NaN          NaN   \n1490                      NaN  ...         NaN         NaN          NaN   \n1491                      NaN  ...         NaN         NaN          NaN   \n\n      GRADES_1_8_G  GRADES_9_12_G  GRADES_ALL_G  AVG_MATH_4_SCORE  \\\n0              NaN            NaN           NaN               NaN   \n1              NaN            NaN           NaN               NaN   \n2              NaN            NaN           NaN               NaN   \n3              NaN            NaN           NaN               NaN   \n4              NaN            NaN           NaN               NaN   \n5              NaN            NaN           NaN               NaN   \n6              NaN            NaN           NaN               NaN   \n7              NaN            NaN           NaN               NaN   \n8              NaN            NaN           NaN               NaN   \n9              NaN            NaN           NaN               NaN   \n10             NaN            NaN           NaN               NaN   \n11             NaN            NaN           NaN               NaN   \n12             NaN            NaN           NaN               NaN   \n13             NaN            NaN           NaN               NaN   \n14             NaN            NaN           NaN               NaN   \n15             NaN            NaN           NaN               NaN   \n16             NaN            NaN           NaN               NaN   \n17             NaN            NaN           NaN               NaN   \n18             NaN            NaN           NaN               NaN   \n19             NaN            NaN           NaN               NaN   \n20             NaN            NaN           NaN               NaN   \n21             NaN            NaN           NaN               NaN   \n22             NaN            NaN           NaN               NaN   \n23             NaN            NaN           NaN               NaN   \n24             NaN            NaN           NaN               NaN   \n25             NaN            NaN           NaN               NaN   \n26             NaN            NaN           NaN               NaN   \n27             NaN            NaN           NaN               NaN   \n28             NaN            NaN           NaN               NaN   \n29             NaN            NaN           NaN               NaN   \n...            ...            ...           ...               ...   \n1462           NaN            NaN           NaN               NaN   \n1463           NaN            NaN           NaN               NaN   \n1464           NaN            NaN           NaN               NaN   \n1465           NaN            NaN           NaN               NaN   \n1466           NaN            NaN           NaN               NaN   \n1467           NaN            NaN           NaN               NaN   \n1468           NaN            NaN           NaN               NaN   \n1469           NaN            NaN           NaN               NaN   \n1470           NaN            NaN           NaN               NaN   \n1471           NaN            NaN           NaN               NaN   \n1472           NaN            NaN           NaN               NaN   \n1473           NaN            NaN           NaN               NaN   \n1474           NaN            NaN           NaN               NaN   \n1475           NaN            NaN           NaN               NaN   \n1476           NaN            NaN           NaN               NaN   \n1477           NaN            NaN           NaN               NaN   \n1478           NaN            NaN           NaN               NaN   \n1479           NaN            NaN           NaN               NaN   \n1480           NaN            NaN           NaN               NaN   \n1481           NaN            NaN           NaN               NaN   \n1482           NaN            NaN           NaN               NaN   \n1483           NaN            NaN           NaN               NaN   \n1484           NaN            NaN           NaN               NaN   \n1485           NaN            NaN           NaN               NaN   \n1486           NaN            NaN           NaN               NaN   \n1487           NaN            NaN           NaN               NaN   \n1488           NaN            NaN           NaN               NaN   \n1489           NaN            NaN           NaN               NaN   \n1490           NaN            NaN           NaN               NaN   \n1491           NaN            NaN           NaN               NaN   \n\n      AVG_MATH_8_SCORE  AVG_READING_4_SCORE  AVG_READING_8_SCORE  \n0                  NaN                  NaN                  NaN  \n1                  NaN                  NaN                  NaN  \n2                  NaN                  NaN                  NaN  \n3                  NaN                  NaN                  NaN  \n4                  NaN                  NaN                  NaN  \n5                  NaN                  NaN                  NaN  \n6                  NaN                  NaN                  NaN  \n7                  NaN                  NaN                  NaN  \n8                  NaN                  NaN                  NaN  \n9                  NaN                  NaN                  NaN  \n10                 NaN                  NaN                  NaN  \n11                 NaN                  NaN                  NaN  \n12                 NaN                  NaN                  NaN  \n13                 NaN                  NaN                  NaN  \n14                 NaN                  NaN                  NaN  \n15                 NaN                  NaN                  NaN  \n16                 NaN                  NaN                  NaN  \n17                 NaN                  NaN                  NaN  \n18                 NaN                  NaN                  NaN  \n19                 NaN                  NaN                  NaN  \n20                 NaN                  NaN                  NaN  \n21                 NaN                  NaN                  NaN  \n22                 NaN                  NaN                  NaN  \n23                 NaN                  NaN                  NaN  \n24                 NaN                  NaN                  NaN  \n25                 NaN                  NaN                  NaN  \n26                 NaN                  NaN                  NaN  \n27                 NaN                  NaN                  NaN  \n28                 NaN                  NaN                  NaN  \n29                 NaN                  NaN                  NaN  \n...                ...                  ...                  ...  \n1462               NaN                  NaN                  NaN  \n1463               NaN                  NaN                  NaN  \n1464               NaN                  NaN                  NaN  \n1465               NaN                  NaN                  NaN  \n1466               NaN                  NaN                  NaN  \n1467               NaN                  NaN                  NaN  \n1468               NaN                  NaN                  NaN  \n1469               NaN                  NaN                  NaN  \n1470               NaN                  NaN                  NaN  \n1471               NaN                  NaN                  NaN  \n1472               NaN                  NaN                  NaN  \n1473               NaN                  NaN                  NaN  \n1474               NaN                  NaN                  NaN  \n1475               NaN                  NaN                  NaN  \n1476               NaN                  NaN                  NaN  \n1477               NaN                  NaN                  NaN  \n1478               NaN                  NaN                  NaN  \n1479               NaN                  NaN                  NaN  \n1480               NaN                  NaN                  NaN  \n1481               NaN                  NaN                  NaN  \n1482               NaN                  NaN                  NaN  \n1483               NaN                  NaN                  NaN  \n1484               NaN                  NaN                  NaN  \n1485               NaN                  NaN                  NaN  \n1486               NaN                  NaN                  NaN  \n1487               NaN                  NaN                  NaN  \n1488               NaN                  NaN                  NaN  \n1489               NaN                  NaN                  NaN  \n1490               NaN                  NaN                  NaN  \n1491               NaN                  NaN                  NaN  \n\n[1492 rows x 25 columns]"
       },
       "execution_count": 7,
       "metadata": {},
       "output_type": "execute_result"
      }
     ],
     "persistentId": "6c59c6f1-1ef1-4f74-bf95-fc4597980e0a",
     "text": "education_1"
    },
    "executionTime": "2019-12-02T17:59:59.054Z"
   },
   {
    "cell": {
     "executionCount": 8,
     "executionEventId": "57408d8d-16f9-44ca-a314-195a784996bd",
     "hasError": false,
     "id": "00e2367b-f5b8-4d78-9e0c-bbcc303b0530",
     "outputs": [
      {
       "name": "stdout",
       "output_type": "stream",
       "text": "PRIMARY_KEY\nSTATE\nYEAR\n"
      }
     ],
     "persistentId": "6c59c6f1-1ef1-4f74-bf95-fc4597980e0a",
     "text": "for column in education.columns[:3]:\n    print(column)"
    },
    "executionTime": "2019-12-02T18:00:39.009Z"
   },
   {
    "cell": {
     "executionCount": 9,
     "executionEventId": "9283bbc3-899f-4100-8124-2a4b54b7463f",
     "hasError": true,
     "id": "00e2367b-f5b8-4d78-9e0c-bbcc303b0530",
     "outputs": [
      {
       "ename": "ValueError",
       "evalue": "operands could not be broadcast together with shapes (3,) (4,) ",
       "output_type": "error",
       "traceback": [
        "\u001b[0;31m---------------------------------------------------------------------------\u001b[0m",
        "\u001b[0;31mValueError\u001b[0m                                Traceback (most recent call last)",
        "\u001b[0;32m<ipython-input-9-eb5f83356170>\u001b[0m in \u001b[0;36m<module>\u001b[0;34m\u001b[0m\n\u001b[0;32m----> 1\u001b[0;31m \u001b[0;32mfor\u001b[0m \u001b[0mcolumn\u001b[0m \u001b[0;32min\u001b[0m \u001b[0meducation\u001b[0m\u001b[0;34m.\u001b[0m\u001b[0mcolumns\u001b[0m\u001b[0;34m[\u001b[0m\u001b[0;34m:\u001b[0m\u001b[0;36m3\u001b[0m\u001b[0;34m]\u001b[0m \u001b[0;34m+\u001b[0m \u001b[0meducation\u001b[0m\u001b[0;34m.\u001b[0m\u001b[0mcolumns\u001b[0m\u001b[0;34m[\u001b[0m\u001b[0;34m-\u001b[0m\u001b[0;36m4\u001b[0m\u001b[0;34m:\u001b[0m\u001b[0;34m]\u001b[0m\u001b[0;34m:\u001b[0m\u001b[0;34m\u001b[0m\u001b[0;34m\u001b[0m\u001b[0m\n\u001b[0m\u001b[1;32m      2\u001b[0m     \u001b[0mprint\u001b[0m\u001b[0;34m(\u001b[0m\u001b[0mcolumn\u001b[0m\u001b[0;34m)\u001b[0m\u001b[0;34m\u001b[0m\u001b[0;34m\u001b[0m\u001b[0m\n",
        "\u001b[0;32m~/anaconda3/lib/python3.7/site-packages/pandas/core/indexes/base.py\u001b[0m in \u001b[0;36m__add__\u001b[0;34m(self, other)\u001b[0m\n\u001b[1;32m   2202\u001b[0m         \u001b[0;32mif\u001b[0m \u001b[0misinstance\u001b[0m\u001b[0;34m(\u001b[0m\u001b[0mother\u001b[0m\u001b[0;34m,\u001b[0m \u001b[0;34m(\u001b[0m\u001b[0mABCSeries\u001b[0m\u001b[0;34m,\u001b[0m \u001b[0mABCDataFrame\u001b[0m\u001b[0;34m)\u001b[0m\u001b[0;34m)\u001b[0m\u001b[0;34m:\u001b[0m\u001b[0;34m\u001b[0m\u001b[0;34m\u001b[0m\u001b[0m\n\u001b[1;32m   2203\u001b[0m             \u001b[0;32mreturn\u001b[0m \u001b[0mNotImplemented\u001b[0m\u001b[0;34m\u001b[0m\u001b[0;34m\u001b[0m\u001b[0m\n\u001b[0;32m-> 2204\u001b[0;31m         \u001b[0;32mreturn\u001b[0m \u001b[0mIndex\u001b[0m\u001b[0;34m(\u001b[0m\u001b[0mnp\u001b[0m\u001b[0;34m.\u001b[0m\u001b[0marray\u001b[0m\u001b[0;34m(\u001b[0m\u001b[0mself\u001b[0m\u001b[0;34m)\u001b[0m \u001b[0;34m+\u001b[0m \u001b[0mother\u001b[0m\u001b[0;34m)\u001b[0m\u001b[0;34m\u001b[0m\u001b[0;34m\u001b[0m\u001b[0m\n\u001b[0m\u001b[1;32m   2205\u001b[0m \u001b[0;34m\u001b[0m\u001b[0m\n\u001b[1;32m   2206\u001b[0m     \u001b[0;32mdef\u001b[0m \u001b[0m__radd__\u001b[0m\u001b[0;34m(\u001b[0m\u001b[0mself\u001b[0m\u001b[0;34m,\u001b[0m \u001b[0mother\u001b[0m\u001b[0;34m)\u001b[0m\u001b[0;34m:\u001b[0m\u001b[0;34m\u001b[0m\u001b[0;34m\u001b[0m\u001b[0m\n",
        "\u001b[0;32m~/anaconda3/lib/python3.7/site-packages/pandas/core/indexes/base.py\u001b[0m in \u001b[0;36m__radd__\u001b[0;34m(self, other)\u001b[0m\n\u001b[1;32m   2205\u001b[0m \u001b[0;34m\u001b[0m\u001b[0m\n\u001b[1;32m   2206\u001b[0m     \u001b[0;32mdef\u001b[0m \u001b[0m__radd__\u001b[0m\u001b[0;34m(\u001b[0m\u001b[0mself\u001b[0m\u001b[0;34m,\u001b[0m \u001b[0mother\u001b[0m\u001b[0;34m)\u001b[0m\u001b[0;34m:\u001b[0m\u001b[0;34m\u001b[0m\u001b[0;34m\u001b[0m\u001b[0m\n\u001b[0;32m-> 2207\u001b[0;31m         \u001b[0;32mreturn\u001b[0m \u001b[0mIndex\u001b[0m\u001b[0;34m(\u001b[0m\u001b[0mother\u001b[0m \u001b[0;34m+\u001b[0m \u001b[0mnp\u001b[0m\u001b[0;34m.\u001b[0m\u001b[0marray\u001b[0m\u001b[0;34m(\u001b[0m\u001b[0mself\u001b[0m\u001b[0;34m)\u001b[0m\u001b[0;34m)\u001b[0m\u001b[0;34m\u001b[0m\u001b[0;34m\u001b[0m\u001b[0m\n\u001b[0m\u001b[1;32m   2208\u001b[0m \u001b[0;34m\u001b[0m\u001b[0m\n\u001b[1;32m   2209\u001b[0m     \u001b[0;32mdef\u001b[0m \u001b[0m__iadd__\u001b[0m\u001b[0;34m(\u001b[0m\u001b[0mself\u001b[0m\u001b[0;34m,\u001b[0m \u001b[0mother\u001b[0m\u001b[0;34m)\u001b[0m\u001b[0;34m:\u001b[0m\u001b[0;34m\u001b[0m\u001b[0;34m\u001b[0m\u001b[0m\n",
        "\u001b[0;31mValueError\u001b[0m: operands could not be broadcast together with shapes (3,) (4,) "
       ]
      }
     ],
     "persistentId": "6c59c6f1-1ef1-4f74-bf95-fc4597980e0a",
     "text": "for column in education.columns[:3] + education.columns[-4:]:\n    print(column)"
    },
    "executionTime": "2019-12-02T18:00:51.136Z"
   },
   {
    "cell": {
     "executionCount": 10,
     "executionEventId": "877f5dd0-cdb9-443e-8b6d-8c70ec0239fe",
     "hasError": false,
     "id": "00e2367b-f5b8-4d78-9e0c-bbcc303b0530",
     "outputs": [
      {
       "name": "stdout",
       "output_type": "stream",
       "text": "PRIMARY_KEYAVG_MATH_4_SCORE\nSTATEAVG_MATH_8_SCORE\nYEARAVG_READING_4_SCORE\n"
      }
     ],
     "persistentId": "6c59c6f1-1ef1-4f74-bf95-fc4597980e0a",
     "text": "for column in education.columns[:3] + education.columns[-4:-1]:\n    print(column)"
    },
    "executionTime": "2019-12-02T18:01:01.080Z"
   },
   {
    "cell": {
     "executionCount": 11,
     "executionEventId": "1bb722f3-2a56-4b74-a9e1-b5d6111d03ee",
     "hasError": false,
     "id": "00e2367b-f5b8-4d78-9e0c-bbcc303b0530",
     "outputs": [
      {
       "name": "stdout",
       "output_type": "stream",
       "text": "PRIMARY_KEYAVG_MATH_4_SCORE\nSTATEAVG_MATH_8_SCORE\nYEARAVG_READING_4_SCORE\n"
      }
     ],
     "persistentId": "6c59c6f1-1ef1-4f74-bf95-fc4597980e0a",
     "text": "for column in (education.columns[:3] + education.columns[-4:-1]):\n    print(column)"
    },
    "executionTime": "2019-12-02T18:01:09.142Z"
   },
   {
    "cell": {
     "executionCount": 12,
     "executionEventId": "ce1640ac-0122-4918-ad9f-4c664ff9c365",
     "hasError": false,
     "id": "f4c4f4a5-e2dc-441b-8254-d807ff0d3db2",
     "outputs": [
      {
       "data": {
        "text/plain": "Index(['PRIMARY_KEYAVG_MATH_4_SCORE', 'STATEAVG_MATH_8_SCORE',\n       'YEARAVG_READING_4_SCORE'],\n      dtype='object')"
       },
       "execution_count": 12,
       "metadata": {},
       "output_type": "execute_result"
      }
     ],
     "persistentId": "81b1bff8-5b91-4a53-b31f-64913f0bf801",
     "text": "education.columns[:3] + education.columns[-4:-1]"
    },
    "executionTime": "2019-12-02T18:01:18.075Z"
   },
   {
    "cell": {
     "executionCount": 13,
     "executionEventId": "8198794b-7b25-4cde-866a-b389bf7cac2c",
     "hasError": false,
     "id": "f4c4f4a5-e2dc-441b-8254-d807ff0d3db2",
     "outputs": [
      {
       "data": {
        "text/plain": "Index(['PRIMARY_KEY', 'STATE', 'YEAR'], dtype='object')"
       },
       "execution_count": 13,
       "metadata": {},
       "output_type": "execute_result"
      }
     ],
     "persistentId": "81b1bff8-5b91-4a53-b31f-64913f0bf801",
     "text": "education.columns[:3] "
    },
    "executionTime": "2019-12-02T18:01:25.435Z"
   },
   {
    "cell": {
     "executionCount": 14,
     "executionEventId": "79e7ba02-5b0c-4524-a74b-e649b4d83610",
     "hasError": false,
     "id": "f4c4f4a5-e2dc-441b-8254-d807ff0d3db2",
     "outputs": [
      {
       "data": {
        "text/plain": "['PRIMARY_KEY', 'STATE', 'YEAR']"
       },
       "execution_count": 14,
       "metadata": {},
       "output_type": "execute_result"
      }
     ],
     "persistentId": "81b1bff8-5b91-4a53-b31f-64913f0bf801",
     "text": "education.columns[:3].tolist()"
    },
    "executionTime": "2019-12-02T18:01:39.761Z"
   },
   {
    "cell": {
     "executionCount": 15,
     "executionEventId": "ea381338-2fcd-40d2-84a1-dfe9922aabbf",
     "hasError": false,
     "id": "f4c4f4a5-e2dc-441b-8254-d807ff0d3db2",
     "outputs": [
      {
       "data": {
        "text/plain": "['PRIMARY_KEY',\n 'STATE',\n 'YEAR',\n 'AVG_MATH_4_SCORE',\n 'AVG_MATH_8_SCORE',\n 'AVG_READING_4_SCORE']"
       },
       "execution_count": 15,
       "metadata": {},
       "output_type": "execute_result"
      }
     ],
     "persistentId": "81b1bff8-5b91-4a53-b31f-64913f0bf801",
     "text": "education.columns[:3].tolist() + education.columns[-4:-1].tolist()"
    },
    "executionTime": "2019-12-02T18:01:48.784Z"
   },
   {
    "cell": {
     "executionCount": 16,
     "executionEventId": "83414cb0-034b-4692-a610-621792271a1e",
     "hasError": false,
     "id": "f4c4f4a5-e2dc-441b-8254-d807ff0d3db2",
     "outputs": [
      {
       "data": {
        "text/plain": "['PRIMARY_KEY',\n 'STATE',\n 'YEAR',\n 'GRADES_ALL_G',\n 'AVG_MATH_4_SCORE',\n 'AVG_MATH_8_SCORE',\n 'AVG_READING_4_SCORE',\n 'AVG_READING_8_SCORE']"
       },
       "execution_count": 16,
       "metadata": {},
       "output_type": "execute_result"
      }
     ],
     "persistentId": "81b1bff8-5b91-4a53-b31f-64913f0bf801",
     "text": "education.columns[:3].tolist() + education.columns[-5:].tolist()"
    },
    "executionTime": "2019-12-02T18:01:55.959Z"
   },
   {
    "cell": {
     "executionCount": 17,
     "executionEventId": "77a691eb-e5d8-48f5-b9ae-22c4d2b38a17",
     "hasError": false,
     "id": "00e2367b-f5b8-4d78-9e0c-bbcc303b0530",
     "outputs": [],
     "persistentId": "6c59c6f1-1ef1-4f74-bf95-fc4597980e0a",
     "text": "for column in education.columns[:3].tolist() + education.columns[-5:].tolist():\n    education_1[column] = education[column]"
    },
    "executionTime": "2019-12-02T18:02:18.530Z"
   },
   {
    "cell": {
     "executionCount": 18,
     "executionEventId": "83146a96-726b-4fa2-be9d-24ecf9370d79",
     "hasError": false,
     "id": "893ea86f-5f5e-4d3a-ad9e-bd8ad3754a3d",
     "outputs": [],
     "persistentId": "f2745559-38d3-4f48-bffa-4f9273289b44",
     "text": "# Replace missing values with medians and save to the new dataframe\nfor column in education.columns[3:-4]:\n    education_1[column] = education[column].fillna(education[column].median())"
    },
    "executionTime": "2019-12-02T18:03:12.776Z"
   },
   {
    "cell": {
     "executionCount": 19,
     "executionEventId": "86fc3dd8-fab9-4e52-b94a-91e10dc2b6b0",
     "hasError": false,
     "id": "893ea86f-5f5e-4d3a-ad9e-bd8ad3754a3d",
     "outputs": [
      {
       "data": {
        "text/html": "<div>\n<style scoped>\n    .dataframe tbody tr th:only-of-type {\n        vertical-align: middle;\n    }\n\n    .dataframe tbody tr th {\n        vertical-align: top;\n    }\n\n    .dataframe thead th {\n        text-align: right;\n    }\n</style>\n<table border=\"1\" class=\"dataframe\">\n  <thead>\n    <tr style=\"text-align: right;\">\n      <th></th>\n      <th>PRIMARY_KEY</th>\n      <th>STATE</th>\n      <th>YEAR</th>\n      <th>ENROLL</th>\n      <th>TOTAL_REVENUE</th>\n      <th>FEDERAL_REVENUE</th>\n      <th>STATE_REVENUE</th>\n      <th>LOCAL_REVENUE</th>\n      <th>TOTAL_EXPENDITURE</th>\n      <th>INSTRUCTION_EXPENDITURE</th>\n      <th>...</th>\n      <th>GRADES_4_G</th>\n      <th>GRADES_8_G</th>\n      <th>GRADES_12_G</th>\n      <th>GRADES_1_8_G</th>\n      <th>GRADES_9_12_G</th>\n      <th>GRADES_ALL_G</th>\n      <th>AVG_MATH_4_SCORE</th>\n      <th>AVG_MATH_8_SCORE</th>\n      <th>AVG_READING_4_SCORE</th>\n      <th>AVG_READING_8_SCORE</th>\n    </tr>\n  </thead>\n  <tbody>\n    <tr>\n      <th>0</th>\n      <td>1992_ALABAMA</td>\n      <td>ALABAMA</td>\n      <td>1992</td>\n      <td>648313.0</td>\n      <td>2678885.0</td>\n      <td>304177.0</td>\n      <td>1659028.0</td>\n      <td>715680.0</td>\n      <td>2653798.0</td>\n      <td>1481703.0</td>\n      <td>...</td>\n      <td>57948.0</td>\n      <td>58025.0</td>\n      <td>41167.0</td>\n      <td>471564.0</td>\n      <td>196386.0</td>\n      <td>676174.0</td>\n      <td>208.327876</td>\n      <td>252.187522</td>\n      <td>207.963517</td>\n      <td>NaN</td>\n    </tr>\n    <tr>\n      <th>1</th>\n      <td>1992_ALASKA</td>\n      <td>ALASKA</td>\n      <td>1992</td>\n      <td>648313.0</td>\n      <td>1049591.0</td>\n      <td>106780.0</td>\n      <td>720711.0</td>\n      <td>222100.0</td>\n      <td>972488.0</td>\n      <td>498362.0</td>\n      <td>...</td>\n      <td>9748.0</td>\n      <td>8789.0</td>\n      <td>6714.0</td>\n      <td>79117.0</td>\n      <td>30847.0</td>\n      <td>112335.0</td>\n      <td>NaN</td>\n      <td>NaN</td>\n      <td>NaN</td>\n      <td>258.859712</td>\n    </tr>\n    <tr>\n      <th>2</th>\n      <td>1992_ARIZONA</td>\n      <td>ARIZONA</td>\n      <td>1992</td>\n      <td>648313.0</td>\n      <td>3258079.0</td>\n      <td>297888.0</td>\n      <td>1369815.0</td>\n      <td>1590376.0</td>\n      <td>3401580.0</td>\n      <td>1435908.0</td>\n      <td>...</td>\n      <td>55433.0</td>\n      <td>49081.0</td>\n      <td>37410.0</td>\n      <td>437127.0</td>\n      <td>175210.0</td>\n      <td>614881.0</td>\n      <td>215.253932</td>\n      <td>265.366278</td>\n      <td>206.212716</td>\n      <td>262.169895</td>\n    </tr>\n    <tr>\n      <th>3</th>\n      <td>1992_ARKANSAS</td>\n      <td>ARKANSAS</td>\n      <td>1992</td>\n      <td>648313.0</td>\n      <td>1711959.0</td>\n      <td>178571.0</td>\n      <td>958785.0</td>\n      <td>574603.0</td>\n      <td>1743022.0</td>\n      <td>964323.0</td>\n      <td>...</td>\n      <td>34632.0</td>\n      <td>36011.0</td>\n      <td>27651.0</td>\n      <td>281338.0</td>\n      <td>123113.0</td>\n      <td>405259.0</td>\n      <td>210.206028</td>\n      <td>256.312090</td>\n      <td>208.634458</td>\n      <td>264.619665</td>\n    </tr>\n    <tr>\n      <th>4</th>\n      <td>1992_CALIFORNIA</td>\n      <td>CALIFORNIA</td>\n      <td>1992</td>\n      <td>648313.0</td>\n      <td>26260025.0</td>\n      <td>2072470.0</td>\n      <td>16546514.0</td>\n      <td>7641041.0</td>\n      <td>27138832.0</td>\n      <td>14358922.0</td>\n      <td>...</td>\n      <td>418418.0</td>\n      <td>363296.0</td>\n      <td>270675.0</td>\n      <td>3286034.0</td>\n      <td>1372011.0</td>\n      <td>4717112.0</td>\n      <td>208.398961</td>\n      <td>260.892247</td>\n      <td>196.764414</td>\n      <td>NaN</td>\n    </tr>\n  </tbody>\n</table>\n<p>5 rows × 25 columns</p>\n</div>",
        "text/plain": "       PRIMARY_KEY       STATE  YEAR    ENROLL  TOTAL_REVENUE  \\\n0     1992_ALABAMA     ALABAMA  1992  648313.0      2678885.0   \n1      1992_ALASKA      ALASKA  1992  648313.0      1049591.0   \n2     1992_ARIZONA     ARIZONA  1992  648313.0      3258079.0   \n3    1992_ARKANSAS    ARKANSAS  1992  648313.0      1711959.0   \n4  1992_CALIFORNIA  CALIFORNIA  1992  648313.0     26260025.0   \n\n   FEDERAL_REVENUE  STATE_REVENUE  LOCAL_REVENUE  TOTAL_EXPENDITURE  \\\n0         304177.0      1659028.0       715680.0          2653798.0   \n1         106780.0       720711.0       222100.0           972488.0   \n2         297888.0      1369815.0      1590376.0          3401580.0   \n3         178571.0       958785.0       574603.0          1743022.0   \n4        2072470.0     16546514.0      7641041.0         27138832.0   \n\n   INSTRUCTION_EXPENDITURE  ...  GRADES_4_G  GRADES_8_G  GRADES_12_G  \\\n0                1481703.0  ...     57948.0     58025.0      41167.0   \n1                 498362.0  ...      9748.0      8789.0       6714.0   \n2                1435908.0  ...     55433.0     49081.0      37410.0   \n3                 964323.0  ...     34632.0     36011.0      27651.0   \n4               14358922.0  ...    418418.0    363296.0     270675.0   \n\n   GRADES_1_8_G  GRADES_9_12_G  GRADES_ALL_G  AVG_MATH_4_SCORE  \\\n0      471564.0       196386.0      676174.0        208.327876   \n1       79117.0        30847.0      112335.0               NaN   \n2      437127.0       175210.0      614881.0        215.253932   \n3      281338.0       123113.0      405259.0        210.206028   \n4     3286034.0      1372011.0     4717112.0        208.398961   \n\n   AVG_MATH_8_SCORE  AVG_READING_4_SCORE  AVG_READING_8_SCORE  \n0        252.187522           207.963517                  NaN  \n1               NaN                  NaN           258.859712  \n2        265.366278           206.212716           262.169895  \n3        256.312090           208.634458           264.619665  \n4        260.892247           196.764414                  NaN  \n\n[5 rows x 25 columns]"
       },
       "execution_count": 19,
       "metadata": {},
       "output_type": "execute_result"
      }
     ],
     "persistentId": "f2745559-38d3-4f48-bffa-4f9273289b44",
     "text": "education_1.head()"
    },
    "executionTime": "2019-12-02T18:03:46.539Z"
   },
   {
    "cell": {
     "executionCount": 20,
     "executionEventId": "90918e30-4852-446f-8265-d9d739e5f99e",
     "hasError": false,
     "id": "96f8744f-3e9f-4fad-ad5d-54f00c724871",
     "outputs": [
      {
       "data": {
        "text/plain": "PRIMARY_KEY                     0.000000\nSTATE                           0.000000\nYEAR                            0.000000\nENROLL                          0.000000\nTOTAL_REVENUE                   0.000000\nFEDERAL_REVENUE                 0.000000\nSTATE_REVENUE                   0.000000\nLOCAL_REVENUE                   0.000000\nTOTAL_EXPENDITURE               0.000000\nINSTRUCTION_EXPENDITURE         0.000000\nSUPPORT_SERVICES_EXPENDITURE    0.000000\nOTHER_EXPENDITURE               0.000000\nCAPITAL_OUTLAY_EXPENDITURE      0.000000\nGRADES_PK_G                     0.000000\nGRADES_KG_G                     0.000000\nGRADES_4_G                      0.000000\nGRADES_8_G                      0.000000\nGRADES_12_G                     0.000000\nGRADES_1_8_G                    0.000000\nGRADES_9_12_G                   0.000000\nGRADES_ALL_G                    0.000000\nAVG_MATH_4_SCORE                0.640751\nAVG_MATH_8_SCORE                0.643432\nAVG_READING_4_SCORE             0.642761\nAVG_READING_8_SCORE             0.666220\ndtype: float64"
       },
       "execution_count": 20,
       "metadata": {},
       "output_type": "execute_result"
      }
     ],
     "persistentId": "d1fa88cd-9235-40e6-9614-162477a334e0",
     "text": "education_1.isnull().sum() / education_1.isnull().count()"
    },
    "executionTime": "2019-12-02T18:04:02.957Z"
   },
   {
    "cell": {
     "executionCount": 21,
     "executionEventId": "a6d8a226-fbb4-485c-ac53-1a597f55cef0",
     "hasError": false,
     "id": "43be2d84-dbcd-4d34-ad32-5694ab5bae35",
     "outputs": [],
     "persistentId": "0514f08b-ac18-4578-8c4c-564f350cfb09",
     "text": "# Create an empty dataframe with the same dimension\neducation2 = pd.DataFrame().reindex_like(education)\n\n# Copy columns that won't change\nfor column in education.columns[:3].tolist() + education.columns[-5:].tolist():\n    education2[column] = education[column]\n\n# Replace missing values with medians and save to the new dataframe\nfor column in education.columns[3:-4]:\n    education2[column] = education[column].fillna(education[column].median())"
    },
    "executionTime": "2019-12-02T18:04:50.057Z"
   },
   {
    "cell": {
     "executionCount": 22,
     "executionEventId": "1479701d-7efb-4be0-a6cc-d59942f2e2b5",
     "hasError": false,
     "id": "96f8744f-3e9f-4fad-ad5d-54f00c724871",
     "outputs": [
      {
       "data": {
        "text/plain": "PRIMARY_KEY                     0.000000\nSTATE                           0.000000\nYEAR                            0.000000\nENROLL                          0.000000\nTOTAL_REVENUE                   0.000000\nFEDERAL_REVENUE                 0.000000\nSTATE_REVENUE                   0.000000\nLOCAL_REVENUE                   0.000000\nTOTAL_EXPENDITURE               0.000000\nINSTRUCTION_EXPENDITURE         0.000000\nSUPPORT_SERVICES_EXPENDITURE    0.000000\nOTHER_EXPENDITURE               0.000000\nCAPITAL_OUTLAY_EXPENDITURE      0.000000\nGRADES_PK_G                     0.000000\nGRADES_KG_G                     0.000000\nGRADES_4_G                      0.000000\nGRADES_8_G                      0.000000\nGRADES_12_G                     0.000000\nGRADES_1_8_G                    0.000000\nGRADES_9_12_G                   0.000000\nGRADES_ALL_G                    0.000000\nAVG_MATH_4_SCORE                0.640751\nAVG_MATH_8_SCORE                0.643432\nAVG_READING_4_SCORE             0.642761\nAVG_READING_8_SCORE             0.666220\ndtype: float64"
       },
       "execution_count": 22,
       "metadata": {},
       "output_type": "execute_result"
      }
     ],
     "persistentId": "d1fa88cd-9235-40e6-9614-162477a334e0",
     "text": "education2.isnull().sum() / education2.isnull().count()"
    },
    "executionTime": "2019-12-02T18:04:54.747Z"
   },
   {
    "cell": {
     "executionCount": 23,
     "executionEventId": "dcaf6765-b63b-4c9c-91e3-4e9e7275a57d",
     "hasError": false,
     "id": "1405eed8-45b8-46db-a841-92ad27e44478",
     "outputs": [],
     "persistentId": "9da458f5-d236-461e-a674-21e99cb671c5",
     "text": "# Create another empty dataframe with the same dimension\neducation3 = pd.DataFrame().reindex_like(education)\n\n# Copy columns that won't change\nfor column in education.columns[:3].tolist() + education.columns[-5:].tolist():\n    education3[column] = education[column]"
    },
    "executionTime": "2019-12-02T18:06:12.998Z"
   },
   {
    "cell": {
     "executionCount": 24,
     "executionEventId": "51cb98f6-156c-46b6-aaf1-6d519481ae16",
     "hasError": false,
     "id": "14cfe69c-8ff6-4de5-8439-dc5d61407326",
     "outputs": [],
     "persistentId": "cdd96c56-2f5e-4ced-bf11-c7bdaedf91bb",
     "text": "for column in education.columns[3:-4]:\n    for year in education[\"YEAR\"].unique():\n        education3.loc[education3[\"YEAR\"] == year, column] = education.loc[\n            education[\"YEAR\"] == year, column\n        ].fillna(education.loc[education[\"YEAR\"] == year, column].median())"
    },
    "executionTime": "2019-12-02T18:06:15.822Z"
   },
   {
    "cell": {
     "executionCount": 25,
     "executionEventId": "4e1df051-0246-4ff5-83f6-8dcdbd989177",
     "hasError": false,
     "id": "f7c125c6-24aa-41f5-b5f3-2a1c1f03af38",
     "outputs": [
      {
       "data": {
        "text/html": "<div>\n<style scoped>\n    .dataframe tbody tr th:only-of-type {\n        vertical-align: middle;\n    }\n\n    .dataframe tbody tr th {\n        vertical-align: top;\n    }\n\n    .dataframe thead th {\n        text-align: right;\n    }\n</style>\n<table border=\"1\" class=\"dataframe\">\n  <thead>\n    <tr style=\"text-align: right;\">\n      <th></th>\n      <th>PRIMARY_KEY</th>\n      <th>STATE</th>\n      <th>YEAR</th>\n      <th>ENROLL</th>\n      <th>TOTAL_REVENUE</th>\n      <th>FEDERAL_REVENUE</th>\n      <th>STATE_REVENUE</th>\n      <th>LOCAL_REVENUE</th>\n      <th>TOTAL_EXPENDITURE</th>\n      <th>INSTRUCTION_EXPENDITURE</th>\n      <th>...</th>\n      <th>GRADES_4_G</th>\n      <th>GRADES_8_G</th>\n      <th>GRADES_12_G</th>\n      <th>GRADES_1_8_G</th>\n      <th>GRADES_9_12_G</th>\n      <th>GRADES_ALL_G</th>\n      <th>AVG_MATH_4_SCORE</th>\n      <th>AVG_MATH_8_SCORE</th>\n      <th>AVG_READING_4_SCORE</th>\n      <th>AVG_READING_8_SCORE</th>\n    </tr>\n  </thead>\n  <tbody>\n    <tr>\n      <th>0</th>\n      <td>1992_ALABAMA</td>\n      <td>ALABAMA</td>\n      <td>1992</td>\n      <td>NaN</td>\n      <td>2678885.0</td>\n      <td>304177.0</td>\n      <td>1659028.0</td>\n      <td>715680.0</td>\n      <td>2653798.0</td>\n      <td>1481703.0</td>\n      <td>...</td>\n      <td>57948.0</td>\n      <td>58025.0</td>\n      <td>41167.0</td>\n      <td>471564.0</td>\n      <td>196386.0</td>\n      <td>676174.0</td>\n      <td>208.327876</td>\n      <td>252.187522</td>\n      <td>207.963517</td>\n      <td>NaN</td>\n    </tr>\n    <tr>\n      <th>1</th>\n      <td>1992_ALASKA</td>\n      <td>ALASKA</td>\n      <td>1992</td>\n      <td>NaN</td>\n      <td>1049591.0</td>\n      <td>106780.0</td>\n      <td>720711.0</td>\n      <td>222100.0</td>\n      <td>972488.0</td>\n      <td>498362.0</td>\n      <td>...</td>\n      <td>9748.0</td>\n      <td>8789.0</td>\n      <td>6714.0</td>\n      <td>79117.0</td>\n      <td>30847.0</td>\n      <td>112335.0</td>\n      <td>NaN</td>\n      <td>NaN</td>\n      <td>NaN</td>\n      <td>258.859712</td>\n    </tr>\n    <tr>\n      <th>2</th>\n      <td>1992_ARIZONA</td>\n      <td>ARIZONA</td>\n      <td>1992</td>\n      <td>NaN</td>\n      <td>3258079.0</td>\n      <td>297888.0</td>\n      <td>1369815.0</td>\n      <td>1590376.0</td>\n      <td>3401580.0</td>\n      <td>1435908.0</td>\n      <td>...</td>\n      <td>55433.0</td>\n      <td>49081.0</td>\n      <td>37410.0</td>\n      <td>437127.0</td>\n      <td>175210.0</td>\n      <td>614881.0</td>\n      <td>215.253932</td>\n      <td>265.366278</td>\n      <td>206.212716</td>\n      <td>262.169895</td>\n    </tr>\n    <tr>\n      <th>3</th>\n      <td>1992_ARKANSAS</td>\n      <td>ARKANSAS</td>\n      <td>1992</td>\n      <td>NaN</td>\n      <td>1711959.0</td>\n      <td>178571.0</td>\n      <td>958785.0</td>\n      <td>574603.0</td>\n      <td>1743022.0</td>\n      <td>964323.0</td>\n      <td>...</td>\n      <td>34632.0</td>\n      <td>36011.0</td>\n      <td>27651.0</td>\n      <td>281338.0</td>\n      <td>123113.0</td>\n      <td>405259.0</td>\n      <td>210.206028</td>\n      <td>256.312090</td>\n      <td>208.634458</td>\n      <td>264.619665</td>\n    </tr>\n    <tr>\n      <th>4</th>\n      <td>1992_CALIFORNIA</td>\n      <td>CALIFORNIA</td>\n      <td>1992</td>\n      <td>NaN</td>\n      <td>26260025.0</td>\n      <td>2072470.0</td>\n      <td>16546514.0</td>\n      <td>7641041.0</td>\n      <td>27138832.0</td>\n      <td>14358922.0</td>\n      <td>...</td>\n      <td>418418.0</td>\n      <td>363296.0</td>\n      <td>270675.0</td>\n      <td>3286034.0</td>\n      <td>1372011.0</td>\n      <td>4717112.0</td>\n      <td>208.398961</td>\n      <td>260.892247</td>\n      <td>196.764414</td>\n      <td>NaN</td>\n    </tr>\n    <tr>\n      <th>5</th>\n      <td>1992_COLORADO</td>\n      <td>COLORADO</td>\n      <td>1992</td>\n      <td>NaN</td>\n      <td>3185173.0</td>\n      <td>163253.0</td>\n      <td>1307986.0</td>\n      <td>1713934.0</td>\n      <td>3264826.0</td>\n      <td>1642466.0</td>\n      <td>...</td>\n      <td>50648.0</td>\n      <td>45025.0</td>\n      <td>34533.0</td>\n      <td>394904.0</td>\n      <td>160299.0</td>\n      <td>562613.0</td>\n      <td>221.023429</td>\n      <td>272.398433</td>\n      <td>213.480890</td>\n      <td>266.419687</td>\n    </tr>\n    <tr>\n      <th>6</th>\n      <td>1992_CONNECTICUT</td>\n      <td>CONNECTICUT</td>\n      <td>1992</td>\n      <td>NaN</td>\n      <td>3834302.0</td>\n      <td>143542.0</td>\n      <td>1342539.0</td>\n      <td>2348221.0</td>\n      <td>3721338.0</td>\n      <td>2148041.0</td>\n      <td>...</td>\n      <td>38058.0</td>\n      <td>33691.0</td>\n      <td>28366.0</td>\n      <td>304284.0</td>\n      <td>126917.0</td>\n      <td>436932.0</td>\n      <td>226.798480</td>\n      <td>273.739345</td>\n      <td>222.417599</td>\n      <td>264.713904</td>\n    </tr>\n    <tr>\n      <th>7</th>\n      <td>1992_DELAWARE</td>\n      <td>DELAWARE</td>\n      <td>1992</td>\n      <td>NaN</td>\n      <td>645233.0</td>\n      <td>45945.0</td>\n      <td>420942.0</td>\n      <td>178346.0</td>\n      <td>638784.0</td>\n      <td>372722.0</td>\n      <td>...</td>\n      <td>8272.0</td>\n      <td>8012.0</td>\n      <td>6129.0</td>\n      <td>67495.0</td>\n      <td>28338.0</td>\n      <td>96296.0</td>\n      <td>217.899972</td>\n      <td>262.868585</td>\n      <td>206.389052</td>\n      <td>261.577921</td>\n    </tr>\n    <tr>\n      <th>8</th>\n      <td>1992_DISTRICT_OF_COLUMBIA</td>\n      <td>DISTRICT_OF_COLUMBIA</td>\n      <td>1992</td>\n      <td>NaN</td>\n      <td>709480.0</td>\n      <td>64749.0</td>\n      <td>0.0</td>\n      <td>644731.0</td>\n      <td>742893.0</td>\n      <td>329160.0</td>\n      <td>...</td>\n      <td>5832.0</td>\n      <td>5000.0</td>\n      <td>3433.0</td>\n      <td>47009.0</td>\n      <td>18173.0</td>\n      <td>70000.0</td>\n      <td>192.600553</td>\n      <td>234.924621</td>\n      <td>178.557612</td>\n      <td>265.976765</td>\n    </tr>\n    <tr>\n      <th>9</th>\n      <td>1992_FLORIDA</td>\n      <td>FLORIDA</td>\n      <td>1992</td>\n      <td>NaN</td>\n      <td>11506299.0</td>\n      <td>788420.0</td>\n      <td>5683949.0</td>\n      <td>5033930.0</td>\n      <td>11305642.0</td>\n      <td>5166374.0</td>\n      <td>...</td>\n      <td>164416.0</td>\n      <td>142372.0</td>\n      <td>100835.0</td>\n      <td>1276685.0</td>\n      <td>511557.0</td>\n      <td>1819706.0</td>\n      <td>213.689751</td>\n      <td>259.908848</td>\n      <td>204.882606</td>\n      <td>262.118986</td>\n    </tr>\n    <tr>\n      <th>10</th>\n      <td>1992_GEORGIA</td>\n      <td>GEORGIA</td>\n      <td>1992</td>\n      <td>NaN</td>\n      <td>5536901.0</td>\n      <td>398701.0</td>\n      <td>2798674.0</td>\n      <td>2339526.0</td>\n      <td>5535942.0</td>\n      <td>3043984.0</td>\n      <td>...</td>\n      <td>99648.0</td>\n      <td>92374.0</td>\n      <td>63646.0</td>\n      <td>787599.0</td>\n      <td>315539.0</td>\n      <td>1106441.0</td>\n      <td>215.594906</td>\n      <td>259.359434</td>\n      <td>206.844175</td>\n      <td>NaN</td>\n    </tr>\n    <tr>\n      <th>11</th>\n      <td>1992_HAWAII</td>\n      <td>HAWAII</td>\n      <td>1992</td>\n      <td>NaN</td>\n      <td>996809.0</td>\n      <td>71273.0</td>\n      <td>903443.0</td>\n      <td>22093.0</td>\n      <td>1040121.0</td>\n      <td>536115.0</td>\n      <td>...</td>\n      <td>13754.0</td>\n      <td>11750.0</td>\n      <td>9051.0</td>\n      <td>107242.0</td>\n      <td>43882.0</td>\n      <td>151649.0</td>\n      <td>214.056666</td>\n      <td>257.410887</td>\n      <td>200.880272</td>\n      <td>NaN</td>\n    </tr>\n    <tr>\n      <th>12</th>\n      <td>1992_IDAHO</td>\n      <td>IDAHO</td>\n      <td>1992</td>\n      <td>NaN</td>\n      <td>859329.0</td>\n      <td>69138.0</td>\n      <td>531912.0</td>\n      <td>258279.0</td>\n      <td>886161.0</td>\n      <td>473505.0</td>\n      <td>...</td>\n      <td>18607.0</td>\n      <td>18880.0</td>\n      <td>14593.0</td>\n      <td>146573.0</td>\n      <td>66541.0</td>\n      <td>214345.0</td>\n      <td>221.562534</td>\n      <td>275.090294</td>\n      <td>NaN</td>\n      <td>NaN</td>\n    </tr>\n    <tr>\n      <th>13</th>\n      <td>1992_ILLINOIS</td>\n      <td>ILLINOIS</td>\n      <td>1992</td>\n      <td>NaN</td>\n      <td>9748650.0</td>\n      <td>597077.0</td>\n      <td>3073178.0</td>\n      <td>6078395.0</td>\n      <td>9850560.0</td>\n      <td>5010400.0</td>\n      <td>...</td>\n      <td>133120.0</td>\n      <td>134317.0</td>\n      <td>106475.0</td>\n      <td>1111167.0</td>\n      <td>495562.0</td>\n      <td>1646411.0</td>\n      <td>NaN</td>\n      <td>NaN</td>\n      <td>NaN</td>\n      <td>NaN</td>\n    </tr>\n    <tr>\n      <th>14</th>\n      <td>1992_INDIANA</td>\n      <td>INDIANA</td>\n      <td>1992</td>\n      <td>NaN</td>\n      <td>5060274.0</td>\n      <td>257044.0</td>\n      <td>2578149.0</td>\n      <td>2225081.0</td>\n      <td>5182754.0</td>\n      <td>2598925.0</td>\n      <td>...</td>\n      <td>73760.0</td>\n      <td>75477.0</td>\n      <td>62234.0</td>\n      <td>601890.0</td>\n      <td>278161.0</td>\n      <td>883276.0</td>\n      <td>221.037742</td>\n      <td>270.098944</td>\n      <td>219.763258</td>\n      <td>NaN</td>\n    </tr>\n    <tr>\n      <th>15</th>\n      <td>1992_IOWA</td>\n      <td>IOWA</td>\n      <td>1992</td>\n      <td>NaN</td>\n      <td>2663934.0</td>\n      <td>125665.0</td>\n      <td>1176205.0</td>\n      <td>1362064.0</td>\n      <td>2795774.0</td>\n      <td>1446478.0</td>\n      <td>...</td>\n      <td>37692.0</td>\n      <td>36892.0</td>\n      <td>33057.0</td>\n      <td>299253.0</td>\n      <td>138907.0</td>\n      <td>442752.0</td>\n      <td>229.884078</td>\n      <td>283.360009</td>\n      <td>222.852939</td>\n      <td>NaN</td>\n    </tr>\n    <tr>\n      <th>16</th>\n      <td>1992_KANSAS</td>\n      <td>KANSAS</td>\n      <td>1992</td>\n      <td>NaN</td>\n      <td>2245348.0</td>\n      <td>121625.0</td>\n      <td>903199.0</td>\n      <td>1220524.0</td>\n      <td>2234915.0</td>\n      <td>1165749.0</td>\n      <td>...</td>\n      <td>36013.0</td>\n      <td>33288.0</td>\n      <td>26706.0</td>\n      <td>284143.0</td>\n      <td>120960.0</td>\n      <td>407494.0</td>\n      <td>NaN</td>\n      <td>NaN</td>\n      <td>NaN</td>\n      <td>NaN</td>\n    </tr>\n    <tr>\n      <th>17</th>\n      <td>1992_KENTUCKY</td>\n      <td>KENTUCKY</td>\n      <td>1992</td>\n      <td>NaN</td>\n      <td>2642902.0</td>\n      <td>289902.0</td>\n      <td>1643109.0</td>\n      <td>709891.0</td>\n      <td>2518082.0</td>\n      <td>1343438.0</td>\n      <td>...</td>\n      <td>49666.0</td>\n      <td>49993.0</td>\n      <td>38029.0</td>\n      <td>400849.0</td>\n      <td>181786.0</td>\n      <td>597199.0</td>\n      <td>215.048158</td>\n      <td>262.241282</td>\n      <td>211.562307</td>\n      <td>NaN</td>\n    </tr>\n    <tr>\n      <th>18</th>\n      <td>1992_LOUISIANA</td>\n      <td>LOUISIANA</td>\n      <td>1992</td>\n      <td>NaN</td>\n      <td>3341253.0</td>\n      <td>367822.0</td>\n      <td>1848734.0</td>\n      <td>1124697.0</td>\n      <td>3362853.0</td>\n      <td>1888349.0</td>\n      <td>...</td>\n      <td>61125.0</td>\n      <td>55942.0</td>\n      <td>38368.0</td>\n      <td>490112.0</td>\n      <td>196891.0</td>\n      <td>698442.0</td>\n      <td>204.140211</td>\n      <td>249.983926</td>\n      <td>196.762268</td>\n      <td>NaN</td>\n    </tr>\n    <tr>\n      <th>19</th>\n      <td>1992_MAINE</td>\n      <td>MAINE</td>\n      <td>1992</td>\n      <td>NaN</td>\n      <td>1206819.0</td>\n      <td>73160.0</td>\n      <td>511654.0</td>\n      <td>622005.0</td>\n      <td>1228869.0</td>\n      <td>685350.0</td>\n      <td>...</td>\n      <td>17154.0</td>\n      <td>15969.0</td>\n      <td>13882.0</td>\n      <td>135320.0</td>\n      <td>59289.0</td>\n      <td>195882.0</td>\n      <td>231.638840</td>\n      <td>278.635384</td>\n      <td>228.380027</td>\n      <td>NaN</td>\n    </tr>\n    <tr>\n      <th>20</th>\n      <td>1992_MARYLAND</td>\n      <td>MARYLAND</td>\n      <td>1992</td>\n      <td>NaN</td>\n      <td>4658498.0</td>\n      <td>228336.0</td>\n      <td>1778834.0</td>\n      <td>2651328.0</td>\n      <td>4698374.0</td>\n      <td>2628891.0</td>\n      <td>...</td>\n      <td>60287.0</td>\n      <td>52815.0</td>\n      <td>40426.0</td>\n      <td>472622.0</td>\n      <td>189795.0</td>\n      <td>678498.0</td>\n      <td>217.317708</td>\n      <td>264.825493</td>\n      <td>209.645497</td>\n      <td>NaN</td>\n    </tr>\n    <tr>\n      <th>21</th>\n      <td>1992_MASSACHUSETTS</td>\n      <td>MASSACHUSETTS</td>\n      <td>1992</td>\n      <td>NaN</td>\n      <td>5517659.0</td>\n      <td>273946.0</td>\n      <td>1439051.0</td>\n      <td>3804662.0</td>\n      <td>5245560.0</td>\n      <td>2751871.0</td>\n      <td>...</td>\n      <td>66822.0</td>\n      <td>60702.0</td>\n      <td>52425.0</td>\n      <td>536029.0</td>\n      <td>230299.0</td>\n      <td>777050.0</td>\n      <td>226.597918</td>\n      <td>272.783201</td>\n      <td>223.160076</td>\n      <td>NaN</td>\n    </tr>\n    <tr>\n      <th>22</th>\n      <td>1992_MICHIGAN</td>\n      <td>MICHIGAN</td>\n      <td>1992</td>\n      <td>NaN</td>\n      <td>9963137.0</td>\n      <td>537917.0</td>\n      <td>2539380.0</td>\n      <td>6885840.0</td>\n      <td>10170688.0</td>\n      <td>4681327.0</td>\n      <td>...</td>\n      <td>118963.0</td>\n      <td>114282.0</td>\n      <td>90655.0</td>\n      <td>968910.0</td>\n      <td>419351.0</td>\n      <td>1398802.0</td>\n      <td>219.878352</td>\n      <td>267.353194</td>\n      <td>NaN</td>\n      <td>NaN</td>\n    </tr>\n    <tr>\n      <th>23</th>\n      <td>1992_MINNESOTA</td>\n      <td>MINNESOTA</td>\n      <td>1992</td>\n      <td>NaN</td>\n      <td>4684684.0</td>\n      <td>194092.0</td>\n      <td>2380754.0</td>\n      <td>2109838.0</td>\n      <td>4981125.0</td>\n      <td>2534882.0</td>\n      <td>...</td>\n      <td>62606.0</td>\n      <td>59810.0</td>\n      <td>53813.0</td>\n      <td>500938.0</td>\n      <td>224426.0</td>\n      <td>731758.0</td>\n      <td>228.493596</td>\n      <td>282.392205</td>\n      <td>218.301709</td>\n      <td>NaN</td>\n    </tr>\n    <tr>\n      <th>24</th>\n      <td>1992_MISSISSIPPI</td>\n      <td>MISSISSIPPI</td>\n      <td>1992</td>\n      <td>NaN</td>\n      <td>1684706.0</td>\n      <td>277706.0</td>\n      <td>901199.0</td>\n      <td>505801.0</td>\n      <td>1691990.0</td>\n      <td>956104.0</td>\n      <td>...</td>\n      <td>39839.0</td>\n      <td>38132.0</td>\n      <td>26328.0</td>\n      <td>321614.0</td>\n      <td>129554.0</td>\n      <td>451986.0</td>\n      <td>201.828261</td>\n      <td>246.458035</td>\n      <td>201.529328</td>\n      <td>NaN</td>\n    </tr>\n    <tr>\n      <th>25</th>\n      <td>1992_MISSOURI</td>\n      <td>MISSOURI</td>\n      <td>1992</td>\n      <td>NaN</td>\n      <td>4043682.0</td>\n      <td>255194.0</td>\n      <td>1903124.0</td>\n      <td>1885364.0</td>\n      <td>4197600.0</td>\n      <td>2168135.0</td>\n      <td>...</td>\n      <td>67098.0</td>\n      <td>64546.0</td>\n      <td>50534.0</td>\n      <td>531337.0</td>\n      <td>235437.0</td>\n      <td>785722.0</td>\n      <td>222.215600</td>\n      <td>271.131545</td>\n      <td>216.898079</td>\n      <td>NaN</td>\n    </tr>\n    <tr>\n      <th>26</th>\n      <td>1992_MONTANA</td>\n      <td>MONTANA</td>\n      <td>1992</td>\n      <td>NaN</td>\n      <td>828983.0</td>\n      <td>69947.0</td>\n      <td>337455.0</td>\n      <td>421581.0</td>\n      <td>781009.0</td>\n      <td>412219.0</td>\n      <td>...</td>\n      <td>12839.0</td>\n      <td>12124.0</td>\n      <td>10019.0</td>\n      <td>102124.0</td>\n      <td>44449.0</td>\n      <td>147127.0</td>\n      <td>NaN</td>\n      <td>NaN</td>\n      <td>222.301419</td>\n      <td>NaN</td>\n    </tr>\n    <tr>\n      <th>27</th>\n      <td>1992_NEBRASKA</td>\n      <td>NEBRASKA</td>\n      <td>1992</td>\n      <td>NaN</td>\n      <td>1542413.0</td>\n      <td>85423.0</td>\n      <td>492256.0</td>\n      <td>964734.0</td>\n      <td>1534046.0</td>\n      <td>909159.0</td>\n      <td>...</td>\n      <td>22133.0</td>\n      <td>21379.0</td>\n      <td>18999.0</td>\n      <td>177432.0</td>\n      <td>79975.0</td>\n      <td>260541.0</td>\n      <td>225.332648</td>\n      <td>277.654523</td>\n      <td>220.034963</td>\n      <td>NaN</td>\n    </tr>\n    <tr>\n      <th>28</th>\n      <td>1992_NEVADA</td>\n      <td>NEVADA</td>\n      <td>1992</td>\n      <td>NaN</td>\n      <td>1097076.0</td>\n      <td>45018.0</td>\n      <td>724032.0</td>\n      <td>328026.0</td>\n      <td>1251651.0</td>\n      <td>572623.0</td>\n      <td>...</td>\n      <td>18487.0</td>\n      <td>16250.0</td>\n      <td>12242.0</td>\n      <td>145687.0</td>\n      <td>57605.0</td>\n      <td>204330.0</td>\n      <td>NaN</td>\n      <td>NaN</td>\n      <td>NaN</td>\n      <td>NaN</td>\n    </tr>\n    <tr>\n      <th>29</th>\n      <td>1992_NEW_HAMPSHIRE</td>\n      <td>NEW_HAMPSHIRE</td>\n      <td>1992</td>\n      <td>NaN</td>\n      <td>1063391.0</td>\n      <td>31020.0</td>\n      <td>86296.0</td>\n      <td>946075.0</td>\n      <td>1066647.0</td>\n      <td>581123.0</td>\n      <td>...</td>\n      <td>15611.0</td>\n      <td>13537.0</td>\n      <td>10752.0</td>\n      <td>123475.0</td>\n      <td>47999.0</td>\n      <td>172479.0</td>\n      <td>229.664564</td>\n      <td>278.216326</td>\n      <td>223.466140</td>\n      <td>NaN</td>\n    </tr>\n    <tr>\n      <th>...</th>\n      <td>...</td>\n      <td>...</td>\n      <td>...</td>\n      <td>...</td>\n      <td>...</td>\n      <td>...</td>\n      <td>...</td>\n      <td>...</td>\n      <td>...</td>\n      <td>...</td>\n      <td>...</td>\n      <td>...</td>\n      <td>...</td>\n      <td>...</td>\n      <td>...</td>\n      <td>...</td>\n      <td>...</td>\n      <td>...</td>\n      <td>...</td>\n      <td>...</td>\n      <td>...</td>\n    </tr>\n    <tr>\n      <th>1462</th>\n      <td>2017_IOWA</td>\n      <td>IOWA</td>\n      <td>2017</td>\n      <td>NaN</td>\n      <td>NaN</td>\n      <td>NaN</td>\n      <td>NaN</td>\n      <td>NaN</td>\n      <td>NaN</td>\n      <td>NaN</td>\n      <td>...</td>\n      <td>NaN</td>\n      <td>NaN</td>\n      <td>NaN</td>\n      <td>NaN</td>\n      <td>NaN</td>\n      <td>NaN</td>\n      <td>243.107484</td>\n      <td>286.239418</td>\n      <td>221.747268</td>\n      <td>272.023876</td>\n    </tr>\n    <tr>\n      <th>1463</th>\n      <td>2017_KANSAS</td>\n      <td>KANSAS</td>\n      <td>2017</td>\n      <td>NaN</td>\n      <td>NaN</td>\n      <td>NaN</td>\n      <td>NaN</td>\n      <td>NaN</td>\n      <td>NaN</td>\n      <td>NaN</td>\n      <td>...</td>\n      <td>NaN</td>\n      <td>NaN</td>\n      <td>NaN</td>\n      <td>NaN</td>\n      <td>NaN</td>\n      <td>NaN</td>\n      <td>241.212805</td>\n      <td>285.283508</td>\n      <td>223.268429</td>\n      <td>267.675679</td>\n    </tr>\n    <tr>\n      <th>1464</th>\n      <td>2017_KENTUCKY</td>\n      <td>KENTUCKY</td>\n      <td>2017</td>\n      <td>NaN</td>\n      <td>NaN</td>\n      <td>NaN</td>\n      <td>NaN</td>\n      <td>NaN</td>\n      <td>NaN</td>\n      <td>NaN</td>\n      <td>...</td>\n      <td>NaN</td>\n      <td>NaN</td>\n      <td>NaN</td>\n      <td>NaN</td>\n      <td>NaN</td>\n      <td>NaN</td>\n      <td>239.178257</td>\n      <td>277.714162</td>\n      <td>224.080585</td>\n      <td>267.490028</td>\n    </tr>\n    <tr>\n      <th>1465</th>\n      <td>2017_LOUISIANA</td>\n      <td>LOUISIANA</td>\n      <td>2017</td>\n      <td>NaN</td>\n      <td>NaN</td>\n      <td>NaN</td>\n      <td>NaN</td>\n      <td>NaN</td>\n      <td>NaN</td>\n      <td>NaN</td>\n      <td>...</td>\n      <td>NaN</td>\n      <td>NaN</td>\n      <td>NaN</td>\n      <td>NaN</td>\n      <td>NaN</td>\n      <td>NaN</td>\n      <td>228.971745</td>\n      <td>266.506760</td>\n      <td>211.600528</td>\n      <td>265.133438</td>\n    </tr>\n    <tr>\n      <th>1466</th>\n      <td>2017_MAINE</td>\n      <td>MAINE</td>\n      <td>2017</td>\n      <td>NaN</td>\n      <td>NaN</td>\n      <td>NaN</td>\n      <td>NaN</td>\n      <td>NaN</td>\n      <td>NaN</td>\n      <td>NaN</td>\n      <td>...</td>\n      <td>NaN</td>\n      <td>NaN</td>\n      <td>NaN</td>\n      <td>NaN</td>\n      <td>NaN</td>\n      <td>NaN</td>\n      <td>239.898995</td>\n      <td>284.003007</td>\n      <td>221.388603</td>\n      <td>256.751471</td>\n    </tr>\n    <tr>\n      <th>1467</th>\n      <td>2017_MARYLAND</td>\n      <td>MARYLAND</td>\n      <td>2017</td>\n      <td>NaN</td>\n      <td>NaN</td>\n      <td>NaN</td>\n      <td>NaN</td>\n      <td>NaN</td>\n      <td>NaN</td>\n      <td>NaN</td>\n      <td>...</td>\n      <td>NaN</td>\n      <td>NaN</td>\n      <td>NaN</td>\n      <td>NaN</td>\n      <td>NaN</td>\n      <td>NaN</td>\n      <td>240.601277</td>\n      <td>280.910246</td>\n      <td>225.049335</td>\n      <td>268.930632</td>\n    </tr>\n    <tr>\n      <th>1468</th>\n      <td>2017_MASSACHUSETTS</td>\n      <td>MASSACHUSETTS</td>\n      <td>2017</td>\n      <td>NaN</td>\n      <td>NaN</td>\n      <td>NaN</td>\n      <td>NaN</td>\n      <td>NaN</td>\n      <td>NaN</td>\n      <td>NaN</td>\n      <td>...</td>\n      <td>NaN</td>\n      <td>NaN</td>\n      <td>NaN</td>\n      <td>NaN</td>\n      <td>NaN</td>\n      <td>NaN</td>\n      <td>249.102674</td>\n      <td>297.042225</td>\n      <td>235.699697</td>\n      <td>267.250533</td>\n    </tr>\n    <tr>\n      <th>1469</th>\n      <td>2017_MICHIGAN</td>\n      <td>MICHIGAN</td>\n      <td>2017</td>\n      <td>NaN</td>\n      <td>NaN</td>\n      <td>NaN</td>\n      <td>NaN</td>\n      <td>NaN</td>\n      <td>NaN</td>\n      <td>NaN</td>\n      <td>...</td>\n      <td>NaN</td>\n      <td>NaN</td>\n      <td>NaN</td>\n      <td>NaN</td>\n      <td>NaN</td>\n      <td>NaN</td>\n      <td>235.555473</td>\n      <td>279.505455</td>\n      <td>217.753242</td>\n      <td>277.782589</td>\n    </tr>\n    <tr>\n      <th>1470</th>\n      <td>2017_MINNESOTA</td>\n      <td>MINNESOTA</td>\n      <td>2017</td>\n      <td>NaN</td>\n      <td>NaN</td>\n      <td>NaN</td>\n      <td>NaN</td>\n      <td>NaN</td>\n      <td>NaN</td>\n      <td>NaN</td>\n      <td>...</td>\n      <td>NaN</td>\n      <td>NaN</td>\n      <td>NaN</td>\n      <td>NaN</td>\n      <td>NaN</td>\n      <td>NaN</td>\n      <td>248.804303</td>\n      <td>293.962376</td>\n      <td>224.538513</td>\n      <td>265.468928</td>\n    </tr>\n    <tr>\n      <th>1471</th>\n      <td>2017_MISSISSIPPI</td>\n      <td>MISSISSIPPI</td>\n      <td>2017</td>\n      <td>NaN</td>\n      <td>NaN</td>\n      <td>NaN</td>\n      <td>NaN</td>\n      <td>NaN</td>\n      <td>NaN</td>\n      <td>NaN</td>\n      <td>...</td>\n      <td>NaN</td>\n      <td>NaN</td>\n      <td>NaN</td>\n      <td>NaN</td>\n      <td>NaN</td>\n      <td>NaN</td>\n      <td>234.694193</td>\n      <td>270.914908</td>\n      <td>215.203306</td>\n      <td>268.616822</td>\n    </tr>\n    <tr>\n      <th>1472</th>\n      <td>2017_MISSOURI</td>\n      <td>MISSOURI</td>\n      <td>2017</td>\n      <td>NaN</td>\n      <td>NaN</td>\n      <td>NaN</td>\n      <td>NaN</td>\n      <td>NaN</td>\n      <td>NaN</td>\n      <td>NaN</td>\n      <td>...</td>\n      <td>NaN</td>\n      <td>NaN</td>\n      <td>NaN</td>\n      <td>NaN</td>\n      <td>NaN</td>\n      <td>NaN</td>\n      <td>239.502289</td>\n      <td>280.596022</td>\n      <td>222.681081</td>\n      <td>256.344701</td>\n    </tr>\n    <tr>\n      <th>1473</th>\n      <td>2017_MONTANA</td>\n      <td>MONTANA</td>\n      <td>2017</td>\n      <td>NaN</td>\n      <td>NaN</td>\n      <td>NaN</td>\n      <td>NaN</td>\n      <td>NaN</td>\n      <td>NaN</td>\n      <td>NaN</td>\n      <td>...</td>\n      <td>NaN</td>\n      <td>NaN</td>\n      <td>NaN</td>\n      <td>NaN</td>\n      <td>NaN</td>\n      <td>NaN</td>\n      <td>240.721634</td>\n      <td>285.600437</td>\n      <td>222.326722</td>\n      <td>266.035007</td>\n    </tr>\n    <tr>\n      <th>1474</th>\n      <td>2017_NEBRASKA</td>\n      <td>NEBRASKA</td>\n      <td>2017</td>\n      <td>NaN</td>\n      <td>NaN</td>\n      <td>NaN</td>\n      <td>NaN</td>\n      <td>NaN</td>\n      <td>NaN</td>\n      <td>NaN</td>\n      <td>...</td>\n      <td>NaN</td>\n      <td>NaN</td>\n      <td>NaN</td>\n      <td>NaN</td>\n      <td>NaN</td>\n      <td>NaN</td>\n      <td>245.590675</td>\n      <td>288.405955</td>\n      <td>224.096225</td>\n      <td>267.208219</td>\n    </tr>\n    <tr>\n      <th>1475</th>\n      <td>2017_NEVADA</td>\n      <td>NEVADA</td>\n      <td>2017</td>\n      <td>NaN</td>\n      <td>NaN</td>\n      <td>NaN</td>\n      <td>NaN</td>\n      <td>NaN</td>\n      <td>NaN</td>\n      <td>NaN</td>\n      <td>...</td>\n      <td>NaN</td>\n      <td>NaN</td>\n      <td>NaN</td>\n      <td>NaN</td>\n      <td>NaN</td>\n      <td>NaN</td>\n      <td>231.685162</td>\n      <td>275.365456</td>\n      <td>214.841696</td>\n      <td>268.528555</td>\n    </tr>\n    <tr>\n      <th>1476</th>\n      <td>2017_NEW_HAMPSHIRE</td>\n      <td>NEW_HAMPSHIRE</td>\n      <td>2017</td>\n      <td>NaN</td>\n      <td>NaN</td>\n      <td>NaN</td>\n      <td>NaN</td>\n      <td>NaN</td>\n      <td>NaN</td>\n      <td>NaN</td>\n      <td>...</td>\n      <td>NaN</td>\n      <td>NaN</td>\n      <td>NaN</td>\n      <td>NaN</td>\n      <td>NaN</td>\n      <td>NaN</td>\n      <td>245.319839</td>\n      <td>293.290654</td>\n      <td>228.900649</td>\n      <td>259.806407</td>\n    </tr>\n    <tr>\n      <th>1477</th>\n      <td>2017_NEW_JERSEY</td>\n      <td>NEW_JERSEY</td>\n      <td>2017</td>\n      <td>NaN</td>\n      <td>NaN</td>\n      <td>NaN</td>\n      <td>NaN</td>\n      <td>NaN</td>\n      <td>NaN</td>\n      <td>NaN</td>\n      <td>...</td>\n      <td>NaN</td>\n      <td>NaN</td>\n      <td>NaN</td>\n      <td>NaN</td>\n      <td>NaN</td>\n      <td>NaN</td>\n      <td>247.855231</td>\n      <td>291.698552</td>\n      <td>232.943318</td>\n      <td>274.786040</td>\n    </tr>\n    <tr>\n      <th>1478</th>\n      <td>2017_NEW_MEXICO</td>\n      <td>NEW_MEXICO</td>\n      <td>2017</td>\n      <td>NaN</td>\n      <td>NaN</td>\n      <td>NaN</td>\n      <td>NaN</td>\n      <td>NaN</td>\n      <td>NaN</td>\n      <td>NaN</td>\n      <td>...</td>\n      <td>NaN</td>\n      <td>NaN</td>\n      <td>NaN</td>\n      <td>NaN</td>\n      <td>NaN</td>\n      <td>NaN</td>\n      <td>229.704282</td>\n      <td>269.374084</td>\n      <td>207.704354</td>\n      <td>275.044552</td>\n    </tr>\n    <tr>\n      <th>1479</th>\n      <td>2017_NEW_YORK</td>\n      <td>NEW_YORK</td>\n      <td>2017</td>\n      <td>NaN</td>\n      <td>NaN</td>\n      <td>NaN</td>\n      <td>NaN</td>\n      <td>NaN</td>\n      <td>NaN</td>\n      <td>NaN</td>\n      <td>...</td>\n      <td>NaN</td>\n      <td>NaN</td>\n      <td>NaN</td>\n      <td>NaN</td>\n      <td>NaN</td>\n      <td>NaN</td>\n      <td>235.548457</td>\n      <td>281.688000</td>\n      <td>221.884015</td>\n      <td>255.578543</td>\n    </tr>\n    <tr>\n      <th>1480</th>\n      <td>2017_NORTH_CAROLINA</td>\n      <td>NORTH_CAROLINA</td>\n      <td>2017</td>\n      <td>NaN</td>\n      <td>NaN</td>\n      <td>NaN</td>\n      <td>NaN</td>\n      <td>NaN</td>\n      <td>NaN</td>\n      <td>NaN</td>\n      <td>...</td>\n      <td>NaN</td>\n      <td>NaN</td>\n      <td>NaN</td>\n      <td>NaN</td>\n      <td>NaN</td>\n      <td>NaN</td>\n      <td>240.951393</td>\n      <td>281.926028</td>\n      <td>223.930906</td>\n      <td>264.157584</td>\n    </tr>\n    <tr>\n      <th>1481</th>\n      <td>2017_NORTH_DAKOTA</td>\n      <td>NORTH_DAKOTA</td>\n      <td>2017</td>\n      <td>NaN</td>\n      <td>NaN</td>\n      <td>NaN</td>\n      <td>NaN</td>\n      <td>NaN</td>\n      <td>NaN</td>\n      <td>NaN</td>\n      <td>...</td>\n      <td>NaN</td>\n      <td>NaN</td>\n      <td>NaN</td>\n      <td>NaN</td>\n      <td>NaN</td>\n      <td>NaN</td>\n      <td>244.243515</td>\n      <td>288.172322</td>\n      <td>221.519266</td>\n      <td>262.720477</td>\n    </tr>\n    <tr>\n      <th>1482</th>\n      <td>2017_OHIO</td>\n      <td>OHIO</td>\n      <td>2017</td>\n      <td>NaN</td>\n      <td>NaN</td>\n      <td>NaN</td>\n      <td>NaN</td>\n      <td>NaN</td>\n      <td>NaN</td>\n      <td>NaN</td>\n      <td>...</td>\n      <td>NaN</td>\n      <td>NaN</td>\n      <td>NaN</td>\n      <td>NaN</td>\n      <td>NaN</td>\n      <td>NaN</td>\n      <td>240.928372</td>\n      <td>287.714266</td>\n      <td>225.261138</td>\n      <td>265.081922</td>\n    </tr>\n    <tr>\n      <th>1483</th>\n      <td>2017_TENNESSEE</td>\n      <td>TENNESSEE</td>\n      <td>2017</td>\n      <td>NaN</td>\n      <td>NaN</td>\n      <td>NaN</td>\n      <td>NaN</td>\n      <td>NaN</td>\n      <td>NaN</td>\n      <td>NaN</td>\n      <td>...</td>\n      <td>NaN</td>\n      <td>NaN</td>\n      <td>NaN</td>\n      <td>NaN</td>\n      <td>NaN</td>\n      <td>NaN</td>\n      <td>236.692515</td>\n      <td>278.777735</td>\n      <td>218.952797</td>\n      <td>267.355727</td>\n    </tr>\n    <tr>\n      <th>1484</th>\n      <td>2017_TEXAS</td>\n      <td>TEXAS</td>\n      <td>2017</td>\n      <td>NaN</td>\n      <td>NaN</td>\n      <td>NaN</td>\n      <td>NaN</td>\n      <td>NaN</td>\n      <td>NaN</td>\n      <td>NaN</td>\n      <td>...</td>\n      <td>NaN</td>\n      <td>NaN</td>\n      <td>NaN</td>\n      <td>NaN</td>\n      <td>NaN</td>\n      <td>NaN</td>\n      <td>240.943671</td>\n      <td>282.320510</td>\n      <td>214.878493</td>\n      <td>262.046853</td>\n    </tr>\n    <tr>\n      <th>1485</th>\n      <td>2017_UTAH</td>\n      <td>UTAH</td>\n      <td>2017</td>\n      <td>NaN</td>\n      <td>NaN</td>\n      <td>NaN</td>\n      <td>NaN</td>\n      <td>NaN</td>\n      <td>NaN</td>\n      <td>NaN</td>\n      <td>...</td>\n      <td>NaN</td>\n      <td>NaN</td>\n      <td>NaN</td>\n      <td>NaN</td>\n      <td>NaN</td>\n      <td>NaN</td>\n      <td>242.480766</td>\n      <td>286.816559</td>\n      <td>225.159173</td>\n      <td>260.342577</td>\n    </tr>\n    <tr>\n      <th>1486</th>\n      <td>2017_VERMONT</td>\n      <td>VERMONT</td>\n      <td>2017</td>\n      <td>NaN</td>\n      <td>NaN</td>\n      <td>NaN</td>\n      <td>NaN</td>\n      <td>NaN</td>\n      <td>NaN</td>\n      <td>NaN</td>\n      <td>...</td>\n      <td>NaN</td>\n      <td>NaN</td>\n      <td>NaN</td>\n      <td>NaN</td>\n      <td>NaN</td>\n      <td>NaN</td>\n      <td>240.893297</td>\n      <td>287.623388</td>\n      <td>226.445343</td>\n      <td>268.752420</td>\n    </tr>\n    <tr>\n      <th>1487</th>\n      <td>2017_VIRGINIA</td>\n      <td>VIRGINIA</td>\n      <td>2017</td>\n      <td>NaN</td>\n      <td>NaN</td>\n      <td>NaN</td>\n      <td>NaN</td>\n      <td>NaN</td>\n      <td>NaN</td>\n      <td>NaN</td>\n      <td>...</td>\n      <td>NaN</td>\n      <td>NaN</td>\n      <td>NaN</td>\n      <td>NaN</td>\n      <td>NaN</td>\n      <td>NaN</td>\n      <td>248.041059</td>\n      <td>290.081407</td>\n      <td>227.598382</td>\n      <td>273.402640</td>\n    </tr>\n    <tr>\n      <th>1488</th>\n      <td>2017_WASHINGTON</td>\n      <td>WASHINGTON</td>\n      <td>2017</td>\n      <td>NaN</td>\n      <td>NaN</td>\n      <td>NaN</td>\n      <td>NaN</td>\n      <td>NaN</td>\n      <td>NaN</td>\n      <td>NaN</td>\n      <td>...</td>\n      <td>NaN</td>\n      <td>NaN</td>\n      <td>NaN</td>\n      <td>NaN</td>\n      <td>NaN</td>\n      <td>NaN</td>\n      <td>241.701001</td>\n      <td>289.131257</td>\n      <td>223.123409</td>\n      <td>267.744778</td>\n    </tr>\n    <tr>\n      <th>1489</th>\n      <td>2017_WEST_VIRGINIA</td>\n      <td>WEST_VIRGINIA</td>\n      <td>2017</td>\n      <td>NaN</td>\n      <td>NaN</td>\n      <td>NaN</td>\n      <td>NaN</td>\n      <td>NaN</td>\n      <td>NaN</td>\n      <td>NaN</td>\n      <td>...</td>\n      <td>NaN</td>\n      <td>NaN</td>\n      <td>NaN</td>\n      <td>NaN</td>\n      <td>NaN</td>\n      <td>NaN</td>\n      <td>236.057019</td>\n      <td>273.415854</td>\n      <td>217.316396</td>\n      <td>271.617023</td>\n    </tr>\n    <tr>\n      <th>1490</th>\n      <td>2017_WISCONSIN</td>\n      <td>WISCONSIN</td>\n      <td>2017</td>\n      <td>NaN</td>\n      <td>NaN</td>\n      <td>NaN</td>\n      <td>NaN</td>\n      <td>NaN</td>\n      <td>NaN</td>\n      <td>NaN</td>\n      <td>...</td>\n      <td>NaN</td>\n      <td>NaN</td>\n      <td>NaN</td>\n      <td>NaN</td>\n      <td>NaN</td>\n      <td>NaN</td>\n      <td>240.389213</td>\n      <td>288.143144</td>\n      <td>219.612694</td>\n      <td>258.700304</td>\n    </tr>\n    <tr>\n      <th>1491</th>\n      <td>2017_WYOMING</td>\n      <td>WYOMING</td>\n      <td>2017</td>\n      <td>NaN</td>\n      <td>NaN</td>\n      <td>NaN</td>\n      <td>NaN</td>\n      <td>NaN</td>\n      <td>NaN</td>\n      <td>NaN</td>\n      <td>...</td>\n      <td>NaN</td>\n      <td>NaN</td>\n      <td>NaN</td>\n      <td>NaN</td>\n      <td>NaN</td>\n      <td>NaN</td>\n      <td>247.820619</td>\n      <td>288.761812</td>\n      <td>226.831211</td>\n      <td>269.371456</td>\n    </tr>\n  </tbody>\n</table>\n<p>1492 rows × 25 columns</p>\n</div>",
        "text/plain": "                    PRIMARY_KEY                 STATE  YEAR  ENROLL  \\\n0                  1992_ALABAMA               ALABAMA  1992     NaN   \n1                   1992_ALASKA                ALASKA  1992     NaN   \n2                  1992_ARIZONA               ARIZONA  1992     NaN   \n3                 1992_ARKANSAS              ARKANSAS  1992     NaN   \n4               1992_CALIFORNIA            CALIFORNIA  1992     NaN   \n5                 1992_COLORADO              COLORADO  1992     NaN   \n6              1992_CONNECTICUT           CONNECTICUT  1992     NaN   \n7                 1992_DELAWARE              DELAWARE  1992     NaN   \n8     1992_DISTRICT_OF_COLUMBIA  DISTRICT_OF_COLUMBIA  1992     NaN   \n9                  1992_FLORIDA               FLORIDA  1992     NaN   \n10                 1992_GEORGIA               GEORGIA  1992     NaN   \n11                  1992_HAWAII                HAWAII  1992     NaN   \n12                   1992_IDAHO                 IDAHO  1992     NaN   \n13                1992_ILLINOIS              ILLINOIS  1992     NaN   \n14                 1992_INDIANA               INDIANA  1992     NaN   \n15                    1992_IOWA                  IOWA  1992     NaN   \n16                  1992_KANSAS                KANSAS  1992     NaN   \n17                1992_KENTUCKY              KENTUCKY  1992     NaN   \n18               1992_LOUISIANA             LOUISIANA  1992     NaN   \n19                   1992_MAINE                 MAINE  1992     NaN   \n20                1992_MARYLAND              MARYLAND  1992     NaN   \n21           1992_MASSACHUSETTS         MASSACHUSETTS  1992     NaN   \n22                1992_MICHIGAN              MICHIGAN  1992     NaN   \n23               1992_MINNESOTA             MINNESOTA  1992     NaN   \n24             1992_MISSISSIPPI           MISSISSIPPI  1992     NaN   \n25                1992_MISSOURI              MISSOURI  1992     NaN   \n26                 1992_MONTANA               MONTANA  1992     NaN   \n27                1992_NEBRASKA              NEBRASKA  1992     NaN   \n28                  1992_NEVADA                NEVADA  1992     NaN   \n29           1992_NEW_HAMPSHIRE         NEW_HAMPSHIRE  1992     NaN   \n...                         ...                   ...   ...     ...   \n1462                  2017_IOWA                  IOWA  2017     NaN   \n1463                2017_KANSAS                KANSAS  2017     NaN   \n1464              2017_KENTUCKY              KENTUCKY  2017     NaN   \n1465             2017_LOUISIANA             LOUISIANA  2017     NaN   \n1466                 2017_MAINE                 MAINE  2017     NaN   \n1467              2017_MARYLAND              MARYLAND  2017     NaN   \n1468         2017_MASSACHUSETTS         MASSACHUSETTS  2017     NaN   \n1469              2017_MICHIGAN              MICHIGAN  2017     NaN   \n1470             2017_MINNESOTA             MINNESOTA  2017     NaN   \n1471           2017_MISSISSIPPI           MISSISSIPPI  2017     NaN   \n1472              2017_MISSOURI              MISSOURI  2017     NaN   \n1473               2017_MONTANA               MONTANA  2017     NaN   \n1474              2017_NEBRASKA              NEBRASKA  2017     NaN   \n1475                2017_NEVADA                NEVADA  2017     NaN   \n1476         2017_NEW_HAMPSHIRE         NEW_HAMPSHIRE  2017     NaN   \n1477            2017_NEW_JERSEY            NEW_JERSEY  2017     NaN   \n1478            2017_NEW_MEXICO            NEW_MEXICO  2017     NaN   \n1479              2017_NEW_YORK              NEW_YORK  2017     NaN   \n1480        2017_NORTH_CAROLINA        NORTH_CAROLINA  2017     NaN   \n1481          2017_NORTH_DAKOTA          NORTH_DAKOTA  2017     NaN   \n1482                  2017_OHIO                  OHIO  2017     NaN   \n1483             2017_TENNESSEE             TENNESSEE  2017     NaN   \n1484                 2017_TEXAS                 TEXAS  2017     NaN   \n1485                  2017_UTAH                  UTAH  2017     NaN   \n1486               2017_VERMONT               VERMONT  2017     NaN   \n1487              2017_VIRGINIA              VIRGINIA  2017     NaN   \n1488            2017_WASHINGTON            WASHINGTON  2017     NaN   \n1489         2017_WEST_VIRGINIA         WEST_VIRGINIA  2017     NaN   \n1490             2017_WISCONSIN             WISCONSIN  2017     NaN   \n1491               2017_WYOMING               WYOMING  2017     NaN   \n\n      TOTAL_REVENUE  FEDERAL_REVENUE  STATE_REVENUE  LOCAL_REVENUE  \\\n0         2678885.0         304177.0      1659028.0       715680.0   \n1         1049591.0         106780.0       720711.0       222100.0   \n2         3258079.0         297888.0      1369815.0      1590376.0   \n3         1711959.0         178571.0       958785.0       574603.0   \n4        26260025.0        2072470.0     16546514.0      7641041.0   \n5         3185173.0         163253.0      1307986.0      1713934.0   \n6         3834302.0         143542.0      1342539.0      2348221.0   \n7          645233.0          45945.0       420942.0       178346.0   \n8          709480.0          64749.0            0.0       644731.0   \n9        11506299.0         788420.0      5683949.0      5033930.0   \n10        5536901.0         398701.0      2798674.0      2339526.0   \n11         996809.0          71273.0       903443.0        22093.0   \n12         859329.0          69138.0       531912.0       258279.0   \n13        9748650.0         597077.0      3073178.0      6078395.0   \n14        5060274.0         257044.0      2578149.0      2225081.0   \n15        2663934.0         125665.0      1176205.0      1362064.0   \n16        2245348.0         121625.0       903199.0      1220524.0   \n17        2642902.0         289902.0      1643109.0       709891.0   \n18        3341253.0         367822.0      1848734.0      1124697.0   \n19        1206819.0          73160.0       511654.0       622005.0   \n20        4658498.0         228336.0      1778834.0      2651328.0   \n21        5517659.0         273946.0      1439051.0      3804662.0   \n22        9963137.0         537917.0      2539380.0      6885840.0   \n23        4684684.0         194092.0      2380754.0      2109838.0   \n24        1684706.0         277706.0       901199.0       505801.0   \n25        4043682.0         255194.0      1903124.0      1885364.0   \n26         828983.0          69947.0       337455.0       421581.0   \n27        1542413.0          85423.0       492256.0       964734.0   \n28        1097076.0          45018.0       724032.0       328026.0   \n29        1063391.0          31020.0        86296.0       946075.0   \n...             ...              ...            ...            ...   \n1462            NaN              NaN            NaN            NaN   \n1463            NaN              NaN            NaN            NaN   \n1464            NaN              NaN            NaN            NaN   \n1465            NaN              NaN            NaN            NaN   \n1466            NaN              NaN            NaN            NaN   \n1467            NaN              NaN            NaN            NaN   \n1468            NaN              NaN            NaN            NaN   \n1469            NaN              NaN            NaN            NaN   \n1470            NaN              NaN            NaN            NaN   \n1471            NaN              NaN            NaN            NaN   \n1472            NaN              NaN            NaN            NaN   \n1473            NaN              NaN            NaN            NaN   \n1474            NaN              NaN            NaN            NaN   \n1475            NaN              NaN            NaN            NaN   \n1476            NaN              NaN            NaN            NaN   \n1477            NaN              NaN            NaN            NaN   \n1478            NaN              NaN            NaN            NaN   \n1479            NaN              NaN            NaN            NaN   \n1480            NaN              NaN            NaN            NaN   \n1481            NaN              NaN            NaN            NaN   \n1482            NaN              NaN            NaN            NaN   \n1483            NaN              NaN            NaN            NaN   \n1484            NaN              NaN            NaN            NaN   \n1485            NaN              NaN            NaN            NaN   \n1486            NaN              NaN            NaN            NaN   \n1487            NaN              NaN            NaN            NaN   \n1488            NaN              NaN            NaN            NaN   \n1489            NaN              NaN            NaN            NaN   \n1490            NaN              NaN            NaN            NaN   \n1491            NaN              NaN            NaN            NaN   \n\n      TOTAL_EXPENDITURE  INSTRUCTION_EXPENDITURE  ...  GRADES_4_G  GRADES_8_G  \\\n0             2653798.0                1481703.0  ...     57948.0     58025.0   \n1              972488.0                 498362.0  ...      9748.0      8789.0   \n2             3401580.0                1435908.0  ...     55433.0     49081.0   \n3             1743022.0                 964323.0  ...     34632.0     36011.0   \n4            27138832.0               14358922.0  ...    418418.0    363296.0   \n5             3264826.0                1642466.0  ...     50648.0     45025.0   \n6             3721338.0                2148041.0  ...     38058.0     33691.0   \n7              638784.0                 372722.0  ...      8272.0      8012.0   \n8              742893.0                 329160.0  ...      5832.0      5000.0   \n9            11305642.0                5166374.0  ...    164416.0    142372.0   \n10            5535942.0                3043984.0  ...     99648.0     92374.0   \n11            1040121.0                 536115.0  ...     13754.0     11750.0   \n12             886161.0                 473505.0  ...     18607.0     18880.0   \n13            9850560.0                5010400.0  ...    133120.0    134317.0   \n14            5182754.0                2598925.0  ...     73760.0     75477.0   \n15            2795774.0                1446478.0  ...     37692.0     36892.0   \n16            2234915.0                1165749.0  ...     36013.0     33288.0   \n17            2518082.0                1343438.0  ...     49666.0     49993.0   \n18            3362853.0                1888349.0  ...     61125.0     55942.0   \n19            1228869.0                 685350.0  ...     17154.0     15969.0   \n20            4698374.0                2628891.0  ...     60287.0     52815.0   \n21            5245560.0                2751871.0  ...     66822.0     60702.0   \n22           10170688.0                4681327.0  ...    118963.0    114282.0   \n23            4981125.0                2534882.0  ...     62606.0     59810.0   \n24            1691990.0                 956104.0  ...     39839.0     38132.0   \n25            4197600.0                2168135.0  ...     67098.0     64546.0   \n26             781009.0                 412219.0  ...     12839.0     12124.0   \n27            1534046.0                 909159.0  ...     22133.0     21379.0   \n28            1251651.0                 572623.0  ...     18487.0     16250.0   \n29            1066647.0                 581123.0  ...     15611.0     13537.0   \n...                 ...                      ...  ...         ...         ...   \n1462                NaN                      NaN  ...         NaN         NaN   \n1463                NaN                      NaN  ...         NaN         NaN   \n1464                NaN                      NaN  ...         NaN         NaN   \n1465                NaN                      NaN  ...         NaN         NaN   \n1466                NaN                      NaN  ...         NaN         NaN   \n1467                NaN                      NaN  ...         NaN         NaN   \n1468                NaN                      NaN  ...         NaN         NaN   \n1469                NaN                      NaN  ...         NaN         NaN   \n1470                NaN                      NaN  ...         NaN         NaN   \n1471                NaN                      NaN  ...         NaN         NaN   \n1472                NaN                      NaN  ...         NaN         NaN   \n1473                NaN                      NaN  ...         NaN         NaN   \n1474                NaN                      NaN  ...         NaN         NaN   \n1475                NaN                      NaN  ...         NaN         NaN   \n1476                NaN                      NaN  ...         NaN         NaN   \n1477                NaN                      NaN  ...         NaN         NaN   \n1478                NaN                      NaN  ...         NaN         NaN   \n1479                NaN                      NaN  ...         NaN         NaN   \n1480                NaN                      NaN  ...         NaN         NaN   \n1481                NaN                      NaN  ...         NaN         NaN   \n1482                NaN                      NaN  ...         NaN         NaN   \n1483                NaN                      NaN  ...         NaN         NaN   \n1484                NaN                      NaN  ...         NaN         NaN   \n1485                NaN                      NaN  ...         NaN         NaN   \n1486                NaN                      NaN  ...         NaN         NaN   \n1487                NaN                      NaN  ...         NaN         NaN   \n1488                NaN                      NaN  ...         NaN         NaN   \n1489                NaN                      NaN  ...         NaN         NaN   \n1490                NaN                      NaN  ...         NaN         NaN   \n1491                NaN                      NaN  ...         NaN         NaN   \n\n      GRADES_12_G  GRADES_1_8_G  GRADES_9_12_G  GRADES_ALL_G  \\\n0         41167.0      471564.0       196386.0      676174.0   \n1          6714.0       79117.0        30847.0      112335.0   \n2         37410.0      437127.0       175210.0      614881.0   \n3         27651.0      281338.0       123113.0      405259.0   \n4        270675.0     3286034.0      1372011.0     4717112.0   \n5         34533.0      394904.0       160299.0      562613.0   \n6         28366.0      304284.0       126917.0      436932.0   \n7          6129.0       67495.0        28338.0       96296.0   \n8          3433.0       47009.0        18173.0       70000.0   \n9        100835.0     1276685.0       511557.0     1819706.0   \n10        63646.0      787599.0       315539.0     1106441.0   \n11         9051.0      107242.0        43882.0      151649.0   \n12        14593.0      146573.0        66541.0      214345.0   \n13       106475.0     1111167.0       495562.0     1646411.0   \n14        62234.0      601890.0       278161.0      883276.0   \n15        33057.0      299253.0       138907.0      442752.0   \n16        26706.0      284143.0       120960.0      407494.0   \n17        38029.0      400849.0       181786.0      597199.0   \n18        38368.0      490112.0       196891.0      698442.0   \n19        13882.0      135320.0        59289.0      195882.0   \n20        40426.0      472622.0       189795.0      678498.0   \n21        52425.0      536029.0       230299.0      777050.0   \n22        90655.0      968910.0       419351.0     1398802.0   \n23        53813.0      500938.0       224426.0      731758.0   \n24        26328.0      321614.0       129554.0      451986.0   \n25        50534.0      531337.0       235437.0      785722.0   \n26        10019.0      102124.0        44449.0      147127.0   \n27        18999.0      177432.0        79975.0      260541.0   \n28        12242.0      145687.0        57605.0      204330.0   \n29        10752.0      123475.0        47999.0      172479.0   \n...           ...           ...            ...           ...   \n1462          NaN           NaN            NaN           NaN   \n1463          NaN           NaN            NaN           NaN   \n1464          NaN           NaN            NaN           NaN   \n1465          NaN           NaN            NaN           NaN   \n1466          NaN           NaN            NaN           NaN   \n1467          NaN           NaN            NaN           NaN   \n1468          NaN           NaN            NaN           NaN   \n1469          NaN           NaN            NaN           NaN   \n1470          NaN           NaN            NaN           NaN   \n1471          NaN           NaN            NaN           NaN   \n1472          NaN           NaN            NaN           NaN   \n1473          NaN           NaN            NaN           NaN   \n1474          NaN           NaN            NaN           NaN   \n1475          NaN           NaN            NaN           NaN   \n1476          NaN           NaN            NaN           NaN   \n1477          NaN           NaN            NaN           NaN   \n1478          NaN           NaN            NaN           NaN   \n1479          NaN           NaN            NaN           NaN   \n1480          NaN           NaN            NaN           NaN   \n1481          NaN           NaN            NaN           NaN   \n1482          NaN           NaN            NaN           NaN   \n1483          NaN           NaN            NaN           NaN   \n1484          NaN           NaN            NaN           NaN   \n1485          NaN           NaN            NaN           NaN   \n1486          NaN           NaN            NaN           NaN   \n1487          NaN           NaN            NaN           NaN   \n1488          NaN           NaN            NaN           NaN   \n1489          NaN           NaN            NaN           NaN   \n1490          NaN           NaN            NaN           NaN   \n1491          NaN           NaN            NaN           NaN   \n\n      AVG_MATH_4_SCORE  AVG_MATH_8_SCORE  AVG_READING_4_SCORE  \\\n0           208.327876        252.187522           207.963517   \n1                  NaN               NaN                  NaN   \n2           215.253932        265.366278           206.212716   \n3           210.206028        256.312090           208.634458   \n4           208.398961        260.892247           196.764414   \n5           221.023429        272.398433           213.480890   \n6           226.798480        273.739345           222.417599   \n7           217.899972        262.868585           206.389052   \n8           192.600553        234.924621           178.557612   \n9           213.689751        259.908848           204.882606   \n10          215.594906        259.359434           206.844175   \n11          214.056666        257.410887           200.880272   \n12          221.562534        275.090294                  NaN   \n13                 NaN               NaN                  NaN   \n14          221.037742        270.098944           219.763258   \n15          229.884078        283.360009           222.852939   \n16                 NaN               NaN                  NaN   \n17          215.048158        262.241282           211.562307   \n18          204.140211        249.983926           196.762268   \n19          231.638840        278.635384           228.380027   \n20          217.317708        264.825493           209.645497   \n21          226.597918        272.783201           223.160076   \n22          219.878352        267.353194                  NaN   \n23          228.493596        282.392205           218.301709   \n24          201.828261        246.458035           201.529328   \n25          222.215600        271.131545           216.898079   \n26                 NaN               NaN           222.301419   \n27          225.332648        277.654523           220.034963   \n28                 NaN               NaN                  NaN   \n29          229.664564        278.216326           223.466140   \n...                ...               ...                  ...   \n1462        243.107484        286.239418           221.747268   \n1463        241.212805        285.283508           223.268429   \n1464        239.178257        277.714162           224.080585   \n1465        228.971745        266.506760           211.600528   \n1466        239.898995        284.003007           221.388603   \n1467        240.601277        280.910246           225.049335   \n1468        249.102674        297.042225           235.699697   \n1469        235.555473        279.505455           217.753242   \n1470        248.804303        293.962376           224.538513   \n1471        234.694193        270.914908           215.203306   \n1472        239.502289        280.596022           222.681081   \n1473        240.721634        285.600437           222.326722   \n1474        245.590675        288.405955           224.096225   \n1475        231.685162        275.365456           214.841696   \n1476        245.319839        293.290654           228.900649   \n1477        247.855231        291.698552           232.943318   \n1478        229.704282        269.374084           207.704354   \n1479        235.548457        281.688000           221.884015   \n1480        240.951393        281.926028           223.930906   \n1481        244.243515        288.172322           221.519266   \n1482        240.928372        287.714266           225.261138   \n1483        236.692515        278.777735           218.952797   \n1484        240.943671        282.320510           214.878493   \n1485        242.480766        286.816559           225.159173   \n1486        240.893297        287.623388           226.445343   \n1487        248.041059        290.081407           227.598382   \n1488        241.701001        289.131257           223.123409   \n1489        236.057019        273.415854           217.316396   \n1490        240.389213        288.143144           219.612694   \n1491        247.820619        288.761812           226.831211   \n\n      AVG_READING_8_SCORE  \n0                     NaN  \n1              258.859712  \n2              262.169895  \n3              264.619665  \n4                     NaN  \n5              266.419687  \n6              264.713904  \n7              261.577921  \n8              265.976765  \n9              262.118986  \n10                    NaN  \n11                    NaN  \n12                    NaN  \n13                    NaN  \n14                    NaN  \n15                    NaN  \n16                    NaN  \n17                    NaN  \n18                    NaN  \n19                    NaN  \n20                    NaN  \n21                    NaN  \n22                    NaN  \n23                    NaN  \n24                    NaN  \n25                    NaN  \n26                    NaN  \n27                    NaN  \n28                    NaN  \n29                    NaN  \n...                   ...  \n1462           272.023876  \n1463           267.675679  \n1464           267.490028  \n1465           265.133438  \n1466           256.751471  \n1467           268.930632  \n1468           267.250533  \n1469           277.782589  \n1470           265.468928  \n1471           268.616822  \n1472           256.344701  \n1473           266.035007  \n1474           267.208219  \n1475           268.528555  \n1476           259.806407  \n1477           274.786040  \n1478           275.044552  \n1479           255.578543  \n1480           264.157584  \n1481           262.720477  \n1482           265.081922  \n1483           267.355727  \n1484           262.046853  \n1485           260.342577  \n1486           268.752420  \n1487           273.402640  \n1488           267.744778  \n1489           271.617023  \n1490           258.700304  \n1491           269.371456  \n\n[1492 rows x 25 columns]"
       },
       "execution_count": 25,
       "metadata": {},
       "output_type": "execute_result"
      }
     ],
     "persistentId": "e728d6fa-ac88-4f1f-806f-1d1b400a85c9",
     "text": "education3"
    },
    "executionTime": "2019-12-02T18:06:24.695Z"
   },
   {
    "cell": {
     "executionCount": 26,
     "executionEventId": "b5a719bb-569c-48ee-8c97-acc124676737",
     "hasError": false,
     "id": "7fdcb0d2-aadf-4b4c-8a12-f69ce90dc072",
     "outputs": [
      {
       "data": {
        "text/plain": "Index(['ENROLL', 'TOTAL_REVENUE', 'FEDERAL_REVENUE', 'STATE_REVENUE',\n       'LOCAL_REVENUE', 'TOTAL_EXPENDITURE', 'INSTRUCTION_EXPENDITURE',\n       'SUPPORT_SERVICES_EXPENDITURE', 'OTHER_EXPENDITURE',\n       'CAPITAL_OUTLAY_EXPENDITURE', 'GRADES_PK_G', 'GRADES_KG_G',\n       'GRADES_4_G', 'GRADES_8_G', 'GRADES_12_G', 'GRADES_1_8_G',\n       'GRADES_9_12_G', 'GRADES_ALL_G'],\n      dtype='object')"
       },
       "execution_count": 26,
       "metadata": {},
       "output_type": "execute_result"
      }
     ],
     "persistentId": "6f144548-7300-499e-bbcb-e48d3fb5ff5b",
     "text": "education.columns[3:-4]"
    },
    "executionTime": "2019-12-02T18:06:51.965Z"
   },
   {
    "cell": {
     "executionCount": 27,
     "executionEventId": "879d4cdc-92ed-41f4-aa5b-e413562946c9",
     "hasError": false,
     "id": "f7c125c6-24aa-41f5-b5f3-2a1c1f03af38",
     "outputs": [
      {
       "data": {
        "text/html": "<div>\n<style scoped>\n    .dataframe tbody tr th:only-of-type {\n        vertical-align: middle;\n    }\n\n    .dataframe tbody tr th {\n        vertical-align: top;\n    }\n\n    .dataframe thead th {\n        text-align: right;\n    }\n</style>\n<table border=\"1\" class=\"dataframe\">\n  <thead>\n    <tr style=\"text-align: right;\">\n      <th></th>\n      <th>PRIMARY_KEY</th>\n      <th>STATE</th>\n      <th>YEAR</th>\n      <th>ENROLL</th>\n      <th>TOTAL_REVENUE</th>\n      <th>FEDERAL_REVENUE</th>\n      <th>STATE_REVENUE</th>\n      <th>LOCAL_REVENUE</th>\n      <th>TOTAL_EXPENDITURE</th>\n      <th>INSTRUCTION_EXPENDITURE</th>\n      <th>...</th>\n      <th>GRADES_4_G</th>\n      <th>GRADES_8_G</th>\n      <th>GRADES_12_G</th>\n      <th>GRADES_1_8_G</th>\n      <th>GRADES_9_12_G</th>\n      <th>GRADES_ALL_G</th>\n      <th>AVG_MATH_4_SCORE</th>\n      <th>AVG_MATH_8_SCORE</th>\n      <th>AVG_READING_4_SCORE</th>\n      <th>AVG_READING_8_SCORE</th>\n    </tr>\n  </thead>\n  <tbody>\n    <tr>\n      <th>0</th>\n      <td>1992_ALABAMA</td>\n      <td>ALABAMA</td>\n      <td>1992</td>\n      <td>648313.0</td>\n      <td>2678885.0</td>\n      <td>304177.0</td>\n      <td>1659028.0</td>\n      <td>715680.0</td>\n      <td>2653798.0</td>\n      <td>1481703.0</td>\n      <td>...</td>\n      <td>57948.0</td>\n      <td>58025.0</td>\n      <td>41167.0</td>\n      <td>471564.0</td>\n      <td>196386.0</td>\n      <td>676174.0</td>\n      <td>208.327876</td>\n      <td>252.187522</td>\n      <td>207.963517</td>\n      <td>NaN</td>\n    </tr>\n    <tr>\n      <th>1</th>\n      <td>1992_ALASKA</td>\n      <td>ALASKA</td>\n      <td>1992</td>\n      <td>648313.0</td>\n      <td>1049591.0</td>\n      <td>106780.0</td>\n      <td>720711.0</td>\n      <td>222100.0</td>\n      <td>972488.0</td>\n      <td>498362.0</td>\n      <td>...</td>\n      <td>9748.0</td>\n      <td>8789.0</td>\n      <td>6714.0</td>\n      <td>79117.0</td>\n      <td>30847.0</td>\n      <td>112335.0</td>\n      <td>NaN</td>\n      <td>NaN</td>\n      <td>NaN</td>\n      <td>258.859712</td>\n    </tr>\n    <tr>\n      <th>2</th>\n      <td>1992_ARIZONA</td>\n      <td>ARIZONA</td>\n      <td>1992</td>\n      <td>648313.0</td>\n      <td>3258079.0</td>\n      <td>297888.0</td>\n      <td>1369815.0</td>\n      <td>1590376.0</td>\n      <td>3401580.0</td>\n      <td>1435908.0</td>\n      <td>...</td>\n      <td>55433.0</td>\n      <td>49081.0</td>\n      <td>37410.0</td>\n      <td>437127.0</td>\n      <td>175210.0</td>\n      <td>614881.0</td>\n      <td>215.253932</td>\n      <td>265.366278</td>\n      <td>206.212716</td>\n      <td>262.169895</td>\n    </tr>\n    <tr>\n      <th>3</th>\n      <td>1992_ARKANSAS</td>\n      <td>ARKANSAS</td>\n      <td>1992</td>\n      <td>648313.0</td>\n      <td>1711959.0</td>\n      <td>178571.0</td>\n      <td>958785.0</td>\n      <td>574603.0</td>\n      <td>1743022.0</td>\n      <td>964323.0</td>\n      <td>...</td>\n      <td>34632.0</td>\n      <td>36011.0</td>\n      <td>27651.0</td>\n      <td>281338.0</td>\n      <td>123113.0</td>\n      <td>405259.0</td>\n      <td>210.206028</td>\n      <td>256.312090</td>\n      <td>208.634458</td>\n      <td>264.619665</td>\n    </tr>\n    <tr>\n      <th>4</th>\n      <td>1992_CALIFORNIA</td>\n      <td>CALIFORNIA</td>\n      <td>1992</td>\n      <td>648313.0</td>\n      <td>26260025.0</td>\n      <td>2072470.0</td>\n      <td>16546514.0</td>\n      <td>7641041.0</td>\n      <td>27138832.0</td>\n      <td>14358922.0</td>\n      <td>...</td>\n      <td>418418.0</td>\n      <td>363296.0</td>\n      <td>270675.0</td>\n      <td>3286034.0</td>\n      <td>1372011.0</td>\n      <td>4717112.0</td>\n      <td>208.398961</td>\n      <td>260.892247</td>\n      <td>196.764414</td>\n      <td>NaN</td>\n    </tr>\n    <tr>\n      <th>5</th>\n      <td>1992_COLORADO</td>\n      <td>COLORADO</td>\n      <td>1992</td>\n      <td>648313.0</td>\n      <td>3185173.0</td>\n      <td>163253.0</td>\n      <td>1307986.0</td>\n      <td>1713934.0</td>\n      <td>3264826.0</td>\n      <td>1642466.0</td>\n      <td>...</td>\n      <td>50648.0</td>\n      <td>45025.0</td>\n      <td>34533.0</td>\n      <td>394904.0</td>\n      <td>160299.0</td>\n      <td>562613.0</td>\n      <td>221.023429</td>\n      <td>272.398433</td>\n      <td>213.480890</td>\n      <td>266.419687</td>\n    </tr>\n    <tr>\n      <th>6</th>\n      <td>1992_CONNECTICUT</td>\n      <td>CONNECTICUT</td>\n      <td>1992</td>\n      <td>648313.0</td>\n      <td>3834302.0</td>\n      <td>143542.0</td>\n      <td>1342539.0</td>\n      <td>2348221.0</td>\n      <td>3721338.0</td>\n      <td>2148041.0</td>\n      <td>...</td>\n      <td>38058.0</td>\n      <td>33691.0</td>\n      <td>28366.0</td>\n      <td>304284.0</td>\n      <td>126917.0</td>\n      <td>436932.0</td>\n      <td>226.798480</td>\n      <td>273.739345</td>\n      <td>222.417599</td>\n      <td>264.713904</td>\n    </tr>\n    <tr>\n      <th>7</th>\n      <td>1992_DELAWARE</td>\n      <td>DELAWARE</td>\n      <td>1992</td>\n      <td>648313.0</td>\n      <td>645233.0</td>\n      <td>45945.0</td>\n      <td>420942.0</td>\n      <td>178346.0</td>\n      <td>638784.0</td>\n      <td>372722.0</td>\n      <td>...</td>\n      <td>8272.0</td>\n      <td>8012.0</td>\n      <td>6129.0</td>\n      <td>67495.0</td>\n      <td>28338.0</td>\n      <td>96296.0</td>\n      <td>217.899972</td>\n      <td>262.868585</td>\n      <td>206.389052</td>\n      <td>261.577921</td>\n    </tr>\n    <tr>\n      <th>8</th>\n      <td>1992_DISTRICT_OF_COLUMBIA</td>\n      <td>DISTRICT_OF_COLUMBIA</td>\n      <td>1992</td>\n      <td>648313.0</td>\n      <td>709480.0</td>\n      <td>64749.0</td>\n      <td>0.0</td>\n      <td>644731.0</td>\n      <td>742893.0</td>\n      <td>329160.0</td>\n      <td>...</td>\n      <td>5832.0</td>\n      <td>5000.0</td>\n      <td>3433.0</td>\n      <td>47009.0</td>\n      <td>18173.0</td>\n      <td>70000.0</td>\n      <td>192.600553</td>\n      <td>234.924621</td>\n      <td>178.557612</td>\n      <td>265.976765</td>\n    </tr>\n    <tr>\n      <th>9</th>\n      <td>1992_FLORIDA</td>\n      <td>FLORIDA</td>\n      <td>1992</td>\n      <td>648313.0</td>\n      <td>11506299.0</td>\n      <td>788420.0</td>\n      <td>5683949.0</td>\n      <td>5033930.0</td>\n      <td>11305642.0</td>\n      <td>5166374.0</td>\n      <td>...</td>\n      <td>164416.0</td>\n      <td>142372.0</td>\n      <td>100835.0</td>\n      <td>1276685.0</td>\n      <td>511557.0</td>\n      <td>1819706.0</td>\n      <td>213.689751</td>\n      <td>259.908848</td>\n      <td>204.882606</td>\n      <td>262.118986</td>\n    </tr>\n    <tr>\n      <th>10</th>\n      <td>1992_GEORGIA</td>\n      <td>GEORGIA</td>\n      <td>1992</td>\n      <td>648313.0</td>\n      <td>5536901.0</td>\n      <td>398701.0</td>\n      <td>2798674.0</td>\n      <td>2339526.0</td>\n      <td>5535942.0</td>\n      <td>3043984.0</td>\n      <td>...</td>\n      <td>99648.0</td>\n      <td>92374.0</td>\n      <td>63646.0</td>\n      <td>787599.0</td>\n      <td>315539.0</td>\n      <td>1106441.0</td>\n      <td>215.594906</td>\n      <td>259.359434</td>\n      <td>206.844175</td>\n      <td>NaN</td>\n    </tr>\n    <tr>\n      <th>11</th>\n      <td>1992_HAWAII</td>\n      <td>HAWAII</td>\n      <td>1992</td>\n      <td>648313.0</td>\n      <td>996809.0</td>\n      <td>71273.0</td>\n      <td>903443.0</td>\n      <td>22093.0</td>\n      <td>1040121.0</td>\n      <td>536115.0</td>\n      <td>...</td>\n      <td>13754.0</td>\n      <td>11750.0</td>\n      <td>9051.0</td>\n      <td>107242.0</td>\n      <td>43882.0</td>\n      <td>151649.0</td>\n      <td>214.056666</td>\n      <td>257.410887</td>\n      <td>200.880272</td>\n      <td>NaN</td>\n    </tr>\n    <tr>\n      <th>12</th>\n      <td>1992_IDAHO</td>\n      <td>IDAHO</td>\n      <td>1992</td>\n      <td>648313.0</td>\n      <td>859329.0</td>\n      <td>69138.0</td>\n      <td>531912.0</td>\n      <td>258279.0</td>\n      <td>886161.0</td>\n      <td>473505.0</td>\n      <td>...</td>\n      <td>18607.0</td>\n      <td>18880.0</td>\n      <td>14593.0</td>\n      <td>146573.0</td>\n      <td>66541.0</td>\n      <td>214345.0</td>\n      <td>221.562534</td>\n      <td>275.090294</td>\n      <td>NaN</td>\n      <td>NaN</td>\n    </tr>\n    <tr>\n      <th>13</th>\n      <td>1992_ILLINOIS</td>\n      <td>ILLINOIS</td>\n      <td>1992</td>\n      <td>648313.0</td>\n      <td>9748650.0</td>\n      <td>597077.0</td>\n      <td>3073178.0</td>\n      <td>6078395.0</td>\n      <td>9850560.0</td>\n      <td>5010400.0</td>\n      <td>...</td>\n      <td>133120.0</td>\n      <td>134317.0</td>\n      <td>106475.0</td>\n      <td>1111167.0</td>\n      <td>495562.0</td>\n      <td>1646411.0</td>\n      <td>NaN</td>\n      <td>NaN</td>\n      <td>NaN</td>\n      <td>NaN</td>\n    </tr>\n    <tr>\n      <th>14</th>\n      <td>1992_INDIANA</td>\n      <td>INDIANA</td>\n      <td>1992</td>\n      <td>648313.0</td>\n      <td>5060274.0</td>\n      <td>257044.0</td>\n      <td>2578149.0</td>\n      <td>2225081.0</td>\n      <td>5182754.0</td>\n      <td>2598925.0</td>\n      <td>...</td>\n      <td>73760.0</td>\n      <td>75477.0</td>\n      <td>62234.0</td>\n      <td>601890.0</td>\n      <td>278161.0</td>\n      <td>883276.0</td>\n      <td>221.037742</td>\n      <td>270.098944</td>\n      <td>219.763258</td>\n      <td>NaN</td>\n    </tr>\n    <tr>\n      <th>15</th>\n      <td>1992_IOWA</td>\n      <td>IOWA</td>\n      <td>1992</td>\n      <td>648313.0</td>\n      <td>2663934.0</td>\n      <td>125665.0</td>\n      <td>1176205.0</td>\n      <td>1362064.0</td>\n      <td>2795774.0</td>\n      <td>1446478.0</td>\n      <td>...</td>\n      <td>37692.0</td>\n      <td>36892.0</td>\n      <td>33057.0</td>\n      <td>299253.0</td>\n      <td>138907.0</td>\n      <td>442752.0</td>\n      <td>229.884078</td>\n      <td>283.360009</td>\n      <td>222.852939</td>\n      <td>NaN</td>\n    </tr>\n    <tr>\n      <th>16</th>\n      <td>1992_KANSAS</td>\n      <td>KANSAS</td>\n      <td>1992</td>\n      <td>648313.0</td>\n      <td>2245348.0</td>\n      <td>121625.0</td>\n      <td>903199.0</td>\n      <td>1220524.0</td>\n      <td>2234915.0</td>\n      <td>1165749.0</td>\n      <td>...</td>\n      <td>36013.0</td>\n      <td>33288.0</td>\n      <td>26706.0</td>\n      <td>284143.0</td>\n      <td>120960.0</td>\n      <td>407494.0</td>\n      <td>NaN</td>\n      <td>NaN</td>\n      <td>NaN</td>\n      <td>NaN</td>\n    </tr>\n    <tr>\n      <th>17</th>\n      <td>1992_KENTUCKY</td>\n      <td>KENTUCKY</td>\n      <td>1992</td>\n      <td>648313.0</td>\n      <td>2642902.0</td>\n      <td>289902.0</td>\n      <td>1643109.0</td>\n      <td>709891.0</td>\n      <td>2518082.0</td>\n      <td>1343438.0</td>\n      <td>...</td>\n      <td>49666.0</td>\n      <td>49993.0</td>\n      <td>38029.0</td>\n      <td>400849.0</td>\n      <td>181786.0</td>\n      <td>597199.0</td>\n      <td>215.048158</td>\n      <td>262.241282</td>\n      <td>211.562307</td>\n      <td>NaN</td>\n    </tr>\n    <tr>\n      <th>18</th>\n      <td>1992_LOUISIANA</td>\n      <td>LOUISIANA</td>\n      <td>1992</td>\n      <td>648313.0</td>\n      <td>3341253.0</td>\n      <td>367822.0</td>\n      <td>1848734.0</td>\n      <td>1124697.0</td>\n      <td>3362853.0</td>\n      <td>1888349.0</td>\n      <td>...</td>\n      <td>61125.0</td>\n      <td>55942.0</td>\n      <td>38368.0</td>\n      <td>490112.0</td>\n      <td>196891.0</td>\n      <td>698442.0</td>\n      <td>204.140211</td>\n      <td>249.983926</td>\n      <td>196.762268</td>\n      <td>NaN</td>\n    </tr>\n    <tr>\n      <th>19</th>\n      <td>1992_MAINE</td>\n      <td>MAINE</td>\n      <td>1992</td>\n      <td>648313.0</td>\n      <td>1206819.0</td>\n      <td>73160.0</td>\n      <td>511654.0</td>\n      <td>622005.0</td>\n      <td>1228869.0</td>\n      <td>685350.0</td>\n      <td>...</td>\n      <td>17154.0</td>\n      <td>15969.0</td>\n      <td>13882.0</td>\n      <td>135320.0</td>\n      <td>59289.0</td>\n      <td>195882.0</td>\n      <td>231.638840</td>\n      <td>278.635384</td>\n      <td>228.380027</td>\n      <td>NaN</td>\n    </tr>\n    <tr>\n      <th>20</th>\n      <td>1992_MARYLAND</td>\n      <td>MARYLAND</td>\n      <td>1992</td>\n      <td>648313.0</td>\n      <td>4658498.0</td>\n      <td>228336.0</td>\n      <td>1778834.0</td>\n      <td>2651328.0</td>\n      <td>4698374.0</td>\n      <td>2628891.0</td>\n      <td>...</td>\n      <td>60287.0</td>\n      <td>52815.0</td>\n      <td>40426.0</td>\n      <td>472622.0</td>\n      <td>189795.0</td>\n      <td>678498.0</td>\n      <td>217.317708</td>\n      <td>264.825493</td>\n      <td>209.645497</td>\n      <td>NaN</td>\n    </tr>\n    <tr>\n      <th>21</th>\n      <td>1992_MASSACHUSETTS</td>\n      <td>MASSACHUSETTS</td>\n      <td>1992</td>\n      <td>648313.0</td>\n      <td>5517659.0</td>\n      <td>273946.0</td>\n      <td>1439051.0</td>\n      <td>3804662.0</td>\n      <td>5245560.0</td>\n      <td>2751871.0</td>\n      <td>...</td>\n      <td>66822.0</td>\n      <td>60702.0</td>\n      <td>52425.0</td>\n      <td>536029.0</td>\n      <td>230299.0</td>\n      <td>777050.0</td>\n      <td>226.597918</td>\n      <td>272.783201</td>\n      <td>223.160076</td>\n      <td>NaN</td>\n    </tr>\n    <tr>\n      <th>22</th>\n      <td>1992_MICHIGAN</td>\n      <td>MICHIGAN</td>\n      <td>1992</td>\n      <td>648313.0</td>\n      <td>9963137.0</td>\n      <td>537917.0</td>\n      <td>2539380.0</td>\n      <td>6885840.0</td>\n      <td>10170688.0</td>\n      <td>4681327.0</td>\n      <td>...</td>\n      <td>118963.0</td>\n      <td>114282.0</td>\n      <td>90655.0</td>\n      <td>968910.0</td>\n      <td>419351.0</td>\n      <td>1398802.0</td>\n      <td>219.878352</td>\n      <td>267.353194</td>\n      <td>NaN</td>\n      <td>NaN</td>\n    </tr>\n    <tr>\n      <th>23</th>\n      <td>1992_MINNESOTA</td>\n      <td>MINNESOTA</td>\n      <td>1992</td>\n      <td>648313.0</td>\n      <td>4684684.0</td>\n      <td>194092.0</td>\n      <td>2380754.0</td>\n      <td>2109838.0</td>\n      <td>4981125.0</td>\n      <td>2534882.0</td>\n      <td>...</td>\n      <td>62606.0</td>\n      <td>59810.0</td>\n      <td>53813.0</td>\n      <td>500938.0</td>\n      <td>224426.0</td>\n      <td>731758.0</td>\n      <td>228.493596</td>\n      <td>282.392205</td>\n      <td>218.301709</td>\n      <td>NaN</td>\n    </tr>\n    <tr>\n      <th>24</th>\n      <td>1992_MISSISSIPPI</td>\n      <td>MISSISSIPPI</td>\n      <td>1992</td>\n      <td>648313.0</td>\n      <td>1684706.0</td>\n      <td>277706.0</td>\n      <td>901199.0</td>\n      <td>505801.0</td>\n      <td>1691990.0</td>\n      <td>956104.0</td>\n      <td>...</td>\n      <td>39839.0</td>\n      <td>38132.0</td>\n      <td>26328.0</td>\n      <td>321614.0</td>\n      <td>129554.0</td>\n      <td>451986.0</td>\n      <td>201.828261</td>\n      <td>246.458035</td>\n      <td>201.529328</td>\n      <td>NaN</td>\n    </tr>\n    <tr>\n      <th>25</th>\n      <td>1992_MISSOURI</td>\n      <td>MISSOURI</td>\n      <td>1992</td>\n      <td>648313.0</td>\n      <td>4043682.0</td>\n      <td>255194.0</td>\n      <td>1903124.0</td>\n      <td>1885364.0</td>\n      <td>4197600.0</td>\n      <td>2168135.0</td>\n      <td>...</td>\n      <td>67098.0</td>\n      <td>64546.0</td>\n      <td>50534.0</td>\n      <td>531337.0</td>\n      <td>235437.0</td>\n      <td>785722.0</td>\n      <td>222.215600</td>\n      <td>271.131545</td>\n      <td>216.898079</td>\n      <td>NaN</td>\n    </tr>\n    <tr>\n      <th>26</th>\n      <td>1992_MONTANA</td>\n      <td>MONTANA</td>\n      <td>1992</td>\n      <td>648313.0</td>\n      <td>828983.0</td>\n      <td>69947.0</td>\n      <td>337455.0</td>\n      <td>421581.0</td>\n      <td>781009.0</td>\n      <td>412219.0</td>\n      <td>...</td>\n      <td>12839.0</td>\n      <td>12124.0</td>\n      <td>10019.0</td>\n      <td>102124.0</td>\n      <td>44449.0</td>\n      <td>147127.0</td>\n      <td>NaN</td>\n      <td>NaN</td>\n      <td>222.301419</td>\n      <td>NaN</td>\n    </tr>\n    <tr>\n      <th>27</th>\n      <td>1992_NEBRASKA</td>\n      <td>NEBRASKA</td>\n      <td>1992</td>\n      <td>648313.0</td>\n      <td>1542413.0</td>\n      <td>85423.0</td>\n      <td>492256.0</td>\n      <td>964734.0</td>\n      <td>1534046.0</td>\n      <td>909159.0</td>\n      <td>...</td>\n      <td>22133.0</td>\n      <td>21379.0</td>\n      <td>18999.0</td>\n      <td>177432.0</td>\n      <td>79975.0</td>\n      <td>260541.0</td>\n      <td>225.332648</td>\n      <td>277.654523</td>\n      <td>220.034963</td>\n      <td>NaN</td>\n    </tr>\n    <tr>\n      <th>28</th>\n      <td>1992_NEVADA</td>\n      <td>NEVADA</td>\n      <td>1992</td>\n      <td>648313.0</td>\n      <td>1097076.0</td>\n      <td>45018.0</td>\n      <td>724032.0</td>\n      <td>328026.0</td>\n      <td>1251651.0</td>\n      <td>572623.0</td>\n      <td>...</td>\n      <td>18487.0</td>\n      <td>16250.0</td>\n      <td>12242.0</td>\n      <td>145687.0</td>\n      <td>57605.0</td>\n      <td>204330.0</td>\n      <td>NaN</td>\n      <td>NaN</td>\n      <td>NaN</td>\n      <td>NaN</td>\n    </tr>\n    <tr>\n      <th>29</th>\n      <td>1992_NEW_HAMPSHIRE</td>\n      <td>NEW_HAMPSHIRE</td>\n      <td>1992</td>\n      <td>648313.0</td>\n      <td>1063391.0</td>\n      <td>31020.0</td>\n      <td>86296.0</td>\n      <td>946075.0</td>\n      <td>1066647.0</td>\n      <td>581123.0</td>\n      <td>...</td>\n      <td>15611.0</td>\n      <td>13537.0</td>\n      <td>10752.0</td>\n      <td>123475.0</td>\n      <td>47999.0</td>\n      <td>172479.0</td>\n      <td>229.664564</td>\n      <td>278.216326</td>\n      <td>223.466140</td>\n      <td>NaN</td>\n    </tr>\n    <tr>\n      <th>...</th>\n      <td>...</td>\n      <td>...</td>\n      <td>...</td>\n      <td>...</td>\n      <td>...</td>\n      <td>...</td>\n      <td>...</td>\n      <td>...</td>\n      <td>...</td>\n      <td>...</td>\n      <td>...</td>\n      <td>...</td>\n      <td>...</td>\n      <td>...</td>\n      <td>...</td>\n      <td>...</td>\n      <td>...</td>\n      <td>...</td>\n      <td>...</td>\n      <td>...</td>\n      <td>...</td>\n    </tr>\n    <tr>\n      <th>1462</th>\n      <td>2017_IOWA</td>\n      <td>IOWA</td>\n      <td>2017</td>\n      <td>648313.0</td>\n      <td>5079546.0</td>\n      <td>403376.5</td>\n      <td>2537073.5</td>\n      <td>2055780.5</td>\n      <td>5234505.5</td>\n      <td>2657452.0</td>\n      <td>...</td>\n      <td>43272.0</td>\n      <td>43339.0</td>\n      <td>36735.0</td>\n      <td>345775.0</td>\n      <td>164260.0</td>\n      <td>550342.0</td>\n      <td>243.107484</td>\n      <td>286.239418</td>\n      <td>221.747268</td>\n      <td>272.023876</td>\n    </tr>\n    <tr>\n      <th>1463</th>\n      <td>2017_KANSAS</td>\n      <td>KANSAS</td>\n      <td>2017</td>\n      <td>648313.0</td>\n      <td>5079546.0</td>\n      <td>403376.5</td>\n      <td>2537073.5</td>\n      <td>2055780.5</td>\n      <td>5234505.5</td>\n      <td>2657452.0</td>\n      <td>...</td>\n      <td>43272.0</td>\n      <td>43339.0</td>\n      <td>36735.0</td>\n      <td>345775.0</td>\n      <td>164260.0</td>\n      <td>550342.0</td>\n      <td>241.212805</td>\n      <td>285.283508</td>\n      <td>223.268429</td>\n      <td>267.675679</td>\n    </tr>\n    <tr>\n      <th>1464</th>\n      <td>2017_KENTUCKY</td>\n      <td>KENTUCKY</td>\n      <td>2017</td>\n      <td>648313.0</td>\n      <td>5079546.0</td>\n      <td>403376.5</td>\n      <td>2537073.5</td>\n      <td>2055780.5</td>\n      <td>5234505.5</td>\n      <td>2657452.0</td>\n      <td>...</td>\n      <td>43272.0</td>\n      <td>43339.0</td>\n      <td>36735.0</td>\n      <td>345775.0</td>\n      <td>164260.0</td>\n      <td>550342.0</td>\n      <td>239.178257</td>\n      <td>277.714162</td>\n      <td>224.080585</td>\n      <td>267.490028</td>\n    </tr>\n    <tr>\n      <th>1465</th>\n      <td>2017_LOUISIANA</td>\n      <td>LOUISIANA</td>\n      <td>2017</td>\n      <td>648313.0</td>\n      <td>5079546.0</td>\n      <td>403376.5</td>\n      <td>2537073.5</td>\n      <td>2055780.5</td>\n      <td>5234505.5</td>\n      <td>2657452.0</td>\n      <td>...</td>\n      <td>43272.0</td>\n      <td>43339.0</td>\n      <td>36735.0</td>\n      <td>345775.0</td>\n      <td>164260.0</td>\n      <td>550342.0</td>\n      <td>228.971745</td>\n      <td>266.506760</td>\n      <td>211.600528</td>\n      <td>265.133438</td>\n    </tr>\n    <tr>\n      <th>1466</th>\n      <td>2017_MAINE</td>\n      <td>MAINE</td>\n      <td>2017</td>\n      <td>648313.0</td>\n      <td>5079546.0</td>\n      <td>403376.5</td>\n      <td>2537073.5</td>\n      <td>2055780.5</td>\n      <td>5234505.5</td>\n      <td>2657452.0</td>\n      <td>...</td>\n      <td>43272.0</td>\n      <td>43339.0</td>\n      <td>36735.0</td>\n      <td>345775.0</td>\n      <td>164260.0</td>\n      <td>550342.0</td>\n      <td>239.898995</td>\n      <td>284.003007</td>\n      <td>221.388603</td>\n      <td>256.751471</td>\n    </tr>\n    <tr>\n      <th>1467</th>\n      <td>2017_MARYLAND</td>\n      <td>MARYLAND</td>\n      <td>2017</td>\n      <td>648313.0</td>\n      <td>5079546.0</td>\n      <td>403376.5</td>\n      <td>2537073.5</td>\n      <td>2055780.5</td>\n      <td>5234505.5</td>\n      <td>2657452.0</td>\n      <td>...</td>\n      <td>43272.0</td>\n      <td>43339.0</td>\n      <td>36735.0</td>\n      <td>345775.0</td>\n      <td>164260.0</td>\n      <td>550342.0</td>\n      <td>240.601277</td>\n      <td>280.910246</td>\n      <td>225.049335</td>\n      <td>268.930632</td>\n    </tr>\n    <tr>\n      <th>1468</th>\n      <td>2017_MASSACHUSETTS</td>\n      <td>MASSACHUSETTS</td>\n      <td>2017</td>\n      <td>648313.0</td>\n      <td>5079546.0</td>\n      <td>403376.5</td>\n      <td>2537073.5</td>\n      <td>2055780.5</td>\n      <td>5234505.5</td>\n      <td>2657452.0</td>\n      <td>...</td>\n      <td>43272.0</td>\n      <td>43339.0</td>\n      <td>36735.0</td>\n      <td>345775.0</td>\n      <td>164260.0</td>\n      <td>550342.0</td>\n      <td>249.102674</td>\n      <td>297.042225</td>\n      <td>235.699697</td>\n      <td>267.250533</td>\n    </tr>\n    <tr>\n      <th>1469</th>\n      <td>2017_MICHIGAN</td>\n      <td>MICHIGAN</td>\n      <td>2017</td>\n      <td>648313.0</td>\n      <td>5079546.0</td>\n      <td>403376.5</td>\n      <td>2537073.5</td>\n      <td>2055780.5</td>\n      <td>5234505.5</td>\n      <td>2657452.0</td>\n      <td>...</td>\n      <td>43272.0</td>\n      <td>43339.0</td>\n      <td>36735.0</td>\n      <td>345775.0</td>\n      <td>164260.0</td>\n      <td>550342.0</td>\n      <td>235.555473</td>\n      <td>279.505455</td>\n      <td>217.753242</td>\n      <td>277.782589</td>\n    </tr>\n    <tr>\n      <th>1470</th>\n      <td>2017_MINNESOTA</td>\n      <td>MINNESOTA</td>\n      <td>2017</td>\n      <td>648313.0</td>\n      <td>5079546.0</td>\n      <td>403376.5</td>\n      <td>2537073.5</td>\n      <td>2055780.5</td>\n      <td>5234505.5</td>\n      <td>2657452.0</td>\n      <td>...</td>\n      <td>43272.0</td>\n      <td>43339.0</td>\n      <td>36735.0</td>\n      <td>345775.0</td>\n      <td>164260.0</td>\n      <td>550342.0</td>\n      <td>248.804303</td>\n      <td>293.962376</td>\n      <td>224.538513</td>\n      <td>265.468928</td>\n    </tr>\n    <tr>\n      <th>1471</th>\n      <td>2017_MISSISSIPPI</td>\n      <td>MISSISSIPPI</td>\n      <td>2017</td>\n      <td>648313.0</td>\n      <td>5079546.0</td>\n      <td>403376.5</td>\n      <td>2537073.5</td>\n      <td>2055780.5</td>\n      <td>5234505.5</td>\n      <td>2657452.0</td>\n      <td>...</td>\n      <td>43272.0</td>\n      <td>43339.0</td>\n      <td>36735.0</td>\n      <td>345775.0</td>\n      <td>164260.0</td>\n      <td>550342.0</td>\n      <td>234.694193</td>\n      <td>270.914908</td>\n      <td>215.203306</td>\n      <td>268.616822</td>\n    </tr>\n    <tr>\n      <th>1472</th>\n      <td>2017_MISSOURI</td>\n      <td>MISSOURI</td>\n      <td>2017</td>\n      <td>648313.0</td>\n      <td>5079546.0</td>\n      <td>403376.5</td>\n      <td>2537073.5</td>\n      <td>2055780.5</td>\n      <td>5234505.5</td>\n      <td>2657452.0</td>\n      <td>...</td>\n      <td>43272.0</td>\n      <td>43339.0</td>\n      <td>36735.0</td>\n      <td>345775.0</td>\n      <td>164260.0</td>\n      <td>550342.0</td>\n      <td>239.502289</td>\n      <td>280.596022</td>\n      <td>222.681081</td>\n      <td>256.344701</td>\n    </tr>\n    <tr>\n      <th>1473</th>\n      <td>2017_MONTANA</td>\n      <td>MONTANA</td>\n      <td>2017</td>\n      <td>648313.0</td>\n      <td>5079546.0</td>\n      <td>403376.5</td>\n      <td>2537073.5</td>\n      <td>2055780.5</td>\n      <td>5234505.5</td>\n      <td>2657452.0</td>\n      <td>...</td>\n      <td>43272.0</td>\n      <td>43339.0</td>\n      <td>36735.0</td>\n      <td>345775.0</td>\n      <td>164260.0</td>\n      <td>550342.0</td>\n      <td>240.721634</td>\n      <td>285.600437</td>\n      <td>222.326722</td>\n      <td>266.035007</td>\n    </tr>\n    <tr>\n      <th>1474</th>\n      <td>2017_NEBRASKA</td>\n      <td>NEBRASKA</td>\n      <td>2017</td>\n      <td>648313.0</td>\n      <td>5079546.0</td>\n      <td>403376.5</td>\n      <td>2537073.5</td>\n      <td>2055780.5</td>\n      <td>5234505.5</td>\n      <td>2657452.0</td>\n      <td>...</td>\n      <td>43272.0</td>\n      <td>43339.0</td>\n      <td>36735.0</td>\n      <td>345775.0</td>\n      <td>164260.0</td>\n      <td>550342.0</td>\n      <td>245.590675</td>\n      <td>288.405955</td>\n      <td>224.096225</td>\n      <td>267.208219</td>\n    </tr>\n    <tr>\n      <th>1475</th>\n      <td>2017_NEVADA</td>\n      <td>NEVADA</td>\n      <td>2017</td>\n      <td>648313.0</td>\n      <td>5079546.0</td>\n      <td>403376.5</td>\n      <td>2537073.5</td>\n      <td>2055780.5</td>\n      <td>5234505.5</td>\n      <td>2657452.0</td>\n      <td>...</td>\n      <td>43272.0</td>\n      <td>43339.0</td>\n      <td>36735.0</td>\n      <td>345775.0</td>\n      <td>164260.0</td>\n      <td>550342.0</td>\n      <td>231.685162</td>\n      <td>275.365456</td>\n      <td>214.841696</td>\n      <td>268.528555</td>\n    </tr>\n    <tr>\n      <th>1476</th>\n      <td>2017_NEW_HAMPSHIRE</td>\n      <td>NEW_HAMPSHIRE</td>\n      <td>2017</td>\n      <td>648313.0</td>\n      <td>5079546.0</td>\n      <td>403376.5</td>\n      <td>2537073.5</td>\n      <td>2055780.5</td>\n      <td>5234505.5</td>\n      <td>2657452.0</td>\n      <td>...</td>\n      <td>43272.0</td>\n      <td>43339.0</td>\n      <td>36735.0</td>\n      <td>345775.0</td>\n      <td>164260.0</td>\n      <td>550342.0</td>\n      <td>245.319839</td>\n      <td>293.290654</td>\n      <td>228.900649</td>\n      <td>259.806407</td>\n    </tr>\n    <tr>\n      <th>1477</th>\n      <td>2017_NEW_JERSEY</td>\n      <td>NEW_JERSEY</td>\n      <td>2017</td>\n      <td>648313.0</td>\n      <td>5079546.0</td>\n      <td>403376.5</td>\n      <td>2537073.5</td>\n      <td>2055780.5</td>\n      <td>5234505.5</td>\n      <td>2657452.0</td>\n      <td>...</td>\n      <td>43272.0</td>\n      <td>43339.0</td>\n      <td>36735.0</td>\n      <td>345775.0</td>\n      <td>164260.0</td>\n      <td>550342.0</td>\n      <td>247.855231</td>\n      <td>291.698552</td>\n      <td>232.943318</td>\n      <td>274.786040</td>\n    </tr>\n    <tr>\n      <th>1478</th>\n      <td>2017_NEW_MEXICO</td>\n      <td>NEW_MEXICO</td>\n      <td>2017</td>\n      <td>648313.0</td>\n      <td>5079546.0</td>\n      <td>403376.5</td>\n      <td>2537073.5</td>\n      <td>2055780.5</td>\n      <td>5234505.5</td>\n      <td>2657452.0</td>\n      <td>...</td>\n      <td>43272.0</td>\n      <td>43339.0</td>\n      <td>36735.0</td>\n      <td>345775.0</td>\n      <td>164260.0</td>\n      <td>550342.0</td>\n      <td>229.704282</td>\n      <td>269.374084</td>\n      <td>207.704354</td>\n      <td>275.044552</td>\n    </tr>\n    <tr>\n      <th>1479</th>\n      <td>2017_NEW_YORK</td>\n      <td>NEW_YORK</td>\n      <td>2017</td>\n      <td>648313.0</td>\n      <td>5079546.0</td>\n      <td>403376.5</td>\n      <td>2537073.5</td>\n      <td>2055780.5</td>\n      <td>5234505.5</td>\n      <td>2657452.0</td>\n      <td>...</td>\n      <td>43272.0</td>\n      <td>43339.0</td>\n      <td>36735.0</td>\n      <td>345775.0</td>\n      <td>164260.0</td>\n      <td>550342.0</td>\n      <td>235.548457</td>\n      <td>281.688000</td>\n      <td>221.884015</td>\n      <td>255.578543</td>\n    </tr>\n    <tr>\n      <th>1480</th>\n      <td>2017_NORTH_CAROLINA</td>\n      <td>NORTH_CAROLINA</td>\n      <td>2017</td>\n      <td>648313.0</td>\n      <td>5079546.0</td>\n      <td>403376.5</td>\n      <td>2537073.5</td>\n      <td>2055780.5</td>\n      <td>5234505.5</td>\n      <td>2657452.0</td>\n      <td>...</td>\n      <td>43272.0</td>\n      <td>43339.0</td>\n      <td>36735.0</td>\n      <td>345775.0</td>\n      <td>164260.0</td>\n      <td>550342.0</td>\n      <td>240.951393</td>\n      <td>281.926028</td>\n      <td>223.930906</td>\n      <td>264.157584</td>\n    </tr>\n    <tr>\n      <th>1481</th>\n      <td>2017_NORTH_DAKOTA</td>\n      <td>NORTH_DAKOTA</td>\n      <td>2017</td>\n      <td>648313.0</td>\n      <td>5079546.0</td>\n      <td>403376.5</td>\n      <td>2537073.5</td>\n      <td>2055780.5</td>\n      <td>5234505.5</td>\n      <td>2657452.0</td>\n      <td>...</td>\n      <td>43272.0</td>\n      <td>43339.0</td>\n      <td>36735.0</td>\n      <td>345775.0</td>\n      <td>164260.0</td>\n      <td>550342.0</td>\n      <td>244.243515</td>\n      <td>288.172322</td>\n      <td>221.519266</td>\n      <td>262.720477</td>\n    </tr>\n    <tr>\n      <th>1482</th>\n      <td>2017_OHIO</td>\n      <td>OHIO</td>\n      <td>2017</td>\n      <td>648313.0</td>\n      <td>5079546.0</td>\n      <td>403376.5</td>\n      <td>2537073.5</td>\n      <td>2055780.5</td>\n      <td>5234505.5</td>\n      <td>2657452.0</td>\n      <td>...</td>\n      <td>43272.0</td>\n      <td>43339.0</td>\n      <td>36735.0</td>\n      <td>345775.0</td>\n      <td>164260.0</td>\n      <td>550342.0</td>\n      <td>240.928372</td>\n      <td>287.714266</td>\n      <td>225.261138</td>\n      <td>265.081922</td>\n    </tr>\n    <tr>\n      <th>1483</th>\n      <td>2017_TENNESSEE</td>\n      <td>TENNESSEE</td>\n      <td>2017</td>\n      <td>648313.0</td>\n      <td>5079546.0</td>\n      <td>403376.5</td>\n      <td>2537073.5</td>\n      <td>2055780.5</td>\n      <td>5234505.5</td>\n      <td>2657452.0</td>\n      <td>...</td>\n      <td>43272.0</td>\n      <td>43339.0</td>\n      <td>36735.0</td>\n      <td>345775.0</td>\n      <td>164260.0</td>\n      <td>550342.0</td>\n      <td>236.692515</td>\n      <td>278.777735</td>\n      <td>218.952797</td>\n      <td>267.355727</td>\n    </tr>\n    <tr>\n      <th>1484</th>\n      <td>2017_TEXAS</td>\n      <td>TEXAS</td>\n      <td>2017</td>\n      <td>648313.0</td>\n      <td>5079546.0</td>\n      <td>403376.5</td>\n      <td>2537073.5</td>\n      <td>2055780.5</td>\n      <td>5234505.5</td>\n      <td>2657452.0</td>\n      <td>...</td>\n      <td>43272.0</td>\n      <td>43339.0</td>\n      <td>36735.0</td>\n      <td>345775.0</td>\n      <td>164260.0</td>\n      <td>550342.0</td>\n      <td>240.943671</td>\n      <td>282.320510</td>\n      <td>214.878493</td>\n      <td>262.046853</td>\n    </tr>\n    <tr>\n      <th>1485</th>\n      <td>2017_UTAH</td>\n      <td>UTAH</td>\n      <td>2017</td>\n      <td>648313.0</td>\n      <td>5079546.0</td>\n      <td>403376.5</td>\n      <td>2537073.5</td>\n      <td>2055780.5</td>\n      <td>5234505.5</td>\n      <td>2657452.0</td>\n      <td>...</td>\n      <td>43272.0</td>\n      <td>43339.0</td>\n      <td>36735.0</td>\n      <td>345775.0</td>\n      <td>164260.0</td>\n      <td>550342.0</td>\n      <td>242.480766</td>\n      <td>286.816559</td>\n      <td>225.159173</td>\n      <td>260.342577</td>\n    </tr>\n    <tr>\n      <th>1486</th>\n      <td>2017_VERMONT</td>\n      <td>VERMONT</td>\n      <td>2017</td>\n      <td>648313.0</td>\n      <td>5079546.0</td>\n      <td>403376.5</td>\n      <td>2537073.5</td>\n      <td>2055780.5</td>\n      <td>5234505.5</td>\n      <td>2657452.0</td>\n      <td>...</td>\n      <td>43272.0</td>\n      <td>43339.0</td>\n      <td>36735.0</td>\n      <td>345775.0</td>\n      <td>164260.0</td>\n      <td>550342.0</td>\n      <td>240.893297</td>\n      <td>287.623388</td>\n      <td>226.445343</td>\n      <td>268.752420</td>\n    </tr>\n    <tr>\n      <th>1487</th>\n      <td>2017_VIRGINIA</td>\n      <td>VIRGINIA</td>\n      <td>2017</td>\n      <td>648313.0</td>\n      <td>5079546.0</td>\n      <td>403376.5</td>\n      <td>2537073.5</td>\n      <td>2055780.5</td>\n      <td>5234505.5</td>\n      <td>2657452.0</td>\n      <td>...</td>\n      <td>43272.0</td>\n      <td>43339.0</td>\n      <td>36735.0</td>\n      <td>345775.0</td>\n      <td>164260.0</td>\n      <td>550342.0</td>\n      <td>248.041059</td>\n      <td>290.081407</td>\n      <td>227.598382</td>\n      <td>273.402640</td>\n    </tr>\n    <tr>\n      <th>1488</th>\n      <td>2017_WASHINGTON</td>\n      <td>WASHINGTON</td>\n      <td>2017</td>\n      <td>648313.0</td>\n      <td>5079546.0</td>\n      <td>403376.5</td>\n      <td>2537073.5</td>\n      <td>2055780.5</td>\n      <td>5234505.5</td>\n      <td>2657452.0</td>\n      <td>...</td>\n      <td>43272.0</td>\n      <td>43339.0</td>\n      <td>36735.0</td>\n      <td>345775.0</td>\n      <td>164260.0</td>\n      <td>550342.0</td>\n      <td>241.701001</td>\n      <td>289.131257</td>\n      <td>223.123409</td>\n      <td>267.744778</td>\n    </tr>\n    <tr>\n      <th>1489</th>\n      <td>2017_WEST_VIRGINIA</td>\n      <td>WEST_VIRGINIA</td>\n      <td>2017</td>\n      <td>648313.0</td>\n      <td>5079546.0</td>\n      <td>403376.5</td>\n      <td>2537073.5</td>\n      <td>2055780.5</td>\n      <td>5234505.5</td>\n      <td>2657452.0</td>\n      <td>...</td>\n      <td>43272.0</td>\n      <td>43339.0</td>\n      <td>36735.0</td>\n      <td>345775.0</td>\n      <td>164260.0</td>\n      <td>550342.0</td>\n      <td>236.057019</td>\n      <td>273.415854</td>\n      <td>217.316396</td>\n      <td>271.617023</td>\n    </tr>\n    <tr>\n      <th>1490</th>\n      <td>2017_WISCONSIN</td>\n      <td>WISCONSIN</td>\n      <td>2017</td>\n      <td>648313.0</td>\n      <td>5079546.0</td>\n      <td>403376.5</td>\n      <td>2537073.5</td>\n      <td>2055780.5</td>\n      <td>5234505.5</td>\n      <td>2657452.0</td>\n      <td>...</td>\n      <td>43272.0</td>\n      <td>43339.0</td>\n      <td>36735.0</td>\n      <td>345775.0</td>\n      <td>164260.0</td>\n      <td>550342.0</td>\n      <td>240.389213</td>\n      <td>288.143144</td>\n      <td>219.612694</td>\n      <td>258.700304</td>\n    </tr>\n    <tr>\n      <th>1491</th>\n      <td>2017_WYOMING</td>\n      <td>WYOMING</td>\n      <td>2017</td>\n      <td>648313.0</td>\n      <td>5079546.0</td>\n      <td>403376.5</td>\n      <td>2537073.5</td>\n      <td>2055780.5</td>\n      <td>5234505.5</td>\n      <td>2657452.0</td>\n      <td>...</td>\n      <td>43272.0</td>\n      <td>43339.0</td>\n      <td>36735.0</td>\n      <td>345775.0</td>\n      <td>164260.0</td>\n      <td>550342.0</td>\n      <td>247.820619</td>\n      <td>288.761812</td>\n      <td>226.831211</td>\n      <td>269.371456</td>\n    </tr>\n  </tbody>\n</table>\n<p>1492 rows × 25 columns</p>\n</div>",
        "text/plain": "                    PRIMARY_KEY                 STATE  YEAR    ENROLL  \\\n0                  1992_ALABAMA               ALABAMA  1992  648313.0   \n1                   1992_ALASKA                ALASKA  1992  648313.0   \n2                  1992_ARIZONA               ARIZONA  1992  648313.0   \n3                 1992_ARKANSAS              ARKANSAS  1992  648313.0   \n4               1992_CALIFORNIA            CALIFORNIA  1992  648313.0   \n5                 1992_COLORADO              COLORADO  1992  648313.0   \n6              1992_CONNECTICUT           CONNECTICUT  1992  648313.0   \n7                 1992_DELAWARE              DELAWARE  1992  648313.0   \n8     1992_DISTRICT_OF_COLUMBIA  DISTRICT_OF_COLUMBIA  1992  648313.0   \n9                  1992_FLORIDA               FLORIDA  1992  648313.0   \n10                 1992_GEORGIA               GEORGIA  1992  648313.0   \n11                  1992_HAWAII                HAWAII  1992  648313.0   \n12                   1992_IDAHO                 IDAHO  1992  648313.0   \n13                1992_ILLINOIS              ILLINOIS  1992  648313.0   \n14                 1992_INDIANA               INDIANA  1992  648313.0   \n15                    1992_IOWA                  IOWA  1992  648313.0   \n16                  1992_KANSAS                KANSAS  1992  648313.0   \n17                1992_KENTUCKY              KENTUCKY  1992  648313.0   \n18               1992_LOUISIANA             LOUISIANA  1992  648313.0   \n19                   1992_MAINE                 MAINE  1992  648313.0   \n20                1992_MARYLAND              MARYLAND  1992  648313.0   \n21           1992_MASSACHUSETTS         MASSACHUSETTS  1992  648313.0   \n22                1992_MICHIGAN              MICHIGAN  1992  648313.0   \n23               1992_MINNESOTA             MINNESOTA  1992  648313.0   \n24             1992_MISSISSIPPI           MISSISSIPPI  1992  648313.0   \n25                1992_MISSOURI              MISSOURI  1992  648313.0   \n26                 1992_MONTANA               MONTANA  1992  648313.0   \n27                1992_NEBRASKA              NEBRASKA  1992  648313.0   \n28                  1992_NEVADA                NEVADA  1992  648313.0   \n29           1992_NEW_HAMPSHIRE         NEW_HAMPSHIRE  1992  648313.0   \n...                         ...                   ...   ...       ...   \n1462                  2017_IOWA                  IOWA  2017  648313.0   \n1463                2017_KANSAS                KANSAS  2017  648313.0   \n1464              2017_KENTUCKY              KENTUCKY  2017  648313.0   \n1465             2017_LOUISIANA             LOUISIANA  2017  648313.0   \n1466                 2017_MAINE                 MAINE  2017  648313.0   \n1467              2017_MARYLAND              MARYLAND  2017  648313.0   \n1468         2017_MASSACHUSETTS         MASSACHUSETTS  2017  648313.0   \n1469              2017_MICHIGAN              MICHIGAN  2017  648313.0   \n1470             2017_MINNESOTA             MINNESOTA  2017  648313.0   \n1471           2017_MISSISSIPPI           MISSISSIPPI  2017  648313.0   \n1472              2017_MISSOURI              MISSOURI  2017  648313.0   \n1473               2017_MONTANA               MONTANA  2017  648313.0   \n1474              2017_NEBRASKA              NEBRASKA  2017  648313.0   \n1475                2017_NEVADA                NEVADA  2017  648313.0   \n1476         2017_NEW_HAMPSHIRE         NEW_HAMPSHIRE  2017  648313.0   \n1477            2017_NEW_JERSEY            NEW_JERSEY  2017  648313.0   \n1478            2017_NEW_MEXICO            NEW_MEXICO  2017  648313.0   \n1479              2017_NEW_YORK              NEW_YORK  2017  648313.0   \n1480        2017_NORTH_CAROLINA        NORTH_CAROLINA  2017  648313.0   \n1481          2017_NORTH_DAKOTA          NORTH_DAKOTA  2017  648313.0   \n1482                  2017_OHIO                  OHIO  2017  648313.0   \n1483             2017_TENNESSEE             TENNESSEE  2017  648313.0   \n1484                 2017_TEXAS                 TEXAS  2017  648313.0   \n1485                  2017_UTAH                  UTAH  2017  648313.0   \n1486               2017_VERMONT               VERMONT  2017  648313.0   \n1487              2017_VIRGINIA              VIRGINIA  2017  648313.0   \n1488            2017_WASHINGTON            WASHINGTON  2017  648313.0   \n1489         2017_WEST_VIRGINIA         WEST_VIRGINIA  2017  648313.0   \n1490             2017_WISCONSIN             WISCONSIN  2017  648313.0   \n1491               2017_WYOMING               WYOMING  2017  648313.0   \n\n      TOTAL_REVENUE  FEDERAL_REVENUE  STATE_REVENUE  LOCAL_REVENUE  \\\n0         2678885.0         304177.0      1659028.0       715680.0   \n1         1049591.0         106780.0       720711.0       222100.0   \n2         3258079.0         297888.0      1369815.0      1590376.0   \n3         1711959.0         178571.0       958785.0       574603.0   \n4        26260025.0        2072470.0     16546514.0      7641041.0   \n5         3185173.0         163253.0      1307986.0      1713934.0   \n6         3834302.0         143542.0      1342539.0      2348221.0   \n7          645233.0          45945.0       420942.0       178346.0   \n8          709480.0          64749.0            0.0       644731.0   \n9        11506299.0         788420.0      5683949.0      5033930.0   \n10        5536901.0         398701.0      2798674.0      2339526.0   \n11         996809.0          71273.0       903443.0        22093.0   \n12         859329.0          69138.0       531912.0       258279.0   \n13        9748650.0         597077.0      3073178.0      6078395.0   \n14        5060274.0         257044.0      2578149.0      2225081.0   \n15        2663934.0         125665.0      1176205.0      1362064.0   \n16        2245348.0         121625.0       903199.0      1220524.0   \n17        2642902.0         289902.0      1643109.0       709891.0   \n18        3341253.0         367822.0      1848734.0      1124697.0   \n19        1206819.0          73160.0       511654.0       622005.0   \n20        4658498.0         228336.0      1778834.0      2651328.0   \n21        5517659.0         273946.0      1439051.0      3804662.0   \n22        9963137.0         537917.0      2539380.0      6885840.0   \n23        4684684.0         194092.0      2380754.0      2109838.0   \n24        1684706.0         277706.0       901199.0       505801.0   \n25        4043682.0         255194.0      1903124.0      1885364.0   \n26         828983.0          69947.0       337455.0       421581.0   \n27        1542413.0          85423.0       492256.0       964734.0   \n28        1097076.0          45018.0       724032.0       328026.0   \n29        1063391.0          31020.0        86296.0       946075.0   \n...             ...              ...            ...            ...   \n1462      5079546.0         403376.5      2537073.5      2055780.5   \n1463      5079546.0         403376.5      2537073.5      2055780.5   \n1464      5079546.0         403376.5      2537073.5      2055780.5   \n1465      5079546.0         403376.5      2537073.5      2055780.5   \n1466      5079546.0         403376.5      2537073.5      2055780.5   \n1467      5079546.0         403376.5      2537073.5      2055780.5   \n1468      5079546.0         403376.5      2537073.5      2055780.5   \n1469      5079546.0         403376.5      2537073.5      2055780.5   \n1470      5079546.0         403376.5      2537073.5      2055780.5   \n1471      5079546.0         403376.5      2537073.5      2055780.5   \n1472      5079546.0         403376.5      2537073.5      2055780.5   \n1473      5079546.0         403376.5      2537073.5      2055780.5   \n1474      5079546.0         403376.5      2537073.5      2055780.5   \n1475      5079546.0         403376.5      2537073.5      2055780.5   \n1476      5079546.0         403376.5      2537073.5      2055780.5   \n1477      5079546.0         403376.5      2537073.5      2055780.5   \n1478      5079546.0         403376.5      2537073.5      2055780.5   \n1479      5079546.0         403376.5      2537073.5      2055780.5   \n1480      5079546.0         403376.5      2537073.5      2055780.5   \n1481      5079546.0         403376.5      2537073.5      2055780.5   \n1482      5079546.0         403376.5      2537073.5      2055780.5   \n1483      5079546.0         403376.5      2537073.5      2055780.5   \n1484      5079546.0         403376.5      2537073.5      2055780.5   \n1485      5079546.0         403376.5      2537073.5      2055780.5   \n1486      5079546.0         403376.5      2537073.5      2055780.5   \n1487      5079546.0         403376.5      2537073.5      2055780.5   \n1488      5079546.0         403376.5      2537073.5      2055780.5   \n1489      5079546.0         403376.5      2537073.5      2055780.5   \n1490      5079546.0         403376.5      2537073.5      2055780.5   \n1491      5079546.0         403376.5      2537073.5      2055780.5   \n\n      TOTAL_EXPENDITURE  INSTRUCTION_EXPENDITURE  ...  GRADES_4_G  GRADES_8_G  \\\n0             2653798.0                1481703.0  ...     57948.0     58025.0   \n1              972488.0                 498362.0  ...      9748.0      8789.0   \n2             3401580.0                1435908.0  ...     55433.0     49081.0   \n3             1743022.0                 964323.0  ...     34632.0     36011.0   \n4            27138832.0               14358922.0  ...    418418.0    363296.0   \n5             3264826.0                1642466.0  ...     50648.0     45025.0   \n6             3721338.0                2148041.0  ...     38058.0     33691.0   \n7              638784.0                 372722.0  ...      8272.0      8012.0   \n8              742893.0                 329160.0  ...      5832.0      5000.0   \n9            11305642.0                5166374.0  ...    164416.0    142372.0   \n10            5535942.0                3043984.0  ...     99648.0     92374.0   \n11            1040121.0                 536115.0  ...     13754.0     11750.0   \n12             886161.0                 473505.0  ...     18607.0     18880.0   \n13            9850560.0                5010400.0  ...    133120.0    134317.0   \n14            5182754.0                2598925.0  ...     73760.0     75477.0   \n15            2795774.0                1446478.0  ...     37692.0     36892.0   \n16            2234915.0                1165749.0  ...     36013.0     33288.0   \n17            2518082.0                1343438.0  ...     49666.0     49993.0   \n18            3362853.0                1888349.0  ...     61125.0     55942.0   \n19            1228869.0                 685350.0  ...     17154.0     15969.0   \n20            4698374.0                2628891.0  ...     60287.0     52815.0   \n21            5245560.0                2751871.0  ...     66822.0     60702.0   \n22           10170688.0                4681327.0  ...    118963.0    114282.0   \n23            4981125.0                2534882.0  ...     62606.0     59810.0   \n24            1691990.0                 956104.0  ...     39839.0     38132.0   \n25            4197600.0                2168135.0  ...     67098.0     64546.0   \n26             781009.0                 412219.0  ...     12839.0     12124.0   \n27            1534046.0                 909159.0  ...     22133.0     21379.0   \n28            1251651.0                 572623.0  ...     18487.0     16250.0   \n29            1066647.0                 581123.0  ...     15611.0     13537.0   \n...                 ...                      ...  ...         ...         ...   \n1462          5234505.5                2657452.0  ...     43272.0     43339.0   \n1463          5234505.5                2657452.0  ...     43272.0     43339.0   \n1464          5234505.5                2657452.0  ...     43272.0     43339.0   \n1465          5234505.5                2657452.0  ...     43272.0     43339.0   \n1466          5234505.5                2657452.0  ...     43272.0     43339.0   \n1467          5234505.5                2657452.0  ...     43272.0     43339.0   \n1468          5234505.5                2657452.0  ...     43272.0     43339.0   \n1469          5234505.5                2657452.0  ...     43272.0     43339.0   \n1470          5234505.5                2657452.0  ...     43272.0     43339.0   \n1471          5234505.5                2657452.0  ...     43272.0     43339.0   \n1472          5234505.5                2657452.0  ...     43272.0     43339.0   \n1473          5234505.5                2657452.0  ...     43272.0     43339.0   \n1474          5234505.5                2657452.0  ...     43272.0     43339.0   \n1475          5234505.5                2657452.0  ...     43272.0     43339.0   \n1476          5234505.5                2657452.0  ...     43272.0     43339.0   \n1477          5234505.5                2657452.0  ...     43272.0     43339.0   \n1478          5234505.5                2657452.0  ...     43272.0     43339.0   \n1479          5234505.5                2657452.0  ...     43272.0     43339.0   \n1480          5234505.5                2657452.0  ...     43272.0     43339.0   \n1481          5234505.5                2657452.0  ...     43272.0     43339.0   \n1482          5234505.5                2657452.0  ...     43272.0     43339.0   \n1483          5234505.5                2657452.0  ...     43272.0     43339.0   \n1484          5234505.5                2657452.0  ...     43272.0     43339.0   \n1485          5234505.5                2657452.0  ...     43272.0     43339.0   \n1486          5234505.5                2657452.0  ...     43272.0     43339.0   \n1487          5234505.5                2657452.0  ...     43272.0     43339.0   \n1488          5234505.5                2657452.0  ...     43272.0     43339.0   \n1489          5234505.5                2657452.0  ...     43272.0     43339.0   \n1490          5234505.5                2657452.0  ...     43272.0     43339.0   \n1491          5234505.5                2657452.0  ...     43272.0     43339.0   \n\n      GRADES_12_G  GRADES_1_8_G  GRADES_9_12_G  GRADES_ALL_G  \\\n0         41167.0      471564.0       196386.0      676174.0   \n1          6714.0       79117.0        30847.0      112335.0   \n2         37410.0      437127.0       175210.0      614881.0   \n3         27651.0      281338.0       123113.0      405259.0   \n4        270675.0     3286034.0      1372011.0     4717112.0   \n5         34533.0      394904.0       160299.0      562613.0   \n6         28366.0      304284.0       126917.0      436932.0   \n7          6129.0       67495.0        28338.0       96296.0   \n8          3433.0       47009.0        18173.0       70000.0   \n9        100835.0     1276685.0       511557.0     1819706.0   \n10        63646.0      787599.0       315539.0     1106441.0   \n11         9051.0      107242.0        43882.0      151649.0   \n12        14593.0      146573.0        66541.0      214345.0   \n13       106475.0     1111167.0       495562.0     1646411.0   \n14        62234.0      601890.0       278161.0      883276.0   \n15        33057.0      299253.0       138907.0      442752.0   \n16        26706.0      284143.0       120960.0      407494.0   \n17        38029.0      400849.0       181786.0      597199.0   \n18        38368.0      490112.0       196891.0      698442.0   \n19        13882.0      135320.0        59289.0      195882.0   \n20        40426.0      472622.0       189795.0      678498.0   \n21        52425.0      536029.0       230299.0      777050.0   \n22        90655.0      968910.0       419351.0     1398802.0   \n23        53813.0      500938.0       224426.0      731758.0   \n24        26328.0      321614.0       129554.0      451986.0   \n25        50534.0      531337.0       235437.0      785722.0   \n26        10019.0      102124.0        44449.0      147127.0   \n27        18999.0      177432.0        79975.0      260541.0   \n28        12242.0      145687.0        57605.0      204330.0   \n29        10752.0      123475.0        47999.0      172479.0   \n...           ...           ...            ...           ...   \n1462      36735.0      345775.0       164260.0      550342.0   \n1463      36735.0      345775.0       164260.0      550342.0   \n1464      36735.0      345775.0       164260.0      550342.0   \n1465      36735.0      345775.0       164260.0      550342.0   \n1466      36735.0      345775.0       164260.0      550342.0   \n1467      36735.0      345775.0       164260.0      550342.0   \n1468      36735.0      345775.0       164260.0      550342.0   \n1469      36735.0      345775.0       164260.0      550342.0   \n1470      36735.0      345775.0       164260.0      550342.0   \n1471      36735.0      345775.0       164260.0      550342.0   \n1472      36735.0      345775.0       164260.0      550342.0   \n1473      36735.0      345775.0       164260.0      550342.0   \n1474      36735.0      345775.0       164260.0      550342.0   \n1475      36735.0      345775.0       164260.0      550342.0   \n1476      36735.0      345775.0       164260.0      550342.0   \n1477      36735.0      345775.0       164260.0      550342.0   \n1478      36735.0      345775.0       164260.0      550342.0   \n1479      36735.0      345775.0       164260.0      550342.0   \n1480      36735.0      345775.0       164260.0      550342.0   \n1481      36735.0      345775.0       164260.0      550342.0   \n1482      36735.0      345775.0       164260.0      550342.0   \n1483      36735.0      345775.0       164260.0      550342.0   \n1484      36735.0      345775.0       164260.0      550342.0   \n1485      36735.0      345775.0       164260.0      550342.0   \n1486      36735.0      345775.0       164260.0      550342.0   \n1487      36735.0      345775.0       164260.0      550342.0   \n1488      36735.0      345775.0       164260.0      550342.0   \n1489      36735.0      345775.0       164260.0      550342.0   \n1490      36735.0      345775.0       164260.0      550342.0   \n1491      36735.0      345775.0       164260.0      550342.0   \n\n      AVG_MATH_4_SCORE  AVG_MATH_8_SCORE  AVG_READING_4_SCORE  \\\n0           208.327876        252.187522           207.963517   \n1                  NaN               NaN                  NaN   \n2           215.253932        265.366278           206.212716   \n3           210.206028        256.312090           208.634458   \n4           208.398961        260.892247           196.764414   \n5           221.023429        272.398433           213.480890   \n6           226.798480        273.739345           222.417599   \n7           217.899972        262.868585           206.389052   \n8           192.600553        234.924621           178.557612   \n9           213.689751        259.908848           204.882606   \n10          215.594906        259.359434           206.844175   \n11          214.056666        257.410887           200.880272   \n12          221.562534        275.090294                  NaN   \n13                 NaN               NaN                  NaN   \n14          221.037742        270.098944           219.763258   \n15          229.884078        283.360009           222.852939   \n16                 NaN               NaN                  NaN   \n17          215.048158        262.241282           211.562307   \n18          204.140211        249.983926           196.762268   \n19          231.638840        278.635384           228.380027   \n20          217.317708        264.825493           209.645497   \n21          226.597918        272.783201           223.160076   \n22          219.878352        267.353194                  NaN   \n23          228.493596        282.392205           218.301709   \n24          201.828261        246.458035           201.529328   \n25          222.215600        271.131545           216.898079   \n26                 NaN               NaN           222.301419   \n27          225.332648        277.654523           220.034963   \n28                 NaN               NaN                  NaN   \n29          229.664564        278.216326           223.466140   \n...                ...               ...                  ...   \n1462        243.107484        286.239418           221.747268   \n1463        241.212805        285.283508           223.268429   \n1464        239.178257        277.714162           224.080585   \n1465        228.971745        266.506760           211.600528   \n1466        239.898995        284.003007           221.388603   \n1467        240.601277        280.910246           225.049335   \n1468        249.102674        297.042225           235.699697   \n1469        235.555473        279.505455           217.753242   \n1470        248.804303        293.962376           224.538513   \n1471        234.694193        270.914908           215.203306   \n1472        239.502289        280.596022           222.681081   \n1473        240.721634        285.600437           222.326722   \n1474        245.590675        288.405955           224.096225   \n1475        231.685162        275.365456           214.841696   \n1476        245.319839        293.290654           228.900649   \n1477        247.855231        291.698552           232.943318   \n1478        229.704282        269.374084           207.704354   \n1479        235.548457        281.688000           221.884015   \n1480        240.951393        281.926028           223.930906   \n1481        244.243515        288.172322           221.519266   \n1482        240.928372        287.714266           225.261138   \n1483        236.692515        278.777735           218.952797   \n1484        240.943671        282.320510           214.878493   \n1485        242.480766        286.816559           225.159173   \n1486        240.893297        287.623388           226.445343   \n1487        248.041059        290.081407           227.598382   \n1488        241.701001        289.131257           223.123409   \n1489        236.057019        273.415854           217.316396   \n1490        240.389213        288.143144           219.612694   \n1491        247.820619        288.761812           226.831211   \n\n      AVG_READING_8_SCORE  \n0                     NaN  \n1              258.859712  \n2              262.169895  \n3              264.619665  \n4                     NaN  \n5              266.419687  \n6              264.713904  \n7              261.577921  \n8              265.976765  \n9              262.118986  \n10                    NaN  \n11                    NaN  \n12                    NaN  \n13                    NaN  \n14                    NaN  \n15                    NaN  \n16                    NaN  \n17                    NaN  \n18                    NaN  \n19                    NaN  \n20                    NaN  \n21                    NaN  \n22                    NaN  \n23                    NaN  \n24                    NaN  \n25                    NaN  \n26                    NaN  \n27                    NaN  \n28                    NaN  \n29                    NaN  \n...                   ...  \n1462           272.023876  \n1463           267.675679  \n1464           267.490028  \n1465           265.133438  \n1466           256.751471  \n1467           268.930632  \n1468           267.250533  \n1469           277.782589  \n1470           265.468928  \n1471           268.616822  \n1472           256.344701  \n1473           266.035007  \n1474           267.208219  \n1475           268.528555  \n1476           259.806407  \n1477           274.786040  \n1478           275.044552  \n1479           255.578543  \n1480           264.157584  \n1481           262.720477  \n1482           265.081922  \n1483           267.355727  \n1484           262.046853  \n1485           260.342577  \n1486           268.752420  \n1487           273.402640  \n1488           267.744778  \n1489           271.617023  \n1490           258.700304  \n1491           269.371456  \n\n[1492 rows x 25 columns]"
       },
       "execution_count": 27,
       "metadata": {},
       "output_type": "execute_result"
      }
     ],
     "persistentId": "e728d6fa-ac88-4f1f-806f-1d1b400a85c9",
     "text": "education2"
    },
    "executionTime": "2019-12-02T18:07:23.870Z"
   },
   {
    "cell": {
     "executionCount": 28,
     "executionEventId": "2a901bde-e6d3-4c98-a55e-4d7aa701ea7c",
     "hasError": false,
     "id": "f7c125c6-24aa-41f5-b5f3-2a1c1f03af38",
     "outputs": [
      {
       "data": {
        "text/html": "<div>\n<style scoped>\n    .dataframe tbody tr th:only-of-type {\n        vertical-align: middle;\n    }\n\n    .dataframe tbody tr th {\n        vertical-align: top;\n    }\n\n    .dataframe thead th {\n        text-align: right;\n    }\n</style>\n<table border=\"1\" class=\"dataframe\">\n  <thead>\n    <tr style=\"text-align: right;\">\n      <th></th>\n      <th>PRIMARY_KEY</th>\n      <th>STATE</th>\n      <th>YEAR</th>\n      <th>ENROLL</th>\n      <th>TOTAL_REVENUE</th>\n      <th>FEDERAL_REVENUE</th>\n      <th>STATE_REVENUE</th>\n      <th>LOCAL_REVENUE</th>\n      <th>TOTAL_EXPENDITURE</th>\n      <th>INSTRUCTION_EXPENDITURE</th>\n      <th>...</th>\n      <th>GRADES_4_G</th>\n      <th>GRADES_8_G</th>\n      <th>GRADES_12_G</th>\n      <th>GRADES_1_8_G</th>\n      <th>GRADES_9_12_G</th>\n      <th>GRADES_ALL_G</th>\n      <th>AVG_MATH_4_SCORE</th>\n      <th>AVG_MATH_8_SCORE</th>\n      <th>AVG_READING_4_SCORE</th>\n      <th>AVG_READING_8_SCORE</th>\n    </tr>\n  </thead>\n  <tbody>\n    <tr>\n      <th>0</th>\n      <td>1992_ALABAMA</td>\n      <td>ALABAMA</td>\n      <td>1992</td>\n      <td>NaN</td>\n      <td>2678885.0</td>\n      <td>304177.0</td>\n      <td>1659028.0</td>\n      <td>715680.0</td>\n      <td>2653798.0</td>\n      <td>1481703.0</td>\n      <td>...</td>\n      <td>57948.0</td>\n      <td>58025.0</td>\n      <td>41167.0</td>\n      <td>471564.0</td>\n      <td>196386.0</td>\n      <td>676174.0</td>\n      <td>208.327876</td>\n      <td>252.187522</td>\n      <td>207.963517</td>\n      <td>NaN</td>\n    </tr>\n    <tr>\n      <th>1</th>\n      <td>1992_ALASKA</td>\n      <td>ALASKA</td>\n      <td>1992</td>\n      <td>NaN</td>\n      <td>1049591.0</td>\n      <td>106780.0</td>\n      <td>720711.0</td>\n      <td>222100.0</td>\n      <td>972488.0</td>\n      <td>498362.0</td>\n      <td>...</td>\n      <td>9748.0</td>\n      <td>8789.0</td>\n      <td>6714.0</td>\n      <td>79117.0</td>\n      <td>30847.0</td>\n      <td>112335.0</td>\n      <td>NaN</td>\n      <td>NaN</td>\n      <td>NaN</td>\n      <td>258.859712</td>\n    </tr>\n    <tr>\n      <th>2</th>\n      <td>1992_ARIZONA</td>\n      <td>ARIZONA</td>\n      <td>1992</td>\n      <td>NaN</td>\n      <td>3258079.0</td>\n      <td>297888.0</td>\n      <td>1369815.0</td>\n      <td>1590376.0</td>\n      <td>3401580.0</td>\n      <td>1435908.0</td>\n      <td>...</td>\n      <td>55433.0</td>\n      <td>49081.0</td>\n      <td>37410.0</td>\n      <td>437127.0</td>\n      <td>175210.0</td>\n      <td>614881.0</td>\n      <td>215.253932</td>\n      <td>265.366278</td>\n      <td>206.212716</td>\n      <td>262.169895</td>\n    </tr>\n    <tr>\n      <th>3</th>\n      <td>1992_ARKANSAS</td>\n      <td>ARKANSAS</td>\n      <td>1992</td>\n      <td>NaN</td>\n      <td>1711959.0</td>\n      <td>178571.0</td>\n      <td>958785.0</td>\n      <td>574603.0</td>\n      <td>1743022.0</td>\n      <td>964323.0</td>\n      <td>...</td>\n      <td>34632.0</td>\n      <td>36011.0</td>\n      <td>27651.0</td>\n      <td>281338.0</td>\n      <td>123113.0</td>\n      <td>405259.0</td>\n      <td>210.206028</td>\n      <td>256.312090</td>\n      <td>208.634458</td>\n      <td>264.619665</td>\n    </tr>\n    <tr>\n      <th>4</th>\n      <td>1992_CALIFORNIA</td>\n      <td>CALIFORNIA</td>\n      <td>1992</td>\n      <td>NaN</td>\n      <td>26260025.0</td>\n      <td>2072470.0</td>\n      <td>16546514.0</td>\n      <td>7641041.0</td>\n      <td>27138832.0</td>\n      <td>14358922.0</td>\n      <td>...</td>\n      <td>418418.0</td>\n      <td>363296.0</td>\n      <td>270675.0</td>\n      <td>3286034.0</td>\n      <td>1372011.0</td>\n      <td>4717112.0</td>\n      <td>208.398961</td>\n      <td>260.892247</td>\n      <td>196.764414</td>\n      <td>NaN</td>\n    </tr>\n    <tr>\n      <th>5</th>\n      <td>1992_COLORADO</td>\n      <td>COLORADO</td>\n      <td>1992</td>\n      <td>NaN</td>\n      <td>3185173.0</td>\n      <td>163253.0</td>\n      <td>1307986.0</td>\n      <td>1713934.0</td>\n      <td>3264826.0</td>\n      <td>1642466.0</td>\n      <td>...</td>\n      <td>50648.0</td>\n      <td>45025.0</td>\n      <td>34533.0</td>\n      <td>394904.0</td>\n      <td>160299.0</td>\n      <td>562613.0</td>\n      <td>221.023429</td>\n      <td>272.398433</td>\n      <td>213.480890</td>\n      <td>266.419687</td>\n    </tr>\n    <tr>\n      <th>6</th>\n      <td>1992_CONNECTICUT</td>\n      <td>CONNECTICUT</td>\n      <td>1992</td>\n      <td>NaN</td>\n      <td>3834302.0</td>\n      <td>143542.0</td>\n      <td>1342539.0</td>\n      <td>2348221.0</td>\n      <td>3721338.0</td>\n      <td>2148041.0</td>\n      <td>...</td>\n      <td>38058.0</td>\n      <td>33691.0</td>\n      <td>28366.0</td>\n      <td>304284.0</td>\n      <td>126917.0</td>\n      <td>436932.0</td>\n      <td>226.798480</td>\n      <td>273.739345</td>\n      <td>222.417599</td>\n      <td>264.713904</td>\n    </tr>\n    <tr>\n      <th>7</th>\n      <td>1992_DELAWARE</td>\n      <td>DELAWARE</td>\n      <td>1992</td>\n      <td>NaN</td>\n      <td>645233.0</td>\n      <td>45945.0</td>\n      <td>420942.0</td>\n      <td>178346.0</td>\n      <td>638784.0</td>\n      <td>372722.0</td>\n      <td>...</td>\n      <td>8272.0</td>\n      <td>8012.0</td>\n      <td>6129.0</td>\n      <td>67495.0</td>\n      <td>28338.0</td>\n      <td>96296.0</td>\n      <td>217.899972</td>\n      <td>262.868585</td>\n      <td>206.389052</td>\n      <td>261.577921</td>\n    </tr>\n    <tr>\n      <th>8</th>\n      <td>1992_DISTRICT_OF_COLUMBIA</td>\n      <td>DISTRICT_OF_COLUMBIA</td>\n      <td>1992</td>\n      <td>NaN</td>\n      <td>709480.0</td>\n      <td>64749.0</td>\n      <td>0.0</td>\n      <td>644731.0</td>\n      <td>742893.0</td>\n      <td>329160.0</td>\n      <td>...</td>\n      <td>5832.0</td>\n      <td>5000.0</td>\n      <td>3433.0</td>\n      <td>47009.0</td>\n      <td>18173.0</td>\n      <td>70000.0</td>\n      <td>192.600553</td>\n      <td>234.924621</td>\n      <td>178.557612</td>\n      <td>265.976765</td>\n    </tr>\n    <tr>\n      <th>9</th>\n      <td>1992_FLORIDA</td>\n      <td>FLORIDA</td>\n      <td>1992</td>\n      <td>NaN</td>\n      <td>11506299.0</td>\n      <td>788420.0</td>\n      <td>5683949.0</td>\n      <td>5033930.0</td>\n      <td>11305642.0</td>\n      <td>5166374.0</td>\n      <td>...</td>\n      <td>164416.0</td>\n      <td>142372.0</td>\n      <td>100835.0</td>\n      <td>1276685.0</td>\n      <td>511557.0</td>\n      <td>1819706.0</td>\n      <td>213.689751</td>\n      <td>259.908848</td>\n      <td>204.882606</td>\n      <td>262.118986</td>\n    </tr>\n    <tr>\n      <th>10</th>\n      <td>1992_GEORGIA</td>\n      <td>GEORGIA</td>\n      <td>1992</td>\n      <td>NaN</td>\n      <td>5536901.0</td>\n      <td>398701.0</td>\n      <td>2798674.0</td>\n      <td>2339526.0</td>\n      <td>5535942.0</td>\n      <td>3043984.0</td>\n      <td>...</td>\n      <td>99648.0</td>\n      <td>92374.0</td>\n      <td>63646.0</td>\n      <td>787599.0</td>\n      <td>315539.0</td>\n      <td>1106441.0</td>\n      <td>215.594906</td>\n      <td>259.359434</td>\n      <td>206.844175</td>\n      <td>NaN</td>\n    </tr>\n    <tr>\n      <th>11</th>\n      <td>1992_HAWAII</td>\n      <td>HAWAII</td>\n      <td>1992</td>\n      <td>NaN</td>\n      <td>996809.0</td>\n      <td>71273.0</td>\n      <td>903443.0</td>\n      <td>22093.0</td>\n      <td>1040121.0</td>\n      <td>536115.0</td>\n      <td>...</td>\n      <td>13754.0</td>\n      <td>11750.0</td>\n      <td>9051.0</td>\n      <td>107242.0</td>\n      <td>43882.0</td>\n      <td>151649.0</td>\n      <td>214.056666</td>\n      <td>257.410887</td>\n      <td>200.880272</td>\n      <td>NaN</td>\n    </tr>\n    <tr>\n      <th>12</th>\n      <td>1992_IDAHO</td>\n      <td>IDAHO</td>\n      <td>1992</td>\n      <td>NaN</td>\n      <td>859329.0</td>\n      <td>69138.0</td>\n      <td>531912.0</td>\n      <td>258279.0</td>\n      <td>886161.0</td>\n      <td>473505.0</td>\n      <td>...</td>\n      <td>18607.0</td>\n      <td>18880.0</td>\n      <td>14593.0</td>\n      <td>146573.0</td>\n      <td>66541.0</td>\n      <td>214345.0</td>\n      <td>221.562534</td>\n      <td>275.090294</td>\n      <td>NaN</td>\n      <td>NaN</td>\n    </tr>\n    <tr>\n      <th>13</th>\n      <td>1992_ILLINOIS</td>\n      <td>ILLINOIS</td>\n      <td>1992</td>\n      <td>NaN</td>\n      <td>9748650.0</td>\n      <td>597077.0</td>\n      <td>3073178.0</td>\n      <td>6078395.0</td>\n      <td>9850560.0</td>\n      <td>5010400.0</td>\n      <td>...</td>\n      <td>133120.0</td>\n      <td>134317.0</td>\n      <td>106475.0</td>\n      <td>1111167.0</td>\n      <td>495562.0</td>\n      <td>1646411.0</td>\n      <td>NaN</td>\n      <td>NaN</td>\n      <td>NaN</td>\n      <td>NaN</td>\n    </tr>\n    <tr>\n      <th>14</th>\n      <td>1992_INDIANA</td>\n      <td>INDIANA</td>\n      <td>1992</td>\n      <td>NaN</td>\n      <td>5060274.0</td>\n      <td>257044.0</td>\n      <td>2578149.0</td>\n      <td>2225081.0</td>\n      <td>5182754.0</td>\n      <td>2598925.0</td>\n      <td>...</td>\n      <td>73760.0</td>\n      <td>75477.0</td>\n      <td>62234.0</td>\n      <td>601890.0</td>\n      <td>278161.0</td>\n      <td>883276.0</td>\n      <td>221.037742</td>\n      <td>270.098944</td>\n      <td>219.763258</td>\n      <td>NaN</td>\n    </tr>\n    <tr>\n      <th>15</th>\n      <td>1992_IOWA</td>\n      <td>IOWA</td>\n      <td>1992</td>\n      <td>NaN</td>\n      <td>2663934.0</td>\n      <td>125665.0</td>\n      <td>1176205.0</td>\n      <td>1362064.0</td>\n      <td>2795774.0</td>\n      <td>1446478.0</td>\n      <td>...</td>\n      <td>37692.0</td>\n      <td>36892.0</td>\n      <td>33057.0</td>\n      <td>299253.0</td>\n      <td>138907.0</td>\n      <td>442752.0</td>\n      <td>229.884078</td>\n      <td>283.360009</td>\n      <td>222.852939</td>\n      <td>NaN</td>\n    </tr>\n    <tr>\n      <th>16</th>\n      <td>1992_KANSAS</td>\n      <td>KANSAS</td>\n      <td>1992</td>\n      <td>NaN</td>\n      <td>2245348.0</td>\n      <td>121625.0</td>\n      <td>903199.0</td>\n      <td>1220524.0</td>\n      <td>2234915.0</td>\n      <td>1165749.0</td>\n      <td>...</td>\n      <td>36013.0</td>\n      <td>33288.0</td>\n      <td>26706.0</td>\n      <td>284143.0</td>\n      <td>120960.0</td>\n      <td>407494.0</td>\n      <td>NaN</td>\n      <td>NaN</td>\n      <td>NaN</td>\n      <td>NaN</td>\n    </tr>\n    <tr>\n      <th>17</th>\n      <td>1992_KENTUCKY</td>\n      <td>KENTUCKY</td>\n      <td>1992</td>\n      <td>NaN</td>\n      <td>2642902.0</td>\n      <td>289902.0</td>\n      <td>1643109.0</td>\n      <td>709891.0</td>\n      <td>2518082.0</td>\n      <td>1343438.0</td>\n      <td>...</td>\n      <td>49666.0</td>\n      <td>49993.0</td>\n      <td>38029.0</td>\n      <td>400849.0</td>\n      <td>181786.0</td>\n      <td>597199.0</td>\n      <td>215.048158</td>\n      <td>262.241282</td>\n      <td>211.562307</td>\n      <td>NaN</td>\n    </tr>\n    <tr>\n      <th>18</th>\n      <td>1992_LOUISIANA</td>\n      <td>LOUISIANA</td>\n      <td>1992</td>\n      <td>NaN</td>\n      <td>3341253.0</td>\n      <td>367822.0</td>\n      <td>1848734.0</td>\n      <td>1124697.0</td>\n      <td>3362853.0</td>\n      <td>1888349.0</td>\n      <td>...</td>\n      <td>61125.0</td>\n      <td>55942.0</td>\n      <td>38368.0</td>\n      <td>490112.0</td>\n      <td>196891.0</td>\n      <td>698442.0</td>\n      <td>204.140211</td>\n      <td>249.983926</td>\n      <td>196.762268</td>\n      <td>NaN</td>\n    </tr>\n    <tr>\n      <th>19</th>\n      <td>1992_MAINE</td>\n      <td>MAINE</td>\n      <td>1992</td>\n      <td>NaN</td>\n      <td>1206819.0</td>\n      <td>73160.0</td>\n      <td>511654.0</td>\n      <td>622005.0</td>\n      <td>1228869.0</td>\n      <td>685350.0</td>\n      <td>...</td>\n      <td>17154.0</td>\n      <td>15969.0</td>\n      <td>13882.0</td>\n      <td>135320.0</td>\n      <td>59289.0</td>\n      <td>195882.0</td>\n      <td>231.638840</td>\n      <td>278.635384</td>\n      <td>228.380027</td>\n      <td>NaN</td>\n    </tr>\n    <tr>\n      <th>20</th>\n      <td>1992_MARYLAND</td>\n      <td>MARYLAND</td>\n      <td>1992</td>\n      <td>NaN</td>\n      <td>4658498.0</td>\n      <td>228336.0</td>\n      <td>1778834.0</td>\n      <td>2651328.0</td>\n      <td>4698374.0</td>\n      <td>2628891.0</td>\n      <td>...</td>\n      <td>60287.0</td>\n      <td>52815.0</td>\n      <td>40426.0</td>\n      <td>472622.0</td>\n      <td>189795.0</td>\n      <td>678498.0</td>\n      <td>217.317708</td>\n      <td>264.825493</td>\n      <td>209.645497</td>\n      <td>NaN</td>\n    </tr>\n    <tr>\n      <th>21</th>\n      <td>1992_MASSACHUSETTS</td>\n      <td>MASSACHUSETTS</td>\n      <td>1992</td>\n      <td>NaN</td>\n      <td>5517659.0</td>\n      <td>273946.0</td>\n      <td>1439051.0</td>\n      <td>3804662.0</td>\n      <td>5245560.0</td>\n      <td>2751871.0</td>\n      <td>...</td>\n      <td>66822.0</td>\n      <td>60702.0</td>\n      <td>52425.0</td>\n      <td>536029.0</td>\n      <td>230299.0</td>\n      <td>777050.0</td>\n      <td>226.597918</td>\n      <td>272.783201</td>\n      <td>223.160076</td>\n      <td>NaN</td>\n    </tr>\n    <tr>\n      <th>22</th>\n      <td>1992_MICHIGAN</td>\n      <td>MICHIGAN</td>\n      <td>1992</td>\n      <td>NaN</td>\n      <td>9963137.0</td>\n      <td>537917.0</td>\n      <td>2539380.0</td>\n      <td>6885840.0</td>\n      <td>10170688.0</td>\n      <td>4681327.0</td>\n      <td>...</td>\n      <td>118963.0</td>\n      <td>114282.0</td>\n      <td>90655.0</td>\n      <td>968910.0</td>\n      <td>419351.0</td>\n      <td>1398802.0</td>\n      <td>219.878352</td>\n      <td>267.353194</td>\n      <td>NaN</td>\n      <td>NaN</td>\n    </tr>\n    <tr>\n      <th>23</th>\n      <td>1992_MINNESOTA</td>\n      <td>MINNESOTA</td>\n      <td>1992</td>\n      <td>NaN</td>\n      <td>4684684.0</td>\n      <td>194092.0</td>\n      <td>2380754.0</td>\n      <td>2109838.0</td>\n      <td>4981125.0</td>\n      <td>2534882.0</td>\n      <td>...</td>\n      <td>62606.0</td>\n      <td>59810.0</td>\n      <td>53813.0</td>\n      <td>500938.0</td>\n      <td>224426.0</td>\n      <td>731758.0</td>\n      <td>228.493596</td>\n      <td>282.392205</td>\n      <td>218.301709</td>\n      <td>NaN</td>\n    </tr>\n    <tr>\n      <th>24</th>\n      <td>1992_MISSISSIPPI</td>\n      <td>MISSISSIPPI</td>\n      <td>1992</td>\n      <td>NaN</td>\n      <td>1684706.0</td>\n      <td>277706.0</td>\n      <td>901199.0</td>\n      <td>505801.0</td>\n      <td>1691990.0</td>\n      <td>956104.0</td>\n      <td>...</td>\n      <td>39839.0</td>\n      <td>38132.0</td>\n      <td>26328.0</td>\n      <td>321614.0</td>\n      <td>129554.0</td>\n      <td>451986.0</td>\n      <td>201.828261</td>\n      <td>246.458035</td>\n      <td>201.529328</td>\n      <td>NaN</td>\n    </tr>\n    <tr>\n      <th>25</th>\n      <td>1992_MISSOURI</td>\n      <td>MISSOURI</td>\n      <td>1992</td>\n      <td>NaN</td>\n      <td>4043682.0</td>\n      <td>255194.0</td>\n      <td>1903124.0</td>\n      <td>1885364.0</td>\n      <td>4197600.0</td>\n      <td>2168135.0</td>\n      <td>...</td>\n      <td>67098.0</td>\n      <td>64546.0</td>\n      <td>50534.0</td>\n      <td>531337.0</td>\n      <td>235437.0</td>\n      <td>785722.0</td>\n      <td>222.215600</td>\n      <td>271.131545</td>\n      <td>216.898079</td>\n      <td>NaN</td>\n    </tr>\n    <tr>\n      <th>26</th>\n      <td>1992_MONTANA</td>\n      <td>MONTANA</td>\n      <td>1992</td>\n      <td>NaN</td>\n      <td>828983.0</td>\n      <td>69947.0</td>\n      <td>337455.0</td>\n      <td>421581.0</td>\n      <td>781009.0</td>\n      <td>412219.0</td>\n      <td>...</td>\n      <td>12839.0</td>\n      <td>12124.0</td>\n      <td>10019.0</td>\n      <td>102124.0</td>\n      <td>44449.0</td>\n      <td>147127.0</td>\n      <td>NaN</td>\n      <td>NaN</td>\n      <td>222.301419</td>\n      <td>NaN</td>\n    </tr>\n    <tr>\n      <th>27</th>\n      <td>1992_NEBRASKA</td>\n      <td>NEBRASKA</td>\n      <td>1992</td>\n      <td>NaN</td>\n      <td>1542413.0</td>\n      <td>85423.0</td>\n      <td>492256.0</td>\n      <td>964734.0</td>\n      <td>1534046.0</td>\n      <td>909159.0</td>\n      <td>...</td>\n      <td>22133.0</td>\n      <td>21379.0</td>\n      <td>18999.0</td>\n      <td>177432.0</td>\n      <td>79975.0</td>\n      <td>260541.0</td>\n      <td>225.332648</td>\n      <td>277.654523</td>\n      <td>220.034963</td>\n      <td>NaN</td>\n    </tr>\n    <tr>\n      <th>28</th>\n      <td>1992_NEVADA</td>\n      <td>NEVADA</td>\n      <td>1992</td>\n      <td>NaN</td>\n      <td>1097076.0</td>\n      <td>45018.0</td>\n      <td>724032.0</td>\n      <td>328026.0</td>\n      <td>1251651.0</td>\n      <td>572623.0</td>\n      <td>...</td>\n      <td>18487.0</td>\n      <td>16250.0</td>\n      <td>12242.0</td>\n      <td>145687.0</td>\n      <td>57605.0</td>\n      <td>204330.0</td>\n      <td>NaN</td>\n      <td>NaN</td>\n      <td>NaN</td>\n      <td>NaN</td>\n    </tr>\n    <tr>\n      <th>29</th>\n      <td>1992_NEW_HAMPSHIRE</td>\n      <td>NEW_HAMPSHIRE</td>\n      <td>1992</td>\n      <td>NaN</td>\n      <td>1063391.0</td>\n      <td>31020.0</td>\n      <td>86296.0</td>\n      <td>946075.0</td>\n      <td>1066647.0</td>\n      <td>581123.0</td>\n      <td>...</td>\n      <td>15611.0</td>\n      <td>13537.0</td>\n      <td>10752.0</td>\n      <td>123475.0</td>\n      <td>47999.0</td>\n      <td>172479.0</td>\n      <td>229.664564</td>\n      <td>278.216326</td>\n      <td>223.466140</td>\n      <td>NaN</td>\n    </tr>\n    <tr>\n      <th>...</th>\n      <td>...</td>\n      <td>...</td>\n      <td>...</td>\n      <td>...</td>\n      <td>...</td>\n      <td>...</td>\n      <td>...</td>\n      <td>...</td>\n      <td>...</td>\n      <td>...</td>\n      <td>...</td>\n      <td>...</td>\n      <td>...</td>\n      <td>...</td>\n      <td>...</td>\n      <td>...</td>\n      <td>...</td>\n      <td>...</td>\n      <td>...</td>\n      <td>...</td>\n      <td>...</td>\n    </tr>\n    <tr>\n      <th>1462</th>\n      <td>2017_IOWA</td>\n      <td>IOWA</td>\n      <td>2017</td>\n      <td>NaN</td>\n      <td>NaN</td>\n      <td>NaN</td>\n      <td>NaN</td>\n      <td>NaN</td>\n      <td>NaN</td>\n      <td>NaN</td>\n      <td>...</td>\n      <td>NaN</td>\n      <td>NaN</td>\n      <td>NaN</td>\n      <td>NaN</td>\n      <td>NaN</td>\n      <td>NaN</td>\n      <td>243.107484</td>\n      <td>286.239418</td>\n      <td>221.747268</td>\n      <td>272.023876</td>\n    </tr>\n    <tr>\n      <th>1463</th>\n      <td>2017_KANSAS</td>\n      <td>KANSAS</td>\n      <td>2017</td>\n      <td>NaN</td>\n      <td>NaN</td>\n      <td>NaN</td>\n      <td>NaN</td>\n      <td>NaN</td>\n      <td>NaN</td>\n      <td>NaN</td>\n      <td>...</td>\n      <td>NaN</td>\n      <td>NaN</td>\n      <td>NaN</td>\n      <td>NaN</td>\n      <td>NaN</td>\n      <td>NaN</td>\n      <td>241.212805</td>\n      <td>285.283508</td>\n      <td>223.268429</td>\n      <td>267.675679</td>\n    </tr>\n    <tr>\n      <th>1464</th>\n      <td>2017_KENTUCKY</td>\n      <td>KENTUCKY</td>\n      <td>2017</td>\n      <td>NaN</td>\n      <td>NaN</td>\n      <td>NaN</td>\n      <td>NaN</td>\n      <td>NaN</td>\n      <td>NaN</td>\n      <td>NaN</td>\n      <td>...</td>\n      <td>NaN</td>\n      <td>NaN</td>\n      <td>NaN</td>\n      <td>NaN</td>\n      <td>NaN</td>\n      <td>NaN</td>\n      <td>239.178257</td>\n      <td>277.714162</td>\n      <td>224.080585</td>\n      <td>267.490028</td>\n    </tr>\n    <tr>\n      <th>1465</th>\n      <td>2017_LOUISIANA</td>\n      <td>LOUISIANA</td>\n      <td>2017</td>\n      <td>NaN</td>\n      <td>NaN</td>\n      <td>NaN</td>\n      <td>NaN</td>\n      <td>NaN</td>\n      <td>NaN</td>\n      <td>NaN</td>\n      <td>...</td>\n      <td>NaN</td>\n      <td>NaN</td>\n      <td>NaN</td>\n      <td>NaN</td>\n      <td>NaN</td>\n      <td>NaN</td>\n      <td>228.971745</td>\n      <td>266.506760</td>\n      <td>211.600528</td>\n      <td>265.133438</td>\n    </tr>\n    <tr>\n      <th>1466</th>\n      <td>2017_MAINE</td>\n      <td>MAINE</td>\n      <td>2017</td>\n      <td>NaN</td>\n      <td>NaN</td>\n      <td>NaN</td>\n      <td>NaN</td>\n      <td>NaN</td>\n      <td>NaN</td>\n      <td>NaN</td>\n      <td>...</td>\n      <td>NaN</td>\n      <td>NaN</td>\n      <td>NaN</td>\n      <td>NaN</td>\n      <td>NaN</td>\n      <td>NaN</td>\n      <td>239.898995</td>\n      <td>284.003007</td>\n      <td>221.388603</td>\n      <td>256.751471</td>\n    </tr>\n    <tr>\n      <th>1467</th>\n      <td>2017_MARYLAND</td>\n      <td>MARYLAND</td>\n      <td>2017</td>\n      <td>NaN</td>\n      <td>NaN</td>\n      <td>NaN</td>\n      <td>NaN</td>\n      <td>NaN</td>\n      <td>NaN</td>\n      <td>NaN</td>\n      <td>...</td>\n      <td>NaN</td>\n      <td>NaN</td>\n      <td>NaN</td>\n      <td>NaN</td>\n      <td>NaN</td>\n      <td>NaN</td>\n      <td>240.601277</td>\n      <td>280.910246</td>\n      <td>225.049335</td>\n      <td>268.930632</td>\n    </tr>\n    <tr>\n      <th>1468</th>\n      <td>2017_MASSACHUSETTS</td>\n      <td>MASSACHUSETTS</td>\n      <td>2017</td>\n      <td>NaN</td>\n      <td>NaN</td>\n      <td>NaN</td>\n      <td>NaN</td>\n      <td>NaN</td>\n      <td>NaN</td>\n      <td>NaN</td>\n      <td>...</td>\n      <td>NaN</td>\n      <td>NaN</td>\n      <td>NaN</td>\n      <td>NaN</td>\n      <td>NaN</td>\n      <td>NaN</td>\n      <td>249.102674</td>\n      <td>297.042225</td>\n      <td>235.699697</td>\n      <td>267.250533</td>\n    </tr>\n    <tr>\n      <th>1469</th>\n      <td>2017_MICHIGAN</td>\n      <td>MICHIGAN</td>\n      <td>2017</td>\n      <td>NaN</td>\n      <td>NaN</td>\n      <td>NaN</td>\n      <td>NaN</td>\n      <td>NaN</td>\n      <td>NaN</td>\n      <td>NaN</td>\n      <td>...</td>\n      <td>NaN</td>\n      <td>NaN</td>\n      <td>NaN</td>\n      <td>NaN</td>\n      <td>NaN</td>\n      <td>NaN</td>\n      <td>235.555473</td>\n      <td>279.505455</td>\n      <td>217.753242</td>\n      <td>277.782589</td>\n    </tr>\n    <tr>\n      <th>1470</th>\n      <td>2017_MINNESOTA</td>\n      <td>MINNESOTA</td>\n      <td>2017</td>\n      <td>NaN</td>\n      <td>NaN</td>\n      <td>NaN</td>\n      <td>NaN</td>\n      <td>NaN</td>\n      <td>NaN</td>\n      <td>NaN</td>\n      <td>...</td>\n      <td>NaN</td>\n      <td>NaN</td>\n      <td>NaN</td>\n      <td>NaN</td>\n      <td>NaN</td>\n      <td>NaN</td>\n      <td>248.804303</td>\n      <td>293.962376</td>\n      <td>224.538513</td>\n      <td>265.468928</td>\n    </tr>\n    <tr>\n      <th>1471</th>\n      <td>2017_MISSISSIPPI</td>\n      <td>MISSISSIPPI</td>\n      <td>2017</td>\n      <td>NaN</td>\n      <td>NaN</td>\n      <td>NaN</td>\n      <td>NaN</td>\n      <td>NaN</td>\n      <td>NaN</td>\n      <td>NaN</td>\n      <td>...</td>\n      <td>NaN</td>\n      <td>NaN</td>\n      <td>NaN</td>\n      <td>NaN</td>\n      <td>NaN</td>\n      <td>NaN</td>\n      <td>234.694193</td>\n      <td>270.914908</td>\n      <td>215.203306</td>\n      <td>268.616822</td>\n    </tr>\n    <tr>\n      <th>1472</th>\n      <td>2017_MISSOURI</td>\n      <td>MISSOURI</td>\n      <td>2017</td>\n      <td>NaN</td>\n      <td>NaN</td>\n      <td>NaN</td>\n      <td>NaN</td>\n      <td>NaN</td>\n      <td>NaN</td>\n      <td>NaN</td>\n      <td>...</td>\n      <td>NaN</td>\n      <td>NaN</td>\n      <td>NaN</td>\n      <td>NaN</td>\n      <td>NaN</td>\n      <td>NaN</td>\n      <td>239.502289</td>\n      <td>280.596022</td>\n      <td>222.681081</td>\n      <td>256.344701</td>\n    </tr>\n    <tr>\n      <th>1473</th>\n      <td>2017_MONTANA</td>\n      <td>MONTANA</td>\n      <td>2017</td>\n      <td>NaN</td>\n      <td>NaN</td>\n      <td>NaN</td>\n      <td>NaN</td>\n      <td>NaN</td>\n      <td>NaN</td>\n      <td>NaN</td>\n      <td>...</td>\n      <td>NaN</td>\n      <td>NaN</td>\n      <td>NaN</td>\n      <td>NaN</td>\n      <td>NaN</td>\n      <td>NaN</td>\n      <td>240.721634</td>\n      <td>285.600437</td>\n      <td>222.326722</td>\n      <td>266.035007</td>\n    </tr>\n    <tr>\n      <th>1474</th>\n      <td>2017_NEBRASKA</td>\n      <td>NEBRASKA</td>\n      <td>2017</td>\n      <td>NaN</td>\n      <td>NaN</td>\n      <td>NaN</td>\n      <td>NaN</td>\n      <td>NaN</td>\n      <td>NaN</td>\n      <td>NaN</td>\n      <td>...</td>\n      <td>NaN</td>\n      <td>NaN</td>\n      <td>NaN</td>\n      <td>NaN</td>\n      <td>NaN</td>\n      <td>NaN</td>\n      <td>245.590675</td>\n      <td>288.405955</td>\n      <td>224.096225</td>\n      <td>267.208219</td>\n    </tr>\n    <tr>\n      <th>1475</th>\n      <td>2017_NEVADA</td>\n      <td>NEVADA</td>\n      <td>2017</td>\n      <td>NaN</td>\n      <td>NaN</td>\n      <td>NaN</td>\n      <td>NaN</td>\n      <td>NaN</td>\n      <td>NaN</td>\n      <td>NaN</td>\n      <td>...</td>\n      <td>NaN</td>\n      <td>NaN</td>\n      <td>NaN</td>\n      <td>NaN</td>\n      <td>NaN</td>\n      <td>NaN</td>\n      <td>231.685162</td>\n      <td>275.365456</td>\n      <td>214.841696</td>\n      <td>268.528555</td>\n    </tr>\n    <tr>\n      <th>1476</th>\n      <td>2017_NEW_HAMPSHIRE</td>\n      <td>NEW_HAMPSHIRE</td>\n      <td>2017</td>\n      <td>NaN</td>\n      <td>NaN</td>\n      <td>NaN</td>\n      <td>NaN</td>\n      <td>NaN</td>\n      <td>NaN</td>\n      <td>NaN</td>\n      <td>...</td>\n      <td>NaN</td>\n      <td>NaN</td>\n      <td>NaN</td>\n      <td>NaN</td>\n      <td>NaN</td>\n      <td>NaN</td>\n      <td>245.319839</td>\n      <td>293.290654</td>\n      <td>228.900649</td>\n      <td>259.806407</td>\n    </tr>\n    <tr>\n      <th>1477</th>\n      <td>2017_NEW_JERSEY</td>\n      <td>NEW_JERSEY</td>\n      <td>2017</td>\n      <td>NaN</td>\n      <td>NaN</td>\n      <td>NaN</td>\n      <td>NaN</td>\n      <td>NaN</td>\n      <td>NaN</td>\n      <td>NaN</td>\n      <td>...</td>\n      <td>NaN</td>\n      <td>NaN</td>\n      <td>NaN</td>\n      <td>NaN</td>\n      <td>NaN</td>\n      <td>NaN</td>\n      <td>247.855231</td>\n      <td>291.698552</td>\n      <td>232.943318</td>\n      <td>274.786040</td>\n    </tr>\n    <tr>\n      <th>1478</th>\n      <td>2017_NEW_MEXICO</td>\n      <td>NEW_MEXICO</td>\n      <td>2017</td>\n      <td>NaN</td>\n      <td>NaN</td>\n      <td>NaN</td>\n      <td>NaN</td>\n      <td>NaN</td>\n      <td>NaN</td>\n      <td>NaN</td>\n      <td>...</td>\n      <td>NaN</td>\n      <td>NaN</td>\n      <td>NaN</td>\n      <td>NaN</td>\n      <td>NaN</td>\n      <td>NaN</td>\n      <td>229.704282</td>\n      <td>269.374084</td>\n      <td>207.704354</td>\n      <td>275.044552</td>\n    </tr>\n    <tr>\n      <th>1479</th>\n      <td>2017_NEW_YORK</td>\n      <td>NEW_YORK</td>\n      <td>2017</td>\n      <td>NaN</td>\n      <td>NaN</td>\n      <td>NaN</td>\n      <td>NaN</td>\n      <td>NaN</td>\n      <td>NaN</td>\n      <td>NaN</td>\n      <td>...</td>\n      <td>NaN</td>\n      <td>NaN</td>\n      <td>NaN</td>\n      <td>NaN</td>\n      <td>NaN</td>\n      <td>NaN</td>\n      <td>235.548457</td>\n      <td>281.688000</td>\n      <td>221.884015</td>\n      <td>255.578543</td>\n    </tr>\n    <tr>\n      <th>1480</th>\n      <td>2017_NORTH_CAROLINA</td>\n      <td>NORTH_CAROLINA</td>\n      <td>2017</td>\n      <td>NaN</td>\n      <td>NaN</td>\n      <td>NaN</td>\n      <td>NaN</td>\n      <td>NaN</td>\n      <td>NaN</td>\n      <td>NaN</td>\n      <td>...</td>\n      <td>NaN</td>\n      <td>NaN</td>\n      <td>NaN</td>\n      <td>NaN</td>\n      <td>NaN</td>\n      <td>NaN</td>\n      <td>240.951393</td>\n      <td>281.926028</td>\n      <td>223.930906</td>\n      <td>264.157584</td>\n    </tr>\n    <tr>\n      <th>1481</th>\n      <td>2017_NORTH_DAKOTA</td>\n      <td>NORTH_DAKOTA</td>\n      <td>2017</td>\n      <td>NaN</td>\n      <td>NaN</td>\n      <td>NaN</td>\n      <td>NaN</td>\n      <td>NaN</td>\n      <td>NaN</td>\n      <td>NaN</td>\n      <td>...</td>\n      <td>NaN</td>\n      <td>NaN</td>\n      <td>NaN</td>\n      <td>NaN</td>\n      <td>NaN</td>\n      <td>NaN</td>\n      <td>244.243515</td>\n      <td>288.172322</td>\n      <td>221.519266</td>\n      <td>262.720477</td>\n    </tr>\n    <tr>\n      <th>1482</th>\n      <td>2017_OHIO</td>\n      <td>OHIO</td>\n      <td>2017</td>\n      <td>NaN</td>\n      <td>NaN</td>\n      <td>NaN</td>\n      <td>NaN</td>\n      <td>NaN</td>\n      <td>NaN</td>\n      <td>NaN</td>\n      <td>...</td>\n      <td>NaN</td>\n      <td>NaN</td>\n      <td>NaN</td>\n      <td>NaN</td>\n      <td>NaN</td>\n      <td>NaN</td>\n      <td>240.928372</td>\n      <td>287.714266</td>\n      <td>225.261138</td>\n      <td>265.081922</td>\n    </tr>\n    <tr>\n      <th>1483</th>\n      <td>2017_TENNESSEE</td>\n      <td>TENNESSEE</td>\n      <td>2017</td>\n      <td>NaN</td>\n      <td>NaN</td>\n      <td>NaN</td>\n      <td>NaN</td>\n      <td>NaN</td>\n      <td>NaN</td>\n      <td>NaN</td>\n      <td>...</td>\n      <td>NaN</td>\n      <td>NaN</td>\n      <td>NaN</td>\n      <td>NaN</td>\n      <td>NaN</td>\n      <td>NaN</td>\n      <td>236.692515</td>\n      <td>278.777735</td>\n      <td>218.952797</td>\n      <td>267.355727</td>\n    </tr>\n    <tr>\n      <th>1484</th>\n      <td>2017_TEXAS</td>\n      <td>TEXAS</td>\n      <td>2017</td>\n      <td>NaN</td>\n      <td>NaN</td>\n      <td>NaN</td>\n      <td>NaN</td>\n      <td>NaN</td>\n      <td>NaN</td>\n      <td>NaN</td>\n      <td>...</td>\n      <td>NaN</td>\n      <td>NaN</td>\n      <td>NaN</td>\n      <td>NaN</td>\n      <td>NaN</td>\n      <td>NaN</td>\n      <td>240.943671</td>\n      <td>282.320510</td>\n      <td>214.878493</td>\n      <td>262.046853</td>\n    </tr>\n    <tr>\n      <th>1485</th>\n      <td>2017_UTAH</td>\n      <td>UTAH</td>\n      <td>2017</td>\n      <td>NaN</td>\n      <td>NaN</td>\n      <td>NaN</td>\n      <td>NaN</td>\n      <td>NaN</td>\n      <td>NaN</td>\n      <td>NaN</td>\n      <td>...</td>\n      <td>NaN</td>\n      <td>NaN</td>\n      <td>NaN</td>\n      <td>NaN</td>\n      <td>NaN</td>\n      <td>NaN</td>\n      <td>242.480766</td>\n      <td>286.816559</td>\n      <td>225.159173</td>\n      <td>260.342577</td>\n    </tr>\n    <tr>\n      <th>1486</th>\n      <td>2017_VERMONT</td>\n      <td>VERMONT</td>\n      <td>2017</td>\n      <td>NaN</td>\n      <td>NaN</td>\n      <td>NaN</td>\n      <td>NaN</td>\n      <td>NaN</td>\n      <td>NaN</td>\n      <td>NaN</td>\n      <td>...</td>\n      <td>NaN</td>\n      <td>NaN</td>\n      <td>NaN</td>\n      <td>NaN</td>\n      <td>NaN</td>\n      <td>NaN</td>\n      <td>240.893297</td>\n      <td>287.623388</td>\n      <td>226.445343</td>\n      <td>268.752420</td>\n    </tr>\n    <tr>\n      <th>1487</th>\n      <td>2017_VIRGINIA</td>\n      <td>VIRGINIA</td>\n      <td>2017</td>\n      <td>NaN</td>\n      <td>NaN</td>\n      <td>NaN</td>\n      <td>NaN</td>\n      <td>NaN</td>\n      <td>NaN</td>\n      <td>NaN</td>\n      <td>...</td>\n      <td>NaN</td>\n      <td>NaN</td>\n      <td>NaN</td>\n      <td>NaN</td>\n      <td>NaN</td>\n      <td>NaN</td>\n      <td>248.041059</td>\n      <td>290.081407</td>\n      <td>227.598382</td>\n      <td>273.402640</td>\n    </tr>\n    <tr>\n      <th>1488</th>\n      <td>2017_WASHINGTON</td>\n      <td>WASHINGTON</td>\n      <td>2017</td>\n      <td>NaN</td>\n      <td>NaN</td>\n      <td>NaN</td>\n      <td>NaN</td>\n      <td>NaN</td>\n      <td>NaN</td>\n      <td>NaN</td>\n      <td>...</td>\n      <td>NaN</td>\n      <td>NaN</td>\n      <td>NaN</td>\n      <td>NaN</td>\n      <td>NaN</td>\n      <td>NaN</td>\n      <td>241.701001</td>\n      <td>289.131257</td>\n      <td>223.123409</td>\n      <td>267.744778</td>\n    </tr>\n    <tr>\n      <th>1489</th>\n      <td>2017_WEST_VIRGINIA</td>\n      <td>WEST_VIRGINIA</td>\n      <td>2017</td>\n      <td>NaN</td>\n      <td>NaN</td>\n      <td>NaN</td>\n      <td>NaN</td>\n      <td>NaN</td>\n      <td>NaN</td>\n      <td>NaN</td>\n      <td>...</td>\n      <td>NaN</td>\n      <td>NaN</td>\n      <td>NaN</td>\n      <td>NaN</td>\n      <td>NaN</td>\n      <td>NaN</td>\n      <td>236.057019</td>\n      <td>273.415854</td>\n      <td>217.316396</td>\n      <td>271.617023</td>\n    </tr>\n    <tr>\n      <th>1490</th>\n      <td>2017_WISCONSIN</td>\n      <td>WISCONSIN</td>\n      <td>2017</td>\n      <td>NaN</td>\n      <td>NaN</td>\n      <td>NaN</td>\n      <td>NaN</td>\n      <td>NaN</td>\n      <td>NaN</td>\n      <td>NaN</td>\n      <td>...</td>\n      <td>NaN</td>\n      <td>NaN</td>\n      <td>NaN</td>\n      <td>NaN</td>\n      <td>NaN</td>\n      <td>NaN</td>\n      <td>240.389213</td>\n      <td>288.143144</td>\n      <td>219.612694</td>\n      <td>258.700304</td>\n    </tr>\n    <tr>\n      <th>1491</th>\n      <td>2017_WYOMING</td>\n      <td>WYOMING</td>\n      <td>2017</td>\n      <td>NaN</td>\n      <td>NaN</td>\n      <td>NaN</td>\n      <td>NaN</td>\n      <td>NaN</td>\n      <td>NaN</td>\n      <td>NaN</td>\n      <td>...</td>\n      <td>NaN</td>\n      <td>NaN</td>\n      <td>NaN</td>\n      <td>NaN</td>\n      <td>NaN</td>\n      <td>NaN</td>\n      <td>247.820619</td>\n      <td>288.761812</td>\n      <td>226.831211</td>\n      <td>269.371456</td>\n    </tr>\n  </tbody>\n</table>\n<p>1492 rows × 25 columns</p>\n</div>",
        "text/plain": "                    PRIMARY_KEY                 STATE  YEAR  ENROLL  \\\n0                  1992_ALABAMA               ALABAMA  1992     NaN   \n1                   1992_ALASKA                ALASKA  1992     NaN   \n2                  1992_ARIZONA               ARIZONA  1992     NaN   \n3                 1992_ARKANSAS              ARKANSAS  1992     NaN   \n4               1992_CALIFORNIA            CALIFORNIA  1992     NaN   \n5                 1992_COLORADO              COLORADO  1992     NaN   \n6              1992_CONNECTICUT           CONNECTICUT  1992     NaN   \n7                 1992_DELAWARE              DELAWARE  1992     NaN   \n8     1992_DISTRICT_OF_COLUMBIA  DISTRICT_OF_COLUMBIA  1992     NaN   \n9                  1992_FLORIDA               FLORIDA  1992     NaN   \n10                 1992_GEORGIA               GEORGIA  1992     NaN   \n11                  1992_HAWAII                HAWAII  1992     NaN   \n12                   1992_IDAHO                 IDAHO  1992     NaN   \n13                1992_ILLINOIS              ILLINOIS  1992     NaN   \n14                 1992_INDIANA               INDIANA  1992     NaN   \n15                    1992_IOWA                  IOWA  1992     NaN   \n16                  1992_KANSAS                KANSAS  1992     NaN   \n17                1992_KENTUCKY              KENTUCKY  1992     NaN   \n18               1992_LOUISIANA             LOUISIANA  1992     NaN   \n19                   1992_MAINE                 MAINE  1992     NaN   \n20                1992_MARYLAND              MARYLAND  1992     NaN   \n21           1992_MASSACHUSETTS         MASSACHUSETTS  1992     NaN   \n22                1992_MICHIGAN              MICHIGAN  1992     NaN   \n23               1992_MINNESOTA             MINNESOTA  1992     NaN   \n24             1992_MISSISSIPPI           MISSISSIPPI  1992     NaN   \n25                1992_MISSOURI              MISSOURI  1992     NaN   \n26                 1992_MONTANA               MONTANA  1992     NaN   \n27                1992_NEBRASKA              NEBRASKA  1992     NaN   \n28                  1992_NEVADA                NEVADA  1992     NaN   \n29           1992_NEW_HAMPSHIRE         NEW_HAMPSHIRE  1992     NaN   \n...                         ...                   ...   ...     ...   \n1462                  2017_IOWA                  IOWA  2017     NaN   \n1463                2017_KANSAS                KANSAS  2017     NaN   \n1464              2017_KENTUCKY              KENTUCKY  2017     NaN   \n1465             2017_LOUISIANA             LOUISIANA  2017     NaN   \n1466                 2017_MAINE                 MAINE  2017     NaN   \n1467              2017_MARYLAND              MARYLAND  2017     NaN   \n1468         2017_MASSACHUSETTS         MASSACHUSETTS  2017     NaN   \n1469              2017_MICHIGAN              MICHIGAN  2017     NaN   \n1470             2017_MINNESOTA             MINNESOTA  2017     NaN   \n1471           2017_MISSISSIPPI           MISSISSIPPI  2017     NaN   \n1472              2017_MISSOURI              MISSOURI  2017     NaN   \n1473               2017_MONTANA               MONTANA  2017     NaN   \n1474              2017_NEBRASKA              NEBRASKA  2017     NaN   \n1475                2017_NEVADA                NEVADA  2017     NaN   \n1476         2017_NEW_HAMPSHIRE         NEW_HAMPSHIRE  2017     NaN   \n1477            2017_NEW_JERSEY            NEW_JERSEY  2017     NaN   \n1478            2017_NEW_MEXICO            NEW_MEXICO  2017     NaN   \n1479              2017_NEW_YORK              NEW_YORK  2017     NaN   \n1480        2017_NORTH_CAROLINA        NORTH_CAROLINA  2017     NaN   \n1481          2017_NORTH_DAKOTA          NORTH_DAKOTA  2017     NaN   \n1482                  2017_OHIO                  OHIO  2017     NaN   \n1483             2017_TENNESSEE             TENNESSEE  2017     NaN   \n1484                 2017_TEXAS                 TEXAS  2017     NaN   \n1485                  2017_UTAH                  UTAH  2017     NaN   \n1486               2017_VERMONT               VERMONT  2017     NaN   \n1487              2017_VIRGINIA              VIRGINIA  2017     NaN   \n1488            2017_WASHINGTON            WASHINGTON  2017     NaN   \n1489         2017_WEST_VIRGINIA         WEST_VIRGINIA  2017     NaN   \n1490             2017_WISCONSIN             WISCONSIN  2017     NaN   \n1491               2017_WYOMING               WYOMING  2017     NaN   \n\n      TOTAL_REVENUE  FEDERAL_REVENUE  STATE_REVENUE  LOCAL_REVENUE  \\\n0         2678885.0         304177.0      1659028.0       715680.0   \n1         1049591.0         106780.0       720711.0       222100.0   \n2         3258079.0         297888.0      1369815.0      1590376.0   \n3         1711959.0         178571.0       958785.0       574603.0   \n4        26260025.0        2072470.0     16546514.0      7641041.0   \n5         3185173.0         163253.0      1307986.0      1713934.0   \n6         3834302.0         143542.0      1342539.0      2348221.0   \n7          645233.0          45945.0       420942.0       178346.0   \n8          709480.0          64749.0            0.0       644731.0   \n9        11506299.0         788420.0      5683949.0      5033930.0   \n10        5536901.0         398701.0      2798674.0      2339526.0   \n11         996809.0          71273.0       903443.0        22093.0   \n12         859329.0          69138.0       531912.0       258279.0   \n13        9748650.0         597077.0      3073178.0      6078395.0   \n14        5060274.0         257044.0      2578149.0      2225081.0   \n15        2663934.0         125665.0      1176205.0      1362064.0   \n16        2245348.0         121625.0       903199.0      1220524.0   \n17        2642902.0         289902.0      1643109.0       709891.0   \n18        3341253.0         367822.0      1848734.0      1124697.0   \n19        1206819.0          73160.0       511654.0       622005.0   \n20        4658498.0         228336.0      1778834.0      2651328.0   \n21        5517659.0         273946.0      1439051.0      3804662.0   \n22        9963137.0         537917.0      2539380.0      6885840.0   \n23        4684684.0         194092.0      2380754.0      2109838.0   \n24        1684706.0         277706.0       901199.0       505801.0   \n25        4043682.0         255194.0      1903124.0      1885364.0   \n26         828983.0          69947.0       337455.0       421581.0   \n27        1542413.0          85423.0       492256.0       964734.0   \n28        1097076.0          45018.0       724032.0       328026.0   \n29        1063391.0          31020.0        86296.0       946075.0   \n...             ...              ...            ...            ...   \n1462            NaN              NaN            NaN            NaN   \n1463            NaN              NaN            NaN            NaN   \n1464            NaN              NaN            NaN            NaN   \n1465            NaN              NaN            NaN            NaN   \n1466            NaN              NaN            NaN            NaN   \n1467            NaN              NaN            NaN            NaN   \n1468            NaN              NaN            NaN            NaN   \n1469            NaN              NaN            NaN            NaN   \n1470            NaN              NaN            NaN            NaN   \n1471            NaN              NaN            NaN            NaN   \n1472            NaN              NaN            NaN            NaN   \n1473            NaN              NaN            NaN            NaN   \n1474            NaN              NaN            NaN            NaN   \n1475            NaN              NaN            NaN            NaN   \n1476            NaN              NaN            NaN            NaN   \n1477            NaN              NaN            NaN            NaN   \n1478            NaN              NaN            NaN            NaN   \n1479            NaN              NaN            NaN            NaN   \n1480            NaN              NaN            NaN            NaN   \n1481            NaN              NaN            NaN            NaN   \n1482            NaN              NaN            NaN            NaN   \n1483            NaN              NaN            NaN            NaN   \n1484            NaN              NaN            NaN            NaN   \n1485            NaN              NaN            NaN            NaN   \n1486            NaN              NaN            NaN            NaN   \n1487            NaN              NaN            NaN            NaN   \n1488            NaN              NaN            NaN            NaN   \n1489            NaN              NaN            NaN            NaN   \n1490            NaN              NaN            NaN            NaN   \n1491            NaN              NaN            NaN            NaN   \n\n      TOTAL_EXPENDITURE  INSTRUCTION_EXPENDITURE  ...  GRADES_4_G  GRADES_8_G  \\\n0             2653798.0                1481703.0  ...     57948.0     58025.0   \n1              972488.0                 498362.0  ...      9748.0      8789.0   \n2             3401580.0                1435908.0  ...     55433.0     49081.0   \n3             1743022.0                 964323.0  ...     34632.0     36011.0   \n4            27138832.0               14358922.0  ...    418418.0    363296.0   \n5             3264826.0                1642466.0  ...     50648.0     45025.0   \n6             3721338.0                2148041.0  ...     38058.0     33691.0   \n7              638784.0                 372722.0  ...      8272.0      8012.0   \n8              742893.0                 329160.0  ...      5832.0      5000.0   \n9            11305642.0                5166374.0  ...    164416.0    142372.0   \n10            5535942.0                3043984.0  ...     99648.0     92374.0   \n11            1040121.0                 536115.0  ...     13754.0     11750.0   \n12             886161.0                 473505.0  ...     18607.0     18880.0   \n13            9850560.0                5010400.0  ...    133120.0    134317.0   \n14            5182754.0                2598925.0  ...     73760.0     75477.0   \n15            2795774.0                1446478.0  ...     37692.0     36892.0   \n16            2234915.0                1165749.0  ...     36013.0     33288.0   \n17            2518082.0                1343438.0  ...     49666.0     49993.0   \n18            3362853.0                1888349.0  ...     61125.0     55942.0   \n19            1228869.0                 685350.0  ...     17154.0     15969.0   \n20            4698374.0                2628891.0  ...     60287.0     52815.0   \n21            5245560.0                2751871.0  ...     66822.0     60702.0   \n22           10170688.0                4681327.0  ...    118963.0    114282.0   \n23            4981125.0                2534882.0  ...     62606.0     59810.0   \n24            1691990.0                 956104.0  ...     39839.0     38132.0   \n25            4197600.0                2168135.0  ...     67098.0     64546.0   \n26             781009.0                 412219.0  ...     12839.0     12124.0   \n27            1534046.0                 909159.0  ...     22133.0     21379.0   \n28            1251651.0                 572623.0  ...     18487.0     16250.0   \n29            1066647.0                 581123.0  ...     15611.0     13537.0   \n...                 ...                      ...  ...         ...         ...   \n1462                NaN                      NaN  ...         NaN         NaN   \n1463                NaN                      NaN  ...         NaN         NaN   \n1464                NaN                      NaN  ...         NaN         NaN   \n1465                NaN                      NaN  ...         NaN         NaN   \n1466                NaN                      NaN  ...         NaN         NaN   \n1467                NaN                      NaN  ...         NaN         NaN   \n1468                NaN                      NaN  ...         NaN         NaN   \n1469                NaN                      NaN  ...         NaN         NaN   \n1470                NaN                      NaN  ...         NaN         NaN   \n1471                NaN                      NaN  ...         NaN         NaN   \n1472                NaN                      NaN  ...         NaN         NaN   \n1473                NaN                      NaN  ...         NaN         NaN   \n1474                NaN                      NaN  ...         NaN         NaN   \n1475                NaN                      NaN  ...         NaN         NaN   \n1476                NaN                      NaN  ...         NaN         NaN   \n1477                NaN                      NaN  ...         NaN         NaN   \n1478                NaN                      NaN  ...         NaN         NaN   \n1479                NaN                      NaN  ...         NaN         NaN   \n1480                NaN                      NaN  ...         NaN         NaN   \n1481                NaN                      NaN  ...         NaN         NaN   \n1482                NaN                      NaN  ...         NaN         NaN   \n1483                NaN                      NaN  ...         NaN         NaN   \n1484                NaN                      NaN  ...         NaN         NaN   \n1485                NaN                      NaN  ...         NaN         NaN   \n1486                NaN                      NaN  ...         NaN         NaN   \n1487                NaN                      NaN  ...         NaN         NaN   \n1488                NaN                      NaN  ...         NaN         NaN   \n1489                NaN                      NaN  ...         NaN         NaN   \n1490                NaN                      NaN  ...         NaN         NaN   \n1491                NaN                      NaN  ...         NaN         NaN   \n\n      GRADES_12_G  GRADES_1_8_G  GRADES_9_12_G  GRADES_ALL_G  \\\n0         41167.0      471564.0       196386.0      676174.0   \n1          6714.0       79117.0        30847.0      112335.0   \n2         37410.0      437127.0       175210.0      614881.0   \n3         27651.0      281338.0       123113.0      405259.0   \n4        270675.0     3286034.0      1372011.0     4717112.0   \n5         34533.0      394904.0       160299.0      562613.0   \n6         28366.0      304284.0       126917.0      436932.0   \n7          6129.0       67495.0        28338.0       96296.0   \n8          3433.0       47009.0        18173.0       70000.0   \n9        100835.0     1276685.0       511557.0     1819706.0   \n10        63646.0      787599.0       315539.0     1106441.0   \n11         9051.0      107242.0        43882.0      151649.0   \n12        14593.0      146573.0        66541.0      214345.0   \n13       106475.0     1111167.0       495562.0     1646411.0   \n14        62234.0      601890.0       278161.0      883276.0   \n15        33057.0      299253.0       138907.0      442752.0   \n16        26706.0      284143.0       120960.0      407494.0   \n17        38029.0      400849.0       181786.0      597199.0   \n18        38368.0      490112.0       196891.0      698442.0   \n19        13882.0      135320.0        59289.0      195882.0   \n20        40426.0      472622.0       189795.0      678498.0   \n21        52425.0      536029.0       230299.0      777050.0   \n22        90655.0      968910.0       419351.0     1398802.0   \n23        53813.0      500938.0       224426.0      731758.0   \n24        26328.0      321614.0       129554.0      451986.0   \n25        50534.0      531337.0       235437.0      785722.0   \n26        10019.0      102124.0        44449.0      147127.0   \n27        18999.0      177432.0        79975.0      260541.0   \n28        12242.0      145687.0        57605.0      204330.0   \n29        10752.0      123475.0        47999.0      172479.0   \n...           ...           ...            ...           ...   \n1462          NaN           NaN            NaN           NaN   \n1463          NaN           NaN            NaN           NaN   \n1464          NaN           NaN            NaN           NaN   \n1465          NaN           NaN            NaN           NaN   \n1466          NaN           NaN            NaN           NaN   \n1467          NaN           NaN            NaN           NaN   \n1468          NaN           NaN            NaN           NaN   \n1469          NaN           NaN            NaN           NaN   \n1470          NaN           NaN            NaN           NaN   \n1471          NaN           NaN            NaN           NaN   \n1472          NaN           NaN            NaN           NaN   \n1473          NaN           NaN            NaN           NaN   \n1474          NaN           NaN            NaN           NaN   \n1475          NaN           NaN            NaN           NaN   \n1476          NaN           NaN            NaN           NaN   \n1477          NaN           NaN            NaN           NaN   \n1478          NaN           NaN            NaN           NaN   \n1479          NaN           NaN            NaN           NaN   \n1480          NaN           NaN            NaN           NaN   \n1481          NaN           NaN            NaN           NaN   \n1482          NaN           NaN            NaN           NaN   \n1483          NaN           NaN            NaN           NaN   \n1484          NaN           NaN            NaN           NaN   \n1485          NaN           NaN            NaN           NaN   \n1486          NaN           NaN            NaN           NaN   \n1487          NaN           NaN            NaN           NaN   \n1488          NaN           NaN            NaN           NaN   \n1489          NaN           NaN            NaN           NaN   \n1490          NaN           NaN            NaN           NaN   \n1491          NaN           NaN            NaN           NaN   \n\n      AVG_MATH_4_SCORE  AVG_MATH_8_SCORE  AVG_READING_4_SCORE  \\\n0           208.327876        252.187522           207.963517   \n1                  NaN               NaN                  NaN   \n2           215.253932        265.366278           206.212716   \n3           210.206028        256.312090           208.634458   \n4           208.398961        260.892247           196.764414   \n5           221.023429        272.398433           213.480890   \n6           226.798480        273.739345           222.417599   \n7           217.899972        262.868585           206.389052   \n8           192.600553        234.924621           178.557612   \n9           213.689751        259.908848           204.882606   \n10          215.594906        259.359434           206.844175   \n11          214.056666        257.410887           200.880272   \n12          221.562534        275.090294                  NaN   \n13                 NaN               NaN                  NaN   \n14          221.037742        270.098944           219.763258   \n15          229.884078        283.360009           222.852939   \n16                 NaN               NaN                  NaN   \n17          215.048158        262.241282           211.562307   \n18          204.140211        249.983926           196.762268   \n19          231.638840        278.635384           228.380027   \n20          217.317708        264.825493           209.645497   \n21          226.597918        272.783201           223.160076   \n22          219.878352        267.353194                  NaN   \n23          228.493596        282.392205           218.301709   \n24          201.828261        246.458035           201.529328   \n25          222.215600        271.131545           216.898079   \n26                 NaN               NaN           222.301419   \n27          225.332648        277.654523           220.034963   \n28                 NaN               NaN                  NaN   \n29          229.664564        278.216326           223.466140   \n...                ...               ...                  ...   \n1462        243.107484        286.239418           221.747268   \n1463        241.212805        285.283508           223.268429   \n1464        239.178257        277.714162           224.080585   \n1465        228.971745        266.506760           211.600528   \n1466        239.898995        284.003007           221.388603   \n1467        240.601277        280.910246           225.049335   \n1468        249.102674        297.042225           235.699697   \n1469        235.555473        279.505455           217.753242   \n1470        248.804303        293.962376           224.538513   \n1471        234.694193        270.914908           215.203306   \n1472        239.502289        280.596022           222.681081   \n1473        240.721634        285.600437           222.326722   \n1474        245.590675        288.405955           224.096225   \n1475        231.685162        275.365456           214.841696   \n1476        245.319839        293.290654           228.900649   \n1477        247.855231        291.698552           232.943318   \n1478        229.704282        269.374084           207.704354   \n1479        235.548457        281.688000           221.884015   \n1480        240.951393        281.926028           223.930906   \n1481        244.243515        288.172322           221.519266   \n1482        240.928372        287.714266           225.261138   \n1483        236.692515        278.777735           218.952797   \n1484        240.943671        282.320510           214.878493   \n1485        242.480766        286.816559           225.159173   \n1486        240.893297        287.623388           226.445343   \n1487        248.041059        290.081407           227.598382   \n1488        241.701001        289.131257           223.123409   \n1489        236.057019        273.415854           217.316396   \n1490        240.389213        288.143144           219.612694   \n1491        247.820619        288.761812           226.831211   \n\n      AVG_READING_8_SCORE  \n0                     NaN  \n1              258.859712  \n2              262.169895  \n3              264.619665  \n4                     NaN  \n5              266.419687  \n6              264.713904  \n7              261.577921  \n8              265.976765  \n9              262.118986  \n10                    NaN  \n11                    NaN  \n12                    NaN  \n13                    NaN  \n14                    NaN  \n15                    NaN  \n16                    NaN  \n17                    NaN  \n18                    NaN  \n19                    NaN  \n20                    NaN  \n21                    NaN  \n22                    NaN  \n23                    NaN  \n24                    NaN  \n25                    NaN  \n26                    NaN  \n27                    NaN  \n28                    NaN  \n29                    NaN  \n...                   ...  \n1462           272.023876  \n1463           267.675679  \n1464           267.490028  \n1465           265.133438  \n1466           256.751471  \n1467           268.930632  \n1468           267.250533  \n1469           277.782589  \n1470           265.468928  \n1471           268.616822  \n1472           256.344701  \n1473           266.035007  \n1474           267.208219  \n1475           268.528555  \n1476           259.806407  \n1477           274.786040  \n1478           275.044552  \n1479           255.578543  \n1480           264.157584  \n1481           262.720477  \n1482           265.081922  \n1483           267.355727  \n1484           262.046853  \n1485           260.342577  \n1486           268.752420  \n1487           273.402640  \n1488           267.744778  \n1489           271.617023  \n1490           258.700304  \n1491           269.371456  \n\n[1492 rows x 25 columns]"
       },
       "execution_count": 28,
       "metadata": {},
       "output_type": "execute_result"
      }
     ],
     "persistentId": "e728d6fa-ac88-4f1f-806f-1d1b400a85c9",
     "text": "education3"
    },
    "executionTime": "2019-12-02T18:07:26.035Z"
   },
   {
    "cell": {
     "executionCount": 29,
     "executionEventId": "f24d2e12-6c95-46c6-9108-e0f552f8878c",
     "hasError": false,
     "id": "abe8166c-69c3-45bf-9744-d530036b6192",
     "outputs": [
      {
       "data": {
        "text/plain": "['PRIMARY_KEY',\n 'STATE',\n 'YEAR',\n 'GRADES_ALL_G',\n 'AVG_MATH_4_SCORE',\n 'AVG_MATH_8_SCORE',\n 'AVG_READING_4_SCORE',\n 'AVG_READING_8_SCORE']"
       },
       "execution_count": 29,
       "metadata": {},
       "output_type": "execute_result"
      }
     ],
     "persistentId": "0a9d5496-1ca9-4378-a4e5-08514ac923ae",
     "text": "education.columns[:3].tolist() + education.columns[-5:].tolist()"
    },
    "executionTime": "2019-12-02T18:07:52.358Z"
   },
   {
    "cell": {
     "executionCount": 30,
     "executionEventId": "e2e79979-9bb4-4d64-a468-520ce8967561",
     "hasError": false,
     "id": "abe8166c-69c3-45bf-9744-d530036b6192",
     "outputs": [
      {
       "data": {
        "text/plain": "['PRIMARY_KEY',\n 'STATE',\n 'YEAR',\n 'ENROLL',\n 'GRADES_ALL_G',\n 'AVG_MATH_4_SCORE',\n 'AVG_MATH_8_SCORE',\n 'AVG_READING_4_SCORE',\n 'AVG_READING_8_SCORE']"
       },
       "execution_count": 30,
       "metadata": {},
       "output_type": "execute_result"
      }
     ],
     "persistentId": "0a9d5496-1ca9-4378-a4e5-08514ac923ae",
     "text": "education.columns[:4].tolist() + education.columns[-5:].tolist()"
    },
    "executionTime": "2019-12-02T18:08:00.894Z"
   },
   {
    "cell": {
     "executionCount": 31,
     "executionEventId": "05b843e2-12ca-40de-9ff3-737c2bccea30",
     "hasError": false,
     "id": "abe8166c-69c3-45bf-9744-d530036b6192",
     "outputs": [
      {
       "data": {
        "text/plain": "['PRIMARY_KEY',\n 'STATE',\n 'YEAR',\n 'GRADES_ALL_G',\n 'AVG_MATH_4_SCORE',\n 'AVG_MATH_8_SCORE',\n 'AVG_READING_4_SCORE',\n 'AVG_READING_8_SCORE']"
       },
       "execution_count": 31,
       "metadata": {},
       "output_type": "execute_result"
      }
     ],
     "persistentId": "0a9d5496-1ca9-4378-a4e5-08514ac923ae",
     "text": "education.columns[:3].tolist() + education.columns[-5:].tolist()"
    },
    "executionTime": "2019-12-02T18:08:05.663Z"
   },
   {
    "cell": {
     "executionCount": 32,
     "executionEventId": "7cf01166-caca-42fd-a7a4-4a8d9d0c5793",
     "hasError": false,
     "id": "14cfe69c-8ff6-4de5-8439-dc5d61407326",
     "outputs": [],
     "persistentId": "cdd96c56-2f5e-4ced-bf11-c7bdaedf91bb",
     "text": "for column in education.columns[3:-4]:\n    for year in education[\"YEAR\"].unique():\n        education3.loc[education3[\"YEAR\"] == year, column] = education.loc[\n            education[\"YEAR\"] == year, column\n        ].fillna(education.loc[education[\"YEAR\"] == year, column].median())"
    },
    "executionTime": "2019-12-02T18:08:48.388Z"
   },
   {
    "cell": {
     "executionCount": 33,
     "executionEventId": "e3e390f6-5c29-4d58-9207-a5ac0b20c582",
     "hasError": false,
     "id": "f7c125c6-24aa-41f5-b5f3-2a1c1f03af38",
     "outputs": [
      {
       "data": {
        "text/html": "<div>\n<style scoped>\n    .dataframe tbody tr th:only-of-type {\n        vertical-align: middle;\n    }\n\n    .dataframe tbody tr th {\n        vertical-align: top;\n    }\n\n    .dataframe thead th {\n        text-align: right;\n    }\n</style>\n<table border=\"1\" class=\"dataframe\">\n  <thead>\n    <tr style=\"text-align: right;\">\n      <th></th>\n      <th>PRIMARY_KEY</th>\n      <th>STATE</th>\n      <th>YEAR</th>\n      <th>ENROLL</th>\n      <th>TOTAL_REVENUE</th>\n      <th>FEDERAL_REVENUE</th>\n      <th>STATE_REVENUE</th>\n      <th>LOCAL_REVENUE</th>\n      <th>TOTAL_EXPENDITURE</th>\n      <th>INSTRUCTION_EXPENDITURE</th>\n      <th>...</th>\n      <th>GRADES_4_G</th>\n      <th>GRADES_8_G</th>\n      <th>GRADES_12_G</th>\n      <th>GRADES_1_8_G</th>\n      <th>GRADES_9_12_G</th>\n      <th>GRADES_ALL_G</th>\n      <th>AVG_MATH_4_SCORE</th>\n      <th>AVG_MATH_8_SCORE</th>\n      <th>AVG_READING_4_SCORE</th>\n      <th>AVG_READING_8_SCORE</th>\n    </tr>\n  </thead>\n  <tbody>\n    <tr>\n      <th>0</th>\n      <td>1992_ALABAMA</td>\n      <td>ALABAMA</td>\n      <td>1992</td>\n      <td>NaN</td>\n      <td>2678885.0</td>\n      <td>304177.0</td>\n      <td>1659028.0</td>\n      <td>715680.0</td>\n      <td>2653798.0</td>\n      <td>1481703.0</td>\n      <td>...</td>\n      <td>57948.0</td>\n      <td>58025.0</td>\n      <td>41167.0</td>\n      <td>471564.0</td>\n      <td>196386.0</td>\n      <td>676174.0</td>\n      <td>208.327876</td>\n      <td>252.187522</td>\n      <td>207.963517</td>\n      <td>NaN</td>\n    </tr>\n    <tr>\n      <th>1</th>\n      <td>1992_ALASKA</td>\n      <td>ALASKA</td>\n      <td>1992</td>\n      <td>NaN</td>\n      <td>1049591.0</td>\n      <td>106780.0</td>\n      <td>720711.0</td>\n      <td>222100.0</td>\n      <td>972488.0</td>\n      <td>498362.0</td>\n      <td>...</td>\n      <td>9748.0</td>\n      <td>8789.0</td>\n      <td>6714.0</td>\n      <td>79117.0</td>\n      <td>30847.0</td>\n      <td>112335.0</td>\n      <td>NaN</td>\n      <td>NaN</td>\n      <td>NaN</td>\n      <td>258.859712</td>\n    </tr>\n    <tr>\n      <th>2</th>\n      <td>1992_ARIZONA</td>\n      <td>ARIZONA</td>\n      <td>1992</td>\n      <td>NaN</td>\n      <td>3258079.0</td>\n      <td>297888.0</td>\n      <td>1369815.0</td>\n      <td>1590376.0</td>\n      <td>3401580.0</td>\n      <td>1435908.0</td>\n      <td>...</td>\n      <td>55433.0</td>\n      <td>49081.0</td>\n      <td>37410.0</td>\n      <td>437127.0</td>\n      <td>175210.0</td>\n      <td>614881.0</td>\n      <td>215.253932</td>\n      <td>265.366278</td>\n      <td>206.212716</td>\n      <td>262.169895</td>\n    </tr>\n    <tr>\n      <th>3</th>\n      <td>1992_ARKANSAS</td>\n      <td>ARKANSAS</td>\n      <td>1992</td>\n      <td>NaN</td>\n      <td>1711959.0</td>\n      <td>178571.0</td>\n      <td>958785.0</td>\n      <td>574603.0</td>\n      <td>1743022.0</td>\n      <td>964323.0</td>\n      <td>...</td>\n      <td>34632.0</td>\n      <td>36011.0</td>\n      <td>27651.0</td>\n      <td>281338.0</td>\n      <td>123113.0</td>\n      <td>405259.0</td>\n      <td>210.206028</td>\n      <td>256.312090</td>\n      <td>208.634458</td>\n      <td>264.619665</td>\n    </tr>\n    <tr>\n      <th>4</th>\n      <td>1992_CALIFORNIA</td>\n      <td>CALIFORNIA</td>\n      <td>1992</td>\n      <td>NaN</td>\n      <td>26260025.0</td>\n      <td>2072470.0</td>\n      <td>16546514.0</td>\n      <td>7641041.0</td>\n      <td>27138832.0</td>\n      <td>14358922.0</td>\n      <td>...</td>\n      <td>418418.0</td>\n      <td>363296.0</td>\n      <td>270675.0</td>\n      <td>3286034.0</td>\n      <td>1372011.0</td>\n      <td>4717112.0</td>\n      <td>208.398961</td>\n      <td>260.892247</td>\n      <td>196.764414</td>\n      <td>NaN</td>\n    </tr>\n    <tr>\n      <th>5</th>\n      <td>1992_COLORADO</td>\n      <td>COLORADO</td>\n      <td>1992</td>\n      <td>NaN</td>\n      <td>3185173.0</td>\n      <td>163253.0</td>\n      <td>1307986.0</td>\n      <td>1713934.0</td>\n      <td>3264826.0</td>\n      <td>1642466.0</td>\n      <td>...</td>\n      <td>50648.0</td>\n      <td>45025.0</td>\n      <td>34533.0</td>\n      <td>394904.0</td>\n      <td>160299.0</td>\n      <td>562613.0</td>\n      <td>221.023429</td>\n      <td>272.398433</td>\n      <td>213.480890</td>\n      <td>266.419687</td>\n    </tr>\n    <tr>\n      <th>6</th>\n      <td>1992_CONNECTICUT</td>\n      <td>CONNECTICUT</td>\n      <td>1992</td>\n      <td>NaN</td>\n      <td>3834302.0</td>\n      <td>143542.0</td>\n      <td>1342539.0</td>\n      <td>2348221.0</td>\n      <td>3721338.0</td>\n      <td>2148041.0</td>\n      <td>...</td>\n      <td>38058.0</td>\n      <td>33691.0</td>\n      <td>28366.0</td>\n      <td>304284.0</td>\n      <td>126917.0</td>\n      <td>436932.0</td>\n      <td>226.798480</td>\n      <td>273.739345</td>\n      <td>222.417599</td>\n      <td>264.713904</td>\n    </tr>\n    <tr>\n      <th>7</th>\n      <td>1992_DELAWARE</td>\n      <td>DELAWARE</td>\n      <td>1992</td>\n      <td>NaN</td>\n      <td>645233.0</td>\n      <td>45945.0</td>\n      <td>420942.0</td>\n      <td>178346.0</td>\n      <td>638784.0</td>\n      <td>372722.0</td>\n      <td>...</td>\n      <td>8272.0</td>\n      <td>8012.0</td>\n      <td>6129.0</td>\n      <td>67495.0</td>\n      <td>28338.0</td>\n      <td>96296.0</td>\n      <td>217.899972</td>\n      <td>262.868585</td>\n      <td>206.389052</td>\n      <td>261.577921</td>\n    </tr>\n    <tr>\n      <th>8</th>\n      <td>1992_DISTRICT_OF_COLUMBIA</td>\n      <td>DISTRICT_OF_COLUMBIA</td>\n      <td>1992</td>\n      <td>NaN</td>\n      <td>709480.0</td>\n      <td>64749.0</td>\n      <td>0.0</td>\n      <td>644731.0</td>\n      <td>742893.0</td>\n      <td>329160.0</td>\n      <td>...</td>\n      <td>5832.0</td>\n      <td>5000.0</td>\n      <td>3433.0</td>\n      <td>47009.0</td>\n      <td>18173.0</td>\n      <td>70000.0</td>\n      <td>192.600553</td>\n      <td>234.924621</td>\n      <td>178.557612</td>\n      <td>265.976765</td>\n    </tr>\n    <tr>\n      <th>9</th>\n      <td>1992_FLORIDA</td>\n      <td>FLORIDA</td>\n      <td>1992</td>\n      <td>NaN</td>\n      <td>11506299.0</td>\n      <td>788420.0</td>\n      <td>5683949.0</td>\n      <td>5033930.0</td>\n      <td>11305642.0</td>\n      <td>5166374.0</td>\n      <td>...</td>\n      <td>164416.0</td>\n      <td>142372.0</td>\n      <td>100835.0</td>\n      <td>1276685.0</td>\n      <td>511557.0</td>\n      <td>1819706.0</td>\n      <td>213.689751</td>\n      <td>259.908848</td>\n      <td>204.882606</td>\n      <td>262.118986</td>\n    </tr>\n    <tr>\n      <th>10</th>\n      <td>1992_GEORGIA</td>\n      <td>GEORGIA</td>\n      <td>1992</td>\n      <td>NaN</td>\n      <td>5536901.0</td>\n      <td>398701.0</td>\n      <td>2798674.0</td>\n      <td>2339526.0</td>\n      <td>5535942.0</td>\n      <td>3043984.0</td>\n      <td>...</td>\n      <td>99648.0</td>\n      <td>92374.0</td>\n      <td>63646.0</td>\n      <td>787599.0</td>\n      <td>315539.0</td>\n      <td>1106441.0</td>\n      <td>215.594906</td>\n      <td>259.359434</td>\n      <td>206.844175</td>\n      <td>NaN</td>\n    </tr>\n    <tr>\n      <th>11</th>\n      <td>1992_HAWAII</td>\n      <td>HAWAII</td>\n      <td>1992</td>\n      <td>NaN</td>\n      <td>996809.0</td>\n      <td>71273.0</td>\n      <td>903443.0</td>\n      <td>22093.0</td>\n      <td>1040121.0</td>\n      <td>536115.0</td>\n      <td>...</td>\n      <td>13754.0</td>\n      <td>11750.0</td>\n      <td>9051.0</td>\n      <td>107242.0</td>\n      <td>43882.0</td>\n      <td>151649.0</td>\n      <td>214.056666</td>\n      <td>257.410887</td>\n      <td>200.880272</td>\n      <td>NaN</td>\n    </tr>\n    <tr>\n      <th>12</th>\n      <td>1992_IDAHO</td>\n      <td>IDAHO</td>\n      <td>1992</td>\n      <td>NaN</td>\n      <td>859329.0</td>\n      <td>69138.0</td>\n      <td>531912.0</td>\n      <td>258279.0</td>\n      <td>886161.0</td>\n      <td>473505.0</td>\n      <td>...</td>\n      <td>18607.0</td>\n      <td>18880.0</td>\n      <td>14593.0</td>\n      <td>146573.0</td>\n      <td>66541.0</td>\n      <td>214345.0</td>\n      <td>221.562534</td>\n      <td>275.090294</td>\n      <td>NaN</td>\n      <td>NaN</td>\n    </tr>\n    <tr>\n      <th>13</th>\n      <td>1992_ILLINOIS</td>\n      <td>ILLINOIS</td>\n      <td>1992</td>\n      <td>NaN</td>\n      <td>9748650.0</td>\n      <td>597077.0</td>\n      <td>3073178.0</td>\n      <td>6078395.0</td>\n      <td>9850560.0</td>\n      <td>5010400.0</td>\n      <td>...</td>\n      <td>133120.0</td>\n      <td>134317.0</td>\n      <td>106475.0</td>\n      <td>1111167.0</td>\n      <td>495562.0</td>\n      <td>1646411.0</td>\n      <td>NaN</td>\n      <td>NaN</td>\n      <td>NaN</td>\n      <td>NaN</td>\n    </tr>\n    <tr>\n      <th>14</th>\n      <td>1992_INDIANA</td>\n      <td>INDIANA</td>\n      <td>1992</td>\n      <td>NaN</td>\n      <td>5060274.0</td>\n      <td>257044.0</td>\n      <td>2578149.0</td>\n      <td>2225081.0</td>\n      <td>5182754.0</td>\n      <td>2598925.0</td>\n      <td>...</td>\n      <td>73760.0</td>\n      <td>75477.0</td>\n      <td>62234.0</td>\n      <td>601890.0</td>\n      <td>278161.0</td>\n      <td>883276.0</td>\n      <td>221.037742</td>\n      <td>270.098944</td>\n      <td>219.763258</td>\n      <td>NaN</td>\n    </tr>\n    <tr>\n      <th>15</th>\n      <td>1992_IOWA</td>\n      <td>IOWA</td>\n      <td>1992</td>\n      <td>NaN</td>\n      <td>2663934.0</td>\n      <td>125665.0</td>\n      <td>1176205.0</td>\n      <td>1362064.0</td>\n      <td>2795774.0</td>\n      <td>1446478.0</td>\n      <td>...</td>\n      <td>37692.0</td>\n      <td>36892.0</td>\n      <td>33057.0</td>\n      <td>299253.0</td>\n      <td>138907.0</td>\n      <td>442752.0</td>\n      <td>229.884078</td>\n      <td>283.360009</td>\n      <td>222.852939</td>\n      <td>NaN</td>\n    </tr>\n    <tr>\n      <th>16</th>\n      <td>1992_KANSAS</td>\n      <td>KANSAS</td>\n      <td>1992</td>\n      <td>NaN</td>\n      <td>2245348.0</td>\n      <td>121625.0</td>\n      <td>903199.0</td>\n      <td>1220524.0</td>\n      <td>2234915.0</td>\n      <td>1165749.0</td>\n      <td>...</td>\n      <td>36013.0</td>\n      <td>33288.0</td>\n      <td>26706.0</td>\n      <td>284143.0</td>\n      <td>120960.0</td>\n      <td>407494.0</td>\n      <td>NaN</td>\n      <td>NaN</td>\n      <td>NaN</td>\n      <td>NaN</td>\n    </tr>\n    <tr>\n      <th>17</th>\n      <td>1992_KENTUCKY</td>\n      <td>KENTUCKY</td>\n      <td>1992</td>\n      <td>NaN</td>\n      <td>2642902.0</td>\n      <td>289902.0</td>\n      <td>1643109.0</td>\n      <td>709891.0</td>\n      <td>2518082.0</td>\n      <td>1343438.0</td>\n      <td>...</td>\n      <td>49666.0</td>\n      <td>49993.0</td>\n      <td>38029.0</td>\n      <td>400849.0</td>\n      <td>181786.0</td>\n      <td>597199.0</td>\n      <td>215.048158</td>\n      <td>262.241282</td>\n      <td>211.562307</td>\n      <td>NaN</td>\n    </tr>\n    <tr>\n      <th>18</th>\n      <td>1992_LOUISIANA</td>\n      <td>LOUISIANA</td>\n      <td>1992</td>\n      <td>NaN</td>\n      <td>3341253.0</td>\n      <td>367822.0</td>\n      <td>1848734.0</td>\n      <td>1124697.0</td>\n      <td>3362853.0</td>\n      <td>1888349.0</td>\n      <td>...</td>\n      <td>61125.0</td>\n      <td>55942.0</td>\n      <td>38368.0</td>\n      <td>490112.0</td>\n      <td>196891.0</td>\n      <td>698442.0</td>\n      <td>204.140211</td>\n      <td>249.983926</td>\n      <td>196.762268</td>\n      <td>NaN</td>\n    </tr>\n    <tr>\n      <th>19</th>\n      <td>1992_MAINE</td>\n      <td>MAINE</td>\n      <td>1992</td>\n      <td>NaN</td>\n      <td>1206819.0</td>\n      <td>73160.0</td>\n      <td>511654.0</td>\n      <td>622005.0</td>\n      <td>1228869.0</td>\n      <td>685350.0</td>\n      <td>...</td>\n      <td>17154.0</td>\n      <td>15969.0</td>\n      <td>13882.0</td>\n      <td>135320.0</td>\n      <td>59289.0</td>\n      <td>195882.0</td>\n      <td>231.638840</td>\n      <td>278.635384</td>\n      <td>228.380027</td>\n      <td>NaN</td>\n    </tr>\n    <tr>\n      <th>20</th>\n      <td>1992_MARYLAND</td>\n      <td>MARYLAND</td>\n      <td>1992</td>\n      <td>NaN</td>\n      <td>4658498.0</td>\n      <td>228336.0</td>\n      <td>1778834.0</td>\n      <td>2651328.0</td>\n      <td>4698374.0</td>\n      <td>2628891.0</td>\n      <td>...</td>\n      <td>60287.0</td>\n      <td>52815.0</td>\n      <td>40426.0</td>\n      <td>472622.0</td>\n      <td>189795.0</td>\n      <td>678498.0</td>\n      <td>217.317708</td>\n      <td>264.825493</td>\n      <td>209.645497</td>\n      <td>NaN</td>\n    </tr>\n    <tr>\n      <th>21</th>\n      <td>1992_MASSACHUSETTS</td>\n      <td>MASSACHUSETTS</td>\n      <td>1992</td>\n      <td>NaN</td>\n      <td>5517659.0</td>\n      <td>273946.0</td>\n      <td>1439051.0</td>\n      <td>3804662.0</td>\n      <td>5245560.0</td>\n      <td>2751871.0</td>\n      <td>...</td>\n      <td>66822.0</td>\n      <td>60702.0</td>\n      <td>52425.0</td>\n      <td>536029.0</td>\n      <td>230299.0</td>\n      <td>777050.0</td>\n      <td>226.597918</td>\n      <td>272.783201</td>\n      <td>223.160076</td>\n      <td>NaN</td>\n    </tr>\n    <tr>\n      <th>22</th>\n      <td>1992_MICHIGAN</td>\n      <td>MICHIGAN</td>\n      <td>1992</td>\n      <td>NaN</td>\n      <td>9963137.0</td>\n      <td>537917.0</td>\n      <td>2539380.0</td>\n      <td>6885840.0</td>\n      <td>10170688.0</td>\n      <td>4681327.0</td>\n      <td>...</td>\n      <td>118963.0</td>\n      <td>114282.0</td>\n      <td>90655.0</td>\n      <td>968910.0</td>\n      <td>419351.0</td>\n      <td>1398802.0</td>\n      <td>219.878352</td>\n      <td>267.353194</td>\n      <td>NaN</td>\n      <td>NaN</td>\n    </tr>\n    <tr>\n      <th>23</th>\n      <td>1992_MINNESOTA</td>\n      <td>MINNESOTA</td>\n      <td>1992</td>\n      <td>NaN</td>\n      <td>4684684.0</td>\n      <td>194092.0</td>\n      <td>2380754.0</td>\n      <td>2109838.0</td>\n      <td>4981125.0</td>\n      <td>2534882.0</td>\n      <td>...</td>\n      <td>62606.0</td>\n      <td>59810.0</td>\n      <td>53813.0</td>\n      <td>500938.0</td>\n      <td>224426.0</td>\n      <td>731758.0</td>\n      <td>228.493596</td>\n      <td>282.392205</td>\n      <td>218.301709</td>\n      <td>NaN</td>\n    </tr>\n    <tr>\n      <th>24</th>\n      <td>1992_MISSISSIPPI</td>\n      <td>MISSISSIPPI</td>\n      <td>1992</td>\n      <td>NaN</td>\n      <td>1684706.0</td>\n      <td>277706.0</td>\n      <td>901199.0</td>\n      <td>505801.0</td>\n      <td>1691990.0</td>\n      <td>956104.0</td>\n      <td>...</td>\n      <td>39839.0</td>\n      <td>38132.0</td>\n      <td>26328.0</td>\n      <td>321614.0</td>\n      <td>129554.0</td>\n      <td>451986.0</td>\n      <td>201.828261</td>\n      <td>246.458035</td>\n      <td>201.529328</td>\n      <td>NaN</td>\n    </tr>\n    <tr>\n      <th>25</th>\n      <td>1992_MISSOURI</td>\n      <td>MISSOURI</td>\n      <td>1992</td>\n      <td>NaN</td>\n      <td>4043682.0</td>\n      <td>255194.0</td>\n      <td>1903124.0</td>\n      <td>1885364.0</td>\n      <td>4197600.0</td>\n      <td>2168135.0</td>\n      <td>...</td>\n      <td>67098.0</td>\n      <td>64546.0</td>\n      <td>50534.0</td>\n      <td>531337.0</td>\n      <td>235437.0</td>\n      <td>785722.0</td>\n      <td>222.215600</td>\n      <td>271.131545</td>\n      <td>216.898079</td>\n      <td>NaN</td>\n    </tr>\n    <tr>\n      <th>26</th>\n      <td>1992_MONTANA</td>\n      <td>MONTANA</td>\n      <td>1992</td>\n      <td>NaN</td>\n      <td>828983.0</td>\n      <td>69947.0</td>\n      <td>337455.0</td>\n      <td>421581.0</td>\n      <td>781009.0</td>\n      <td>412219.0</td>\n      <td>...</td>\n      <td>12839.0</td>\n      <td>12124.0</td>\n      <td>10019.0</td>\n      <td>102124.0</td>\n      <td>44449.0</td>\n      <td>147127.0</td>\n      <td>NaN</td>\n      <td>NaN</td>\n      <td>222.301419</td>\n      <td>NaN</td>\n    </tr>\n    <tr>\n      <th>27</th>\n      <td>1992_NEBRASKA</td>\n      <td>NEBRASKA</td>\n      <td>1992</td>\n      <td>NaN</td>\n      <td>1542413.0</td>\n      <td>85423.0</td>\n      <td>492256.0</td>\n      <td>964734.0</td>\n      <td>1534046.0</td>\n      <td>909159.0</td>\n      <td>...</td>\n      <td>22133.0</td>\n      <td>21379.0</td>\n      <td>18999.0</td>\n      <td>177432.0</td>\n      <td>79975.0</td>\n      <td>260541.0</td>\n      <td>225.332648</td>\n      <td>277.654523</td>\n      <td>220.034963</td>\n      <td>NaN</td>\n    </tr>\n    <tr>\n      <th>28</th>\n      <td>1992_NEVADA</td>\n      <td>NEVADA</td>\n      <td>1992</td>\n      <td>NaN</td>\n      <td>1097076.0</td>\n      <td>45018.0</td>\n      <td>724032.0</td>\n      <td>328026.0</td>\n      <td>1251651.0</td>\n      <td>572623.0</td>\n      <td>...</td>\n      <td>18487.0</td>\n      <td>16250.0</td>\n      <td>12242.0</td>\n      <td>145687.0</td>\n      <td>57605.0</td>\n      <td>204330.0</td>\n      <td>NaN</td>\n      <td>NaN</td>\n      <td>NaN</td>\n      <td>NaN</td>\n    </tr>\n    <tr>\n      <th>29</th>\n      <td>1992_NEW_HAMPSHIRE</td>\n      <td>NEW_HAMPSHIRE</td>\n      <td>1992</td>\n      <td>NaN</td>\n      <td>1063391.0</td>\n      <td>31020.0</td>\n      <td>86296.0</td>\n      <td>946075.0</td>\n      <td>1066647.0</td>\n      <td>581123.0</td>\n      <td>...</td>\n      <td>15611.0</td>\n      <td>13537.0</td>\n      <td>10752.0</td>\n      <td>123475.0</td>\n      <td>47999.0</td>\n      <td>172479.0</td>\n      <td>229.664564</td>\n      <td>278.216326</td>\n      <td>223.466140</td>\n      <td>NaN</td>\n    </tr>\n    <tr>\n      <th>...</th>\n      <td>...</td>\n      <td>...</td>\n      <td>...</td>\n      <td>...</td>\n      <td>...</td>\n      <td>...</td>\n      <td>...</td>\n      <td>...</td>\n      <td>...</td>\n      <td>...</td>\n      <td>...</td>\n      <td>...</td>\n      <td>...</td>\n      <td>...</td>\n      <td>...</td>\n      <td>...</td>\n      <td>...</td>\n      <td>...</td>\n      <td>...</td>\n      <td>...</td>\n      <td>...</td>\n    </tr>\n    <tr>\n      <th>1462</th>\n      <td>2017_IOWA</td>\n      <td>IOWA</td>\n      <td>2017</td>\n      <td>NaN</td>\n      <td>NaN</td>\n      <td>NaN</td>\n      <td>NaN</td>\n      <td>NaN</td>\n      <td>NaN</td>\n      <td>NaN</td>\n      <td>...</td>\n      <td>NaN</td>\n      <td>NaN</td>\n      <td>NaN</td>\n      <td>NaN</td>\n      <td>NaN</td>\n      <td>NaN</td>\n      <td>243.107484</td>\n      <td>286.239418</td>\n      <td>221.747268</td>\n      <td>272.023876</td>\n    </tr>\n    <tr>\n      <th>1463</th>\n      <td>2017_KANSAS</td>\n      <td>KANSAS</td>\n      <td>2017</td>\n      <td>NaN</td>\n      <td>NaN</td>\n      <td>NaN</td>\n      <td>NaN</td>\n      <td>NaN</td>\n      <td>NaN</td>\n      <td>NaN</td>\n      <td>...</td>\n      <td>NaN</td>\n      <td>NaN</td>\n      <td>NaN</td>\n      <td>NaN</td>\n      <td>NaN</td>\n      <td>NaN</td>\n      <td>241.212805</td>\n      <td>285.283508</td>\n      <td>223.268429</td>\n      <td>267.675679</td>\n    </tr>\n    <tr>\n      <th>1464</th>\n      <td>2017_KENTUCKY</td>\n      <td>KENTUCKY</td>\n      <td>2017</td>\n      <td>NaN</td>\n      <td>NaN</td>\n      <td>NaN</td>\n      <td>NaN</td>\n      <td>NaN</td>\n      <td>NaN</td>\n      <td>NaN</td>\n      <td>...</td>\n      <td>NaN</td>\n      <td>NaN</td>\n      <td>NaN</td>\n      <td>NaN</td>\n      <td>NaN</td>\n      <td>NaN</td>\n      <td>239.178257</td>\n      <td>277.714162</td>\n      <td>224.080585</td>\n      <td>267.490028</td>\n    </tr>\n    <tr>\n      <th>1465</th>\n      <td>2017_LOUISIANA</td>\n      <td>LOUISIANA</td>\n      <td>2017</td>\n      <td>NaN</td>\n      <td>NaN</td>\n      <td>NaN</td>\n      <td>NaN</td>\n      <td>NaN</td>\n      <td>NaN</td>\n      <td>NaN</td>\n      <td>...</td>\n      <td>NaN</td>\n      <td>NaN</td>\n      <td>NaN</td>\n      <td>NaN</td>\n      <td>NaN</td>\n      <td>NaN</td>\n      <td>228.971745</td>\n      <td>266.506760</td>\n      <td>211.600528</td>\n      <td>265.133438</td>\n    </tr>\n    <tr>\n      <th>1466</th>\n      <td>2017_MAINE</td>\n      <td>MAINE</td>\n      <td>2017</td>\n      <td>NaN</td>\n      <td>NaN</td>\n      <td>NaN</td>\n      <td>NaN</td>\n      <td>NaN</td>\n      <td>NaN</td>\n      <td>NaN</td>\n      <td>...</td>\n      <td>NaN</td>\n      <td>NaN</td>\n      <td>NaN</td>\n      <td>NaN</td>\n      <td>NaN</td>\n      <td>NaN</td>\n      <td>239.898995</td>\n      <td>284.003007</td>\n      <td>221.388603</td>\n      <td>256.751471</td>\n    </tr>\n    <tr>\n      <th>1467</th>\n      <td>2017_MARYLAND</td>\n      <td>MARYLAND</td>\n      <td>2017</td>\n      <td>NaN</td>\n      <td>NaN</td>\n      <td>NaN</td>\n      <td>NaN</td>\n      <td>NaN</td>\n      <td>NaN</td>\n      <td>NaN</td>\n      <td>...</td>\n      <td>NaN</td>\n      <td>NaN</td>\n      <td>NaN</td>\n      <td>NaN</td>\n      <td>NaN</td>\n      <td>NaN</td>\n      <td>240.601277</td>\n      <td>280.910246</td>\n      <td>225.049335</td>\n      <td>268.930632</td>\n    </tr>\n    <tr>\n      <th>1468</th>\n      <td>2017_MASSACHUSETTS</td>\n      <td>MASSACHUSETTS</td>\n      <td>2017</td>\n      <td>NaN</td>\n      <td>NaN</td>\n      <td>NaN</td>\n      <td>NaN</td>\n      <td>NaN</td>\n      <td>NaN</td>\n      <td>NaN</td>\n      <td>...</td>\n      <td>NaN</td>\n      <td>NaN</td>\n      <td>NaN</td>\n      <td>NaN</td>\n      <td>NaN</td>\n      <td>NaN</td>\n      <td>249.102674</td>\n      <td>297.042225</td>\n      <td>235.699697</td>\n      <td>267.250533</td>\n    </tr>\n    <tr>\n      <th>1469</th>\n      <td>2017_MICHIGAN</td>\n      <td>MICHIGAN</td>\n      <td>2017</td>\n      <td>NaN</td>\n      <td>NaN</td>\n      <td>NaN</td>\n      <td>NaN</td>\n      <td>NaN</td>\n      <td>NaN</td>\n      <td>NaN</td>\n      <td>...</td>\n      <td>NaN</td>\n      <td>NaN</td>\n      <td>NaN</td>\n      <td>NaN</td>\n      <td>NaN</td>\n      <td>NaN</td>\n      <td>235.555473</td>\n      <td>279.505455</td>\n      <td>217.753242</td>\n      <td>277.782589</td>\n    </tr>\n    <tr>\n      <th>1470</th>\n      <td>2017_MINNESOTA</td>\n      <td>MINNESOTA</td>\n      <td>2017</td>\n      <td>NaN</td>\n      <td>NaN</td>\n      <td>NaN</td>\n      <td>NaN</td>\n      <td>NaN</td>\n      <td>NaN</td>\n      <td>NaN</td>\n      <td>...</td>\n      <td>NaN</td>\n      <td>NaN</td>\n      <td>NaN</td>\n      <td>NaN</td>\n      <td>NaN</td>\n      <td>NaN</td>\n      <td>248.804303</td>\n      <td>293.962376</td>\n      <td>224.538513</td>\n      <td>265.468928</td>\n    </tr>\n    <tr>\n      <th>1471</th>\n      <td>2017_MISSISSIPPI</td>\n      <td>MISSISSIPPI</td>\n      <td>2017</td>\n      <td>NaN</td>\n      <td>NaN</td>\n      <td>NaN</td>\n      <td>NaN</td>\n      <td>NaN</td>\n      <td>NaN</td>\n      <td>NaN</td>\n      <td>...</td>\n      <td>NaN</td>\n      <td>NaN</td>\n      <td>NaN</td>\n      <td>NaN</td>\n      <td>NaN</td>\n      <td>NaN</td>\n      <td>234.694193</td>\n      <td>270.914908</td>\n      <td>215.203306</td>\n      <td>268.616822</td>\n    </tr>\n    <tr>\n      <th>1472</th>\n      <td>2017_MISSOURI</td>\n      <td>MISSOURI</td>\n      <td>2017</td>\n      <td>NaN</td>\n      <td>NaN</td>\n      <td>NaN</td>\n      <td>NaN</td>\n      <td>NaN</td>\n      <td>NaN</td>\n      <td>NaN</td>\n      <td>...</td>\n      <td>NaN</td>\n      <td>NaN</td>\n      <td>NaN</td>\n      <td>NaN</td>\n      <td>NaN</td>\n      <td>NaN</td>\n      <td>239.502289</td>\n      <td>280.596022</td>\n      <td>222.681081</td>\n      <td>256.344701</td>\n    </tr>\n    <tr>\n      <th>1473</th>\n      <td>2017_MONTANA</td>\n      <td>MONTANA</td>\n      <td>2017</td>\n      <td>NaN</td>\n      <td>NaN</td>\n      <td>NaN</td>\n      <td>NaN</td>\n      <td>NaN</td>\n      <td>NaN</td>\n      <td>NaN</td>\n      <td>...</td>\n      <td>NaN</td>\n      <td>NaN</td>\n      <td>NaN</td>\n      <td>NaN</td>\n      <td>NaN</td>\n      <td>NaN</td>\n      <td>240.721634</td>\n      <td>285.600437</td>\n      <td>222.326722</td>\n      <td>266.035007</td>\n    </tr>\n    <tr>\n      <th>1474</th>\n      <td>2017_NEBRASKA</td>\n      <td>NEBRASKA</td>\n      <td>2017</td>\n      <td>NaN</td>\n      <td>NaN</td>\n      <td>NaN</td>\n      <td>NaN</td>\n      <td>NaN</td>\n      <td>NaN</td>\n      <td>NaN</td>\n      <td>...</td>\n      <td>NaN</td>\n      <td>NaN</td>\n      <td>NaN</td>\n      <td>NaN</td>\n      <td>NaN</td>\n      <td>NaN</td>\n      <td>245.590675</td>\n      <td>288.405955</td>\n      <td>224.096225</td>\n      <td>267.208219</td>\n    </tr>\n    <tr>\n      <th>1475</th>\n      <td>2017_NEVADA</td>\n      <td>NEVADA</td>\n      <td>2017</td>\n      <td>NaN</td>\n      <td>NaN</td>\n      <td>NaN</td>\n      <td>NaN</td>\n      <td>NaN</td>\n      <td>NaN</td>\n      <td>NaN</td>\n      <td>...</td>\n      <td>NaN</td>\n      <td>NaN</td>\n      <td>NaN</td>\n      <td>NaN</td>\n      <td>NaN</td>\n      <td>NaN</td>\n      <td>231.685162</td>\n      <td>275.365456</td>\n      <td>214.841696</td>\n      <td>268.528555</td>\n    </tr>\n    <tr>\n      <th>1476</th>\n      <td>2017_NEW_HAMPSHIRE</td>\n      <td>NEW_HAMPSHIRE</td>\n      <td>2017</td>\n      <td>NaN</td>\n      <td>NaN</td>\n      <td>NaN</td>\n      <td>NaN</td>\n      <td>NaN</td>\n      <td>NaN</td>\n      <td>NaN</td>\n      <td>...</td>\n      <td>NaN</td>\n      <td>NaN</td>\n      <td>NaN</td>\n      <td>NaN</td>\n      <td>NaN</td>\n      <td>NaN</td>\n      <td>245.319839</td>\n      <td>293.290654</td>\n      <td>228.900649</td>\n      <td>259.806407</td>\n    </tr>\n    <tr>\n      <th>1477</th>\n      <td>2017_NEW_JERSEY</td>\n      <td>NEW_JERSEY</td>\n      <td>2017</td>\n      <td>NaN</td>\n      <td>NaN</td>\n      <td>NaN</td>\n      <td>NaN</td>\n      <td>NaN</td>\n      <td>NaN</td>\n      <td>NaN</td>\n      <td>...</td>\n      <td>NaN</td>\n      <td>NaN</td>\n      <td>NaN</td>\n      <td>NaN</td>\n      <td>NaN</td>\n      <td>NaN</td>\n      <td>247.855231</td>\n      <td>291.698552</td>\n      <td>232.943318</td>\n      <td>274.786040</td>\n    </tr>\n    <tr>\n      <th>1478</th>\n      <td>2017_NEW_MEXICO</td>\n      <td>NEW_MEXICO</td>\n      <td>2017</td>\n      <td>NaN</td>\n      <td>NaN</td>\n      <td>NaN</td>\n      <td>NaN</td>\n      <td>NaN</td>\n      <td>NaN</td>\n      <td>NaN</td>\n      <td>...</td>\n      <td>NaN</td>\n      <td>NaN</td>\n      <td>NaN</td>\n      <td>NaN</td>\n      <td>NaN</td>\n      <td>NaN</td>\n      <td>229.704282</td>\n      <td>269.374084</td>\n      <td>207.704354</td>\n      <td>275.044552</td>\n    </tr>\n    <tr>\n      <th>1479</th>\n      <td>2017_NEW_YORK</td>\n      <td>NEW_YORK</td>\n      <td>2017</td>\n      <td>NaN</td>\n      <td>NaN</td>\n      <td>NaN</td>\n      <td>NaN</td>\n      <td>NaN</td>\n      <td>NaN</td>\n      <td>NaN</td>\n      <td>...</td>\n      <td>NaN</td>\n      <td>NaN</td>\n      <td>NaN</td>\n      <td>NaN</td>\n      <td>NaN</td>\n      <td>NaN</td>\n      <td>235.548457</td>\n      <td>281.688000</td>\n      <td>221.884015</td>\n      <td>255.578543</td>\n    </tr>\n    <tr>\n      <th>1480</th>\n      <td>2017_NORTH_CAROLINA</td>\n      <td>NORTH_CAROLINA</td>\n      <td>2017</td>\n      <td>NaN</td>\n      <td>NaN</td>\n      <td>NaN</td>\n      <td>NaN</td>\n      <td>NaN</td>\n      <td>NaN</td>\n      <td>NaN</td>\n      <td>...</td>\n      <td>NaN</td>\n      <td>NaN</td>\n      <td>NaN</td>\n      <td>NaN</td>\n      <td>NaN</td>\n      <td>NaN</td>\n      <td>240.951393</td>\n      <td>281.926028</td>\n      <td>223.930906</td>\n      <td>264.157584</td>\n    </tr>\n    <tr>\n      <th>1481</th>\n      <td>2017_NORTH_DAKOTA</td>\n      <td>NORTH_DAKOTA</td>\n      <td>2017</td>\n      <td>NaN</td>\n      <td>NaN</td>\n      <td>NaN</td>\n      <td>NaN</td>\n      <td>NaN</td>\n      <td>NaN</td>\n      <td>NaN</td>\n      <td>...</td>\n      <td>NaN</td>\n      <td>NaN</td>\n      <td>NaN</td>\n      <td>NaN</td>\n      <td>NaN</td>\n      <td>NaN</td>\n      <td>244.243515</td>\n      <td>288.172322</td>\n      <td>221.519266</td>\n      <td>262.720477</td>\n    </tr>\n    <tr>\n      <th>1482</th>\n      <td>2017_OHIO</td>\n      <td>OHIO</td>\n      <td>2017</td>\n      <td>NaN</td>\n      <td>NaN</td>\n      <td>NaN</td>\n      <td>NaN</td>\n      <td>NaN</td>\n      <td>NaN</td>\n      <td>NaN</td>\n      <td>...</td>\n      <td>NaN</td>\n      <td>NaN</td>\n      <td>NaN</td>\n      <td>NaN</td>\n      <td>NaN</td>\n      <td>NaN</td>\n      <td>240.928372</td>\n      <td>287.714266</td>\n      <td>225.261138</td>\n      <td>265.081922</td>\n    </tr>\n    <tr>\n      <th>1483</th>\n      <td>2017_TENNESSEE</td>\n      <td>TENNESSEE</td>\n      <td>2017</td>\n      <td>NaN</td>\n      <td>NaN</td>\n      <td>NaN</td>\n      <td>NaN</td>\n      <td>NaN</td>\n      <td>NaN</td>\n      <td>NaN</td>\n      <td>...</td>\n      <td>NaN</td>\n      <td>NaN</td>\n      <td>NaN</td>\n      <td>NaN</td>\n      <td>NaN</td>\n      <td>NaN</td>\n      <td>236.692515</td>\n      <td>278.777735</td>\n      <td>218.952797</td>\n      <td>267.355727</td>\n    </tr>\n    <tr>\n      <th>1484</th>\n      <td>2017_TEXAS</td>\n      <td>TEXAS</td>\n      <td>2017</td>\n      <td>NaN</td>\n      <td>NaN</td>\n      <td>NaN</td>\n      <td>NaN</td>\n      <td>NaN</td>\n      <td>NaN</td>\n      <td>NaN</td>\n      <td>...</td>\n      <td>NaN</td>\n      <td>NaN</td>\n      <td>NaN</td>\n      <td>NaN</td>\n      <td>NaN</td>\n      <td>NaN</td>\n      <td>240.943671</td>\n      <td>282.320510</td>\n      <td>214.878493</td>\n      <td>262.046853</td>\n    </tr>\n    <tr>\n      <th>1485</th>\n      <td>2017_UTAH</td>\n      <td>UTAH</td>\n      <td>2017</td>\n      <td>NaN</td>\n      <td>NaN</td>\n      <td>NaN</td>\n      <td>NaN</td>\n      <td>NaN</td>\n      <td>NaN</td>\n      <td>NaN</td>\n      <td>...</td>\n      <td>NaN</td>\n      <td>NaN</td>\n      <td>NaN</td>\n      <td>NaN</td>\n      <td>NaN</td>\n      <td>NaN</td>\n      <td>242.480766</td>\n      <td>286.816559</td>\n      <td>225.159173</td>\n      <td>260.342577</td>\n    </tr>\n    <tr>\n      <th>1486</th>\n      <td>2017_VERMONT</td>\n      <td>VERMONT</td>\n      <td>2017</td>\n      <td>NaN</td>\n      <td>NaN</td>\n      <td>NaN</td>\n      <td>NaN</td>\n      <td>NaN</td>\n      <td>NaN</td>\n      <td>NaN</td>\n      <td>...</td>\n      <td>NaN</td>\n      <td>NaN</td>\n      <td>NaN</td>\n      <td>NaN</td>\n      <td>NaN</td>\n      <td>NaN</td>\n      <td>240.893297</td>\n      <td>287.623388</td>\n      <td>226.445343</td>\n      <td>268.752420</td>\n    </tr>\n    <tr>\n      <th>1487</th>\n      <td>2017_VIRGINIA</td>\n      <td>VIRGINIA</td>\n      <td>2017</td>\n      <td>NaN</td>\n      <td>NaN</td>\n      <td>NaN</td>\n      <td>NaN</td>\n      <td>NaN</td>\n      <td>NaN</td>\n      <td>NaN</td>\n      <td>...</td>\n      <td>NaN</td>\n      <td>NaN</td>\n      <td>NaN</td>\n      <td>NaN</td>\n      <td>NaN</td>\n      <td>NaN</td>\n      <td>248.041059</td>\n      <td>290.081407</td>\n      <td>227.598382</td>\n      <td>273.402640</td>\n    </tr>\n    <tr>\n      <th>1488</th>\n      <td>2017_WASHINGTON</td>\n      <td>WASHINGTON</td>\n      <td>2017</td>\n      <td>NaN</td>\n      <td>NaN</td>\n      <td>NaN</td>\n      <td>NaN</td>\n      <td>NaN</td>\n      <td>NaN</td>\n      <td>NaN</td>\n      <td>...</td>\n      <td>NaN</td>\n      <td>NaN</td>\n      <td>NaN</td>\n      <td>NaN</td>\n      <td>NaN</td>\n      <td>NaN</td>\n      <td>241.701001</td>\n      <td>289.131257</td>\n      <td>223.123409</td>\n      <td>267.744778</td>\n    </tr>\n    <tr>\n      <th>1489</th>\n      <td>2017_WEST_VIRGINIA</td>\n      <td>WEST_VIRGINIA</td>\n      <td>2017</td>\n      <td>NaN</td>\n      <td>NaN</td>\n      <td>NaN</td>\n      <td>NaN</td>\n      <td>NaN</td>\n      <td>NaN</td>\n      <td>NaN</td>\n      <td>...</td>\n      <td>NaN</td>\n      <td>NaN</td>\n      <td>NaN</td>\n      <td>NaN</td>\n      <td>NaN</td>\n      <td>NaN</td>\n      <td>236.057019</td>\n      <td>273.415854</td>\n      <td>217.316396</td>\n      <td>271.617023</td>\n    </tr>\n    <tr>\n      <th>1490</th>\n      <td>2017_WISCONSIN</td>\n      <td>WISCONSIN</td>\n      <td>2017</td>\n      <td>NaN</td>\n      <td>NaN</td>\n      <td>NaN</td>\n      <td>NaN</td>\n      <td>NaN</td>\n      <td>NaN</td>\n      <td>NaN</td>\n      <td>...</td>\n      <td>NaN</td>\n      <td>NaN</td>\n      <td>NaN</td>\n      <td>NaN</td>\n      <td>NaN</td>\n      <td>NaN</td>\n      <td>240.389213</td>\n      <td>288.143144</td>\n      <td>219.612694</td>\n      <td>258.700304</td>\n    </tr>\n    <tr>\n      <th>1491</th>\n      <td>2017_WYOMING</td>\n      <td>WYOMING</td>\n      <td>2017</td>\n      <td>NaN</td>\n      <td>NaN</td>\n      <td>NaN</td>\n      <td>NaN</td>\n      <td>NaN</td>\n      <td>NaN</td>\n      <td>NaN</td>\n      <td>...</td>\n      <td>NaN</td>\n      <td>NaN</td>\n      <td>NaN</td>\n      <td>NaN</td>\n      <td>NaN</td>\n      <td>NaN</td>\n      <td>247.820619</td>\n      <td>288.761812</td>\n      <td>226.831211</td>\n      <td>269.371456</td>\n    </tr>\n  </tbody>\n</table>\n<p>1492 rows × 25 columns</p>\n</div>",
        "text/plain": "                    PRIMARY_KEY                 STATE  YEAR  ENROLL  \\\n0                  1992_ALABAMA               ALABAMA  1992     NaN   \n1                   1992_ALASKA                ALASKA  1992     NaN   \n2                  1992_ARIZONA               ARIZONA  1992     NaN   \n3                 1992_ARKANSAS              ARKANSAS  1992     NaN   \n4               1992_CALIFORNIA            CALIFORNIA  1992     NaN   \n5                 1992_COLORADO              COLORADO  1992     NaN   \n6              1992_CONNECTICUT           CONNECTICUT  1992     NaN   \n7                 1992_DELAWARE              DELAWARE  1992     NaN   \n8     1992_DISTRICT_OF_COLUMBIA  DISTRICT_OF_COLUMBIA  1992     NaN   \n9                  1992_FLORIDA               FLORIDA  1992     NaN   \n10                 1992_GEORGIA               GEORGIA  1992     NaN   \n11                  1992_HAWAII                HAWAII  1992     NaN   \n12                   1992_IDAHO                 IDAHO  1992     NaN   \n13                1992_ILLINOIS              ILLINOIS  1992     NaN   \n14                 1992_INDIANA               INDIANA  1992     NaN   \n15                    1992_IOWA                  IOWA  1992     NaN   \n16                  1992_KANSAS                KANSAS  1992     NaN   \n17                1992_KENTUCKY              KENTUCKY  1992     NaN   \n18               1992_LOUISIANA             LOUISIANA  1992     NaN   \n19                   1992_MAINE                 MAINE  1992     NaN   \n20                1992_MARYLAND              MARYLAND  1992     NaN   \n21           1992_MASSACHUSETTS         MASSACHUSETTS  1992     NaN   \n22                1992_MICHIGAN              MICHIGAN  1992     NaN   \n23               1992_MINNESOTA             MINNESOTA  1992     NaN   \n24             1992_MISSISSIPPI           MISSISSIPPI  1992     NaN   \n25                1992_MISSOURI              MISSOURI  1992     NaN   \n26                 1992_MONTANA               MONTANA  1992     NaN   \n27                1992_NEBRASKA              NEBRASKA  1992     NaN   \n28                  1992_NEVADA                NEVADA  1992     NaN   \n29           1992_NEW_HAMPSHIRE         NEW_HAMPSHIRE  1992     NaN   \n...                         ...                   ...   ...     ...   \n1462                  2017_IOWA                  IOWA  2017     NaN   \n1463                2017_KANSAS                KANSAS  2017     NaN   \n1464              2017_KENTUCKY              KENTUCKY  2017     NaN   \n1465             2017_LOUISIANA             LOUISIANA  2017     NaN   \n1466                 2017_MAINE                 MAINE  2017     NaN   \n1467              2017_MARYLAND              MARYLAND  2017     NaN   \n1468         2017_MASSACHUSETTS         MASSACHUSETTS  2017     NaN   \n1469              2017_MICHIGAN              MICHIGAN  2017     NaN   \n1470             2017_MINNESOTA             MINNESOTA  2017     NaN   \n1471           2017_MISSISSIPPI           MISSISSIPPI  2017     NaN   \n1472              2017_MISSOURI              MISSOURI  2017     NaN   \n1473               2017_MONTANA               MONTANA  2017     NaN   \n1474              2017_NEBRASKA              NEBRASKA  2017     NaN   \n1475                2017_NEVADA                NEVADA  2017     NaN   \n1476         2017_NEW_HAMPSHIRE         NEW_HAMPSHIRE  2017     NaN   \n1477            2017_NEW_JERSEY            NEW_JERSEY  2017     NaN   \n1478            2017_NEW_MEXICO            NEW_MEXICO  2017     NaN   \n1479              2017_NEW_YORK              NEW_YORK  2017     NaN   \n1480        2017_NORTH_CAROLINA        NORTH_CAROLINA  2017     NaN   \n1481          2017_NORTH_DAKOTA          NORTH_DAKOTA  2017     NaN   \n1482                  2017_OHIO                  OHIO  2017     NaN   \n1483             2017_TENNESSEE             TENNESSEE  2017     NaN   \n1484                 2017_TEXAS                 TEXAS  2017     NaN   \n1485                  2017_UTAH                  UTAH  2017     NaN   \n1486               2017_VERMONT               VERMONT  2017     NaN   \n1487              2017_VIRGINIA              VIRGINIA  2017     NaN   \n1488            2017_WASHINGTON            WASHINGTON  2017     NaN   \n1489         2017_WEST_VIRGINIA         WEST_VIRGINIA  2017     NaN   \n1490             2017_WISCONSIN             WISCONSIN  2017     NaN   \n1491               2017_WYOMING               WYOMING  2017     NaN   \n\n      TOTAL_REVENUE  FEDERAL_REVENUE  STATE_REVENUE  LOCAL_REVENUE  \\\n0         2678885.0         304177.0      1659028.0       715680.0   \n1         1049591.0         106780.0       720711.0       222100.0   \n2         3258079.0         297888.0      1369815.0      1590376.0   \n3         1711959.0         178571.0       958785.0       574603.0   \n4        26260025.0        2072470.0     16546514.0      7641041.0   \n5         3185173.0         163253.0      1307986.0      1713934.0   \n6         3834302.0         143542.0      1342539.0      2348221.0   \n7          645233.0          45945.0       420942.0       178346.0   \n8          709480.0          64749.0            0.0       644731.0   \n9        11506299.0         788420.0      5683949.0      5033930.0   \n10        5536901.0         398701.0      2798674.0      2339526.0   \n11         996809.0          71273.0       903443.0        22093.0   \n12         859329.0          69138.0       531912.0       258279.0   \n13        9748650.0         597077.0      3073178.0      6078395.0   \n14        5060274.0         257044.0      2578149.0      2225081.0   \n15        2663934.0         125665.0      1176205.0      1362064.0   \n16        2245348.0         121625.0       903199.0      1220524.0   \n17        2642902.0         289902.0      1643109.0       709891.0   \n18        3341253.0         367822.0      1848734.0      1124697.0   \n19        1206819.0          73160.0       511654.0       622005.0   \n20        4658498.0         228336.0      1778834.0      2651328.0   \n21        5517659.0         273946.0      1439051.0      3804662.0   \n22        9963137.0         537917.0      2539380.0      6885840.0   \n23        4684684.0         194092.0      2380754.0      2109838.0   \n24        1684706.0         277706.0       901199.0       505801.0   \n25        4043682.0         255194.0      1903124.0      1885364.0   \n26         828983.0          69947.0       337455.0       421581.0   \n27        1542413.0          85423.0       492256.0       964734.0   \n28        1097076.0          45018.0       724032.0       328026.0   \n29        1063391.0          31020.0        86296.0       946075.0   \n...             ...              ...            ...            ...   \n1462            NaN              NaN            NaN            NaN   \n1463            NaN              NaN            NaN            NaN   \n1464            NaN              NaN            NaN            NaN   \n1465            NaN              NaN            NaN            NaN   \n1466            NaN              NaN            NaN            NaN   \n1467            NaN              NaN            NaN            NaN   \n1468            NaN              NaN            NaN            NaN   \n1469            NaN              NaN            NaN            NaN   \n1470            NaN              NaN            NaN            NaN   \n1471            NaN              NaN            NaN            NaN   \n1472            NaN              NaN            NaN            NaN   \n1473            NaN              NaN            NaN            NaN   \n1474            NaN              NaN            NaN            NaN   \n1475            NaN              NaN            NaN            NaN   \n1476            NaN              NaN            NaN            NaN   \n1477            NaN              NaN            NaN            NaN   \n1478            NaN              NaN            NaN            NaN   \n1479            NaN              NaN            NaN            NaN   \n1480            NaN              NaN            NaN            NaN   \n1481            NaN              NaN            NaN            NaN   \n1482            NaN              NaN            NaN            NaN   \n1483            NaN              NaN            NaN            NaN   \n1484            NaN              NaN            NaN            NaN   \n1485            NaN              NaN            NaN            NaN   \n1486            NaN              NaN            NaN            NaN   \n1487            NaN              NaN            NaN            NaN   \n1488            NaN              NaN            NaN            NaN   \n1489            NaN              NaN            NaN            NaN   \n1490            NaN              NaN            NaN            NaN   \n1491            NaN              NaN            NaN            NaN   \n\n      TOTAL_EXPENDITURE  INSTRUCTION_EXPENDITURE  ...  GRADES_4_G  GRADES_8_G  \\\n0             2653798.0                1481703.0  ...     57948.0     58025.0   \n1              972488.0                 498362.0  ...      9748.0      8789.0   \n2             3401580.0                1435908.0  ...     55433.0     49081.0   \n3             1743022.0                 964323.0  ...     34632.0     36011.0   \n4            27138832.0               14358922.0  ...    418418.0    363296.0   \n5             3264826.0                1642466.0  ...     50648.0     45025.0   \n6             3721338.0                2148041.0  ...     38058.0     33691.0   \n7              638784.0                 372722.0  ...      8272.0      8012.0   \n8              742893.0                 329160.0  ...      5832.0      5000.0   \n9            11305642.0                5166374.0  ...    164416.0    142372.0   \n10            5535942.0                3043984.0  ...     99648.0     92374.0   \n11            1040121.0                 536115.0  ...     13754.0     11750.0   \n12             886161.0                 473505.0  ...     18607.0     18880.0   \n13            9850560.0                5010400.0  ...    133120.0    134317.0   \n14            5182754.0                2598925.0  ...     73760.0     75477.0   \n15            2795774.0                1446478.0  ...     37692.0     36892.0   \n16            2234915.0                1165749.0  ...     36013.0     33288.0   \n17            2518082.0                1343438.0  ...     49666.0     49993.0   \n18            3362853.0                1888349.0  ...     61125.0     55942.0   \n19            1228869.0                 685350.0  ...     17154.0     15969.0   \n20            4698374.0                2628891.0  ...     60287.0     52815.0   \n21            5245560.0                2751871.0  ...     66822.0     60702.0   \n22           10170688.0                4681327.0  ...    118963.0    114282.0   \n23            4981125.0                2534882.0  ...     62606.0     59810.0   \n24            1691990.0                 956104.0  ...     39839.0     38132.0   \n25            4197600.0                2168135.0  ...     67098.0     64546.0   \n26             781009.0                 412219.0  ...     12839.0     12124.0   \n27            1534046.0                 909159.0  ...     22133.0     21379.0   \n28            1251651.0                 572623.0  ...     18487.0     16250.0   \n29            1066647.0                 581123.0  ...     15611.0     13537.0   \n...                 ...                      ...  ...         ...         ...   \n1462                NaN                      NaN  ...         NaN         NaN   \n1463                NaN                      NaN  ...         NaN         NaN   \n1464                NaN                      NaN  ...         NaN         NaN   \n1465                NaN                      NaN  ...         NaN         NaN   \n1466                NaN                      NaN  ...         NaN         NaN   \n1467                NaN                      NaN  ...         NaN         NaN   \n1468                NaN                      NaN  ...         NaN         NaN   \n1469                NaN                      NaN  ...         NaN         NaN   \n1470                NaN                      NaN  ...         NaN         NaN   \n1471                NaN                      NaN  ...         NaN         NaN   \n1472                NaN                      NaN  ...         NaN         NaN   \n1473                NaN                      NaN  ...         NaN         NaN   \n1474                NaN                      NaN  ...         NaN         NaN   \n1475                NaN                      NaN  ...         NaN         NaN   \n1476                NaN                      NaN  ...         NaN         NaN   \n1477                NaN                      NaN  ...         NaN         NaN   \n1478                NaN                      NaN  ...         NaN         NaN   \n1479                NaN                      NaN  ...         NaN         NaN   \n1480                NaN                      NaN  ...         NaN         NaN   \n1481                NaN                      NaN  ...         NaN         NaN   \n1482                NaN                      NaN  ...         NaN         NaN   \n1483                NaN                      NaN  ...         NaN         NaN   \n1484                NaN                      NaN  ...         NaN         NaN   \n1485                NaN                      NaN  ...         NaN         NaN   \n1486                NaN                      NaN  ...         NaN         NaN   \n1487                NaN                      NaN  ...         NaN         NaN   \n1488                NaN                      NaN  ...         NaN         NaN   \n1489                NaN                      NaN  ...         NaN         NaN   \n1490                NaN                      NaN  ...         NaN         NaN   \n1491                NaN                      NaN  ...         NaN         NaN   \n\n      GRADES_12_G  GRADES_1_8_G  GRADES_9_12_G  GRADES_ALL_G  \\\n0         41167.0      471564.0       196386.0      676174.0   \n1          6714.0       79117.0        30847.0      112335.0   \n2         37410.0      437127.0       175210.0      614881.0   \n3         27651.0      281338.0       123113.0      405259.0   \n4        270675.0     3286034.0      1372011.0     4717112.0   \n5         34533.0      394904.0       160299.0      562613.0   \n6         28366.0      304284.0       126917.0      436932.0   \n7          6129.0       67495.0        28338.0       96296.0   \n8          3433.0       47009.0        18173.0       70000.0   \n9        100835.0     1276685.0       511557.0     1819706.0   \n10        63646.0      787599.0       315539.0     1106441.0   \n11         9051.0      107242.0        43882.0      151649.0   \n12        14593.0      146573.0        66541.0      214345.0   \n13       106475.0     1111167.0       495562.0     1646411.0   \n14        62234.0      601890.0       278161.0      883276.0   \n15        33057.0      299253.0       138907.0      442752.0   \n16        26706.0      284143.0       120960.0      407494.0   \n17        38029.0      400849.0       181786.0      597199.0   \n18        38368.0      490112.0       196891.0      698442.0   \n19        13882.0      135320.0        59289.0      195882.0   \n20        40426.0      472622.0       189795.0      678498.0   \n21        52425.0      536029.0       230299.0      777050.0   \n22        90655.0      968910.0       419351.0     1398802.0   \n23        53813.0      500938.0       224426.0      731758.0   \n24        26328.0      321614.0       129554.0      451986.0   \n25        50534.0      531337.0       235437.0      785722.0   \n26        10019.0      102124.0        44449.0      147127.0   \n27        18999.0      177432.0        79975.0      260541.0   \n28        12242.0      145687.0        57605.0      204330.0   \n29        10752.0      123475.0        47999.0      172479.0   \n...           ...           ...            ...           ...   \n1462          NaN           NaN            NaN           NaN   \n1463          NaN           NaN            NaN           NaN   \n1464          NaN           NaN            NaN           NaN   \n1465          NaN           NaN            NaN           NaN   \n1466          NaN           NaN            NaN           NaN   \n1467          NaN           NaN            NaN           NaN   \n1468          NaN           NaN            NaN           NaN   \n1469          NaN           NaN            NaN           NaN   \n1470          NaN           NaN            NaN           NaN   \n1471          NaN           NaN            NaN           NaN   \n1472          NaN           NaN            NaN           NaN   \n1473          NaN           NaN            NaN           NaN   \n1474          NaN           NaN            NaN           NaN   \n1475          NaN           NaN            NaN           NaN   \n1476          NaN           NaN            NaN           NaN   \n1477          NaN           NaN            NaN           NaN   \n1478          NaN           NaN            NaN           NaN   \n1479          NaN           NaN            NaN           NaN   \n1480          NaN           NaN            NaN           NaN   \n1481          NaN           NaN            NaN           NaN   \n1482          NaN           NaN            NaN           NaN   \n1483          NaN           NaN            NaN           NaN   \n1484          NaN           NaN            NaN           NaN   \n1485          NaN           NaN            NaN           NaN   \n1486          NaN           NaN            NaN           NaN   \n1487          NaN           NaN            NaN           NaN   \n1488          NaN           NaN            NaN           NaN   \n1489          NaN           NaN            NaN           NaN   \n1490          NaN           NaN            NaN           NaN   \n1491          NaN           NaN            NaN           NaN   \n\n      AVG_MATH_4_SCORE  AVG_MATH_8_SCORE  AVG_READING_4_SCORE  \\\n0           208.327876        252.187522           207.963517   \n1                  NaN               NaN                  NaN   \n2           215.253932        265.366278           206.212716   \n3           210.206028        256.312090           208.634458   \n4           208.398961        260.892247           196.764414   \n5           221.023429        272.398433           213.480890   \n6           226.798480        273.739345           222.417599   \n7           217.899972        262.868585           206.389052   \n8           192.600553        234.924621           178.557612   \n9           213.689751        259.908848           204.882606   \n10          215.594906        259.359434           206.844175   \n11          214.056666        257.410887           200.880272   \n12          221.562534        275.090294                  NaN   \n13                 NaN               NaN                  NaN   \n14          221.037742        270.098944           219.763258   \n15          229.884078        283.360009           222.852939   \n16                 NaN               NaN                  NaN   \n17          215.048158        262.241282           211.562307   \n18          204.140211        249.983926           196.762268   \n19          231.638840        278.635384           228.380027   \n20          217.317708        264.825493           209.645497   \n21          226.597918        272.783201           223.160076   \n22          219.878352        267.353194                  NaN   \n23          228.493596        282.392205           218.301709   \n24          201.828261        246.458035           201.529328   \n25          222.215600        271.131545           216.898079   \n26                 NaN               NaN           222.301419   \n27          225.332648        277.654523           220.034963   \n28                 NaN               NaN                  NaN   \n29          229.664564        278.216326           223.466140   \n...                ...               ...                  ...   \n1462        243.107484        286.239418           221.747268   \n1463        241.212805        285.283508           223.268429   \n1464        239.178257        277.714162           224.080585   \n1465        228.971745        266.506760           211.600528   \n1466        239.898995        284.003007           221.388603   \n1467        240.601277        280.910246           225.049335   \n1468        249.102674        297.042225           235.699697   \n1469        235.555473        279.505455           217.753242   \n1470        248.804303        293.962376           224.538513   \n1471        234.694193        270.914908           215.203306   \n1472        239.502289        280.596022           222.681081   \n1473        240.721634        285.600437           222.326722   \n1474        245.590675        288.405955           224.096225   \n1475        231.685162        275.365456           214.841696   \n1476        245.319839        293.290654           228.900649   \n1477        247.855231        291.698552           232.943318   \n1478        229.704282        269.374084           207.704354   \n1479        235.548457        281.688000           221.884015   \n1480        240.951393        281.926028           223.930906   \n1481        244.243515        288.172322           221.519266   \n1482        240.928372        287.714266           225.261138   \n1483        236.692515        278.777735           218.952797   \n1484        240.943671        282.320510           214.878493   \n1485        242.480766        286.816559           225.159173   \n1486        240.893297        287.623388           226.445343   \n1487        248.041059        290.081407           227.598382   \n1488        241.701001        289.131257           223.123409   \n1489        236.057019        273.415854           217.316396   \n1490        240.389213        288.143144           219.612694   \n1491        247.820619        288.761812           226.831211   \n\n      AVG_READING_8_SCORE  \n0                     NaN  \n1              258.859712  \n2              262.169895  \n3              264.619665  \n4                     NaN  \n5              266.419687  \n6              264.713904  \n7              261.577921  \n8              265.976765  \n9              262.118986  \n10                    NaN  \n11                    NaN  \n12                    NaN  \n13                    NaN  \n14                    NaN  \n15                    NaN  \n16                    NaN  \n17                    NaN  \n18                    NaN  \n19                    NaN  \n20                    NaN  \n21                    NaN  \n22                    NaN  \n23                    NaN  \n24                    NaN  \n25                    NaN  \n26                    NaN  \n27                    NaN  \n28                    NaN  \n29                    NaN  \n...                   ...  \n1462           272.023876  \n1463           267.675679  \n1464           267.490028  \n1465           265.133438  \n1466           256.751471  \n1467           268.930632  \n1468           267.250533  \n1469           277.782589  \n1470           265.468928  \n1471           268.616822  \n1472           256.344701  \n1473           266.035007  \n1474           267.208219  \n1475           268.528555  \n1476           259.806407  \n1477           274.786040  \n1478           275.044552  \n1479           255.578543  \n1480           264.157584  \n1481           262.720477  \n1482           265.081922  \n1483           267.355727  \n1484           262.046853  \n1485           260.342577  \n1486           268.752420  \n1487           273.402640  \n1488           267.744778  \n1489           271.617023  \n1490           258.700304  \n1491           269.371456  \n\n[1492 rows x 25 columns]"
       },
       "execution_count": 33,
       "metadata": {},
       "output_type": "execute_result"
      }
     ],
     "persistentId": "e728d6fa-ac88-4f1f-806f-1d1b400a85c9",
     "text": "education3"
    },
    "executionTime": "2019-12-02T18:08:48.451Z"
   },
   {
    "cell": {
     "executionCount": 34,
     "executionEventId": "5eb239a5-d430-4916-a70a-289e966ee9d3",
     "hasError": false,
     "id": "f15db5a0-ea16-4360-bc47-16067d1d5519",
     "outputs": [
      {
       "name": "stdout",
       "output_type": "stream",
       "text": "ENROLL\nTOTAL_REVENUE\nFEDERAL_REVENUE\nSTATE_REVENUE\nLOCAL_REVENUE\nTOTAL_EXPENDITURE\nINSTRUCTION_EXPENDITURE\nSUPPORT_SERVICES_EXPENDITURE\nOTHER_EXPENDITURE\nCAPITAL_OUTLAY_EXPENDITURE\nGRADES_PK_G\nGRADES_KG_G\nGRADES_4_G\nGRADES_8_G\nGRADES_12_G\nGRADES_1_8_G\nGRADES_9_12_G\nGRADES_ALL_G\n"
      }
     ],
     "persistentId": "0219e090-26c1-44ab-9ec0-f4ab1a7db700",
     "text": "for column in education.columns[3:-4]:\n    print(column)"
    },
    "executionTime": "2019-12-02T18:09:05.829Z"
   },
   {
    "cell": {
     "executionCount": 35,
     "executionEventId": "82f73449-f3a9-419b-b632-7d52f7520fd1",
     "hasError": false,
     "id": "f7c125c6-24aa-41f5-b5f3-2a1c1f03af38",
     "outputs": [
      {
       "data": {
        "text/plain": "array([     nan,  89711. , 727716. , ..., 658697. , 664495. , 653661.5])"
       },
       "execution_count": 35,
       "metadata": {},
       "output_type": "execute_result"
      }
     ],
     "persistentId": "e728d6fa-ac88-4f1f-806f-1d1b400a85c9",
     "text": "education3['ENROLL'].unique()"
    },
    "executionTime": "2019-12-02T18:09:41.135Z"
   },
   {
    "cell": {
     "executionCount": 36,
     "executionEventId": "f4e419f7-63db-487a-ad5c-1e71a619c12d",
     "hasError": false,
     "id": "90db5692-47ab-42e4-9e4c-dfa93b719c53",
     "outputs": [],
     "persistentId": "bc4d2f7f-b21d-4e6f-8283-faa26f5b74f3",
     "text": "education4 = education.interpolate(method ='linear', limit_direction ='backward', limit = 1) "
    },
    "executionTime": "2019-12-02T18:12:22.085Z"
   },
   {
    "cell": {
     "executionCount": 37,
     "executionEventId": "e42a836f-8f42-42d8-a651-b34cf929b4a6",
     "hasError": false,
     "id": "081fcba6-bf24-4f31-b47f-f480d516f5fb",
     "outputs": [
      {
       "data": {
        "text/html": "<div>\n<style scoped>\n    .dataframe tbody tr th:only-of-type {\n        vertical-align: middle;\n    }\n\n    .dataframe tbody tr th {\n        vertical-align: top;\n    }\n\n    .dataframe thead th {\n        text-align: right;\n    }\n</style>\n<table border=\"1\" class=\"dataframe\">\n  <thead>\n    <tr style=\"text-align: right;\">\n      <th></th>\n      <th>PRIMARY_KEY</th>\n      <th>STATE</th>\n      <th>YEAR</th>\n      <th>ENROLL</th>\n      <th>TOTAL_REVENUE</th>\n      <th>FEDERAL_REVENUE</th>\n      <th>STATE_REVENUE</th>\n      <th>LOCAL_REVENUE</th>\n      <th>TOTAL_EXPENDITURE</th>\n      <th>INSTRUCTION_EXPENDITURE</th>\n      <th>...</th>\n      <th>GRADES_4_G</th>\n      <th>GRADES_8_G</th>\n      <th>GRADES_12_G</th>\n      <th>GRADES_1_8_G</th>\n      <th>GRADES_9_12_G</th>\n      <th>GRADES_ALL_G</th>\n      <th>AVG_MATH_4_SCORE</th>\n      <th>AVG_MATH_8_SCORE</th>\n      <th>AVG_READING_4_SCORE</th>\n      <th>AVG_READING_8_SCORE</th>\n    </tr>\n  </thead>\n  <tbody>\n    <tr>\n      <th>0</th>\n      <td>1992_ALABAMA</td>\n      <td>ALABAMA</td>\n      <td>1992</td>\n      <td>NaN</td>\n      <td>2678885.0</td>\n      <td>304177.0</td>\n      <td>1659028.0</td>\n      <td>715680.0</td>\n      <td>2653798.0</td>\n      <td>1481703.0</td>\n      <td>...</td>\n      <td>57948.0</td>\n      <td>58025.0</td>\n      <td>41167.0</td>\n      <td>471564.0</td>\n      <td>196386.0</td>\n      <td>676174.0</td>\n      <td>208.327876</td>\n      <td>252.187522</td>\n      <td>207.963517</td>\n      <td>258.859712</td>\n    </tr>\n    <tr>\n      <th>1</th>\n      <td>1992_ALASKA</td>\n      <td>ALASKA</td>\n      <td>1992</td>\n      <td>NaN</td>\n      <td>1049591.0</td>\n      <td>106780.0</td>\n      <td>720711.0</td>\n      <td>222100.0</td>\n      <td>972488.0</td>\n      <td>498362.0</td>\n      <td>...</td>\n      <td>9748.0</td>\n      <td>8789.0</td>\n      <td>6714.0</td>\n      <td>79117.0</td>\n      <td>30847.0</td>\n      <td>112335.0</td>\n      <td>211.790904</td>\n      <td>258.776900</td>\n      <td>207.088116</td>\n      <td>258.859712</td>\n    </tr>\n    <tr>\n      <th>2</th>\n      <td>1992_ARIZONA</td>\n      <td>ARIZONA</td>\n      <td>1992</td>\n      <td>NaN</td>\n      <td>3258079.0</td>\n      <td>297888.0</td>\n      <td>1369815.0</td>\n      <td>1590376.0</td>\n      <td>3401580.0</td>\n      <td>1435908.0</td>\n      <td>...</td>\n      <td>55433.0</td>\n      <td>49081.0</td>\n      <td>37410.0</td>\n      <td>437127.0</td>\n      <td>175210.0</td>\n      <td>614881.0</td>\n      <td>215.253932</td>\n      <td>265.366278</td>\n      <td>206.212716</td>\n      <td>262.169895</td>\n    </tr>\n    <tr>\n      <th>3</th>\n      <td>1992_ARKANSAS</td>\n      <td>ARKANSAS</td>\n      <td>1992</td>\n      <td>NaN</td>\n      <td>1711959.0</td>\n      <td>178571.0</td>\n      <td>958785.0</td>\n      <td>574603.0</td>\n      <td>1743022.0</td>\n      <td>964323.0</td>\n      <td>...</td>\n      <td>34632.0</td>\n      <td>36011.0</td>\n      <td>27651.0</td>\n      <td>281338.0</td>\n      <td>123113.0</td>\n      <td>405259.0</td>\n      <td>210.206028</td>\n      <td>256.312090</td>\n      <td>208.634458</td>\n      <td>264.619665</td>\n    </tr>\n    <tr>\n      <th>4</th>\n      <td>1992_CALIFORNIA</td>\n      <td>CALIFORNIA</td>\n      <td>1992</td>\n      <td>NaN</td>\n      <td>26260025.0</td>\n      <td>2072470.0</td>\n      <td>16546514.0</td>\n      <td>7641041.0</td>\n      <td>27138832.0</td>\n      <td>14358922.0</td>\n      <td>...</td>\n      <td>418418.0</td>\n      <td>363296.0</td>\n      <td>270675.0</td>\n      <td>3286034.0</td>\n      <td>1372011.0</td>\n      <td>4717112.0</td>\n      <td>208.398961</td>\n      <td>260.892247</td>\n      <td>196.764414</td>\n      <td>265.519676</td>\n    </tr>\n  </tbody>\n</table>\n<p>5 rows × 25 columns</p>\n</div>",
        "text/plain": "       PRIMARY_KEY       STATE  YEAR  ENROLL  TOTAL_REVENUE  FEDERAL_REVENUE  \\\n0     1992_ALABAMA     ALABAMA  1992     NaN      2678885.0         304177.0   \n1      1992_ALASKA      ALASKA  1992     NaN      1049591.0         106780.0   \n2     1992_ARIZONA     ARIZONA  1992     NaN      3258079.0         297888.0   \n3    1992_ARKANSAS    ARKANSAS  1992     NaN      1711959.0         178571.0   \n4  1992_CALIFORNIA  CALIFORNIA  1992     NaN     26260025.0        2072470.0   \n\n   STATE_REVENUE  LOCAL_REVENUE  TOTAL_EXPENDITURE  INSTRUCTION_EXPENDITURE  \\\n0      1659028.0       715680.0          2653798.0                1481703.0   \n1       720711.0       222100.0           972488.0                 498362.0   \n2      1369815.0      1590376.0          3401580.0                1435908.0   \n3       958785.0       574603.0          1743022.0                 964323.0   \n4     16546514.0      7641041.0         27138832.0               14358922.0   \n\n   ...  GRADES_4_G  GRADES_8_G  GRADES_12_G  GRADES_1_8_G  GRADES_9_12_G  \\\n0  ...     57948.0     58025.0      41167.0      471564.0       196386.0   \n1  ...      9748.0      8789.0       6714.0       79117.0        30847.0   \n2  ...     55433.0     49081.0      37410.0      437127.0       175210.0   \n3  ...     34632.0     36011.0      27651.0      281338.0       123113.0   \n4  ...    418418.0    363296.0     270675.0     3286034.0      1372011.0   \n\n   GRADES_ALL_G  AVG_MATH_4_SCORE  AVG_MATH_8_SCORE  AVG_READING_4_SCORE  \\\n0      676174.0        208.327876        252.187522           207.963517   \n1      112335.0        211.790904        258.776900           207.088116   \n2      614881.0        215.253932        265.366278           206.212716   \n3      405259.0        210.206028        256.312090           208.634458   \n4     4717112.0        208.398961        260.892247           196.764414   \n\n   AVG_READING_8_SCORE  \n0           258.859712  \n1           258.859712  \n2           262.169895  \n3           264.619665  \n4           265.519676  \n\n[5 rows x 25 columns]"
       },
       "execution_count": 37,
       "metadata": {},
       "output_type": "execute_result"
      }
     ],
     "persistentId": "f86a95eb-0864-486e-bcb1-8df3bfcb2181",
     "text": "education4.head()"
    },
    "executionTime": "2019-12-02T18:12:29.408Z"
   },
   {
    "cell": {
     "executionCount": 38,
     "executionEventId": "336a5af3-d808-4164-95dc-5bc9afeeee4b",
     "hasError": false,
     "id": "90db5692-47ab-42e4-9e4c-dfa93b719c53",
     "outputs": [
      {
       "data": {
        "text/html": "<div>\n<style scoped>\n    .dataframe tbody tr th:only-of-type {\n        vertical-align: middle;\n    }\n\n    .dataframe tbody tr th {\n        vertical-align: top;\n    }\n\n    .dataframe thead th {\n        text-align: right;\n    }\n</style>\n<table border=\"1\" class=\"dataframe\">\n  <thead>\n    <tr style=\"text-align: right;\">\n      <th></th>\n      <th>PRIMARY_KEY</th>\n      <th>STATE</th>\n      <th>YEAR</th>\n      <th>ENROLL</th>\n      <th>TOTAL_REVENUE</th>\n      <th>FEDERAL_REVENUE</th>\n      <th>STATE_REVENUE</th>\n      <th>LOCAL_REVENUE</th>\n      <th>TOTAL_EXPENDITURE</th>\n      <th>INSTRUCTION_EXPENDITURE</th>\n      <th>...</th>\n      <th>GRADES_4_G</th>\n      <th>GRADES_8_G</th>\n      <th>GRADES_12_G</th>\n      <th>GRADES_1_8_G</th>\n      <th>GRADES_9_12_G</th>\n      <th>GRADES_ALL_G</th>\n      <th>AVG_MATH_4_SCORE</th>\n      <th>AVG_MATH_8_SCORE</th>\n      <th>AVG_READING_4_SCORE</th>\n      <th>AVG_READING_8_SCORE</th>\n    </tr>\n  </thead>\n  <tbody>\n    <tr>\n      <th>0</th>\n      <td>1992_ALABAMA</td>\n      <td>ALABAMA</td>\n      <td>1992</td>\n      <td>NaN</td>\n      <td>2678885.0</td>\n      <td>304177.0</td>\n      <td>1659028.0</td>\n      <td>715680.0</td>\n      <td>2653798.0</td>\n      <td>1481703.0</td>\n      <td>...</td>\n      <td>57948.0</td>\n      <td>58025.0</td>\n      <td>41167.0</td>\n      <td>471564.0</td>\n      <td>196386.0</td>\n      <td>676174.0</td>\n      <td>208.327876</td>\n      <td>252.187522</td>\n      <td>207.963517</td>\n      <td>258.859712</td>\n    </tr>\n    <tr>\n      <th>1</th>\n      <td>1992_ALASKA</td>\n      <td>ALASKA</td>\n      <td>1992</td>\n      <td>NaN</td>\n      <td>1049591.0</td>\n      <td>106780.0</td>\n      <td>720711.0</td>\n      <td>222100.0</td>\n      <td>972488.0</td>\n      <td>498362.0</td>\n      <td>...</td>\n      <td>9748.0</td>\n      <td>8789.0</td>\n      <td>6714.0</td>\n      <td>79117.0</td>\n      <td>30847.0</td>\n      <td>112335.0</td>\n      <td>211.790904</td>\n      <td>258.776900</td>\n      <td>207.088116</td>\n      <td>258.859712</td>\n    </tr>\n    <tr>\n      <th>2</th>\n      <td>1992_ARIZONA</td>\n      <td>ARIZONA</td>\n      <td>1992</td>\n      <td>NaN</td>\n      <td>3258079.0</td>\n      <td>297888.0</td>\n      <td>1369815.0</td>\n      <td>1590376.0</td>\n      <td>3401580.0</td>\n      <td>1435908.0</td>\n      <td>...</td>\n      <td>55433.0</td>\n      <td>49081.0</td>\n      <td>37410.0</td>\n      <td>437127.0</td>\n      <td>175210.0</td>\n      <td>614881.0</td>\n      <td>215.253932</td>\n      <td>265.366278</td>\n      <td>206.212716</td>\n      <td>262.169895</td>\n    </tr>\n    <tr>\n      <th>3</th>\n      <td>1992_ARKANSAS</td>\n      <td>ARKANSAS</td>\n      <td>1992</td>\n      <td>NaN</td>\n      <td>1711959.0</td>\n      <td>178571.0</td>\n      <td>958785.0</td>\n      <td>574603.0</td>\n      <td>1743022.0</td>\n      <td>964323.0</td>\n      <td>...</td>\n      <td>34632.0</td>\n      <td>36011.0</td>\n      <td>27651.0</td>\n      <td>281338.0</td>\n      <td>123113.0</td>\n      <td>405259.0</td>\n      <td>210.206028</td>\n      <td>256.312090</td>\n      <td>208.634458</td>\n      <td>264.619665</td>\n    </tr>\n    <tr>\n      <th>4</th>\n      <td>1992_CALIFORNIA</td>\n      <td>CALIFORNIA</td>\n      <td>1992</td>\n      <td>NaN</td>\n      <td>26260025.0</td>\n      <td>2072470.0</td>\n      <td>16546514.0</td>\n      <td>7641041.0</td>\n      <td>27138832.0</td>\n      <td>14358922.0</td>\n      <td>...</td>\n      <td>418418.0</td>\n      <td>363296.0</td>\n      <td>270675.0</td>\n      <td>3286034.0</td>\n      <td>1372011.0</td>\n      <td>4717112.0</td>\n      <td>208.398961</td>\n      <td>260.892247</td>\n      <td>196.764414</td>\n      <td>265.519676</td>\n    </tr>\n  </tbody>\n</table>\n<p>5 rows × 25 columns</p>\n</div>",
        "text/plain": "       PRIMARY_KEY       STATE  YEAR  ENROLL  TOTAL_REVENUE  FEDERAL_REVENUE  \\\n0     1992_ALABAMA     ALABAMA  1992     NaN      2678885.0         304177.0   \n1      1992_ALASKA      ALASKA  1992     NaN      1049591.0         106780.0   \n2     1992_ARIZONA     ARIZONA  1992     NaN      3258079.0         297888.0   \n3    1992_ARKANSAS    ARKANSAS  1992     NaN      1711959.0         178571.0   \n4  1992_CALIFORNIA  CALIFORNIA  1992     NaN     26260025.0        2072470.0   \n\n   STATE_REVENUE  LOCAL_REVENUE  TOTAL_EXPENDITURE  INSTRUCTION_EXPENDITURE  \\\n0      1659028.0       715680.0          2653798.0                1481703.0   \n1       720711.0       222100.0           972488.0                 498362.0   \n2      1369815.0      1590376.0          3401580.0                1435908.0   \n3       958785.0       574603.0          1743022.0                 964323.0   \n4     16546514.0      7641041.0         27138832.0               14358922.0   \n\n   ...  GRADES_4_G  GRADES_8_G  GRADES_12_G  GRADES_1_8_G  GRADES_9_12_G  \\\n0  ...     57948.0     58025.0      41167.0      471564.0       196386.0   \n1  ...      9748.0      8789.0       6714.0       79117.0        30847.0   \n2  ...     55433.0     49081.0      37410.0      437127.0       175210.0   \n3  ...     34632.0     36011.0      27651.0      281338.0       123113.0   \n4  ...    418418.0    363296.0     270675.0     3286034.0      1372011.0   \n\n   GRADES_ALL_G  AVG_MATH_4_SCORE  AVG_MATH_8_SCORE  AVG_READING_4_SCORE  \\\n0      676174.0        208.327876        252.187522           207.963517   \n1      112335.0        211.790904        258.776900           207.088116   \n2      614881.0        215.253932        265.366278           206.212716   \n3      405259.0        210.206028        256.312090           208.634458   \n4     4717112.0        208.398961        260.892247           196.764414   \n\n   AVG_READING_8_SCORE  \n0           258.859712  \n1           258.859712  \n2           262.169895  \n3           264.619665  \n4           265.519676  \n\n[5 rows x 25 columns]"
       },
       "execution_count": 38,
       "metadata": {},
       "output_type": "execute_result"
      }
     ],
     "persistentId": "bc4d2f7f-b21d-4e6f-8283-faa26f5b74f3",
     "text": "# Since nothing suggests otherwise, we can use the linear method where the index is ignored\neducation4 = education.interpolate(method ='linear', limit_direction ='backward', limit = 1) \n\n# Inspect first 5 rows\neducation4.head()"
    },
    "executionTime": "2019-12-02T18:14:05.764Z"
   },
   {
    "cell": {
     "executionCount": 39,
     "executionEventId": "b5e0a2de-c7ad-4708-a60d-21e3eb3cee4e",
     "hasError": false,
     "id": "90db5692-47ab-42e4-9e4c-dfa93b719c53",
     "outputs": [
      {
       "data": {
        "text/html": "<div>\n<style scoped>\n    .dataframe tbody tr th:only-of-type {\n        vertical-align: middle;\n    }\n\n    .dataframe tbody tr th {\n        vertical-align: top;\n    }\n\n    .dataframe thead th {\n        text-align: right;\n    }\n</style>\n<table border=\"1\" class=\"dataframe\">\n  <thead>\n    <tr style=\"text-align: right;\">\n      <th></th>\n      <th>PRIMARY_KEY</th>\n      <th>STATE</th>\n      <th>YEAR</th>\n      <th>ENROLL</th>\n      <th>TOTAL_REVENUE</th>\n      <th>FEDERAL_REVENUE</th>\n      <th>STATE_REVENUE</th>\n      <th>LOCAL_REVENUE</th>\n      <th>TOTAL_EXPENDITURE</th>\n      <th>INSTRUCTION_EXPENDITURE</th>\n      <th>...</th>\n      <th>GRADES_4_G</th>\n      <th>GRADES_8_G</th>\n      <th>GRADES_12_G</th>\n      <th>GRADES_1_8_G</th>\n      <th>GRADES_9_12_G</th>\n      <th>GRADES_ALL_G</th>\n      <th>AVG_MATH_4_SCORE</th>\n      <th>AVG_MATH_8_SCORE</th>\n      <th>AVG_READING_4_SCORE</th>\n      <th>AVG_READING_8_SCORE</th>\n    </tr>\n  </thead>\n  <tbody>\n    <tr>\n      <th>0</th>\n      <td>1992_ALABAMA</td>\n      <td>ALABAMA</td>\n      <td>1992</td>\n      <td>NaN</td>\n      <td>2678885.0</td>\n      <td>304177.0</td>\n      <td>1659028.0</td>\n      <td>715680.0</td>\n      <td>2653798.0</td>\n      <td>1481703.0</td>\n      <td>...</td>\n      <td>57948.0</td>\n      <td>58025.0</td>\n      <td>41167.0</td>\n      <td>471564.0</td>\n      <td>196386.0</td>\n      <td>676174.0</td>\n      <td>208.327876</td>\n      <td>252.187522</td>\n      <td>207.963517</td>\n      <td>NaN</td>\n    </tr>\n    <tr>\n      <th>1</th>\n      <td>1992_ALASKA</td>\n      <td>ALASKA</td>\n      <td>1992</td>\n      <td>NaN</td>\n      <td>1049591.0</td>\n      <td>106780.0</td>\n      <td>720711.0</td>\n      <td>222100.0</td>\n      <td>972488.0</td>\n      <td>498362.0</td>\n      <td>...</td>\n      <td>9748.0</td>\n      <td>8789.0</td>\n      <td>6714.0</td>\n      <td>79117.0</td>\n      <td>30847.0</td>\n      <td>112335.0</td>\n      <td>211.790904</td>\n      <td>258.776900</td>\n      <td>207.088116</td>\n      <td>258.859712</td>\n    </tr>\n    <tr>\n      <th>2</th>\n      <td>1992_ARIZONA</td>\n      <td>ARIZONA</td>\n      <td>1992</td>\n      <td>NaN</td>\n      <td>3258079.0</td>\n      <td>297888.0</td>\n      <td>1369815.0</td>\n      <td>1590376.0</td>\n      <td>3401580.0</td>\n      <td>1435908.0</td>\n      <td>...</td>\n      <td>55433.0</td>\n      <td>49081.0</td>\n      <td>37410.0</td>\n      <td>437127.0</td>\n      <td>175210.0</td>\n      <td>614881.0</td>\n      <td>215.253932</td>\n      <td>265.366278</td>\n      <td>206.212716</td>\n      <td>262.169895</td>\n    </tr>\n    <tr>\n      <th>3</th>\n      <td>1992_ARKANSAS</td>\n      <td>ARKANSAS</td>\n      <td>1992</td>\n      <td>NaN</td>\n      <td>1711959.0</td>\n      <td>178571.0</td>\n      <td>958785.0</td>\n      <td>574603.0</td>\n      <td>1743022.0</td>\n      <td>964323.0</td>\n      <td>...</td>\n      <td>34632.0</td>\n      <td>36011.0</td>\n      <td>27651.0</td>\n      <td>281338.0</td>\n      <td>123113.0</td>\n      <td>405259.0</td>\n      <td>210.206028</td>\n      <td>256.312090</td>\n      <td>208.634458</td>\n      <td>264.619665</td>\n    </tr>\n    <tr>\n      <th>4</th>\n      <td>1992_CALIFORNIA</td>\n      <td>CALIFORNIA</td>\n      <td>1992</td>\n      <td>NaN</td>\n      <td>26260025.0</td>\n      <td>2072470.0</td>\n      <td>16546514.0</td>\n      <td>7641041.0</td>\n      <td>27138832.0</td>\n      <td>14358922.0</td>\n      <td>...</td>\n      <td>418418.0</td>\n      <td>363296.0</td>\n      <td>270675.0</td>\n      <td>3286034.0</td>\n      <td>1372011.0</td>\n      <td>4717112.0</td>\n      <td>208.398961</td>\n      <td>260.892247</td>\n      <td>196.764414</td>\n      <td>265.519676</td>\n    </tr>\n  </tbody>\n</table>\n<p>5 rows × 25 columns</p>\n</div>",
        "text/plain": "       PRIMARY_KEY       STATE  YEAR  ENROLL  TOTAL_REVENUE  FEDERAL_REVENUE  \\\n0     1992_ALABAMA     ALABAMA  1992     NaN      2678885.0         304177.0   \n1      1992_ALASKA      ALASKA  1992     NaN      1049591.0         106780.0   \n2     1992_ARIZONA     ARIZONA  1992     NaN      3258079.0         297888.0   \n3    1992_ARKANSAS    ARKANSAS  1992     NaN      1711959.0         178571.0   \n4  1992_CALIFORNIA  CALIFORNIA  1992     NaN     26260025.0        2072470.0   \n\n   STATE_REVENUE  LOCAL_REVENUE  TOTAL_EXPENDITURE  INSTRUCTION_EXPENDITURE  \\\n0      1659028.0       715680.0          2653798.0                1481703.0   \n1       720711.0       222100.0           972488.0                 498362.0   \n2      1369815.0      1590376.0          3401580.0                1435908.0   \n3       958785.0       574603.0          1743022.0                 964323.0   \n4     16546514.0      7641041.0         27138832.0               14358922.0   \n\n   ...  GRADES_4_G  GRADES_8_G  GRADES_12_G  GRADES_1_8_G  GRADES_9_12_G  \\\n0  ...     57948.0     58025.0      41167.0      471564.0       196386.0   \n1  ...      9748.0      8789.0       6714.0       79117.0        30847.0   \n2  ...     55433.0     49081.0      37410.0      437127.0       175210.0   \n3  ...     34632.0     36011.0      27651.0      281338.0       123113.0   \n4  ...    418418.0    363296.0     270675.0     3286034.0      1372011.0   \n\n   GRADES_ALL_G  AVG_MATH_4_SCORE  AVG_MATH_8_SCORE  AVG_READING_4_SCORE  \\\n0      676174.0        208.327876        252.187522           207.963517   \n1      112335.0        211.790904        258.776900           207.088116   \n2      614881.0        215.253932        265.366278           206.212716   \n3      405259.0        210.206028        256.312090           208.634458   \n4     4717112.0        208.398961        260.892247           196.764414   \n\n   AVG_READING_8_SCORE  \n0                  NaN  \n1           258.859712  \n2           262.169895  \n3           264.619665  \n4           265.519676  \n\n[5 rows x 25 columns]"
       },
       "execution_count": 39,
       "metadata": {},
       "output_type": "execute_result"
      }
     ],
     "persistentId": "bc4d2f7f-b21d-4e6f-8283-faa26f5b74f3",
     "text": "# Since nothing suggests otherwise, we can use the linear method where the index is ignored\neducation4 = education.interpolate(method ='linear', limit_direction ='forward', limit = 1) \n\n# Inspect first 5 rows\neducation4.head()"
    },
    "executionTime": "2019-12-02T18:14:23.998Z"
   },
   {
    "cell": {
     "executionCount": 40,
     "executionEventId": "062d40e4-6e9a-4abb-bb67-e406ad4b9bfd",
     "hasError": false,
     "id": "561e301b-04c0-4dbf-83f0-e769688c3240",
     "outputs": [
      {
       "data": {
        "text/plain": "PRIMARY_KEY                     0.000000\nSTATE                           0.000000\nYEAR                            0.000000\nENROLL                          0.071716\nTOTAL_REVENUE                   0.034182\nFEDERAL_REVENUE                 0.034182\nSTATE_REVENUE                   0.034182\nLOCAL_REVENUE                   0.034182\nTOTAL_EXPENDITURE               0.034182\nINSTRUCTION_EXPENDITURE         0.034182\nSUPPORT_SERVICES_EXPENDITURE    0.034182\nOTHER_EXPENDITURE               0.071716\nCAPITAL_OUTLAY_EXPENDITURE      0.034182\nGRADES_PK_G                     0.068365\nGRADES_KG_G                     0.068365\nGRADES_4_G                      0.068365\nGRADES_8_G                      0.068365\nGRADES_12_G                     0.068365\nGRADES_1_8_G                    0.068365\nGRADES_9_12_G                   0.068365\nGRADES_ALL_G                    0.068365\nAVG_MATH_4_SCORE                0.640751\nAVG_MATH_8_SCORE                0.643432\nAVG_READING_4_SCORE             0.642761\nAVG_READING_8_SCORE             0.666220\ndtype: float64"
       },
       "execution_count": 40,
       "metadata": {},
       "output_type": "execute_result"
      }
     ],
     "persistentId": "54aba746-8ff7-4704-9e50-4f2f4c3f11cb",
     "text": "education3.isnull().sum() / education3.isnull().count()"
    },
    "executionTime": "2019-12-02T18:15:15.599Z"
   },
   {
    "cell": {
     "executionCount": 41,
     "executionEventId": "9282c1d1-57d9-4605-be52-4557cec8a463",
     "hasError": false,
     "id": "5b16a9f4-c876-431b-875e-411400ec61f3",
     "outputs": [
      {
       "data": {
        "text/plain": "PRIMARY_KEY                     0.000000\nSTATE                           0.000000\nYEAR                            0.000000\nENROLL                          0.170912\nTOTAL_REVENUE                   0.137399\nFEDERAL_REVENUE                 0.137399\nSTATE_REVENUE                   0.137399\nLOCAL_REVENUE                   0.137399\nTOTAL_EXPENDITURE               0.137399\nINSTRUCTION_EXPENDITURE         0.137399\nSUPPORT_SERVICES_EXPENDITURE    0.137399\nOTHER_EXPENDITURE               0.170912\nCAPITAL_OUTLAY_EXPENDITURE      0.137399\nGRADES_PK_G                     0.071046\nGRADES_KG_G                     0.063003\nGRADES_4_G                      0.063003\nGRADES_8_G                      0.063003\nGRADES_12_G                     0.063003\nGRADES_1_8_G                    0.063003\nGRADES_9_12_G                   0.063003\nGRADES_ALL_G                    0.071046\nAVG_MATH_4_SCORE                0.615282\nAVG_MATH_8_SCORE                0.616622\nAVG_READING_4_SCORE             0.618633\nAVG_READING_8_SCORE             0.646113\ndtype: float64"
       },
       "execution_count": 41,
       "metadata": {},
       "output_type": "execute_result"
      }
     ],
     "persistentId": "6e50fda8-d1f1-4350-8410-093ced094ba5",
     "text": "education4.isnull().sum() / education4.isnull().count()"
    },
    "executionTime": "2019-12-02T18:15:27.063Z"
   },
   {
    "cell": {
     "executionCount": 42,
     "executionEventId": "203ab159-9ec8-4286-806d-76bda6685a7e",
     "hasError": false,
     "id": "f5459a26-1c1d-4587-9995-250dbf0a525e",
     "outputs": [
      {
       "data": {
        "text/plain": "PRIMARY_KEY                     0.000000\nSTATE                           0.000000\nYEAR                            0.000000\nENROLL                          0.000000\nTOTAL_REVENUE                   0.000000\nFEDERAL_REVENUE                 0.000000\nSTATE_REVENUE                   0.000000\nLOCAL_REVENUE                   0.000000\nTOTAL_EXPENDITURE               0.000000\nINSTRUCTION_EXPENDITURE         0.000000\nSUPPORT_SERVICES_EXPENDITURE    0.000000\nOTHER_EXPENDITURE               0.000000\nCAPITAL_OUTLAY_EXPENDITURE      0.000000\nGRADES_PK_G                     0.000000\nGRADES_KG_G                     0.000000\nGRADES_4_G                      0.000000\nGRADES_8_G                      0.000000\nGRADES_12_G                     0.000000\nGRADES_1_8_G                    0.000000\nGRADES_9_12_G                   0.000000\nGRADES_ALL_G                    0.000000\nAVG_MATH_4_SCORE                0.640751\nAVG_MATH_8_SCORE                0.643432\nAVG_READING_4_SCORE             0.642761\nAVG_READING_8_SCORE             0.666220\ndtype: float64"
       },
       "execution_count": 42,
       "metadata": {},
       "output_type": "execute_result"
      }
     ],
     "persistentId": "c218dff3-9a83-4913-a74a-eda65f8c0935",
     "text": "# Method 1: \neducation2.isnull().sum() / education2.isnull().count()"
    },
    "executionTime": "2019-12-02T18:16:31.740Z"
   },
   {
    "cell": {
     "executionCount": 43,
     "executionEventId": "3444e331-7d16-4100-93fd-23a7ee6c7634",
     "hasError": false,
     "id": "357a45db-7d89-4ba8-b471-58fc5075dee9",
     "outputs": [
      {
       "data": {
        "text/plain": "PRIMARY_KEY                     0.000000\nSTATE                           0.000000\nYEAR                            0.000000\nENROLL                          0.071716\nTOTAL_REVENUE                   0.034182\nFEDERAL_REVENUE                 0.034182\nSTATE_REVENUE                   0.034182\nLOCAL_REVENUE                   0.034182\nTOTAL_EXPENDITURE               0.034182\nINSTRUCTION_EXPENDITURE         0.034182\nSUPPORT_SERVICES_EXPENDITURE    0.034182\nOTHER_EXPENDITURE               0.071716\nCAPITAL_OUTLAY_EXPENDITURE      0.034182\nGRADES_PK_G                     0.068365\nGRADES_KG_G                     0.068365\nGRADES_4_G                      0.068365\nGRADES_8_G                      0.068365\nGRADES_12_G                     0.068365\nGRADES_1_8_G                    0.068365\nGRADES_9_12_G                   0.068365\nGRADES_ALL_G                    0.068365\nAVG_MATH_4_SCORE                0.640751\nAVG_MATH_8_SCORE                0.643432\nAVG_READING_4_SCORE             0.642761\nAVG_READING_8_SCORE             0.666220\ndtype: float64"
       },
       "execution_count": 43,
       "metadata": {},
       "output_type": "execute_result"
      }
     ],
     "persistentId": "7c109837-fb3d-4f39-af02-1f7b6e7d2a37",
     "text": "# Method 2: Use medians from the same year\neducation3.isnull().sum() / education3.isnull().count()"
    },
    "executionTime": "2019-12-02T18:17:06.317Z"
   },
   {
    "cell": {
     "executionCount": 44,
     "executionEventId": "c6061357-8a27-4177-a11e-87168d726bb0",
     "hasError": false,
     "id": "98cee48b-30d9-486a-b49e-7b3743010425",
     "outputs": [
      {
       "data": {
        "text/plain": "PRIMARY_KEY                     0.000000\nSTATE                           0.000000\nYEAR                            0.000000\nENROLL                          0.170912\nTOTAL_REVENUE                   0.137399\nFEDERAL_REVENUE                 0.137399\nSTATE_REVENUE                   0.137399\nLOCAL_REVENUE                   0.137399\nTOTAL_EXPENDITURE               0.137399\nINSTRUCTION_EXPENDITURE         0.137399\nSUPPORT_SERVICES_EXPENDITURE    0.137399\nOTHER_EXPENDITURE               0.170912\nCAPITAL_OUTLAY_EXPENDITURE      0.137399\nGRADES_PK_G                     0.071046\nGRADES_KG_G                     0.063003\nGRADES_4_G                      0.063003\nGRADES_8_G                      0.063003\nGRADES_12_G                     0.063003\nGRADES_1_8_G                    0.063003\nGRADES_9_12_G                   0.063003\nGRADES_ALL_G                    0.071046\nAVG_MATH_4_SCORE                0.615282\nAVG_MATH_8_SCORE                0.616622\nAVG_READING_4_SCORE             0.618633\nAVG_READING_8_SCORE             0.646113\ndtype: float64"
       },
       "execution_count": 44,
       "metadata": {},
       "output_type": "execute_result"
      }
     ],
     "persistentId": "f6d632b3-77cb-43f5-a4a7-b42369f9a6d7",
     "text": "# Method 3: Use the next value to fill in missing values\neducation4.isnull().sum() / education4.isnull().count()"
    },
    "executionTime": "2019-12-02T18:17:37.306Z"
   }
  ],
  "kernelspec": {
   "display_name": "Python 3",
   "language": "python",
   "name": "python3"
  },
  "language_info": {
   "codemirror_mode": {
    "name": "ipython",
    "version": 3
   },
   "file_extension": ".py",
   "mimetype": "text/x-python",
   "name": "python",
   "nbconvert_exporter": "python",
   "pygments_lexer": "ipython3",
   "version": "3.7.3"
  },
  "toc-autonumbering": false,
  "toc-showmarkdowntxt": false,
  "uuid": "df7f66be-53fd-44a9-99b3-521d01f4b3f3"
 },
 "nbformat": 4,
 "nbformat_minor": 4
}
