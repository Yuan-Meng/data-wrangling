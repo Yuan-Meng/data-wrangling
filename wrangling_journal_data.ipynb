{
 "cells": [
  {
   "cell_type": "markdown",
   "metadata": {},
   "source": [
    "# Data Cleaning Challenge\n",
    "\n",
    "Open access journals are free to the readers but often charge high [\"open access fees\"](https://www.nature.com/news/open-access-the-true-cost-of-science-publishing-1.12676) to the researchers. The Welcome Trust helped many researchers pay for their fees and released the spend data in 2012-2013. From this dataset, we can answer the following questions:\n",
    "\n",
    "- What are the top 5 journals that the Welcome Trust helped pay for? How many articles were published in each?\n",
    "- For each journal, what are the mean, the median, and the standard deviation of the open-access fee per article?"
   ]
  },
  {
   "cell_type": "markdown",
   "metadata": {},
   "source": [
    "## Import data"
   ]
  },
  {
   "cell_type": "code",
   "execution_count": 207,
   "metadata": {},
   "outputs": [],
   "source": [
    "import pandas as pd\n",
    "import numpy as np\n",
    "import matplotlib.pyplot as plt\n",
    "import seaborn as sns\n",
    "import chardet"
   ]
  },
  {
   "cell_type": "markdown",
   "metadata": {},
   "source": [
    "Directly reading Welcome Trust's data file (`df = pd.read_csv('journals.csv')`) returns a `UnicodeDecodeError `, suggesting that their file isn't encoded by unicode. We can use `chardet` to detect the most likely encoding method and decode accordingly."
   ]
  },
  {
   "cell_type": "code",
   "execution_count": 208,
   "metadata": {},
   "outputs": [
    {
     "name": "stdout",
     "output_type": "stream",
     "text": [
      "{'encoding': 'ISO-8859-1', 'confidence': 0.73, 'language': ''}\n"
     ]
    }
   ],
   "source": [
    "# Use chardet to detect encoding \n",
    "with open(\"journals.csv\", 'rb') as rawdata:\n",
    "    result = chardet.detect(rawdata.read(10000))\n",
    "\n",
    "# View the result    \n",
    "print(result)"
   ]
  },
  {
   "cell_type": "markdown",
   "metadata": {},
   "source": [
    "Interestingly, chardet makes different guesses depending on how many characters we let it read. When the number is small (< 100), the most likely guess is ascii. When the number is between 100 and 10000, the best guess is ISO-8859-1. At 100000 characters, the best guess becomes Windows-1252. Among the three encoding methods, only ISO-8859-1 can successfully decode the file."
   ]
  },
  {
   "cell_type": "code",
   "execution_count": 209,
   "metadata": {},
   "outputs": [],
   "source": [
    "# Use the most likely encoding method to decode\n",
    "charenc = result['encoding']\n",
    "df = pd.read_csv('journals.csv', encoding=charenc)"
   ]
  },
  {
   "cell_type": "code",
   "execution_count": 210,
   "metadata": {},
   "outputs": [
    {
     "data": {
      "text/html": [
       "<div>\n",
       "<style scoped>\n",
       "    .dataframe tbody tr th:only-of-type {\n",
       "        vertical-align: middle;\n",
       "    }\n",
       "\n",
       "    .dataframe tbody tr th {\n",
       "        vertical-align: top;\n",
       "    }\n",
       "\n",
       "    .dataframe thead th {\n",
       "        text-align: right;\n",
       "    }\n",
       "</style>\n",
       "<table border=\"1\" class=\"dataframe\">\n",
       "  <thead>\n",
       "    <tr style=\"text-align: right;\">\n",
       "      <th></th>\n",
       "      <th>PMID/PMCID</th>\n",
       "      <th>Publisher</th>\n",
       "      <th>Journal title</th>\n",
       "      <th>Article title</th>\n",
       "      <th>COST (£) charged to Wellcome (inc VAT when charged)</th>\n",
       "    </tr>\n",
       "  </thead>\n",
       "  <tbody>\n",
       "    <tr>\n",
       "      <th>0</th>\n",
       "      <td>NaN</td>\n",
       "      <td>CUP</td>\n",
       "      <td>Psychological Medicine</td>\n",
       "      <td>Reduced parahippocampal cortical thickness in ...</td>\n",
       "      <td>£0.00</td>\n",
       "    </tr>\n",
       "    <tr>\n",
       "      <th>1</th>\n",
       "      <td>PMC3679557</td>\n",
       "      <td>ACS</td>\n",
       "      <td>Biomacromolecules</td>\n",
       "      <td>Structural characterization of a Model Gram-ne...</td>\n",
       "      <td>£2381.04</td>\n",
       "    </tr>\n",
       "    <tr>\n",
       "      <th>2</th>\n",
       "      <td>23043264  PMC3506128</td>\n",
       "      <td>ACS</td>\n",
       "      <td>J Med Chem</td>\n",
       "      <td>Fumaroylamino-4,5-epoxymorphinans and related ...</td>\n",
       "      <td>£642.56</td>\n",
       "    </tr>\n",
       "    <tr>\n",
       "      <th>3</th>\n",
       "      <td>23438330 PMC3646402</td>\n",
       "      <td>ACS</td>\n",
       "      <td>J Med Chem</td>\n",
       "      <td>Orvinols with mixed kappa/mu opioid receptor a...</td>\n",
       "      <td>£669.64</td>\n",
       "    </tr>\n",
       "    <tr>\n",
       "      <th>4</th>\n",
       "      <td>23438216 PMC3601604</td>\n",
       "      <td>ACS</td>\n",
       "      <td>J Org Chem</td>\n",
       "      <td>Regioselective opening of myo-inositol orthoes...</td>\n",
       "      <td>£685.88</td>\n",
       "    </tr>\n",
       "  </tbody>\n",
       "</table>\n",
       "</div>"
      ],
      "text/plain": [
       "              PMID/PMCID Publisher           Journal title  \\\n",
       "0                    NaN       CUP  Psychological Medicine   \n",
       "1             PMC3679557       ACS       Biomacromolecules   \n",
       "2  23043264  PMC3506128        ACS              J Med Chem   \n",
       "3    23438330 PMC3646402       ACS              J Med Chem   \n",
       "4   23438216 PMC3601604        ACS              J Org Chem   \n",
       "\n",
       "                                       Article title  \\\n",
       "0  Reduced parahippocampal cortical thickness in ...   \n",
       "1  Structural characterization of a Model Gram-ne...   \n",
       "2  Fumaroylamino-4,5-epoxymorphinans and related ...   \n",
       "3  Orvinols with mixed kappa/mu opioid receptor a...   \n",
       "4  Regioselective opening of myo-inositol orthoes...   \n",
       "\n",
       "  COST (£) charged to Wellcome (inc VAT when charged)  \n",
       "0                                              £0.00   \n",
       "1                                           £2381.04   \n",
       "2                                            £642.56   \n",
       "3                                            £669.64   \n",
       "4                                            £685.88   "
      ]
     },
     "execution_count": 210,
     "metadata": {},
     "output_type": "execute_result"
    }
   ],
   "source": [
    "# Check first 5 rows\n",
    "df.head()"
   ]
  },
  {
   "cell_type": "markdown",
   "metadata": {},
   "source": [
    "The column names are quite verbose; let's rename them into something simpler."
   ]
  },
  {
   "cell_type": "code",
   "execution_count": 211,
   "metadata": {},
   "outputs": [],
   "source": [
    "newcols = {\n",
    "    df.columns[0]: 'pmcid',\n",
    "    df.columns[1]: 'publisher', \n",
    "    df.columns[2]: 'journal',\n",
    "    df.columns[3]: 'article',\n",
    "    df.columns[4]: 'cost'\n",
    "    }\n",
    "\n",
    "df = df.rename(columns=newcols)"
   ]
  },
  {
   "cell_type": "code",
   "execution_count": 212,
   "metadata": {},
   "outputs": [
    {
     "data": {
      "text/html": [
       "<div>\n",
       "<style scoped>\n",
       "    .dataframe tbody tr th:only-of-type {\n",
       "        vertical-align: middle;\n",
       "    }\n",
       "\n",
       "    .dataframe tbody tr th {\n",
       "        vertical-align: top;\n",
       "    }\n",
       "\n",
       "    .dataframe thead th {\n",
       "        text-align: right;\n",
       "    }\n",
       "</style>\n",
       "<table border=\"1\" class=\"dataframe\">\n",
       "  <thead>\n",
       "    <tr style=\"text-align: right;\">\n",
       "      <th></th>\n",
       "      <th>pmcid</th>\n",
       "      <th>publisher</th>\n",
       "      <th>journal</th>\n",
       "      <th>article</th>\n",
       "      <th>cost</th>\n",
       "    </tr>\n",
       "  </thead>\n",
       "  <tbody>\n",
       "    <tr>\n",
       "      <th>0</th>\n",
       "      <td>NaN</td>\n",
       "      <td>CUP</td>\n",
       "      <td>Psychological Medicine</td>\n",
       "      <td>Reduced parahippocampal cortical thickness in ...</td>\n",
       "      <td>£0.00</td>\n",
       "    </tr>\n",
       "    <tr>\n",
       "      <th>1</th>\n",
       "      <td>PMC3679557</td>\n",
       "      <td>ACS</td>\n",
       "      <td>Biomacromolecules</td>\n",
       "      <td>Structural characterization of a Model Gram-ne...</td>\n",
       "      <td>£2381.04</td>\n",
       "    </tr>\n",
       "    <tr>\n",
       "      <th>2</th>\n",
       "      <td>23043264  PMC3506128</td>\n",
       "      <td>ACS</td>\n",
       "      <td>J Med Chem</td>\n",
       "      <td>Fumaroylamino-4,5-epoxymorphinans and related ...</td>\n",
       "      <td>£642.56</td>\n",
       "    </tr>\n",
       "    <tr>\n",
       "      <th>3</th>\n",
       "      <td>23438330 PMC3646402</td>\n",
       "      <td>ACS</td>\n",
       "      <td>J Med Chem</td>\n",
       "      <td>Orvinols with mixed kappa/mu opioid receptor a...</td>\n",
       "      <td>£669.64</td>\n",
       "    </tr>\n",
       "    <tr>\n",
       "      <th>4</th>\n",
       "      <td>23438216 PMC3601604</td>\n",
       "      <td>ACS</td>\n",
       "      <td>J Org Chem</td>\n",
       "      <td>Regioselective opening of myo-inositol orthoes...</td>\n",
       "      <td>£685.88</td>\n",
       "    </tr>\n",
       "  </tbody>\n",
       "</table>\n",
       "</div>"
      ],
      "text/plain": [
       "                   pmcid publisher                 journal  \\\n",
       "0                    NaN       CUP  Psychological Medicine   \n",
       "1             PMC3679557       ACS       Biomacromolecules   \n",
       "2  23043264  PMC3506128        ACS              J Med Chem   \n",
       "3    23438330 PMC3646402       ACS              J Med Chem   \n",
       "4   23438216 PMC3601604        ACS              J Org Chem   \n",
       "\n",
       "                                             article      cost  \n",
       "0  Reduced parahippocampal cortical thickness in ...     £0.00  \n",
       "1  Structural characterization of a Model Gram-ne...  £2381.04  \n",
       "2  Fumaroylamino-4,5-epoxymorphinans and related ...   £642.56  \n",
       "3  Orvinols with mixed kappa/mu opioid receptor a...   £669.64  \n",
       "4  Regioselective opening of myo-inositol orthoes...   £685.88  "
      ]
     },
     "execution_count": 212,
     "metadata": {},
     "output_type": "execute_result"
    }
   ],
   "source": [
    "# Take a look again\n",
    "df.head()"
   ]
  },
  {
   "cell_type": "markdown",
   "metadata": {},
   "source": [
    "## Check for duplicates\n",
    "One column that shouldn't have duplicates is `article`. We can use `.describe()` to quickly check."
   ]
  },
  {
   "cell_type": "code",
   "execution_count": 213,
   "metadata": {},
   "outputs": [
    {
     "data": {
      "text/html": [
       "<div>\n",
       "<style scoped>\n",
       "    .dataframe tbody tr th:only-of-type {\n",
       "        vertical-align: middle;\n",
       "    }\n",
       "\n",
       "    .dataframe tbody tr th {\n",
       "        vertical-align: top;\n",
       "    }\n",
       "\n",
       "    .dataframe thead th {\n",
       "        text-align: right;\n",
       "    }\n",
       "</style>\n",
       "<table border=\"1\" class=\"dataframe\">\n",
       "  <thead>\n",
       "    <tr style=\"text-align: right;\">\n",
       "      <th></th>\n",
       "      <th>pmcid</th>\n",
       "      <th>publisher</th>\n",
       "      <th>journal</th>\n",
       "      <th>article</th>\n",
       "      <th>cost</th>\n",
       "    </tr>\n",
       "  </thead>\n",
       "  <tbody>\n",
       "    <tr>\n",
       "      <th>count</th>\n",
       "      <td>1928</td>\n",
       "      <td>2127</td>\n",
       "      <td>2126</td>\n",
       "      <td>2127</td>\n",
       "      <td>2127</td>\n",
       "    </tr>\n",
       "    <tr>\n",
       "      <th>unique</th>\n",
       "      <td>1880</td>\n",
       "      <td>299</td>\n",
       "      <td>984</td>\n",
       "      <td>2126</td>\n",
       "      <td>1402</td>\n",
       "    </tr>\n",
       "    <tr>\n",
       "      <th>top</th>\n",
       "      <td>Not yet available</td>\n",
       "      <td>Elsevier</td>\n",
       "      <td>PLoS One</td>\n",
       "      <td>Exclusive breastfeeding, diarrhoel morbidity a...</td>\n",
       "      <td>£2040.00</td>\n",
       "    </tr>\n",
       "    <tr>\n",
       "      <th>freq</th>\n",
       "      <td>7</td>\n",
       "      <td>387</td>\n",
       "      <td>92</td>\n",
       "      <td>2</td>\n",
       "      <td>94</td>\n",
       "    </tr>\n",
       "  </tbody>\n",
       "</table>\n",
       "</div>"
      ],
      "text/plain": [
       "                    pmcid publisher   journal  \\\n",
       "count                1928      2127      2126   \n",
       "unique               1880       299       984   \n",
       "top     Not yet available  Elsevier  PLoS One   \n",
       "freq                    7       387        92   \n",
       "\n",
       "                                                  article      cost  \n",
       "count                                                2127      2127  \n",
       "unique                                               2126      1402  \n",
       "top     Exclusive breastfeeding, diarrhoel morbidity a...  £2040.00  \n",
       "freq                                                    2        94  "
      ]
     },
     "execution_count": 213,
     "metadata": {},
     "output_type": "execute_result"
    }
   ],
   "source": [
    "df.describe()"
   ]
  },
  {
   "cell_type": "markdown",
   "metadata": {},
   "source": [
    "Since the unique count of articles is 1 fewer than the count, there is one duplicate. We can keep the first record."
   ]
  },
  {
   "cell_type": "code",
   "execution_count": 214,
   "metadata": {},
   "outputs": [],
   "source": [
    "df.drop_duplicates(subset=['article'], keep='first', inplace=True)"
   ]
  },
  {
   "cell_type": "markdown",
   "metadata": {},
   "source": [
    "## Top 5 journals\n",
    "If journal names were entered properly, we can do a quick value count by journal and find out what the top 5 are. Unfortunately, the names seem quite messy."
   ]
  },
  {
   "cell_type": "code",
   "execution_count": 215,
   "metadata": {},
   "outputs": [
    {
     "data": {
      "text/plain": [
       "PLoS One                                           91\n",
       "PLoS ONE                                           62\n",
       "Journal of Biological Chemistry                    48\n",
       "Nucleic Acids Research                             21\n",
       "Proceedings of the National Academy of Sciences    19\n",
       "Human Molecular Genetics                           18\n",
       "PLoS Neglected Tropical Diseases                   18\n",
       "Nature Communications                              17\n",
       "PLoS Genetics                                      15\n",
       "Neuroimage                                         15\n",
       "PLoS Pathogens                                     15\n",
       "PLOS ONE                                           14\n",
       "BMC Public Health                                  14\n",
       "NeuroImage                                         14\n",
       "Brain                                              14\n",
       "Movement Disorders                                 13\n",
       "Developmental Cell                                 12\n",
       "Biochemical Journal                                12\n",
       "Journal of Neuroscience                            12\n",
       "Journal of General Virology                        11\n",
       "Current Biology                                    10\n",
       "PLOS One                                           10\n",
       "BMJ                                                10\n",
       "Cell Reports                                        9\n",
       "Neuron                                              9\n",
       "Malaria Journal                                     8\n",
       "Neurobiology of Aging                               8\n",
       "Journal of Physiology                               8\n",
       "Development                                         8\n",
       "European Journal of Immunology                      8\n",
       "Name: journal, dtype: int64"
      ]
     },
     "execution_count": 215,
     "metadata": {},
     "output_type": "execute_result"
    }
   ],
   "source": [
    "df['journal'].value_counts().head(30)"
   ]
  },
  {
   "cell_type": "markdown",
   "metadata": {},
   "source": [
    "For instance, _PLOS One_ has several synonyms due to different capitalization styles, such as \"_PloS One_\", \"_PloS ONE_\", etc.. For simplicity, we can use the `.title()` method to capitalize the first letter of each word in all journal titles. Stylistically, this isn't the most ideal choice since, for example, _PNAS_ will become _Pnas_. However, this is good enough for counting."
   ]
  },
  {
   "cell_type": "code",
   "execution_count": 216,
   "metadata": {},
   "outputs": [],
   "source": [
    "df['journal'] = df['journal'].apply(lambda x: str(x).title())"
   ]
  },
  {
   "cell_type": "markdown",
   "metadata": {},
   "source": [
    "Although I didn't spot weird spacings in the (abridged) list above, it's still safer that we remove all potential empty spaces using the `.strip()` method."
   ]
  },
  {
   "cell_type": "code",
   "execution_count": 217,
   "metadata": {},
   "outputs": [],
   "source": [
    "df['journal'] = df['journal'].apply(lambda x: str(x).strip())"
   ]
  },
  {
   "cell_type": "markdown",
   "metadata": {},
   "source": [
    "It's trickier to deal with synonyms caused by abbreviations, omissions, typos, etc.. For these cases, we can look through all journal names for anything suspicious. "
   ]
  },
  {
   "cell_type": "code",
   "execution_count": 218,
   "metadata": {},
   "outputs": [],
   "source": [
    "names = sorted(df['journal'].unique())\n",
    "# print to see the full list: print(names)"
   ]
  },
  {
   "cell_type": "markdown",
   "metadata": {},
   "source": [
    "After a quick look, I already saw several typos (e.g., *Epigenetics* vs. *Epigentics*), omissions (e.g., *Virology* vs. *Virology Journal*), different uses of symbols (*Health & Place* vs. *Health And Place*), different abbreviations (e.g., *PNAS* vs. *Proc Natl Acad Sci U S A*), and various other ways that led to synonyms. *PNAS* alone has quite a lot of variations, such as:\n",
    "\n",
    "- Pnas\n",
    "- Pnas (Proceedings Of The National Academy Of Sciences Of The United States Of America\n",
    "- Pnas Usa\n",
    "- Proc Natl Acad Sci U S A.\n",
    "- Proceddings Of The National Academy Of Sciences Of Usa\n",
    "- Proceedings Of The National Academy Of Sciences\n",
    "- Proceedings Of The National Academy Of Sciences (Pnas)\n",
    "- Proceedings Of The National Academy Of Sciences Of The United States Of America\n",
    "- Proceedings Of The National Academy Of Sciences Of The Usa\n",
    "- ... \n",
    "\n",
    "There may not be a one-size-fit-all solution to all problems and each has to be dealt with on a case by case basis. It's easy to fix using \"&\" instead of \"And\"."
   ]
  },
  {
   "cell_type": "code",
   "execution_count": 219,
   "metadata": {},
   "outputs": [],
   "source": [
    "df['journal'] = df['journal'].apply(lambda x: str(x).replace('&', 'And'))"
   ]
  },
  {
   "cell_type": "markdown",
   "metadata": {},
   "source": [
    "Other issues may require more advanced methods to solve. Since we are only looking for the top 5 journals, we may not need clean everything. After a quick look below, among journals that have messy names, only PNAS seems like it could make it to top 5. For our immediate purpose, we can just pick out PNAS to clean."
   ]
  },
  {
   "cell_type": "code",
   "execution_count": 220,
   "metadata": {},
   "outputs": [
    {
     "data": {
      "text/plain": [
       "Plos One                                           189\n",
       "Journal Of Biological Chemistry                     53\n",
       "Neuroimage                                          29\n",
       "Nucleic Acids Research                              26\n",
       "Plos Genetics                                       24\n",
       "Plos Pathogens                                      24\n",
       "Proceedings Of The National Academy Of Sciences     22\n",
       "Plos Neglected Tropical Diseases                    20\n",
       "Nature Communications                               19\n",
       "Human Molecular Genetics                            19\n",
       "Name: journal, dtype: int64"
      ]
     },
     "execution_count": 220,
     "metadata": {},
     "output_type": "execute_result"
    }
   ],
   "source": [
    "df['journal'].value_counts().head(10)"
   ]
  },
  {
   "cell_type": "code",
   "execution_count": 221,
   "metadata": {},
   "outputs": [],
   "source": [
    "# Substrings contained in different synonyms of PNAS\n",
    "pnas = ['Proceedings Of The National Academy Of Sciences', 'Proc Natl Acad Sci', 'Pnas']\n",
    "\n",
    "# is_pnas is True if journal names contain one of the substrings above  \n",
    "df['is_pnas'] = df['journal'].apply(lambda x: any(i in str(x) for i in pnas))\n",
    "\n",
    "# If is_pnas is True, replace journal names with \"Proceedings Of The National Academy Of Sciences\"\n",
    "df.loc[df['is_pnas'] == True, ['journal']] = 'Proceedings Of The National Academy Of Sciences'"
   ]
  },
  {
   "cell_type": "markdown",
   "metadata": {},
   "source": [
    "The table below shows the five most common journals that the Welcome Trust helped pay for during 2012-2013 as well and the number articles published in each journal. \n",
    "With variations of names taken care of, PNAS has now made it to the top 3 (rather than top 7 previously)!"
   ]
  },
  {
   "cell_type": "code",
   "execution_count": 222,
   "metadata": {},
   "outputs": [
    {
     "data": {
      "text/plain": [
       "Plos One                                           189\n",
       "Journal Of Biological Chemistry                     53\n",
       "Proceedings Of The National Academy Of Sciences     36\n",
       "Neuroimage                                          29\n",
       "Nucleic Acids Research                              26\n",
       "Name: journal, dtype: int64"
      ]
     },
     "execution_count": 222,
     "metadata": {},
     "output_type": "execute_result"
    }
   ],
   "source": [
    "df['journal'].value_counts().head(5)"
   ]
  },
  {
   "cell_type": "markdown",
   "metadata": {},
   "source": [
    "## Open-access fee per article\n",
    "Before calculating each journal's mean and median open-access fees per article and the standard deviation, we need to first make sure that all costs are numeric."
   ]
  },
  {
   "cell_type": "code",
   "execution_count": 223,
   "metadata": {},
   "outputs": [],
   "source": [
    "# Remove all \"£\"\n",
    "df['cost'] = df['cost'].apply(lambda x: str(x).replace('£', ''))\n",
    "\n",
    "# Convert to numerics\n",
    "df['cost'] = pd.to_numeric(df['cost'], errors='coerce')"
   ]
  },
  {
   "cell_type": "markdown",
   "metadata": {},
   "source": [
    "Now we can generate a brief description of the cost data. "
   ]
  },
  {
   "cell_type": "code",
   "execution_count": 224,
   "metadata": {},
   "outputs": [
    {
     "data": {
      "text/plain": [
       "count      2113.000000\n",
       "mean      24217.507089\n",
       "std      147334.981612\n",
       "min           0.000000\n",
       "25%        1280.000000\n",
       "50%        1890.000000\n",
       "75%        2322.570000\n",
       "max      999999.000000\n",
       "Name: cost, dtype: float64"
      ]
     },
     "execution_count": 224,
     "metadata": {},
     "output_type": "execute_result"
    }
   ],
   "source": [
    "df['cost'].describe()"
   ]
  },
  {
   "cell_type": "markdown",
   "metadata": {},
   "source": [
    "Obviously, no journal can charge £999,999 for open access publishing; this number most likely used to code missing values. "
   ]
  },
  {
   "cell_type": "code",
   "execution_count": 226,
   "metadata": {},
   "outputs": [
    {
     "data": {
      "text/plain": [
       "count      2066.000000\n",
       "mean       2019.186583\n",
       "std        6120.799331\n",
       "min           0.000000\n",
       "25%        1269.740000\n",
       "50%        1863.930000\n",
       "75%        2304.022500\n",
       "max      201024.000000\n",
       "Name: cost, dtype: float64"
      ]
     },
     "execution_count": 226,
     "metadata": {},
     "output_type": "execute_result"
    }
   ],
   "source": [
    "# Replace 999999.000000 with null values\n",
    "df.loc[df['cost'] == 999999.000000, ['cost']] = None\n",
    "\n",
    "# Look at the description\n",
    "df['cost'].describe()"
   ]
  },
  {
   "cell_type": "markdown",
   "metadata": {},
   "source": [
    "The new maximum cost £201,024 still seems to high, which is quite likely a typo. We can use `.clip()` to replace extreme values with more reasonable boundary values."
   ]
  },
  {
   "cell_type": "code",
   "execution_count": 227,
   "metadata": {},
   "outputs": [],
   "source": [
    "# Set boundary values to the 0.01 and 0.09 quantiles\n",
    "df['cost'] = df['cost'].clip(lower=df['cost'].quantile(0.01), upper=df['cost'].quantile(0.99))"
   ]
  },
  {
   "cell_type": "markdown",
   "metadata": {},
   "source": [
    "Below is the probability distribution of open access fees after cleaning."
   ]
  },
  {
   "cell_type": "code",
   "execution_count": 228,
   "metadata": {},
   "outputs": [
    {
     "data": {
      "image/png": "[encoded data removed]",
      "text/plain": [
       "<Figure size 576x360 with 1 Axes>"
      ]
     },
     "metadata": {
      "needs_background": "light"
     },
     "output_type": "display_data"
    }
   ],
   "source": [
    "plt.figure(figsize=(8, 5))\n",
    "ax = sns.distplot(df['cost'].dropna(), rug=True)\n",
    "plt.xlabel('Cost (Euros)', fontsize = 15)\n",
    "plt.ylabel('Probability', fontsize = 15)\n",
    "plt.title('Distrubution of open access fees', fontsize = 20)\n",
    "plt.show()"
   ]
  },
  {
   "cell_type": "code",
   "execution_count": 250,
   "metadata": {},
   "outputs": [
    {
     "data": {
      "text/html": [
       "<div>\n",
       "<style scoped>\n",
       "    .dataframe tbody tr th:only-of-type {\n",
       "        vertical-align: middle;\n",
       "    }\n",
       "\n",
       "    .dataframe tbody tr th {\n",
       "        vertical-align: top;\n",
       "    }\n",
       "\n",
       "    .dataframe thead th {\n",
       "        text-align: right;\n",
       "    }\n",
       "</style>\n",
       "<table border=\"1\" class=\"dataframe\">\n",
       "  <thead>\n",
       "    <tr style=\"text-align: right;\">\n",
       "      <th></th>\n",
       "      <th>median</th>\n",
       "      <th>mean</th>\n",
       "      <th>std</th>\n",
       "      <th>journal</th>\n",
       "    </tr>\n",
       "    <tr>\n",
       "      <th>journal</th>\n",
       "      <th></th>\n",
       "      <th></th>\n",
       "      <th></th>\n",
       "      <th></th>\n",
       "    </tr>\n",
       "  </thead>\n",
       "  <tbody>\n",
       "    <tr>\n",
       "      <th>The Lancet</th>\n",
       "      <td>4079.96650</td>\n",
       "      <td>4079.966500</td>\n",
       "      <td>5.569495e-13</td>\n",
       "      <td>The Lancet</td>\n",
       "    </tr>\n",
       "    <tr>\n",
       "      <th>The Lancet Neurology</th>\n",
       "      <td>4079.96650</td>\n",
       "      <td>4079.966500</td>\n",
       "      <td>0.000000e+00</td>\n",
       "      <td>The Lancet Neurology</td>\n",
       "    </tr>\n",
       "    <tr>\n",
       "      <th>Cell Host And Microbe</th>\n",
       "      <td>3959.42325</td>\n",
       "      <td>3959.423250</td>\n",
       "      <td>1.704739e+02</td>\n",
       "      <td>Cell Host And Microbe</td>\n",
       "    </tr>\n",
       "    <tr>\n",
       "      <th>Immunity</th>\n",
       "      <td>3934.75000</td>\n",
       "      <td>3934.750000</td>\n",
       "      <td>1.907916e+02</td>\n",
       "      <td>Immunity</td>\n",
       "    </tr>\n",
       "    <tr>\n",
       "      <th>Cell Metabolism</th>\n",
       "      <td>3904.46000</td>\n",
       "      <td>3922.745500</td>\n",
       "      <td>1.489226e+02</td>\n",
       "      <td>Cell Metabolism</td>\n",
       "    </tr>\n",
       "    <tr>\n",
       "      <th>Molecular Cell</th>\n",
       "      <td>3906.43000</td>\n",
       "      <td>3902.928833</td>\n",
       "      <td>1.788140e+02</td>\n",
       "      <td>Molecular Cell</td>\n",
       "    </tr>\n",
       "    <tr>\n",
       "      <th>Structure</th>\n",
       "      <td>3895.64000</td>\n",
       "      <td>3879.538071</td>\n",
       "      <td>1.634876e+02</td>\n",
       "      <td>Structure</td>\n",
       "    </tr>\n",
       "    <tr>\n",
       "      <th>Cell Reports</th>\n",
       "      <td>3836.32000</td>\n",
       "      <td>3644.226667</td>\n",
       "      <td>3.697352e+02</td>\n",
       "      <td>Cell Reports</td>\n",
       "    </tr>\n",
       "    <tr>\n",
       "      <th>Neglected Tropical Disease</th>\n",
       "      <td>3600.00000</td>\n",
       "      <td>3600.000000</td>\n",
       "      <td>0.000000e+00</td>\n",
       "      <td>Neglected Tropical Disease</td>\n",
       "    </tr>\n",
       "    <tr>\n",
       "      <th>Neuron</th>\n",
       "      <td>3918.42000</td>\n",
       "      <td>3552.782556</td>\n",
       "      <td>1.109502e+03</td>\n",
       "      <td>Neuron</td>\n",
       "    </tr>\n",
       "  </tbody>\n",
       "</table>\n",
       "</div>"
      ],
      "text/plain": [
       "                                median         mean           std  \\\n",
       "journal                                                             \n",
       "The Lancet                  4079.96650  4079.966500  5.569495e-13   \n",
       "The Lancet Neurology        4079.96650  4079.966500  0.000000e+00   \n",
       "Cell Host And Microbe       3959.42325  3959.423250  1.704739e+02   \n",
       "Immunity                    3934.75000  3934.750000  1.907916e+02   \n",
       "Cell Metabolism             3904.46000  3922.745500  1.489226e+02   \n",
       "Molecular Cell              3906.43000  3902.928833  1.788140e+02   \n",
       "Structure                   3895.64000  3879.538071  1.634876e+02   \n",
       "Cell Reports                3836.32000  3644.226667  3.697352e+02   \n",
       "Neglected Tropical Disease  3600.00000  3600.000000  0.000000e+00   \n",
       "Neuron                      3918.42000  3552.782556  1.109502e+03   \n",
       "\n",
       "                                               journal  \n",
       "journal                                                 \n",
       "The Lancet                                  The Lancet  \n",
       "The Lancet Neurology              The Lancet Neurology  \n",
       "Cell Host And Microbe            Cell Host And Microbe  \n",
       "Immunity                                      Immunity  \n",
       "Cell Metabolism                        Cell Metabolism  \n",
       "Molecular Cell                          Molecular Cell  \n",
       "Structure                                    Structure  \n",
       "Cell Reports                              Cell Reports  \n",
       "Neglected Tropical Disease  Neglected Tropical Disease  \n",
       "Neuron                                          Neuron  "
      ]
     },
     "execution_count": 250,
     "metadata": {},
     "output_type": "execute_result"
    }
   ],
   "source": [
    "# Summary of costs, except for medians\n",
    "all_but_medians = df.groupby('journal')['cost'].describe()\n",
    "all_but_medians = all_but_medians[['mean', 'std']]\n",
    "\n",
    "# Median costs\n",
    "medians = df.groupby('journal')['cost'].median()\n",
    "\n",
    "# Concatenate the two dataframes\n",
    "summary = pd.concat([medians, all_but_medians.reindex(medians.index)], axis=1)\n",
    "summary.rename(columns = {'cost': 'median'}, inplace = True) \n",
    "\n",
    "# Drop rows where no journal names nor standard deviations are provided\n",
    "summary['journal'] = summary.index\n",
    "summary.dropna(subset=['journal', 'std'], inplace=True)\n",
    "\n",
    "# View the first few rows, sorted by mean from high to low\n",
    "summary.sort_values(by=['mean'], ascending=False).head(10)"
   ]
  }
 ],
 "metadata": {
  "kernelspec": {
   "display_name": "Python 3",
   "language": "python",
   "name": "python3"
  },
  "language_info": {
   "codemirror_mode": {
    "name": "ipython",
    "version": 3
   },
   "file_extension": ".py",
   "mimetype": "text/x-python",
   "name": "python",
   "nbconvert_exporter": "python",
   "pygments_lexer": "ipython3",
   "version": "3.7.3"
  }
 },
 "nbformat": 4,
 "nbformat_minor": 4
}
